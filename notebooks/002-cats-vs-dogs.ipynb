{
 "cells": [
  {
   "cell_type": "code",
   "execution_count": 12,
   "metadata": {},
   "outputs": [
    {
     "name": "stdout",
     "output_type": "stream",
     "text": [
      "total 1.4G\n",
      "drwxr-xr-x 8 root root  272 Jun 13 10:06 dogscats\n",
      "-rw-r--r-- 1 root root 818M Jun 12 08:26 dogscats.zip\n",
      "-rw-r--r-- 1 root root 528M Jun 12 08:29 vgg16.h5\n",
      "total 0\n",
      "drwxr-xr-x     2 root root   68 Jun 13 10:06 models\n",
      "drwxr-xr-x     5 root root  170 Jun 13 10:06 sample\n",
      "drwxr-xr-x 12502 root root 416K Jun 13 10:06 test1\n",
      "drwxr-xr-x     5 root root  170 Jun 13 10:06 train\n",
      "drwxr-xr-x     5 root root  170 Jun 13 10:06 valid\n"
     ]
    }
   ],
   "source": [
    "!ls -lh /root/data/deephardway.data/\n",
    "!ls -lh /root/data/deephardway.data/dogscats"
   ]
  },
  {
   "cell_type": "code",
   "execution_count": 13,
   "metadata": {},
   "outputs": [
    {
     "name": "stderr",
     "output_type": "stream",
     "text": [
      "Using Theano backend.\n"
     ]
    }
   ],
   "source": [
    "# https://raw.githubusercontent.com/fastai/courses/master/deeplearning1/nbs/vgg16.py\n",
    "# https://raw.githubusercontent.com/fastai/courses/master/deeplearning1/nbs/utils.py\n",
    "\n",
    "from __future__ import division,print_function\n",
    "import math, os, json, sys, re\n",
    "import cPickle as pickle\n",
    "from glob import glob\n",
    "import numpy as np\n",
    "from matplotlib import pyplot as plt\n",
    "from operator import itemgetter, attrgetter, methodcaller\n",
    "from collections import OrderedDict\n",
    "import itertools\n",
    "from itertools import chain\n",
    "\n",
    "import pandas as pd\n",
    "import PIL\n",
    "from PIL import Image\n",
    "from numpy.random import random, permutation, randn, normal, uniform, choice\n",
    "from numpy import newaxis\n",
    "import scipy\n",
    "from scipy import misc, ndimage\n",
    "from scipy.ndimage.interpolation import zoom\n",
    "from scipy.ndimage import imread\n",
    "from sklearn.metrics import confusion_matrix\n",
    "import bcolz\n",
    "from sklearn.preprocessing import OneHotEncoder\n",
    "from sklearn.manifold import TSNE\n",
    "\n",
    "from IPython.lib.display import FileLink\n",
    "\n",
    "import theano\n",
    "from theano import shared, tensor as T\n",
    "from theano.tensor.nnet import conv2d, nnet\n",
    "from theano.tensor.signal import pool\n",
    "\n",
    "import keras\n",
    "from keras import backend as K\n",
    "from keras.utils.data_utils import get_file\n",
    "from keras.utils import np_utils\n",
    "from keras.utils.np_utils import to_categorical\n",
    "from keras.models import Sequential, Model\n",
    "from keras.layers import Input, Embedding, Reshape, merge, LSTM, Bidirectional\n",
    "from keras.layers import TimeDistributed, Activation, SimpleRNN, GRU\n",
    "from keras.layers.core import Flatten, Dense, Dropout, Lambda\n",
    "from keras.regularizers import l2, activity_l2, l1, activity_l1\n",
    "from keras.layers.normalization import BatchNormalization\n",
    "from keras.optimizers import SGD, RMSprop, Adam\n",
    "from keras.utils.layer_utils import layer_from_config\n",
    "from keras.metrics import categorical_crossentropy, categorical_accuracy\n",
    "from keras.layers.convolutional import *\n",
    "from keras.preprocessing import image, sequence\n",
    "from keras.preprocessing.text import Tokenizer"
   ]
  },
  {
   "cell_type": "code",
   "execution_count": null,
   "metadata": {
    "collapsed": true
   },
   "outputs": [],
   "source": []
  }
 ],
 "metadata": {
  "anaconda-cloud": {},
  "kernelspec": {
   "display_name": "Python 2",
   "language": "python",
   "name": "python2"
  },
  "language_info": {
   "codemirror_mode": {
    "name": "ipython",
    "version": 2
   },
   "file_extension": ".py",
   "mimetype": "text/x-python",
   "name": "python",
   "nbconvert_exporter": "python",
   "pygments_lexer": "ipython2",
   "version": "2.7.12"
  }
 },
 "nbformat": 4,
 "nbformat_minor": 2
}
