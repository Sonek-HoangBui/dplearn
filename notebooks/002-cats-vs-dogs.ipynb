{
 "cells": [
  {
   "cell_type": "code",
   "execution_count": 31,
   "metadata": {},
   "outputs": [],
   "source": [
    "!ls /gopath/bin"
   ]
  },
  {
   "cell_type": "code",
   "execution_count": null,
   "metadata": {},
   "outputs": [],
   "source": [
    "import os\n",
    "import sys\n",
    "import glob\n",
    "import zipfile\n",
    "\n",
    "import requests\n",
    "import humanize\n",
    "\n",
    "print('Current working directory:', os.getcwd())\n",
    "print('Python/System version:', sys.version)\n",
    "\n",
    "def get_filesize(ep):\n",
    "    return humanize.naturalsize(requests.head(ep).headers.get('content-length', None))\n",
    "\n",
    "data_files = glob.glob(\"data/*\")\n",
    "\n",
    "dogscats_path = 'data/dogscats.zip'\n",
    "dogscats_url = 'http://files.fast.ai/data/dogscats.zip'\n",
    "vgg16_path = 'data/vgg16.h5'\n",
    "vgg16_url = 'http://files.fast.ai/models/vgg16.h5'\n",
    "\n",
    "if dogscats_path not in data_files:\n",
    "    print(get_filesize(dogscats_url))\n",
    "else:\n",
    "    print(dogscats_path, 'exists')\n",
    "    # zip_ref = zipfile.ZipFile(dogscats_path, 'r')\n",
    "    # zip_ref.extractall('data/')\n",
    "    # zip_ref.close()\n",
    "    print(dogscats_path, 'unzipped')\n",
    "\n",
    "if vgg16_path not in data_files:\n",
    "    print(get_filesize(vgg16_url))\n",
    "else:\n",
    "    print(vgg16_path, 'exists')\n"
   ]
  },
  {
   "cell_type": "code",
   "execution_count": 9,
   "metadata": {},
   "outputs": [],
   "source": [
    "# https://raw.githubusercontent.com/fastai/courses/master/deeplearning1/nbs/vgg16.py\n",
    "# https://raw.githubusercontent.com/fastai/courses/master/deeplearning1/nbs/utils.py\n",
    "\n",
    "from __future__ import division,print_function\n",
    "import math, os, json, sys, re\n",
    "import cPickle as pickle\n",
    "from glob import glob\n",
    "import numpy as np\n",
    "from matplotlib import pyplot as plt\n",
    "from operator import itemgetter, attrgetter, methodcaller\n",
    "from collections import OrderedDict\n",
    "import itertools\n",
    "from itertools import chain\n",
    "\n",
    "import pandas as pd\n",
    "import PIL\n",
    "from PIL import Image\n",
    "from numpy.random import random, permutation, randn, normal, uniform, choice\n",
    "from numpy import newaxis\n",
    "import scipy\n",
    "from scipy import misc, ndimage\n",
    "from scipy.ndimage.interpolation import zoom\n",
    "from scipy.ndimage import imread\n",
    "from sklearn.metrics import confusion_matrix\n",
    "import bcolz\n",
    "from sklearn.preprocessing import OneHotEncoder\n",
    "from sklearn.manifold import TSNE\n",
    "\n",
    "from IPython.lib.display import FileLink\n",
    "\n",
    "import theano\n",
    "from theano import shared, tensor as T\n",
    "from theano.tensor.nnet import conv2d, nnet\n",
    "from theano.tensor.signal import pool\n",
    "\n",
    "import keras\n",
    "from keras import backend as K\n",
    "from keras.utils.data_utils import get_file\n",
    "from keras.utils import np_utils\n",
    "from keras.utils.np_utils import to_categorical\n",
    "from keras.models import Sequential, Model\n",
    "from keras.layers import Input, Embedding, Reshape, merge, LSTM, Bidirectional\n",
    "from keras.layers import TimeDistributed, Activation, SimpleRNN, GRU\n",
    "from keras.layers.core import Flatten, Dense, Dropout, Lambda\n",
    "from keras.regularizers import l2, activity_l2, l1, activity_l1\n",
    "from keras.layers.normalization import BatchNormalization\n",
    "from keras.optimizers import SGD, RMSprop, Adam\n",
    "from keras.utils.layer_utils import layer_from_config\n",
    "from keras.metrics import categorical_crossentropy, categorical_accuracy\n",
    "from keras.layers.convolutional import *\n",
    "from keras.preprocessing import image, sequence\n",
    "from keras.preprocessing.text import Tokenizer\n"
   ]
  },
  {
   "cell_type": "code",
   "execution_count": null,
   "metadata": {
    "collapsed": true
   },
   "outputs": [],
   "source": []
  }
 ],
 "metadata": {
  "anaconda-cloud": {},
  "kernelspec": {
   "display_name": "Python 2",
   "language": "python",
   "name": "python2"
  },
  "language_info": {
   "codemirror_mode": {
    "name": "ipython",
    "version": 2
   },
   "file_extension": ".py",
   "mimetype": "text/x-python",
   "name": "python",
   "nbconvert_exporter": "python",
   "pygments_lexer": "ipython2",
   "version": "2.7.12"
  }
 },
 "nbformat": 4,
 "nbformat_minor": 2
}
