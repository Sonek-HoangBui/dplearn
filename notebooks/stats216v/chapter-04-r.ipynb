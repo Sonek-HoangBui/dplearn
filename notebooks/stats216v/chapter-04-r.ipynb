{
 "cells": [
  {
   "cell_type": "markdown",
   "metadata": {},
   "source": [
    "<div style=\"text-align: center; font-size: 20px;\"><b>Stats216v: Statistical Learning</b></div>\n",
    "\n",
    "<br>\n",
    "<div style=\"text-align: center\">Stanford University</div>\n",
    "<div style=\"text-align: center\">Summer 2017</div>\n",
    "<div style=\"text-align: center\">Gyu-Ho Lee (<a href=\"mailto:gyuhox@gmail.com\">gyuhox@gmail.com</a>)</div>"
   ]
  },
  {
   "cell_type": "markdown",
   "metadata": {},
   "source": [
    "#### 4. Classification"
   ]
  },
  {
   "cell_type": "code",
   "execution_count": 147,
   "metadata": {},
   "outputs": [
    {
     "name": "stderr",
     "output_type": "stream",
     "text": [
      "Updating HTML index of packages in '.Library'\n",
      "Making 'packages.html' ... done\n"
     ]
    },
    {
     "name": "stdout",
     "output_type": "stream",
     "text": [
      "[1] \"Libraries have been loaded!\"\n"
     ]
    }
   ],
   "source": [
    "LoadLibraries = function() {\n",
    "    library(MASS)\n",
    "    install.packages(\"ISLR\")\n",
    "    library(ISLR)\n",
    "    print(\"Libraries have been loaded!\")\n",
    "}\n",
    "\n",
    "LoadLibraries()"
   ]
  },
  {
   "cell_type": "code",
   "execution_count": 148,
   "metadata": {},
   "outputs": [
    {
     "data": {
      "text/html": [
       "<ol class=list-inline>\n",
       "\t<li>'Year'</li>\n",
       "\t<li>'Lag1'</li>\n",
       "\t<li>'Lag2'</li>\n",
       "\t<li>'Lag3'</li>\n",
       "\t<li>'Lag4'</li>\n",
       "\t<li>'Lag5'</li>\n",
       "\t<li>'Volume'</li>\n",
       "\t<li>'Today'</li>\n",
       "\t<li>'Direction'</li>\n",
       "</ol>\n"
      ],
      "text/latex": [
       "\\begin{enumerate*}\n",
       "\\item 'Year'\n",
       "\\item 'Lag1'\n",
       "\\item 'Lag2'\n",
       "\\item 'Lag3'\n",
       "\\item 'Lag4'\n",
       "\\item 'Lag5'\n",
       "\\item 'Volume'\n",
       "\\item 'Today'\n",
       "\\item 'Direction'\n",
       "\\end{enumerate*}\n"
      ],
      "text/markdown": [
       "1. 'Year'\n",
       "2. 'Lag1'\n",
       "3. 'Lag2'\n",
       "4. 'Lag3'\n",
       "5. 'Lag4'\n",
       "6. 'Lag5'\n",
       "7. 'Volume'\n",
       "8. 'Today'\n",
       "9. 'Direction'\n",
       "\n",
       "\n"
      ],
      "text/plain": [
       "[1] \"Year\"      \"Lag1\"      \"Lag2\"      \"Lag3\"      \"Lag4\"      \"Lag5\"     \n",
       "[7] \"Volume\"    \"Today\"     \"Direction\""
      ]
     },
     "metadata": {},
     "output_type": "display_data"
    },
    {
     "data": {
      "text/html": [
       "<table>\n",
       "<thead><tr><th scope=col>Direction</th></tr></thead>\n",
       "<tbody>\n",
       "\t<tr><td>Up  </td></tr>\n",
       "\t<tr><td>Up  </td></tr>\n",
       "\t<tr><td>Down</td></tr>\n",
       "\t<tr><td>Up  </td></tr>\n",
       "\t<tr><td>Up  </td></tr>\n",
       "\t<tr><td>Up  </td></tr>\n",
       "</tbody>\n",
       "</table>\n"
      ],
      "text/latex": [
       "\\begin{tabular}{r|l}\n",
       " Direction\\\\\n",
       "\\hline\n",
       "\t Up  \\\\\n",
       "\t Up  \\\\\n",
       "\t Down\\\\\n",
       "\t Up  \\\\\n",
       "\t Up  \\\\\n",
       "\t Up  \\\\\n",
       "\\end{tabular}\n"
      ],
      "text/markdown": [
       "\n",
       "Direction | \n",
       "|---|---|---|---|---|---|\n",
       "| Up   | \n",
       "| Up   | \n",
       "| Down | \n",
       "| Up   | \n",
       "| Up   | \n",
       "| Up   | \n",
       "\n",
       "\n"
      ],
      "text/plain": [
       "  Direction\n",
       "1 Up       \n",
       "2 Up       \n",
       "3 Down     \n",
       "4 Up       \n",
       "5 Up       \n",
       "6 Up       "
      ]
     },
     "metadata": {},
     "output_type": "display_data"
    },
    {
     "data": {
      "text/html": [
       "<table>\n",
       "<thead><tr><th></th><th scope=col>Up</th></tr></thead>\n",
       "<tbody>\n",
       "\t<tr><th scope=row>Down</th><td>0</td></tr>\n",
       "\t<tr><th scope=row>Up</th><td>1</td></tr>\n",
       "</tbody>\n",
       "</table>\n"
      ],
      "text/latex": [
       "\\begin{tabular}{r|l}\n",
       "  & Up\\\\\n",
       "\\hline\n",
       "\tDown & 0\\\\\n",
       "\tUp & 1\\\\\n",
       "\\end{tabular}\n"
      ],
      "text/markdown": [
       "\n",
       "| <!--/--> | Up | \n",
       "|---|---|\n",
       "| Down | 0 | \n",
       "| Up | 1 | \n",
       "\n",
       "\n"
      ],
      "text/plain": [
       "     Up\n",
       "Down 0 \n",
       "Up   1 "
      ]
     },
     "metadata": {},
     "output_type": "display_data"
    },
    {
     "name": "stderr",
     "output_type": "stream",
     "text": [
      "The following objects are masked from Smarket (pos = 5):\n",
      "\n",
      "    Direction, Lag1, Lag2, Lag3, Lag4, Lag5, Today, Volume, Year\n",
      "\n",
      "The following objects are masked from Smarket (pos = 6):\n",
      "\n",
      "    Direction, Lag1, Lag2, Lag3, Lag4, Lag5, Today, Volume, Year\n",
      "\n",
      "The following objects are masked from Smarket (pos = 7):\n",
      "\n",
      "    Direction, Lag1, Lag2, Lag3, Lag4, Lag5, Today, Volume, Year\n",
      "\n",
      "The following objects are masked from Smarket (pos = 8):\n",
      "\n",
      "    Direction, Lag1, Lag2, Lag3, Lag4, Lag5, Today, Volume, Year\n",
      "\n",
      "The following objects are masked from Smarket (pos = 9):\n",
      "\n",
      "    Direction, Lag1, Lag2, Lag3, Lag4, Lag5, Today, Volume, Year\n",
      "\n",
      "The following objects are masked from Smarket (pos = 10):\n",
      "\n",
      "    Direction, Lag1, Lag2, Lag3, Lag4, Lag5, Today, Volume, Year\n",
      "\n"
     ]
    }
   ],
   "source": [
    "names(Smarket)\n",
    "head(Smarket[9])\n",
    "contrasts(Smarket$Direction)\n",
    "attach(Smarket)"
   ]
  },
  {
   "cell_type": "code",
   "execution_count": 149,
   "metadata": {},
   "outputs": [
    {
     "data": {
      "text/html": [
       "<table>\n",
       "<thead><tr><th></th><th scope=col>Year</th><th scope=col>Lag1</th><th scope=col>Lag2</th><th scope=col>Lag3</th><th scope=col>Lag4</th><th scope=col>Lag5</th><th scope=col>Volume</th><th scope=col>Today</th></tr></thead>\n",
       "<tbody>\n",
       "\t<tr><th scope=row>Year</th><td>1.00000000  </td><td> 0.029699649</td><td> 0.030596422</td><td> 0.033194581</td><td> 0.035688718</td><td> 0.029787995</td><td> 0.53900647 </td><td> 0.030095229</td></tr>\n",
       "\t<tr><th scope=row>Lag1</th><td>0.02969965  </td><td> 1.000000000</td><td>-0.026294328</td><td>-0.010803402</td><td>-0.002985911</td><td>-0.005674606</td><td> 0.04090991 </td><td>-0.026155045</td></tr>\n",
       "\t<tr><th scope=row>Lag2</th><td>0.03059642  </td><td>-0.026294328</td><td> 1.000000000</td><td>-0.025896670</td><td>-0.010853533</td><td>-0.003557949</td><td>-0.04338321 </td><td>-0.010250033</td></tr>\n",
       "\t<tr><th scope=row>Lag3</th><td>0.03319458  </td><td>-0.010803402</td><td>-0.025896670</td><td> 1.000000000</td><td>-0.024051036</td><td>-0.018808338</td><td>-0.04182369 </td><td>-0.002447647</td></tr>\n",
       "\t<tr><th scope=row>Lag4</th><td>0.03568872  </td><td>-0.002985911</td><td>-0.010853533</td><td>-0.024051036</td><td> 1.000000000</td><td>-0.027083641</td><td>-0.04841425 </td><td>-0.006899527</td></tr>\n",
       "\t<tr><th scope=row>Lag5</th><td>0.02978799  </td><td>-0.005674606</td><td>-0.003557949</td><td>-0.018808338</td><td>-0.027083641</td><td> 1.000000000</td><td>-0.02200231 </td><td>-0.034860083</td></tr>\n",
       "\t<tr><th scope=row>Volume</th><td>0.53900647  </td><td> 0.040909908</td><td>-0.043383215</td><td>-0.041823686</td><td>-0.048414246</td><td>-0.022002315</td><td> 1.00000000 </td><td> 0.014591823</td></tr>\n",
       "\t<tr><th scope=row>Today</th><td>0.03009523  </td><td>-0.026155045</td><td>-0.010250033</td><td>-0.002447647</td><td>-0.006899527</td><td>-0.034860083</td><td> 0.01459182 </td><td> 1.000000000</td></tr>\n",
       "</tbody>\n",
       "</table>\n"
      ],
      "text/latex": [
       "\\begin{tabular}{r|llllllll}\n",
       "  & Year & Lag1 & Lag2 & Lag3 & Lag4 & Lag5 & Volume & Today\\\\\n",
       "\\hline\n",
       "\tYear & 1.00000000   &  0.029699649 &  0.030596422 &  0.033194581 &  0.035688718 &  0.029787995 &  0.53900647  &  0.030095229\\\\\n",
       "\tLag1 & 0.02969965   &  1.000000000 & -0.026294328 & -0.010803402 & -0.002985911 & -0.005674606 &  0.04090991  & -0.026155045\\\\\n",
       "\tLag2 & 0.03059642   & -0.026294328 &  1.000000000 & -0.025896670 & -0.010853533 & -0.003557949 & -0.04338321  & -0.010250033\\\\\n",
       "\tLag3 & 0.03319458   & -0.010803402 & -0.025896670 &  1.000000000 & -0.024051036 & -0.018808338 & -0.04182369  & -0.002447647\\\\\n",
       "\tLag4 & 0.03568872   & -0.002985911 & -0.010853533 & -0.024051036 &  1.000000000 & -0.027083641 & -0.04841425  & -0.006899527\\\\\n",
       "\tLag5 & 0.02978799   & -0.005674606 & -0.003557949 & -0.018808338 & -0.027083641 &  1.000000000 & -0.02200231  & -0.034860083\\\\\n",
       "\tVolume & 0.53900647   &  0.040909908 & -0.043383215 & -0.041823686 & -0.048414246 & -0.022002315 &  1.00000000  &  0.014591823\\\\\n",
       "\tToday & 0.03009523   & -0.026155045 & -0.010250033 & -0.002447647 & -0.006899527 & -0.034860083 &  0.01459182  &  1.000000000\\\\\n",
       "\\end{tabular}\n"
      ],
      "text/markdown": [
       "\n",
       "| <!--/--> | Year | Lag1 | Lag2 | Lag3 | Lag4 | Lag5 | Volume | Today | \n",
       "|---|---|---|---|---|---|---|---|\n",
       "| Year | 1.00000000   |  0.029699649 |  0.030596422 |  0.033194581 |  0.035688718 |  0.029787995 |  0.53900647  |  0.030095229 | \n",
       "| Lag1 | 0.02969965   |  1.000000000 | -0.026294328 | -0.010803402 | -0.002985911 | -0.005674606 |  0.04090991  | -0.026155045 | \n",
       "| Lag2 | 0.03059642   | -0.026294328 |  1.000000000 | -0.025896670 | -0.010853533 | -0.003557949 | -0.04338321  | -0.010250033 | \n",
       "| Lag3 | 0.03319458   | -0.010803402 | -0.025896670 |  1.000000000 | -0.024051036 | -0.018808338 | -0.04182369  | -0.002447647 | \n",
       "| Lag4 | 0.03568872   | -0.002985911 | -0.010853533 | -0.024051036 |  1.000000000 | -0.027083641 | -0.04841425  | -0.006899527 | \n",
       "| Lag5 | 0.02978799   | -0.005674606 | -0.003557949 | -0.018808338 | -0.027083641 |  1.000000000 | -0.02200231  | -0.034860083 | \n",
       "| Volume | 0.53900647   |  0.040909908 | -0.043383215 | -0.041823686 | -0.048414246 | -0.022002315 |  1.00000000  |  0.014591823 | \n",
       "| Today | 0.03009523   | -0.026155045 | -0.010250033 | -0.002447647 | -0.006899527 | -0.034860083 |  0.01459182  |  1.000000000 | \n",
       "\n",
       "\n"
      ],
      "text/plain": [
       "       Year       Lag1         Lag2         Lag3         Lag4        \n",
       "Year   1.00000000  0.029699649  0.030596422  0.033194581  0.035688718\n",
       "Lag1   0.02969965  1.000000000 -0.026294328 -0.010803402 -0.002985911\n",
       "Lag2   0.03059642 -0.026294328  1.000000000 -0.025896670 -0.010853533\n",
       "Lag3   0.03319458 -0.010803402 -0.025896670  1.000000000 -0.024051036\n",
       "Lag4   0.03568872 -0.002985911 -0.010853533 -0.024051036  1.000000000\n",
       "Lag5   0.02978799 -0.005674606 -0.003557949 -0.018808338 -0.027083641\n",
       "Volume 0.53900647  0.040909908 -0.043383215 -0.041823686 -0.048414246\n",
       "Today  0.03009523 -0.026155045 -0.010250033 -0.002447647 -0.006899527\n",
       "       Lag5         Volume      Today       \n",
       "Year    0.029787995  0.53900647  0.030095229\n",
       "Lag1   -0.005674606  0.04090991 -0.026155045\n",
       "Lag2   -0.003557949 -0.04338321 -0.010250033\n",
       "Lag3   -0.018808338 -0.04182369 -0.002447647\n",
       "Lag4   -0.027083641 -0.04841425 -0.006899527\n",
       "Lag5    1.000000000 -0.02200231 -0.034860083\n",
       "Volume -0.022002315  1.00000000  0.014591823\n",
       "Today  -0.034860083  0.01459182  1.000000000"
      ]
     },
     "metadata": {},
     "output_type": "display_data"
    },
    {
     "data": {
      "image/png": "[encoded data removed]",
      "text/plain": [
       "plot without title"
      ]
     },
     "metadata": {},
     "output_type": "display_data"
    }
   ],
   "source": [
    "cor(Smarket[,-9])\n",
    "plot(Volume)"
   ]
  },
  {
   "cell_type": "markdown",
   "metadata": {},
   "source": [
    "##### Logistic Regression"
   ]
  },
  {
   "cell_type": "code",
   "execution_count": 150,
   "metadata": {},
   "outputs": [
    {
     "data": {
      "text/plain": [
       "\n",
       "Call:\n",
       "glm(formula = Direction ~ Lag1 + Lag2 + Lag3 + Lag4 + Lag5 + \n",
       "    Volume, family = binomial, data = Smarket)\n",
       "\n",
       "Deviance Residuals: \n",
       "   Min      1Q  Median      3Q     Max  \n",
       "-1.446  -1.203   1.065   1.145   1.326  \n",
       "\n",
       "Coefficients:\n",
       "             Estimate Std. Error z value Pr(>|z|)\n",
       "(Intercept) -0.126000   0.240736  -0.523    0.601\n",
       "Lag1        -0.073074   0.050167  -1.457    0.145\n",
       "Lag2        -0.042301   0.050086  -0.845    0.398\n",
       "Lag3         0.011085   0.049939   0.222    0.824\n",
       "Lag4         0.009359   0.049974   0.187    0.851\n",
       "Lag5         0.010313   0.049511   0.208    0.835\n",
       "Volume       0.135441   0.158360   0.855    0.392\n",
       "\n",
       "(Dispersion parameter for binomial family taken to be 1)\n",
       "\n",
       "    Null deviance: 1731.2  on 1249  degrees of freedom\n",
       "Residual deviance: 1727.6  on 1243  degrees of freedom\n",
       "AIC: 1741.6\n",
       "\n",
       "Number of Fisher Scoring iterations: 3\n"
      ]
     },
     "metadata": {},
     "output_type": "display_data"
    }
   ],
   "source": [
    "glm.fit = glm(Direction~Lag1+Lag2+Lag3+Lag4+Lag5+Volume,\n",
    "             data=Smarket, family=binomial)\n",
    "\n",
    "summary(glm.fit)"
   ]
  },
  {
   "cell_type": "code",
   "execution_count": 151,
   "metadata": {},
   "outputs": [
    {
     "data": {
      "text/html": [
       "<table>\n",
       "<thead><tr><th></th><th scope=col>Estimate</th><th scope=col>Std. Error</th><th scope=col>z value</th><th scope=col>Pr(&gt;|z|)</th></tr></thead>\n",
       "<tbody>\n",
       "\t<tr><th scope=row>(Intercept)</th><td>-0.126000257</td><td>0.24073574  </td><td>-0.5233966  </td><td>0.6006983   </td></tr>\n",
       "\t<tr><th scope=row>Lag1</th><td>-0.073073746</td><td>0.05016739  </td><td>-1.4565986  </td><td>0.1452272   </td></tr>\n",
       "\t<tr><th scope=row>Lag2</th><td>-0.042301344</td><td>0.05008605  </td><td>-0.8445733  </td><td>0.3983491   </td></tr>\n",
       "\t<tr><th scope=row>Lag3</th><td> 0.011085108</td><td>0.04993854  </td><td> 0.2219750  </td><td>0.8243333   </td></tr>\n",
       "\t<tr><th scope=row>Lag4</th><td> 0.009358938</td><td>0.04997413  </td><td> 0.1872757  </td><td>0.8514445   </td></tr>\n",
       "\t<tr><th scope=row>Lag5</th><td> 0.010313068</td><td>0.04951146  </td><td> 0.2082966  </td><td>0.8349974   </td></tr>\n",
       "\t<tr><th scope=row>Volume</th><td> 0.135440659</td><td>0.15835970  </td><td> 0.8552723  </td><td>0.3924004   </td></tr>\n",
       "</tbody>\n",
       "</table>\n"
      ],
      "text/latex": [
       "\\begin{tabular}{r|llll}\n",
       "  & Estimate & Std. Error & z value & Pr(>\\textbar{}z\\textbar{})\\\\\n",
       "\\hline\n",
       "\t(Intercept) & -0.126000257 & 0.24073574   & -0.5233966   & 0.6006983   \\\\\n",
       "\tLag1 & -0.073073746 & 0.05016739   & -1.4565986   & 0.1452272   \\\\\n",
       "\tLag2 & -0.042301344 & 0.05008605   & -0.8445733   & 0.3983491   \\\\\n",
       "\tLag3 &  0.011085108 & 0.04993854   &  0.2219750   & 0.8243333   \\\\\n",
       "\tLag4 &  0.009358938 & 0.04997413   &  0.1872757   & 0.8514445   \\\\\n",
       "\tLag5 &  0.010313068 & 0.04951146   &  0.2082966   & 0.8349974   \\\\\n",
       "\tVolume &  0.135440659 & 0.15835970   &  0.8552723   & 0.3924004   \\\\\n",
       "\\end{tabular}\n"
      ],
      "text/markdown": [
       "\n",
       "| <!--/--> | Estimate | Std. Error | z value | Pr(>|z|) | \n",
       "|---|---|---|---|---|---|---|\n",
       "| (Intercept) | -0.126000257 | 0.24073574   | -0.5233966   | 0.6006983    | \n",
       "| Lag1 | -0.073073746 | 0.05016739   | -1.4565986   | 0.1452272    | \n",
       "| Lag2 | -0.042301344 | 0.05008605   | -0.8445733   | 0.3983491    | \n",
       "| Lag3 |  0.011085108 | 0.04993854   |  0.2219750   | 0.8243333    | \n",
       "| Lag4 |  0.009358938 | 0.04997413   |  0.1872757   | 0.8514445    | \n",
       "| Lag5 |  0.010313068 | 0.04951146   |  0.2082966   | 0.8349974    | \n",
       "| Volume |  0.135440659 | 0.15835970   |  0.8552723   | 0.3924004    | \n",
       "\n",
       "\n"
      ],
      "text/plain": [
       "            Estimate     Std. Error z value    Pr(>|z|) \n",
       "(Intercept) -0.126000257 0.24073574 -0.5233966 0.6006983\n",
       "Lag1        -0.073073746 0.05016739 -1.4565986 0.1452272\n",
       "Lag2        -0.042301344 0.05008605 -0.8445733 0.3983491\n",
       "Lag3         0.011085108 0.04993854  0.2219750 0.8243333\n",
       "Lag4         0.009358938 0.04997413  0.1872757 0.8514445\n",
       "Lag5         0.010313068 0.04951146  0.2082966 0.8349974\n",
       "Volume       0.135440659 0.15835970  0.8552723 0.3924004"
      ]
     },
     "metadata": {},
     "output_type": "display_data"
    },
    {
     "data": {
      "text/html": [
       "<dl class=dl-horizontal>\n",
       "\t<dt>(Intercept)</dt>\n",
       "\t\t<dd>-0.126000256559269</dd>\n",
       "\t<dt>Lag1</dt>\n",
       "\t\t<dd>-0.0730737458900263</dd>\n",
       "\t<dt>Lag2</dt>\n",
       "\t\t<dd>-0.0423013440073083</dd>\n",
       "\t<dt>Lag3</dt>\n",
       "\t\t<dd>0.0110851083796762</dd>\n",
       "\t<dt>Lag4</dt>\n",
       "\t\t<dd>0.0093589383702787</dd>\n",
       "\t<dt>Lag5</dt>\n",
       "\t\t<dd>0.0103130684758178</dd>\n",
       "\t<dt>Volume</dt>\n",
       "\t\t<dd>0.135440658859162</dd>\n",
       "</dl>\n"
      ],
      "text/latex": [
       "\\begin{description*}\n",
       "\\item[(Intercept)] -0.126000256559269\n",
       "\\item[Lag1] -0.0730737458900263\n",
       "\\item[Lag2] -0.0423013440073083\n",
       "\\item[Lag3] 0.0110851083796762\n",
       "\\item[Lag4] 0.0093589383702787\n",
       "\\item[Lag5] 0.0103130684758178\n",
       "\\item[Volume] 0.135440658859162\n",
       "\\end{description*}\n"
      ],
      "text/markdown": [
       "(Intercept)\n",
       ":   -0.126000256559269Lag1\n",
       ":   -0.0730737458900263Lag2\n",
       ":   -0.0423013440073083Lag3\n",
       ":   0.0110851083796762Lag4\n",
       ":   0.0093589383702787Lag5\n",
       ":   0.0103130684758178Volume\n",
       ":   0.135440658859162\n",
       "\n"
      ],
      "text/plain": [
       " (Intercept)         Lag1         Lag2         Lag3         Lag4         Lag5 \n",
       "-0.126000257 -0.073073746 -0.042301344  0.011085108  0.009358938  0.010313068 \n",
       "      Volume \n",
       " 0.135440659 "
      ]
     },
     "metadata": {},
     "output_type": "display_data"
    }
   ],
   "source": [
    "summary(glm.fit)$coef\n",
    "coef(glm.fit)"
   ]
  },
  {
   "cell_type": "code",
   "execution_count": 152,
   "metadata": {},
   "outputs": [
    {
     "data": {
      "text/html": [
       "<dl class=dl-horizontal>\n",
       "\t<dt>1</dt>\n",
       "\t\t<dd>0.507084133395401</dd>\n",
       "\t<dt>2</dt>\n",
       "\t\t<dd>0.481467878454591</dd>\n",
       "\t<dt>3</dt>\n",
       "\t\t<dd>0.481138835214201</dd>\n",
       "</dl>\n"
      ],
      "text/latex": [
       "\\begin{description*}\n",
       "\\item[1] 0.507084133395401\n",
       "\\item[2] 0.481467878454591\n",
       "\\item[3] 0.481138835214201\n",
       "\\end{description*}\n"
      ],
      "text/markdown": [
       "1\n",
       ":   0.5070841333954012\n",
       ":   0.4814678784545913\n",
       ":   0.481138835214201\n",
       "\n"
      ],
      "text/plain": [
       "        1         2         3 \n",
       "0.5070841 0.4814679 0.4811388 "
      ]
     },
     "metadata": {},
     "output_type": "display_data"
    }
   ],
   "source": [
    "glm.probs = predict(glm.fit, type=\"response\")\n",
    "\n",
    "# probability that market going up\n",
    "glm.probs[1:3]\n",
    "\n",
    "# create a vector of 1,250 'Down's\n",
    "glm.pred = rep(\"Down\", 1250)\n",
    "\n",
    "# transform to \"Up\" when probability of market increat > 0.5\n",
    "glm.pred[glm.probs > .5] = \"Up\""
   ]
  },
  {
   "cell_type": "code",
   "execution_count": 153,
   "metadata": {},
   "outputs": [
    {
     "data": {
      "text/plain": [
       "        Direction\n",
       "glm.pred Down  Up\n",
       "    Down  145 141\n",
       "    Up    457 507"
      ]
     },
     "metadata": {},
     "output_type": "display_data"
    },
    {
     "data": {
      "text/html": [
       "0.5216"
      ],
      "text/latex": [
       "0.5216"
      ],
      "text/markdown": [
       "0.5216"
      ],
      "text/plain": [
       "[1] 0.5216"
      ]
     },
     "metadata": {},
     "output_type": "display_data"
    },
    {
     "data": {
      "text/html": [
       "0.4784"
      ],
      "text/latex": [
       "0.4784"
      ],
      "text/markdown": [
       "0.4784"
      ],
      "text/plain": [
       "[1] 0.4784"
      ]
     },
     "metadata": {},
     "output_type": "display_data"
    }
   ],
   "source": [
    "table(glm.pred, Direction)\n",
    "# fraction of days where prediction was correct\n",
    "# (145+507)/1250\n",
    "mean(glm.pred == Direction)\n",
    "# training error rate\n",
    "mean(glm.pred != Direction)"
   ]
  },
  {
   "cell_type": "code",
   "execution_count": 154,
   "metadata": {},
   "outputs": [
    {
     "data": {
      "text/html": [
       "<ol class=list-inline>\n",
       "\t<li>252</li>\n",
       "\t<li>9</li>\n",
       "</ol>\n"
      ],
      "text/latex": [
       "\\begin{enumerate*}\n",
       "\\item 252\n",
       "\\item 9\n",
       "\\end{enumerate*}\n"
      ],
      "text/markdown": [
       "1. 252\n",
       "2. 9\n",
       "\n",
       "\n"
      ],
      "text/plain": [
       "[1] 252   9"
      ]
     },
     "metadata": {},
     "output_type": "display_data"
    }
   ],
   "source": [
    "# training data\n",
    "train = (Year < 2005)\n",
    "Smarket.2005 = Smarket[!train,]\n",
    "Direction.2005 = Direction[!train]\n",
    "dim(Smarket.2005)"
   ]
  },
  {
   "cell_type": "code",
   "execution_count": 155,
   "metadata": {},
   "outputs": [
    {
     "name": "stderr",
     "output_type": "stream",
     "text": [
      "Warning message in eval(expr, envir, enclos):\n",
      "\"non-integer #successes in a binomial glm!\""
     ]
    },
    {
     "data": {
      "text/plain": [
       "\n",
       "Call:\n",
       "glm(formula = Direction ~ Lag1 + Lag2 + Lag3 + Lag4 + Lag5 + \n",
       "    Volume, family = binomial, data = Smarket, weights = Volume, \n",
       "    subset = train)\n",
       "\n",
       "Deviance Residuals: \n",
       "    Min       1Q   Median       3Q      Max  \n",
       "-1.9528  -1.3890   0.9792   1.3558   2.0610  \n",
       "\n",
       "Coefficients:\n",
       "            Estimate Std. Error z value Pr(>|z|)\n",
       "(Intercept)  0.29522    0.28995   1.018    0.309\n",
       "Lag1        -0.04302    0.04200  -1.024    0.306\n",
       "Lag2        -0.03621    0.04257  -0.850    0.395\n",
       "Lag3         0.01099    0.04284   0.257    0.798\n",
       "Lag4         0.01006    0.04310   0.233    0.815\n",
       "Lag5        -0.01906    0.04257  -0.448    0.654\n",
       "Volume      -0.18951    0.20085  -0.944    0.345\n",
       "\n",
       "(Dispersion parameter for binomial family taken to be 1)\n",
       "\n",
       "    Null deviance: 1891.7  on 997  degrees of freedom\n",
       "Residual deviance: 1888.7  on 991  degrees of freedom\n",
       "AIC: 1757.7\n",
       "\n",
       "Number of Fisher Scoring iterations: 3\n"
      ]
     },
     "metadata": {},
     "output_type": "display_data"
    },
    {
     "data": {
      "text/plain": [
       "        Direction.2005\n",
       "glm.pred Down  Up\n",
       "    Down   90 116\n",
       "    Up     21  25"
      ]
     },
     "metadata": {},
     "output_type": "display_data"
    },
    {
     "data": {
      "text/html": [
       "0.456349206349206"
      ],
      "text/latex": [
       "0.456349206349206"
      ],
      "text/markdown": [
       "0.456349206349206"
      ],
      "text/plain": [
       "[1] 0.4563492"
      ]
     },
     "metadata": {},
     "output_type": "display_data"
    },
    {
     "data": {
      "text/html": [
       "0.543650793650794"
      ],
      "text/latex": [
       "0.543650793650794"
      ],
      "text/markdown": [
       "0.543650793650794"
      ],
      "text/plain": [
       "[1] 0.5436508"
      ]
     },
     "metadata": {},
     "output_type": "display_data"
    }
   ],
   "source": [
    "glm.fit = glm(Direction~Lag1+Lag2+Lag3+Lag4+Lag5+Volume,                                                                                                                                                                                                                                                                                                                                                                                                                                                                                                                                                                                                                                                                                                                                                                                                                                                                                                                                                                                                                                                                                                                                                                                                                                                                                                                                                                                                                                                                                                                                                                                                                                                                                                                                                                                                                                                                                                                                                                                                                                                                                                                                                                                                                                                                                                                                                                                                                                                                                                                                                                                                                                                                                                                                                                                                                                                                                                                                                                                                                                                                                                                                                                                                                                                                                                                                                                                                                                                                                                                                                                                                                                                                                                                                                                                                                                                                                                                                                                                                                                                                                                                                                                                                                                                                                                                                                                                                                                                                                                                                                                                                                                                                                                                                                                                                                                                                                                                                                                                                                                                                                                                                                                                                                                                                                                                                                                                                                                                                                                                                                                                                                                                                                                                                                                                                                                                                                                                                                                                                                                                                                                                                                                                                                                                                                                                                                                                                                                                                                                                                                                                                                                                                                                                                                                                                                                                                                                                                                                                                                                                                                                                                                                                                                                                                                                                                                                                                                                                                                                                                                                                                                                                                                                                                                                                                                                                                                                                                                                                                                                                                                                                                                                                                                                                                                                                                                                                                                                                                                                                                                                                                                                                                                                                                                                                                                                                                                                                                                                                                                                                                                                                                                                                                                                                                                                                                                                                                                                                                                                                                                                                                                                                                                                                                                                                                                                                                                                                                                                                                                                                                                                                                                                                                                                                                                                                                                                                                                                                                                                                                                                                                                                                                                                                                                                                                                                                                                                                                                                                                                                                                                                                                                                                                                                                                                                                                                                                                                                                                                                                                                                                                                                                                                                                                                                                                                                                                                                                                                                                                                                                                                                                                                                                                                                                                                                                                                                                                                                                                                                                                                                                                                                                                                                                                                                                                                                                                                                                                                                                                                                                                                                                                                                                                                                                                                                                                                                                                                                                                                                                                                                                                                                                                                                                                                                                                                                                                                                                                                                                                                                                                                                                                                                                                                                                                                                                                                                                                                                                                                                                                                                                                                                                                                                                                                                                                                                                                                                                                                                                                                                                                                                                                                                                                                                                                                                                                                                                                                                                                                                                                                                                                                                                                                                                                                                                                                                                                                                                                                                                                                                                                                                                                                                                                                                                                                                                                                                                                                                                                                                                                                                                                                                                                                                                                                                                                                                                                                                                                                                                                                                                                                                                                                                                                                                                                                                                                                                                                                                                                                                                                                                                                                                                                                                                                                                                                                                                                                                                                                                                                                                                                                                                                                                                                                                                                                                                                                                                                                                                                                                                                                                                                                                                                                                                                                                                                                                                                                                                                                                                                                                                                                                                                                                                                                                                                                                                                                                                                                                                                                                                                                                                                                                                                                                                                                                                                                                                                                                                                                                                                                                                                                                                                                                                                                                                                                                                                                                                                                                                                                                                                                                                                                                                                                                                                                                                                                                                                                                                                                                                                                                                                                                                                                                                                                                                                                                                                                                                                                                                                                                                                                                                                                                                                                                                                                                                                                                                                                                                                                                                                                                                                                                                                                                                                                                                                                                                                                                                                                                                                                                                                                                                                                                                                                                                                                                                                                                                                                                                                                                                                                                                                                                                                                                                                                                                                                                                                                                                                                                                                                                                                                                                                                                                                                                                                                                                                                                                                                                                                                                                                                                                                                                                                                                                                                                                                                                                                                                                                                                                                                                                                                                                                                                                                                                                                                                                                                                                                                                                                                                                                                                                                                                                                                                                                                                                                                                                                                                                                                                                                                                                                                                                                                                                                                                                                                                                                                                                                                                                                                                                                                                                                                                                                                                                                                                                                                                                                                                                                                                                                                                                                                                                                                                                                                                                                                                                                                                                                                                                                                                                                                                                                                                                                                                                                                                                                                                                                                                                                                                                                                                                                                                                                                                                                                                                                                                                                                                                                                                                                                                                                                                                                                                                                                                                                                                                                                                                                                                                                                                                                                                                                                                                                                                                                                                                                                                                                                                                                                                                                                                                                                                                                                                                                                                                                                                                                                                                                                                                                                                                                                                                                                                                                                                                                                                                                                                                                                                                                                                                                                                                                                                                                                                                                                                                                                                                                                                                                                                                                                                                                                                                                                                                                                                                                                                                                                                                                                                                                                                                                                                                                                                                                                                                                                                                                                                                                                                                                                                                                                                                                                                                                                                                                                                                                                                                                                                                                                                                                                                                                                                                                                                                                                                                                                                                                                                                                                                                                                                                                                                                                                                                                                                                                                                                                                                                                                                                                                                                                                                                                                                                                                                                                                                                                                                                                                                                                                                                                                                                                                                                                                                                                                                                                                                                                                                                                                                                                                                                                                                                                                                                                                                                                                                                                                                                                                                                                                                                                                                                                                                                                                                                                                                                                                                                                                                                                                                                                                                                                                                                                                                                                                                                                                                                                                                                                                                                                                                                                                                                                                                                                                                                                                                                                                                                                                                                                                                                                                                                                                                                                                                                                                                                                                                                                                                                                                                                                                                                                                                                                                                                                                                                                                                                                                                                                                                                                                                                                                                                                                                                                                                                                                                                                                                                                                                                                                                                                                                                                                                                                                                                                                                                                                                                                                                                                                                                                                                                                                                                                                                                                                                                                                                                                                                                                                                                                                                                                                                                                                                                                                                                                                                                                                                                                                                                                                                                                                                                                                                                                                                                                                                                                                                                                                                                                                                                                                                                                Volume,\n",
    "             data=Smarket, family=binomial, subset=train)\n",
    "glm.probs = predict(glm.fit, Smarket.2005, type=\"response\")\n",
    "glm.pred = rep(\"Down\", 252)\n",
    "glm.pred[glm.probs > .5] = \"Up\"\n",
    "\n",
    "summary(glm.fit)\n",
    "\n",
    "table(glm.pred, Direction.2005)\n",
    "mean(glm.pred == Direction.2005)\n",
    "mean(glm.pred != Direction.2005)"
   ]
  },
  {
   "cell_type": "code",
   "execution_count": 156,
   "metadata": {},
   "outputs": [
    {
     "data": {
      "text/plain": [
       "\n",
       "Call:\n",
       "glm(formula = Direction ~ Lag1 + Lag2, family = binomial, data = Smarket, \n",
       "    subset = train)\n",
       "\n",
       "Deviance Residuals: \n",
       "   Min      1Q  Median      3Q     Max  \n",
       "-1.345  -1.188   1.074   1.164   1.326  \n",
       "\n",
       "Coefficients:\n",
       "            Estimate Std. Error z value Pr(>|z|)\n",
       "(Intercept)  0.03222    0.06338   0.508    0.611\n",
       "Lag1        -0.05562    0.05171  -1.076    0.282\n",
       "Lag2        -0.04449    0.05166  -0.861    0.389\n",
       "\n",
       "(Dispersion parameter for binomial family taken to be 1)\n",
       "\n",
       "    Null deviance: 1383.3  on 997  degrees of freedom\n",
       "Residual deviance: 1381.4  on 995  degrees of freedom\n",
       "AIC: 1387.4\n",
       "\n",
       "Number of Fisher Scoring iterations: 3\n"
      ]
     },
     "metadata": {},
     "output_type": "display_data"
    },
    {
     "data": {
      "text/plain": [
       "        Direction.2005\n",
       "glm.pred Down  Up\n",
       "    Down   35  35\n",
       "    Up     76 106"
      ]
     },
     "metadata": {},
     "output_type": "display_data"
    },
    {
     "data": {
      "text/html": [
       "0.55952380952381"
      ],
      "text/latex": [
       "0.55952380952381"
      ],
      "text/markdown": [
       "0.55952380952381"
      ],
      "text/plain": [
       "[1] 0.5595238"
      ]
     },
     "metadata": {},
     "output_type": "display_data"
    },
    {
     "data": {
      "text/html": [
       "0.44047619047619"
      ],
      "text/latex": [
       "0.44047619047619"
      ],
      "text/markdown": [
       "0.44047619047619"
      ],
      "text/plain": [
       "[1] 0.4404762"
      ]
     },
     "metadata": {},
     "output_type": "display_data"
    }
   ],
   "source": [
    "# remove not helpful variables\n",
    "glm.fit = glm(Direction~Lag1+Lag2,\n",
    "              data=Smarket, family=binomial, subset=train)\n",
    "glm.probs = predict(glm.fit, Smarket.2005, type=\"response\")\n",
    "glm.pred = rep(\"Down\", 252)\n",
    "glm.pred[glm.probs > .5] = \"Up\"\n",
    "\n",
    "summary(glm.fit)\n",
    "\n",
    "table(glm.pred, Direction.2005)\n",
    "mean(glm.pred == Direction.2005)\n",
    "mean(glm.pred != Direction.2005)"
   ]
  },
  {
   "cell_type": "markdown",
   "metadata": {},
   "source": [
    "##### Linear Discriminant Analysis"
   ]
  },
  {
   "cell_type": "code",
   "execution_count": 157,
   "metadata": {},
   "outputs": [
    {
     "data": {
      "text/plain": [
       "Call:\n",
       "lda(Direction ~ Lag1 + Lag2, data = Smarket, subset = train)\n",
       "\n",
       "Prior probabilities of groups:\n",
       "    Down       Up \n",
       "0.491984 0.508016 \n",
       "\n",
       "Group means:\n",
       "            Lag1        Lag2\n",
       "Down  0.04279022  0.03389409\n",
       "Up   -0.03954635 -0.03132544\n",
       "\n",
       "Coefficients of linear discriminants:\n",
       "            LD1\n",
       "Lag1 -0.6420190\n",
       "Lag2 -0.5135293"
      ]
     },
     "metadata": {},
     "output_type": "display_data"
    },
    {
     "data": {
      "text/html": [
       "<ol class=list-inline>\n",
       "\t<li>'class'</li>\n",
       "\t<li>'posterior'</li>\n",
       "\t<li>'x'</li>\n",
       "</ol>\n"
      ],
      "text/latex": [
       "\\begin{enumerate*}\n",
       "\\item 'class'\n",
       "\\item 'posterior'\n",
       "\\item 'x'\n",
       "\\end{enumerate*}\n"
      ],
      "text/markdown": [
       "1. 'class'\n",
       "2. 'posterior'\n",
       "3. 'x'\n",
       "\n",
       "\n"
      ],
      "text/plain": [
       "[1] \"class\"     \"posterior\" \"x\"        "
      ]
     },
     "metadata": {},
     "output_type": "display_data"
    },
    {
     "data": {
      "text/plain": [
       "         Direction.2005\n",
       "lda.class Down  Up\n",
       "     Down   35  35\n",
       "     Up     76 106"
      ]
     },
     "metadata": {},
     "output_type": "display_data"
    },
    {
     "data": {
      "text/html": [
       "0.55952380952381"
      ],
      "text/latex": [
       "0.55952380952381"
      ],
      "text/markdown": [
       "0.55952380952381"
      ],
      "text/plain": [
       "[1] 0.5595238"
      ]
     },
     "metadata": {},
     "output_type": "display_data"
    }
   ],
   "source": [
    "lda.fit = lda(Direction~Lag1+Lag2, data=Smarket, subset=train)\n",
    "lda.fit\n",
    "\n",
    "lda.pred = predict(lda.fit, Smarket.2005)\n",
    "names(lda.pred)\n",
    "\n",
    "lda.class = lda.pred$class\n",
    "table(lda.class, Direction.2005)\n",
    "mean(lda.class == Direction.2005)"
   ]
  },
  {
   "cell_type": "code",
   "execution_count": 158,
   "metadata": {},
   "outputs": [
    {
     "data": {
      "text/html": [
       "70"
      ],
      "text/latex": [
       "70"
      ],
      "text/markdown": [
       "70"
      ],
      "text/plain": [
       "[1] 70"
      ]
     },
     "metadata": {},
     "output_type": "display_data"
    },
    {
     "data": {
      "text/html": [
       "182"
      ],
      "text/latex": [
       "182"
      ],
      "text/markdown": [
       "182"
      ],
      "text/plain": [
       "[1] 182"
      ]
     },
     "metadata": {},
     "output_type": "display_data"
    }
   ],
   "source": [
    "sum(lda.pred$posterior[,1] >= .5)\n",
    "sum(lda.pred$posterior[,1] < .5)"
   ]
  },
  {
   "cell_type": "markdown",
   "metadata": {},
   "source": [
    "##### Quadratic Discriminant Analysis"
   ]
  },
  {
   "cell_type": "code",
   "execution_count": 159,
   "metadata": {},
   "outputs": [
    {
     "data": {
      "text/plain": [
       "Call:\n",
       "qda(Direction ~ Lag1 + Lag2, data = Smarket, subset = train)\n",
       "\n",
       "Prior probabilities of groups:\n",
       "    Down       Up \n",
       "0.491984 0.508016 \n",
       "\n",
       "Group means:\n",
       "            Lag1        Lag2\n",
       "Down  0.04279022  0.03389409\n",
       "Up   -0.03954635 -0.03132544"
      ]
     },
     "metadata": {},
     "output_type": "display_data"
    },
    {
     "data": {
      "text/plain": [
       "         Direction.2005\n",
       "qda.class Down  Up\n",
       "     Down   30  20\n",
       "     Up     81 121"
      ]
     },
     "metadata": {},
     "output_type": "display_data"
    },
    {
     "data": {
      "text/html": [
       "0.599206349206349"
      ],
      "text/latex": [
       "0.599206349206349"
      ],
      "text/markdown": [
       "0.599206349206349"
      ],
      "text/plain": [
       "[1] 0.5992063"
      ]
     },
     "metadata": {},
     "output_type": "display_data"
    }
   ],
   "source": [
    "qda.fit = qda(Direction~Lag1+Lag2, data=Smarket, subset=train)\n",
    "qda.fit\n",
    "\n",
    "qda.pred = predict(qda.fit, Smarket.2005)\n",
    "qda.class = qda.pred$class\n",
    "\n",
    "table(qda.class, Direction.2005)\n",
    "mean(qda.class == Direction.2005)"
   ]
  },
  {
   "cell_type": "markdown",
   "metadata": {},
   "source": [
    "##### K-Nearest Neighbors"
   ]
  },
  {
   "cell_type": "code",
   "execution_count": 160,
   "metadata": {
    "collapsed": true
   },
   "outputs": [],
   "source": [
    "library(class)\n",
    "train.X = cbind(Lag1, Lag2)[train,]\n",
    "test.X = cbind(Lag1, Lag2)[!train,]\n",
    "train.Direction = Direction[train]"
   ]
  },
  {
   "cell_type": "code",
   "execution_count": 161,
   "metadata": {},
   "outputs": [
    {
     "data": {
      "text/plain": [
       "        Direction.2005\n",
       "knn.pred Down Up\n",
       "    Down   43 58\n",
       "    Up     68 83"
      ]
     },
     "metadata": {},
     "output_type": "display_data"
    },
    {
     "data": {
      "text/html": [
       "0.5"
      ],
      "text/latex": [
       "0.5"
      ],
      "text/markdown": [
       "0.5"
      ],
      "text/plain": [
       "[1] 0.5"
      ]
     },
     "metadata": {},
     "output_type": "display_data"
    }
   ],
   "source": [
    "set.seed(1)\n",
    "knn.pred = knn(train.X, test.X, train.Direction, k=1)\n",
    "table(knn.pred, Direction.2005)\n",
    "mean(knn.pred == Direction.2005)"
   ]
  },
  {
   "cell_type": "code",
   "execution_count": 162,
   "metadata": {},
   "outputs": [
    {
     "data": {
      "text/plain": [
       "        Direction.2005\n",
       "knn.pred Down Up\n",
       "    Down   48 55\n",
       "    Up     63 86"
      ]
     },
     "metadata": {},
     "output_type": "display_data"
    },
    {
     "data": {
      "text/html": [
       "0.531746031746032"
      ],
      "text/latex": [
       "0.531746031746032"
      ],
      "text/markdown": [
       "0.531746031746032"
      ],
      "text/plain": [
       "[1] 0.531746"
      ]
     },
     "metadata": {},
     "output_type": "display_data"
    }
   ],
   "source": [
    "set.seed(1)\n",
    "knn.pred = knn(train.X, test.X, train.Direction, k=3)\n",
    "table(knn.pred, Direction.2005)\n",
    "mean(knn.pred == Direction.2005)"
   ]
  },
  {
   "cell_type": "markdown",
   "metadata": {},
   "source": [
    "##### Caravan Insurance Data"
   ]
  },
  {
   "cell_type": "code",
   "execution_count": 163,
   "metadata": {},
   "outputs": [
    {
     "data": {
      "text/html": [
       "<ol class=list-inline>\n",
       "\t<li>5822</li>\n",
       "\t<li>86</li>\n",
       "</ol>\n"
      ],
      "text/latex": [
       "\\begin{enumerate*}\n",
       "\\item 5822\n",
       "\\item 86\n",
       "\\end{enumerate*}\n"
      ],
      "text/markdown": [
       "1. 5822\n",
       "2. 86\n",
       "\n",
       "\n"
      ],
      "text/plain": [
       "[1] 5822   86"
      ]
     },
     "metadata": {},
     "output_type": "display_data"
    },
    {
     "data": {
      "text/html": [
       "<ol class=list-inline>\n",
       "\t<li>'MOSTYPE'</li>\n",
       "\t<li>'MAANTHUI'</li>\n",
       "\t<li>'MGEMOMV'</li>\n",
       "\t<li>'MGEMLEEF'</li>\n",
       "\t<li>'MOSHOOFD'</li>\n",
       "\t<li>'MGODRK'</li>\n",
       "\t<li>'MGODPR'</li>\n",
       "\t<li>'MGODOV'</li>\n",
       "\t<li>'MGODGE'</li>\n",
       "\t<li>'MRELGE'</li>\n",
       "\t<li>'MRELSA'</li>\n",
       "\t<li>'MRELOV'</li>\n",
       "\t<li>'MFALLEEN'</li>\n",
       "\t<li>'MFGEKIND'</li>\n",
       "\t<li>'MFWEKIND'</li>\n",
       "\t<li>'MOPLHOOG'</li>\n",
       "\t<li>'MOPLMIDD'</li>\n",
       "\t<li>'MOPLLAAG'</li>\n",
       "\t<li>'MBERHOOG'</li>\n",
       "\t<li>'MBERZELF'</li>\n",
       "\t<li>'MBERBOER'</li>\n",
       "\t<li>'MBERMIDD'</li>\n",
       "\t<li>'MBERARBG'</li>\n",
       "\t<li>'MBERARBO'</li>\n",
       "\t<li>'MSKA'</li>\n",
       "\t<li>'MSKB1'</li>\n",
       "\t<li>'MSKB2'</li>\n",
       "\t<li>'MSKC'</li>\n",
       "\t<li>'MSKD'</li>\n",
       "\t<li>'MHHUUR'</li>\n",
       "\t<li>'MHKOOP'</li>\n",
       "\t<li>'MAUT1'</li>\n",
       "\t<li>'MAUT2'</li>\n",
       "\t<li>'MAUT0'</li>\n",
       "\t<li>'MZFONDS'</li>\n",
       "\t<li>'MZPART'</li>\n",
       "\t<li>'MINKM30'</li>\n",
       "\t<li>'MINK3045'</li>\n",
       "\t<li>'MINK4575'</li>\n",
       "\t<li>'MINK7512'</li>\n",
       "\t<li>'MINK123M'</li>\n",
       "\t<li>'MINKGEM'</li>\n",
       "\t<li>'MKOOPKLA'</li>\n",
       "\t<li>'PWAPART'</li>\n",
       "\t<li>'PWABEDR'</li>\n",
       "\t<li>'PWALAND'</li>\n",
       "\t<li>'PPERSAUT'</li>\n",
       "\t<li>'PBESAUT'</li>\n",
       "\t<li>'PMOTSCO'</li>\n",
       "\t<li>'PVRAAUT'</li>\n",
       "\t<li>'PAANHANG'</li>\n",
       "\t<li>'PTRACTOR'</li>\n",
       "\t<li>'PWERKT'</li>\n",
       "\t<li>'PBROM'</li>\n",
       "\t<li>'PLEVEN'</li>\n",
       "\t<li>'PPERSONG'</li>\n",
       "\t<li>'PGEZONG'</li>\n",
       "\t<li>'PWAOREG'</li>\n",
       "\t<li>'PBRAND'</li>\n",
       "\t<li>'PZEILPL'</li>\n",
       "\t<li>'PPLEZIER'</li>\n",
       "\t<li>'PFIETS'</li>\n",
       "\t<li>'PINBOED'</li>\n",
       "\t<li>'PBYSTAND'</li>\n",
       "\t<li>'AWAPART'</li>\n",
       "\t<li>'AWABEDR'</li>\n",
       "\t<li>'AWALAND'</li>\n",
       "\t<li>'APERSAUT'</li>\n",
       "\t<li>'ABESAUT'</li>\n",
       "\t<li>'AMOTSCO'</li>\n",
       "\t<li>'AVRAAUT'</li>\n",
       "\t<li>'AAANHANG'</li>\n",
       "\t<li>'ATRACTOR'</li>\n",
       "\t<li>'AWERKT'</li>\n",
       "\t<li>'ABROM'</li>\n",
       "\t<li>'ALEVEN'</li>\n",
       "\t<li>'APERSONG'</li>\n",
       "\t<li>'AGEZONG'</li>\n",
       "\t<li>'AWAOREG'</li>\n",
       "\t<li>'ABRAND'</li>\n",
       "\t<li>'AZEILPL'</li>\n",
       "\t<li>'APLEZIER'</li>\n",
       "\t<li>'AFIETS'</li>\n",
       "\t<li>'AINBOED'</li>\n",
       "\t<li>'ABYSTAND'</li>\n",
       "\t<li>'Purchase'</li>\n",
       "</ol>\n"
      ],
      "text/latex": [
       "\\begin{enumerate*}\n",
       "\\item 'MOSTYPE'\n",
       "\\item 'MAANTHUI'\n",
       "\\item 'MGEMOMV'\n",
       "\\item 'MGEMLEEF'\n",
       "\\item 'MOSHOOFD'\n",
       "\\item 'MGODRK'\n",
       "\\item 'MGODPR'\n",
       "\\item 'MGODOV'\n",
       "\\item 'MGODGE'\n",
       "\\item 'MRELGE'\n",
       "\\item 'MRELSA'\n",
       "\\item 'MRELOV'\n",
       "\\item 'MFALLEEN'\n",
       "\\item 'MFGEKIND'\n",
       "\\item 'MFWEKIND'\n",
       "\\item 'MOPLHOOG'\n",
       "\\item 'MOPLMIDD'\n",
       "\\item 'MOPLLAAG'\n",
       "\\item 'MBERHOOG'\n",
       "\\item 'MBERZELF'\n",
       "\\item 'MBERBOER'\n",
       "\\item 'MBERMIDD'\n",
       "\\item 'MBERARBG'\n",
       "\\item 'MBERARBO'\n",
       "\\item 'MSKA'\n",
       "\\item 'MSKB1'\n",
       "\\item 'MSKB2'\n",
       "\\item 'MSKC'\n",
       "\\item 'MSKD'\n",
       "\\item 'MHHUUR'\n",
       "\\item 'MHKOOP'\n",
       "\\item 'MAUT1'\n",
       "\\item 'MAUT2'\n",
       "\\item 'MAUT0'\n",
       "\\item 'MZFONDS'\n",
       "\\item 'MZPART'\n",
       "\\item 'MINKM30'\n",
       "\\item 'MINK3045'\n",
       "\\item 'MINK4575'\n",
       "\\item 'MINK7512'\n",
       "\\item 'MINK123M'\n",
       "\\item 'MINKGEM'\n",
       "\\item 'MKOOPKLA'\n",
       "\\item 'PWAPART'\n",
       "\\item 'PWABEDR'\n",
       "\\item 'PWALAND'\n",
       "\\item 'PPERSAUT'\n",
       "\\item 'PBESAUT'\n",
       "\\item 'PMOTSCO'\n",
       "\\item 'PVRAAUT'\n",
       "\\item 'PAANHANG'\n",
       "\\item 'PTRACTOR'\n",
       "\\item 'PWERKT'\n",
       "\\item 'PBROM'\n",
       "\\item 'PLEVEN'\n",
       "\\item 'PPERSONG'\n",
       "\\item 'PGEZONG'\n",
       "\\item 'PWAOREG'\n",
       "\\item 'PBRAND'\n",
       "\\item 'PZEILPL'\n",
       "\\item 'PPLEZIER'\n",
       "\\item 'PFIETS'\n",
       "\\item 'PINBOED'\n",
       "\\item 'PBYSTAND'\n",
       "\\item 'AWAPART'\n",
       "\\item 'AWABEDR'\n",
       "\\item 'AWALAND'\n",
       "\\item 'APERSAUT'\n",
       "\\item 'ABESAUT'\n",
       "\\item 'AMOTSCO'\n",
       "\\item 'AVRAAUT'\n",
       "\\item 'AAANHANG'\n",
       "\\item 'ATRACTOR'\n",
       "\\item 'AWERKT'\n",
       "\\item 'ABROM'\n",
       "\\item 'ALEVEN'\n",
       "\\item 'APERSONG'\n",
       "\\item 'AGEZONG'\n",
       "\\item 'AWAOREG'\n",
       "\\item 'ABRAND'\n",
       "\\item 'AZEILPL'\n",
       "\\item 'APLEZIER'\n",
       "\\item 'AFIETS'\n",
       "\\item 'AINBOED'\n",
       "\\item 'ABYSTAND'\n",
       "\\item 'Purchase'\n",
       "\\end{enumerate*}\n"
      ],
      "text/markdown": [
       "1. 'MOSTYPE'\n",
       "2. 'MAANTHUI'\n",
       "3. 'MGEMOMV'\n",
       "4. 'MGEMLEEF'\n",
       "5. 'MOSHOOFD'\n",
       "6. 'MGODRK'\n",
       "7. 'MGODPR'\n",
       "8. 'MGODOV'\n",
       "9. 'MGODGE'\n",
       "10. 'MRELGE'\n",
       "11. 'MRELSA'\n",
       "12. 'MRELOV'\n",
       "13. 'MFALLEEN'\n",
       "14. 'MFGEKIND'\n",
       "15. 'MFWEKIND'\n",
       "16. 'MOPLHOOG'\n",
       "17. 'MOPLMIDD'\n",
       "18. 'MOPLLAAG'\n",
       "19. 'MBERHOOG'\n",
       "20. 'MBERZELF'\n",
       "21. 'MBERBOER'\n",
       "22. 'MBERMIDD'\n",
       "23. 'MBERARBG'\n",
       "24. 'MBERARBO'\n",
       "25. 'MSKA'\n",
       "26. 'MSKB1'\n",
       "27. 'MSKB2'\n",
       "28. 'MSKC'\n",
       "29. 'MSKD'\n",
       "30. 'MHHUUR'\n",
       "31. 'MHKOOP'\n",
       "32. 'MAUT1'\n",
       "33. 'MAUT2'\n",
       "34. 'MAUT0'\n",
       "35. 'MZFONDS'\n",
       "36. 'MZPART'\n",
       "37. 'MINKM30'\n",
       "38. 'MINK3045'\n",
       "39. 'MINK4575'\n",
       "40. 'MINK7512'\n",
       "41. 'MINK123M'\n",
       "42. 'MINKGEM'\n",
       "43. 'MKOOPKLA'\n",
       "44. 'PWAPART'\n",
       "45. 'PWABEDR'\n",
       "46. 'PWALAND'\n",
       "47. 'PPERSAUT'\n",
       "48. 'PBESAUT'\n",
       "49. 'PMOTSCO'\n",
       "50. 'PVRAAUT'\n",
       "51. 'PAANHANG'\n",
       "52. 'PTRACTOR'\n",
       "53. 'PWERKT'\n",
       "54. 'PBROM'\n",
       "55. 'PLEVEN'\n",
       "56. 'PPERSONG'\n",
       "57. 'PGEZONG'\n",
       "58. 'PWAOREG'\n",
       "59. 'PBRAND'\n",
       "60. 'PZEILPL'\n",
       "61. 'PPLEZIER'\n",
       "62. 'PFIETS'\n",
       "63. 'PINBOED'\n",
       "64. 'PBYSTAND'\n",
       "65. 'AWAPART'\n",
       "66. 'AWABEDR'\n",
       "67. 'AWALAND'\n",
       "68. 'APERSAUT'\n",
       "69. 'ABESAUT'\n",
       "70. 'AMOTSCO'\n",
       "71. 'AVRAAUT'\n",
       "72. 'AAANHANG'\n",
       "73. 'ATRACTOR'\n",
       "74. 'AWERKT'\n",
       "75. 'ABROM'\n",
       "76. 'ALEVEN'\n",
       "77. 'APERSONG'\n",
       "78. 'AGEZONG'\n",
       "79. 'AWAOREG'\n",
       "80. 'ABRAND'\n",
       "81. 'AZEILPL'\n",
       "82. 'APLEZIER'\n",
       "83. 'AFIETS'\n",
       "84. 'AINBOED'\n",
       "85. 'ABYSTAND'\n",
       "86. 'Purchase'\n",
       "\n",
       "\n"
      ],
      "text/plain": [
       " [1] \"MOSTYPE\"  \"MAANTHUI\" \"MGEMOMV\"  \"MGEMLEEF\" \"MOSHOOFD\" \"MGODRK\"  \n",
       " [7] \"MGODPR\"   \"MGODOV\"   \"MGODGE\"   \"MRELGE\"   \"MRELSA\"   \"MRELOV\"  \n",
       "[13] \"MFALLEEN\" \"MFGEKIND\" \"MFWEKIND\" \"MOPLHOOG\" \"MOPLMIDD\" \"MOPLLAAG\"\n",
       "[19] \"MBERHOOG\" \"MBERZELF\" \"MBERBOER\" \"MBERMIDD\" \"MBERARBG\" \"MBERARBO\"\n",
       "[25] \"MSKA\"     \"MSKB1\"    \"MSKB2\"    \"MSKC\"     \"MSKD\"     \"MHHUUR\"  \n",
       "[31] \"MHKOOP\"   \"MAUT1\"    \"MAUT2\"    \"MAUT0\"    \"MZFONDS\"  \"MZPART\"  \n",
       "[37] \"MINKM30\"  \"MINK3045\" \"MINK4575\" \"MINK7512\" \"MINK123M\" \"MINKGEM\" \n",
       "[43] \"MKOOPKLA\" \"PWAPART\"  \"PWABEDR\"  \"PWALAND\"  \"PPERSAUT\" \"PBESAUT\" \n",
       "[49] \"PMOTSCO\"  \"PVRAAUT\"  \"PAANHANG\" \"PTRACTOR\" \"PWERKT\"   \"PBROM\"   \n",
       "[55] \"PLEVEN\"   \"PPERSONG\" \"PGEZONG\"  \"PWAOREG\"  \"PBRAND\"   \"PZEILPL\" \n",
       "[61] \"PPLEZIER\" \"PFIETS\"   \"PINBOED\"  \"PBYSTAND\" \"AWAPART\"  \"AWABEDR\" \n",
       "[67] \"AWALAND\"  \"APERSAUT\" \"ABESAUT\"  \"AMOTSCO\"  \"AVRAAUT\"  \"AAANHANG\"\n",
       "[73] \"ATRACTOR\" \"AWERKT\"   \"ABROM\"    \"ALEVEN\"   \"APERSONG\" \"AGEZONG\" \n",
       "[79] \"AWAOREG\"  \"ABRAND\"   \"AZEILPL\"  \"APLEZIER\" \"AFIETS\"   \"AINBOED\" \n",
       "[85] \"ABYSTAND\" \"Purchase\""
      ]
     },
     "metadata": {},
     "output_type": "display_data"
    },
    {
     "name": "stderr",
     "output_type": "stream",
     "text": [
      "The following objects are masked from Caravan (pos = 4):\n",
      "\n",
      "    AAANHANG, ABESAUT, ABRAND, ABROM, ABYSTAND, AFIETS, AGEZONG,\n",
      "    AINBOED, ALEVEN, AMOTSCO, APERSAUT, APERSONG, APLEZIER, ATRACTOR,\n",
      "    AVRAAUT, AWABEDR, AWALAND, AWAOREG, AWAPART, AWERKT, AZEILPL,\n",
      "    MAANTHUI, MAUT0, MAUT1, MAUT2, MBERARBG, MBERARBO, MBERBOER,\n",
      "    MBERHOOG, MBERMIDD, MBERZELF, MFALLEEN, MFGEKIND, MFWEKIND,\n",
      "    MGEMLEEF, MGEMOMV, MGODGE, MGODOV, MGODPR, MGODRK, MHHUUR, MHKOOP,\n",
      "    MINK123M, MINK3045, MINK4575, MINK7512, MINKGEM, MINKM30, MKOOPKLA,\n",
      "    MOPLHOOG, MOPLLAAG, MOPLMIDD, MOSHOOFD, MOSTYPE, MRELGE, MRELOV,\n",
      "    MRELSA, MSKA, MSKB1, MSKB2, MSKC, MSKD, MZFONDS, MZPART, PAANHANG,\n",
      "    PBESAUT, PBRAND, PBROM, PBYSTAND, PFIETS, PGEZONG, PINBOED, PLEVEN,\n",
      "    PMOTSCO, PPERSAUT, PPERSONG, PPLEZIER, PTRACTOR, PVRAAUT, PWABEDR,\n",
      "    PWALAND, PWAOREG, PWAPART, PWERKT, PZEILPL, Purchase\n",
      "\n"
     ]
    },
    {
     "data": {
      "text/html": [
       "<dl class=dl-horizontal>\n",
       "\t<dt>No</dt>\n",
       "\t\t<dd>5474</dd>\n",
       "\t<dt>Yes</dt>\n",
       "\t\t<dd>348</dd>\n",
       "</dl>\n"
      ],
      "text/latex": [
       "\\begin{description*}\n",
       "\\item[No] 5474\n",
       "\\item[Yes] 348\n",
       "\\end{description*}\n"
      ],
      "text/markdown": [
       "No\n",
       ":   5474Yes\n",
       ":   348\n",
       "\n"
      ],
      "text/plain": [
       "  No  Yes \n",
       "5474  348 "
      ]
     },
     "metadata": {},
     "output_type": "display_data"
    }
   ],
   "source": [
    "dim(Caravan)\n",
    "names(Caravan)\n",
    "attach(Caravan)\n",
    "summary(Purchase)"
   ]
  },
  {
   "cell_type": "code",
   "execution_count": 164,
   "metadata": {},
   "outputs": [
    {
     "data": {
      "text/html": [
       "165.037847395189"
      ],
      "text/latex": [
       "165.037847395189"
      ],
      "text/markdown": [
       "165.037847395189"
      ],
      "text/plain": [
       "[1] 165.0378"
      ]
     },
     "metadata": {},
     "output_type": "display_data"
    },
    {
     "data": {
      "text/html": [
       "1"
      ],
      "text/latex": [
       "1"
      ],
      "text/markdown": [
       "1"
      ],
      "text/plain": [
       "[1] 1"
      ]
     },
     "metadata": {},
     "output_type": "display_data"
    }
   ],
   "source": [
    "# standardize data\n",
    "standardized.X = scale(Caravan[,-86])\n",
    "var(Caravan[,1])\n",
    "var(standardized.X[,1])"
   ]
  },
  {
   "cell_type": "code",
   "execution_count": 165,
   "metadata": {},
   "outputs": [
    {
     "data": {
      "text/html": [
       "0.074"
      ],
      "text/latex": [
       "0.074"
      ],
      "text/markdown": [
       "0.074"
      ],
      "text/plain": [
       "[1] 0.074"
      ]
     },
     "metadata": {},
     "output_type": "display_data"
    },
    {
     "data": {
      "text/html": [
       "0.059"
      ],
      "text/latex": [
       "0.059"
      ],
      "text/markdown": [
       "0.059"
      ],
      "text/plain": [
       "[1] 0.059"
      ]
     },
     "metadata": {},
     "output_type": "display_data"
    }
   ],
   "source": [
    "test = 1:1000\n",
    "\n",
    "# submatrix of data containing observations\n",
    "# whose indices range from 1 to 1,000\n",
    "test.X = standardized.X[test,]\n",
    "test.Y = Purchase[test]\n",
    "\n",
    "train.X = standardized.X[-test,]\n",
    "train.Y = Purchase[-test]\n",
    "\n",
    "set.seed(1)\n",
    "knn.pred = knn(train.X, test.X, train.Y, k=3)\n",
    "mean(test.Y != knn.pred)\n",
    "mean(test.Y != \"No\")"
   ]
  },
  {
   "cell_type": "code",
   "execution_count": 166,
   "metadata": {},
   "outputs": [
    {
     "data": {
      "text/plain": [
       "        test.Y\n",
       "knn.pred  No Yes\n",
       "     No  921  54\n",
       "     Yes  20   5"
      ]
     },
     "metadata": {},
     "output_type": "display_data"
    }
   ],
   "source": [
    "table(knn.pred, test.Y)"
   ]
  },
  {
   "cell_type": "code",
   "execution_count": 167,
   "metadata": {},
   "outputs": [
    {
     "name": "stderr",
     "output_type": "stream",
     "text": [
      "Warning message:\n",
      "\"glm.fit: fitted probabilities numerically 0 or 1 occurred\""
     ]
    },
    {
     "data": {
      "text/plain": [
       "        test.Y\n",
       "glm.pred  No Yes\n",
       "     No  934  59\n",
       "     Yes   7   0"
      ]
     },
     "metadata": {},
     "output_type": "display_data"
    }
   ],
   "source": [
    "glm.fit = glm(Purchase~., data=Caravan, family=binomial, subset=-test)\n",
    "glm.probs = predict(glm.fit, Caravan[test,], type=\"response\")\n",
    "\n",
    "glm.pred = rep(\"No\", 1000)\n",
    "glm.pred[glm.probs > .5] = \"Yes\"\n",
    "\n",
    "table(glm.pred, test.Y)"
   ]
  }
 ],
 "metadata": {
  "kernelspec": {
   "display_name": "R",
   "language": "R",
   "name": "ir"
  },
  "language_info": {
   "codemirror_mode": "r",
   "file_extension": ".r",
   "mimetype": "text/x-r-source",
   "name": "R",
   "pygments_lexer": "r",
   "version": "3.3.2"
  }
 },
 "nbformat": 4,
 "nbformat_minor": 2
}
