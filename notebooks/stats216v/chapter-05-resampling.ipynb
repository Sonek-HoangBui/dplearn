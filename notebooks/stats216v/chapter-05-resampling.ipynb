{
 "cells": [
  {
   "cell_type": "markdown",
   "metadata": {},
   "source": [
    "<div style=\"text-align: center; font-size: 20px;\"><b>Stats216v: Statistical Learning</b></div>\n",
    "\n",
    "<br>\n",
    "<div style=\"text-align: center\">Stanford University</div>\n",
    "<div style=\"text-align: center\">Summer 2017</div>\n",
    "<div style=\"text-align: center\">Gyu-Ho Lee (<a href=\"mailto:gyuhox@gmail.com\">gyuhox@gmail.com</a>)</div>"
   ]
  },
  {
   "cell_type": "markdown",
   "metadata": {},
   "source": [
    "#### 5. Resampling Methods"
   ]
  },
  {
   "cell_type": "markdown",
   "metadata": {},
   "source": [
    "##### 5.1.R\n",
    "\n",
    "When we fit a model to data, which is typically larger?\n",
    "\n",
    "1. Test Error\n",
    "2. Training Error"
   ]
  },
  {
   "cell_type": "markdown",
   "metadata": {},
   "source": [
    "<span style=\"color:blue\">\n",
    "Gyu-Ho's Answer: 1.\n",
    "</span>\n",
    "\n",
    "Training error almost always underestimates test error, sometimes dramatically"
   ]
  },
  {
   "cell_type": "markdown",
   "metadata": {},
   "source": [
    "##### 5.1.R2\n",
    "\n",
    "What are reasons why test error could be LESS than training error?\n",
    "\n",
    "1. By chance, the test set has easier cases than the training set.\n",
    "2. The model is highly complex, so training error systematically overestimates test error.\n",
    "3. The model is not very complex, so training error systematically overestimates test error."
   ]
  },
  {
   "cell_type": "markdown",
   "metadata": {},
   "source": [
    "<span style=\"color:blue\">\n",
    "Gyu-Ho's Answer: 1, 3.\n",
    "</span>\n",
    "\n",
    "<span style=\"color:red\">\n",
    "1.\n",
    "</span>\n",
    "\n",
    "Training error usually UNDERestimates test error when the model is very complex (compared to the training set size), and is a pretty good estimate when the model is not very complex. However, it's always possible we just get too few hard-to-predict points in the test set, or too many in the training set."
   ]
  },
  {
   "cell_type": "markdown",
   "metadata": {
    "collapsed": true
   },
   "source": [
    "##### 5.2.R1\n",
    "\n",
    "Suppose we want to use cross-validation to estimate the error of the following procedure:\n",
    "\n",
    "Step 1: Find the k variables most correlated with y\n",
    "\n",
    "Step 2: Fit a linear regression using those variables as predictors\n",
    "\n",
    "We will estimate the error for each k from 1 to p, and then choose the best k.\n",
    "\n",
    "True or false: a correct cross-validation procedure will possibly choose a different set of k variables for every fold."
   ]
  },
  {
   "cell_type": "markdown",
   "metadata": {},
   "source": [
    "<span style=\"color:blue\">\n",
    "Gyu-Ho's Answer: True.\n",
    "</span>\n",
    "\n",
    "True: we need to replicate our entire procedure for each training/validation split. That means the decision about which k variables are the best must be made on the basis of the training set alone. In general, different training sets will disagree on which are the best k variables."
   ]
  },
  {
   "cell_type": "markdown",
   "metadata": {},
   "source": [
    "<img src=\"./chapter-05-resampling-1.png\" alt=\"chapter-05-resampling-1.png\" style=\"width: 550px;\"/>"
   ]
  },
  {
   "cell_type": "markdown",
   "metadata": {},
   "source": [
    "<img src=\"./chapter-05-resampling-2.png\" alt=\"chapter-05-resampling-2.png\" style=\"width: 550px;\"/>"
   ]
  },
  {
   "cell_type": "markdown",
   "metadata": {},
   "source": [
    "<img src=\"./chapter-05-resampling-3.png\" alt=\"chapter-05-resampling-3.png\" style=\"width: 550px;\"/>"
   ]
  },
  {
   "cell_type": "markdown",
   "metadata": {},
   "source": [
    "So I've got my samples here and my predictors here. And now in this first approach, we first select the\n",
    "best set of predictors based on the correlation with the outcome, that's over here.\n",
    "And we keep these predictors and throw the rest away.\n",
    "And now in step two, we're going to apply cross-validation.\n",
    "What does that mean? We divide the data up into, say, five parts.\n",
    "We apply our classifier to four parts.\n",
    "\n",
    "<img src=\"./chapter-05-resampling-4.png\" alt=\"chapter-05-resampling-4.png\" style=\"width: 650px;\"/>"
   ]
  },
  {
   "cell_type": "markdown",
   "metadata": {},
   "source": [
    "Key point being, though, that we form the folds before we filter or fit to the data.\n",
    "So that we're applying cross-validation to the entire process, not just the second step.\n",
    "So that's the right way to do it.\n",
    "\n",
    "That with a large number of predictors, if you filter them you've got to include that in your cross-validation.\n",
    "And if you don't, you can incur a serious error in your cross-validation estimate.\n",
    "\n",
    "<img src=\"./chapter-05-resampling-5.png\" alt=\"chapter-05-resampling-5.png\" style=\"width: 650px;\"/>"
   ]
  },
  {
   "cell_type": "markdown",
   "metadata": {
    "collapsed": true
   },
   "source": [
    "##### 5.3.R1\n",
    "\n",
    "Suppose that we perform forward stepwise regression and use cross-validation to choose the best model size.\n",
    "\n",
    "Using the full data set to choose the sequence of models is the WRONG way to do cross-validation (we need to redo the model selection step within each training fold). If we do cross-validation the WRONG way, which of the following is true?\n",
    "\n",
    "1. The selected model will probably be too complex.\n",
    "2. The selected model will probably be too simple."
   ]
  },
  {
   "cell_type": "markdown",
   "metadata": {},
   "source": [
    "<span style=\"color:blue\">Gyu-Ho's Answer: 1.</span>\n",
    "\n",
    "Using the full data set to choose the best variables means that we do not pay as much price as we should for overfitting (since we are fitting to the test and training set simultaneously). This will lead us to underestimate test error for every model size, but the bias is worst for the most complex models. Therefore, we are likely to choose a model that is more complex than the optimal model."
   ]
  },
  {
   "cell_type": "markdown",
   "metadata": {
    "collapsed": true
   },
   "source": [
    "##### 5.4.R1\n",
    "\n",
    "One way of carrying out the bootstrap is to average equally over all possible bootstrap samples from the original data set (where two bootstrap data sets are different if they have the same data points but in different order). Unlike the usual implementation of the bootstrap, this method has the advantage of not introducing extra noise due to resampling randomly. (You can use \"^\" to denote power, as in \"n^2\")\n",
    "\n",
    "To carry out this implementation on a data set with n data points, how many bootstrap data sets would we need to average over?"
   ]
  },
  {
   "cell_type": "markdown",
   "metadata": {
    "collapsed": true
   },
   "source": [
    "<span style=\"color:blue\">\n",
    "Gyu-Ho's Answer: $n^{n}$.\n",
    "</span>\n",
    "\n",
    "Completely removing the bootstrap resampling noise is usually not worth incurring the extreme computational cost. If B is large, but still less than n^n, random resampling gives a good Monte Carlo estimate of the idealized bootstrap estimate for all n^n data sets."
   ]
  },
  {
   "cell_type": "markdown",
   "metadata": {},
   "source": [
    "<img src=\"./chapter-05-bootstrap-01.png\" alt=\"chapter-05-bootstrap-01.png\" style=\"width: 500px;\"/>"
   ]
  },
  {
   "cell_type": "markdown",
   "metadata": {},
   "source": [
    "<img src=\"./chapter-05-bootstrap-02.png\" alt=\"chapter-05-bootstrap-02.png\" style=\"width: 500px;\"/>"
   ]
  },
  {
   "cell_type": "markdown",
   "metadata": {},
   "source": [
    "<img src=\"./chapter-05-bootstrap-03.png\" alt=\"chapter-05-bootstrap-03.png\" style=\"width: 500px;\"/>"
   ]
  },
  {
   "cell_type": "markdown",
   "metadata": {},
   "source": [
    "The test error is the average error that results from using a statistical learning method to predict the response on a new observation, one that was not used in training the method. In contrast, the training error can be easily calculated by applying the statistical learning method to the observations used in its training. But the training error rate often is quite different from the test error rate, and in particular the former can dramatically underestimate the latter.\n",
    "\n",
    "You should be aware of the fact that prediction error estimates are subject to bias and variance. With small sample sizes, the variance is the problem. To get a first idea of the variance of your prediction error estimates, look at the variance of prediction error within and between bootstrapped models that are built using the same input variables. While this can underestimate the true variance, it will give you a first idea of what is going on.\n",
    "\n",
    "<img src=\"./chapter-05-bootstrap-04.png\" alt=\"chapter-05-bootstrap-04.png\" style=\"width: 500px;\"/>"
   ]
  },
  {
   "cell_type": "markdown",
   "metadata": {},
   "source": [
    "<img src=\"./chapter-05-bootstrap-05.png\" alt=\"chapter-05-bootstrap-05.png\" style=\"width: 500px;\"/>"
   ]
  },
  {
   "cell_type": "markdown",
   "metadata": {},
   "source": [
    "<img src=\"./chapter-05-bootstrap-06.png\" alt=\"chapter-05-bootstrap-06.png\" style=\"width: 500px;\"/>"
   ]
  },
  {
   "cell_type": "markdown",
   "metadata": {},
   "source": [
    "<img src=\"./chapter-05-bootstrap-07.png\" alt=\"chapter-05-bootstrap-07.png\" style=\"width: 500px;\"/>"
   ]
  },
  {
   "cell_type": "markdown",
   "metadata": {},
   "source": [
    "<img src=\"./chapter-05-bootstrap-08.png\" alt=\"chapter-05-bootstrap-08.png\" style=\"width: 500px;\"/>"
   ]
  },
  {
   "cell_type": "markdown",
   "metadata": {},
   "source": [
    "<img src=\"./chapter-05-bootstrap-09.png\" alt=\"chapter-05-bootstrap-09.png\" style=\"width: 500px;\"/>"
   ]
  },
  {
   "cell_type": "markdown",
   "metadata": {},
   "source": [
    "<img src=\"./chapter-05-bootstrap-10.png\" alt=\"chapter-05-bootstrap-10.png\" style=\"width: 500px;\"/>"
   ]
  },
  {
   "cell_type": "markdown",
   "metadata": {},
   "source": [
    "<img src=\"./chapter-05-bootstrap-11.png\" alt=\"chapter-05-bootstrap-11.png\" style=\"width: 500px;\"/>"
   ]
  },
  {
   "cell_type": "markdown",
   "metadata": {},
   "source": [
    "<img src=\"./chapter-05-bootstrap-12.png\" alt=\"chapter-05-bootstrap-12.png\" style=\"width: 450px;\"/>"
   ]
  },
  {
   "cell_type": "markdown",
   "metadata": {},
   "source": [
    "##### 5.5.R\n",
    "\n",
    "If we have n data points, what is the probability that a given data point does not appear in a bootstrap sample?"
   ]
  },
  {
   "cell_type": "markdown",
   "metadata": {},
   "source": [
    "<span style=\"color:blue\">\n",
    "Gyu-Ho's Answer: $(1 - \\frac{1}{n})^{n}$.\n",
    "</span>\n",
    "\n",
    "To construct a bootstrap sample, we repeatedly draw a single data point from a sample of size n, n times. Any given data point has a $1 - \\frac{1}{n}$ chance of not being selected in each draw. Hence, the chance of not being selected in any of the n draws is $(1 - \\frac{1}{n})^{n}$"
   ]
  },
  {
   "cell_type": "markdown",
   "metadata": {},
   "source": [
    "##### 5.Q.1\n",
    "\n",
    "If we use ten-fold cross-validation as a means of model selection, the cross-validation estimate of test error is:\n",
    "\n",
    "1. biased upward\n",
    "2. biased downward\n",
    "3. unbiased\n",
    "4. potentially any of the above"
   ]
  },
  {
   "cell_type": "markdown",
   "metadata": {},
   "source": [
    "<span style=\"color:blue\">\n",
    "Gyu-Ho's Answer: 4.\n",
    "</span>\n",
    "\n",
    "There are competing biases: on one hand, the cross-validated estimate is based on models trained on smaller training sets than the full model, which means we will tend to overestimate test error for the full model.\n",
    "\n",
    "On the other hand, cross-validation gives a noisy estimate of test error for each candidate model, and we select the model with the best estimate. This means we are more likely to choose a model whose estimate is smaller than its true test error rate, hence, we may underestimate test error. In any given case, either source of bias may dominate the other."
   ]
  },
  {
   "cell_type": "markdown",
   "metadata": {},
   "source": [
    "###### 5.Q.2\n",
    "\n",
    "Why can't we use the standard bootstrap for some time series data?\n",
    "\n",
    "1. The data points in most time series aren't i.i.d. (independent and identically distributed).\n",
    "3. Some points will be used twice in the same sample.\n",
    "3. The standard bootstrap doesn't accurately mimic the real-world data-generating mechanism."
   ]
  },
  {
   "cell_type": "markdown",
   "metadata": {},
   "source": [
    "<span style=\"color:blue\">\n",
    "Gyu-Ho's Answer: 1, 3.\n",
    "</span>\n",
    "\n",
    "The bootstrap always involves using some points more than once in each resample, but that doesn't inherently make it incorrect (unless we are trying to gauge prediction error). The real problem in this case is that the usual bootstrap algorithm samples i.i.d., so there is no serial autocorrelation (unlike what is observed in most time series). This makes the set of resampled time series very very different from the sorts of time series we actually get in the real world."
   ]
  },
  {
   "cell_type": "markdown",
   "metadata": {},
   "source": [
    "###### 5.5.R1\n",
    "\n",
    "Download the file 5.R.RData and load it into R using `load(\"5.R.RData\")`. Consider the linear regression model of $y$ on $X1$ and $X2$. What is the standard error for $β_{1}$?"
   ]
  },
  {
   "cell_type": "code",
   "execution_count": 4,
   "metadata": {},
   "outputs": [
    {
     "data": {
      "text/html": [
       "'Xy'"
      ],
      "text/latex": [
       "'Xy'"
      ],
      "text/markdown": [
       "'Xy'"
      ],
      "text/plain": [
       "[1] \"Xy\""
      ]
     },
     "metadata": {},
     "output_type": "display_data"
    },
    {
     "data": {
      "text/html": [
       "<table>\n",
       "<thead><tr><th scope=col>X1</th><th scope=col>X2</th><th scope=col>y</th></tr></thead>\n",
       "<tbody>\n",
       "\t<tr><td>1.297720 </td><td>0.8059212</td><td>0.2989683</td></tr>\n",
       "\t<tr><td>1.267323 </td><td>0.7990341</td><td>0.3181337</td></tr>\n",
       "\t<tr><td>1.236882 </td><td>0.7921693</td><td>0.3372015</td></tr>\n",
       "\t<tr><td>1.206317 </td><td>0.7852963</td><td>0.3561210</td></tr>\n",
       "\t<tr><td>1.175553 </td><td>0.7783848</td><td>0.3748415</td></tr>\n",
       "\t<tr><td>1.144513 </td><td>0.7714042</td><td>0.3933122</td></tr>\n",
       "</tbody>\n",
       "</table>\n"
      ],
      "text/latex": [
       "\\begin{tabular}{r|lll}\n",
       " X1 & X2 & y\\\\\n",
       "\\hline\n",
       "\t 1.297720  & 0.8059212 & 0.2989683\\\\\n",
       "\t 1.267323  & 0.7990341 & 0.3181337\\\\\n",
       "\t 1.236882  & 0.7921693 & 0.3372015\\\\\n",
       "\t 1.206317  & 0.7852963 & 0.3561210\\\\\n",
       "\t 1.175553  & 0.7783848 & 0.3748415\\\\\n",
       "\t 1.144513  & 0.7714042 & 0.3933122\\\\\n",
       "\\end{tabular}\n"
      ],
      "text/markdown": [
       "\n",
       "X1 | X2 | y | \n",
       "|---|---|---|---|---|---|\n",
       "| 1.297720  | 0.8059212 | 0.2989683 | \n",
       "| 1.267323  | 0.7990341 | 0.3181337 | \n",
       "| 1.236882  | 0.7921693 | 0.3372015 | \n",
       "| 1.206317  | 0.7852963 | 0.3561210 | \n",
       "| 1.175553  | 0.7783848 | 0.3748415 | \n",
       "| 1.144513  | 0.7714042 | 0.3933122 | \n",
       "\n",
       "\n"
      ],
      "text/plain": [
       "  X1       X2        y        \n",
       "1 1.297720 0.8059212 0.2989683\n",
       "2 1.267323 0.7990341 0.3181337\n",
       "3 1.236882 0.7921693 0.3372015\n",
       "4 1.206317 0.7852963 0.3561210\n",
       "5 1.175553 0.7783848 0.3748415\n",
       "6 1.144513 0.7714042 0.3933122"
      ]
     },
     "metadata": {},
     "output_type": "display_data"
    },
    {
     "data": {
      "text/html": [
       "<ol class=list-inline>\n",
       "\t<li>'Xy'</li>\n",
       "\t<li>'loaded'</li>\n",
       "\t<li>'rData'</li>\n",
       "</ol>\n"
      ],
      "text/latex": [
       "\\begin{enumerate*}\n",
       "\\item 'Xy'\n",
       "\\item 'loaded'\n",
       "\\item 'rData'\n",
       "\\end{enumerate*}\n"
      ],
      "text/markdown": [
       "1. 'Xy'\n",
       "2. 'loaded'\n",
       "3. 'rData'\n",
       "\n",
       "\n"
      ],
      "text/plain": [
       "[1] \"Xy\"     \"loaded\" \"rData\" "
      ]
     },
     "metadata": {},
     "output_type": "display_data"
    }
   ],
   "source": [
    "loaded = load(\"5.R.RData\")\n",
    "head(loaded)\n",
    "\n",
    "rData = get(loaded)\n",
    "head(rData)\n",
    "\n",
    "ls() # 'Xy' 'loaded' 'rData'"
   ]
  },
  {
   "cell_type": "code",
   "execution_count": 6,
   "metadata": {},
   "outputs": [
    {
     "data": {
      "text/plain": [
       "\n",
       "Call:\n",
       "lm(formula = y ~ X1 + X2, data = Xy)\n",
       "\n",
       "Residuals:\n",
       "     Min       1Q   Median       3Q      Max \n",
       "-1.44171 -0.25468 -0.01736  0.33081  1.45860 \n",
       "\n",
       "Coefficients:\n",
       "            Estimate Std. Error t value Pr(>|t|)    \n",
       "(Intercept)  0.26583    0.01988  13.372  < 2e-16 ***\n",
       "X1           0.14533    0.02593   5.604 2.71e-08 ***\n",
       "X2           0.31337    0.02923  10.722  < 2e-16 ***\n",
       "---\n",
       "Signif. codes:  0 '***' 0.001 '**' 0.01 '*' 0.05 '.' 0.1 ' ' 1\n",
       "\n",
       "Residual standard error: 0.5451 on 997 degrees of freedom\n",
       "Multiple R-squared:  0.1171,\tAdjusted R-squared:  0.1154 \n",
       "F-statistic: 66.14 on 2 and 997 DF,  p-value: < 2.2e-16\n"
      ]
     },
     "metadata": {},
     "output_type": "display_data"
    }
   ],
   "source": [
    "# Use summary(lm(y~.,data=Xy))\n",
    "model.lm = lm(y~X1+X2, data=Xy)\n",
    "summary(model.lm)"
   ]
  },
  {
   "cell_type": "markdown",
   "metadata": {},
   "source": [
    "<span style=\"color:blue\">\n",
    "Gyu-Ho's Answer: 0.02593.\n",
    "</span>"
   ]
  },
  {
   "cell_type": "markdown",
   "metadata": {},
   "source": [
    "###### 5.5.R2\n",
    "\n",
    "Next, plot the data using $matplot(Xy, type=\"l\")$. Which of the following do you think is most likely given what you see?\n",
    "\n",
    "1. Our estimate of $s.e.(\\hat{β}_{1})$ is too high.\n",
    "2. Our estimate of $s.e.(\\hat{β}_{1})$ is too low.\n",
    "3. Our estimate of $s.e.(\\hat{β}_{1})$ is about right."
   ]
  },
  {
   "cell_type": "code",
   "execution_count": 10,
   "metadata": {},
   "outputs": [
    {
     "data": {
      "image/png": "[encoded data removed]",
      "text/plain": [
       "plot without title"
      ]
     },
     "metadata": {},
     "output_type": "display_data"
    }
   ],
   "source": [
    "# Plot the columns of one matrix against the columns of another.\n",
    "matplot(Xy, type=\"l\")"
   ]
  },
  {
   "cell_type": "markdown",
   "metadata": {},
   "source": [
    "<span style=\"color:blue\">\n",
    "Gyu-Ho's Answer: Our estimate of $s.e.(\\hat{β}_{1})$ is too low.\n",
    "</span>\n",
    "\n",
    "There is very strong autocorrelation between consecutive rows of the data matrix. Roughly speaking, we have about 10-20 repeats of every data point, so the sample size is in effect much smaller than the number of rows (1000 in this case)."
   ]
  },
  {
   "cell_type": "markdown",
   "metadata": {},
   "source": [
    "###### 5.R.R3\n",
    "\n",
    "Now, use the (standard) bootstrap to estimate $s.e.(\\hat{β}_{1})$. To within 10%, what do you get?"
   ]
  },
  {
   "cell_type": "code",
   "execution_count": 43,
   "metadata": {},
   "outputs": [
    {
     "data": {
      "text/html": [
       "0.416719162834766"
      ],
      "text/latex": [
       "0.416719162834766"
      ],
      "text/markdown": [
       "0.416719162834766"
      ],
      "text/plain": [
       "[1] 0.4167192"
      ]
     },
     "metadata": {},
     "output_type": "display_data"
    }
   ],
   "source": [
    "library(boot)\n",
    "\n",
    "alpha = function(x,y){\n",
    "  vx = var(x)\n",
    "  vy = var(y)\n",
    "  cxy = cov(x,y)\n",
    "  return ((vy-cxy)/(vx+vy-2*cxy))\n",
    "}\n",
    "\n",
    "alpha(Xy$X1, Xy$y)"
   ]
  },
  {
   "cell_type": "code",
   "execution_count": 44,
   "metadata": {},
   "outputs": [],
   "source": [
    "alpha.fn1 = function(data, index) {\n",
    "  return (with(data[index,], alpha(Xy$X1, Xy$y)))\n",
    "}"
   ]
  },
  {
   "cell_type": "code",
   "execution_count": 45,
   "metadata": {
    "collapsed": true
   },
   "outputs": [],
   "source": [
    "alpha.fn2 = function(data, index) {\n",
    "  fitl = lm(y~., data=Xy[index,])\n",
    "  return (coefficients(fitl)[['X1']])\n",
    "}"
   ]
  },
  {
   "cell_type": "code",
   "execution_count": 46,
   "metadata": {},
   "outputs": [
    {
     "data": {
      "text/html": [
       "0.416719162834766"
      ],
      "text/latex": [
       "0.416719162834766"
      ],
      "text/markdown": [
       "0.416719162834766"
      ],
      "text/plain": [
       "[1] 0.4167192"
      ]
     },
     "metadata": {},
     "output_type": "display_data"
    },
    {
     "data": {
      "text/html": [
       "0.105906759887081"
      ],
      "text/latex": [
       "0.105906759887081"
      ],
      "text/markdown": [
       "0.105906759887081"
      ],
      "text/plain": [
       "[1] 0.1059068"
      ]
     },
     "metadata": {},
     "output_type": "display_data"
    }
   ],
   "source": [
    "set.seed(1)\n",
    "alpha.fn1(Xy, sample(1:100, 100, replace=TRUE))\n",
    "\n",
    "set.seed(1)\n",
    "alpha.fn2(Xy, sample(1:100, 100, replace=TRUE))"
   ]
  },
  {
   "cell_type": "code",
   "execution_count": 47,
   "metadata": {},
   "outputs": [
    {
     "data": {
      "text/plain": [
       "\n",
       "ORDINARY NONPARAMETRIC BOOTSTRAP\n",
       "\n",
       "\n",
       "Call:\n",
       "boot(data = Xy, statistic = alpha.fn2, R = 1000)\n",
       "\n",
       "\n",
       "Bootstrap Statistics :\n",
       "     original       bias    std. error\n",
       "t1* 0.1453263 0.0001885914  0.02873965"
      ]
     },
     "metadata": {},
     "output_type": "display_data"
    }
   ],
   "source": [
    "boot.out = boot(Xy, alpha.fn2, R=1000)\n",
    "boot.out"
   ]
  },
  {
   "cell_type": "markdown",
   "metadata": {},
   "source": [
    "<span style=\"color:blue\">\n",
    "Gyu-Ho's Answer: 0.02873965.\n",
    "</span>\n",
    "\n",
    "When we do the i.i.d. bootstrap, we are relying on the original sampling having been i.i.d. That is the same assumption that screwed us up when we used lm."
   ]
  },
  {
   "cell_type": "markdown",
   "metadata": {},
   "source": [
    "###### 5.R.R4\n",
    "\n",
    "Finally, use the block bootstrap to estimate $s.e.(\\hat{β}_{1})$. Use blocks of 100 contiguous observations, and resample ten whole blocks with replacement then paste them together to construct each bootstrap time series. For example, one of your bootstrap resamples could be:\n",
    "\n",
    "```R\n",
    "new.rows = c(101:200, 401:500, 101:200, 901:1000, 301:400, 1:100, 1:100, 801:900, 201:300, 701:800)\n",
    "new.Xy = Xy[new.rows, ]\n",
    "```\n",
    "\n",
    "To within 10%, what do you get?"
   ]
  },
  {
   "cell_type": "code",
   "execution_count": 88,
   "metadata": {},
   "outputs": [
    {
     "data": {
      "text/plain": [
       "          Length Class      Mode     \n",
       "t0           3   -none-     numeric  \n",
       "t         3000   -none-     numeric  \n",
       "R            1   -none-     numeric  \n",
       "data         3   data.frame list     \n",
       "seed       626   -none-     numeric  \n",
       "statistic    1   -none-     function \n",
       "sim          1   -none-     character\n",
       "n.sim        1   -none-     numeric  \n",
       "call         6   -none-     call     \n",
       "l            1   -none-     numeric  \n",
       "endcorr      1   -none-     logical  "
      ]
     },
     "metadata": {},
     "output_type": "display_data"
    }
   ],
   "source": [
    "boot.fn.ts = function(data){\n",
    "  fit = lm(y~., data)\n",
    "  return (coef(fit))\n",
    "}\n",
    "\n",
    "bootcorr = tsboot(Xy, boot.fn.ts, R=1000, sim=\"fixed\", l=100)\n",
    "summary(bootcorr)"
   ]
  },
  {
   "cell_type": "code",
   "execution_count": 91,
   "metadata": {},
   "outputs": [
    {
     "data": {
      "text/html": [
       "0.228620657712559"
      ],
      "text/latex": [
       "0.228620657712559"
      ],
      "text/markdown": [
       "0.228620657712559"
      ],
      "text/plain": [
       "[1] 0.2286207"
      ]
     },
     "metadata": {},
     "output_type": "display_data"
    }
   ],
   "source": [
    "sd(bootcorr$t)"
   ]
  },
  {
   "cell_type": "markdown",
   "metadata": {},
   "source": [
    "<span style=\"color:red\">\n",
    "0.2.\n",
    "</span>\n",
    "\n",
    "The block bootstrap does a better job of mimicking the original sampling procedure, because it preserves the autocorrelation."
   ]
  },
  {
   "cell_type": "code",
   "execution_count": 76,
   "metadata": {},
   "outputs": [
    {
     "name": "stdout",
     "output_type": "stream",
     "text": [
      "Loading objects:\n",
      "  Xy\n"
     ]
    },
    {
     "data": {
      "text/plain": [
       "\n",
       "ORDINARY NONPARAMETRIC BOOTSTRAP\n",
       "\n",
       "\n",
       "Call:\n",
       "boot(data = Xy, statistic = bs, R = 10000)\n",
       "\n",
       "\n",
       "Bootstrap Statistics :\n",
       "      original      bias    std. error\n",
       "t1* 0.02036288 0.004409733 0.005342799"
      ]
     },
     "metadata": {},
     "output_type": "display_data"
    }
   ],
   "source": [
    "library(boot)\n",
    "load(\"5.R.RData\", verbose=T)\n",
    "\n",
    "bs = function(data, index){\n",
    "  x = sample(seq(1, 901, 100), replace=T)\n",
    "  indicies = as.vector(mapply(seq, from=x, to=x+99))\n",
    "  return (summary(lm(y~., data=data[indicies,]))$coefficients[2,2])\n",
    "}\n",
    "\n",
    "boot(Xy, statistic=bs, R=10000)"
   ]
  }
 ],
 "metadata": {
  "kernelspec": {
   "display_name": "R",
   "language": "R",
   "name": "ir"
  },
  "language_info": {
   "codemirror_mode": "r",
   "file_extension": ".r",
   "mimetype": "text/x-r-source",
   "name": "R",
   "pygments_lexer": "r",
   "version": "3.3.2"
  }
 },
 "nbformat": 4,
 "nbformat_minor": 2
}
