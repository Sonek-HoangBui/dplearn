{
 "cells": [
  {
   "cell_type": "markdown",
   "metadata": {},
   "source": [
    "<div style=\"text-align: center; font-size: 20px;\"><b>Stats216v: Statistical Learning</b></div>\n",
    "\n",
    "<br>\n",
    "<div style=\"text-align: center\">Stanford University</div>\n",
    "<div style=\"text-align: center\">Summer 2017</div>\n",
    "<div style=\"text-align: center\">Gyu-Ho Lee (<a href=\"mailto:gyuhox@gmail.com\">gyuhox@gmail.com</a>)</div>"
   ]
  },
  {
   "cell_type": "markdown",
   "metadata": {},
   "source": [
    "###### Q1.\n",
    "\n",
    "In this problem we investigate a simple example of hierarchical clustering. Problem 4 will use this method on a real data set.\n",
    "\n",
    "Suppose that we have four observations, for which we compute a dissimilarity matrix, given by\n",
    "\n",
    "$\n",
    "\\begin{bmatrix}\n",
    "   & 0.3 & 0.4 & 0.7 \\\\\n",
    "  0.3  & & 0.5 & 0.8 \\\\\n",
    "  0.4 & 0.5 & & 0.45 \\\\\n",
    "  0.7 & 0.8 & 0.45 &\n",
    "\\end{bmatrix}\n",
    "$\n",
    "\n",
    "For instance, the dissimilarity between the first and second observations is 0.3, and the\n",
    "dissimilarity between the second and fourth observation is 0.8."
   ]
  },
  {
   "cell_type": "markdown",
   "metadata": {},
   "source": [
    "<span style=\"color:blue\">\n",
    "Gyu-Ho's Answer: I will use *Algorithm 10.2 Hierarchical Clustering at page 395*.\n",
    "</span>"
   ]
  },
  {
   "cell_type": "markdown",
   "metadata": {},
   "source": [
    "(a) Based on this dissimilarity matrix, sketch the dendrogram that results from hierarchically clustering these four observations using **complete linkage**. Indicate on the plot the height at which each fusion occurs and the observations corresponding to each leaf of the dendrogram."
   ]
  },
  {
   "cell_type": "code",
   "execution_count": 2,
   "metadata": {},
   "outputs": [
    {
     "data": {
      "text/html": [
       "<table>\n",
       "<tbody>\n",
       "\t<tr><td>0.0 </td><td>0.3 </td><td>0.40</td><td>0.70</td></tr>\n",
       "\t<tr><td>0.3 </td><td>0.0 </td><td>0.50</td><td>0.80</td></tr>\n",
       "\t<tr><td>0.4 </td><td>0.5 </td><td>0.00</td><td>0.45</td></tr>\n",
       "\t<tr><td>0.7 </td><td>0.8 </td><td>0.45</td><td>0.00</td></tr>\n",
       "</tbody>\n",
       "</table>\n"
      ],
      "text/latex": [
       "\\begin{tabular}{llll}\n",
       "\t 0.0  & 0.3  & 0.40 & 0.70\\\\\n",
       "\t 0.3  & 0.0  & 0.50 & 0.80\\\\\n",
       "\t 0.4  & 0.5  & 0.00 & 0.45\\\\\n",
       "\t 0.7  & 0.8  & 0.45 & 0.00\\\\\n",
       "\\end{tabular}\n"
      ],
      "text/markdown": [
       "\n",
       "| 0.0  | 0.3  | 0.40 | 0.70 | \n",
       "| 0.3  | 0.0  | 0.50 | 0.80 | \n",
       "| 0.4  | 0.5  | 0.00 | 0.45 | \n",
       "| 0.7  | 0.8  | 0.45 | 0.00 | \n",
       "\n",
       "\n"
      ],
      "text/plain": [
       "     [,1] [,2] [,3] [,4]\n",
       "[1,] 0.0  0.3  0.40 0.70\n",
       "[2,] 0.3  0.0  0.50 0.80\n",
       "[3,] 0.4  0.5  0.00 0.45\n",
       "[4,] 0.7  0.8  0.45 0.00"
      ]
     },
     "metadata": {},
     "output_type": "display_data"
    }
   ],
   "source": [
    "matrix(c(0, 0.3, 0.4, 0.7,\n",
    "         0.3, 0, 0.5, 0.8,\n",
    "         0.4, 0.5, 0.0, 0.45,\n",
    "         0.7, 0.8, 0.45, 0.0), nrow=4)\n",
    "\n",
    "# 0.3 is the minimum dissimilarity\n",
    "# complete linkage records the largest"
   ]
  },
  {
   "cell_type": "code",
   "execution_count": 3,
   "metadata": {},
   "outputs": [
    {
     "data": {
      "text/html": [
       "<table>\n",
       "<tbody>\n",
       "\t<tr><td>0.0 </td><td>0.50</td><td>0.80</td></tr>\n",
       "\t<tr><td>0.5 </td><td>0.00</td><td>0.45</td></tr>\n",
       "\t<tr><td>0.8 </td><td>0.45</td><td>0.00</td></tr>\n",
       "</tbody>\n",
       "</table>\n"
      ],
      "text/latex": [
       "\\begin{tabular}{lll}\n",
       "\t 0.0  & 0.50 & 0.80\\\\\n",
       "\t 0.5  & 0.00 & 0.45\\\\\n",
       "\t 0.8  & 0.45 & 0.00\\\\\n",
       "\\end{tabular}\n"
      ],
      "text/markdown": [
       "\n",
       "| 0.0  | 0.50 | 0.80 | \n",
       "| 0.5  | 0.00 | 0.45 | \n",
       "| 0.8  | 0.45 | 0.00 | \n",
       "\n",
       "\n"
      ],
      "text/plain": [
       "     [,1] [,2] [,3]\n",
       "[1,] 0.0  0.50 0.80\n",
       "[2,] 0.5  0.00 0.45\n",
       "[3,] 0.8  0.45 0.00"
      ]
     },
     "metadata": {},
     "output_type": "display_data"
    }
   ],
   "source": [
    "# thus, fuse first and second observations\n",
    "# after fuse, new dissimilarity matrix\n",
    "matrix(c(0,   0.5, 0.8,\n",
    "         0.5, 0.0, 0.45,\n",
    "         0.8, 0.45, 0.0), nrow=3)\n",
    "\n",
    "# now 0.45 is the minimum dissimilarity"
   ]
  },
  {
   "cell_type": "code",
   "execution_count": 4,
   "metadata": {},
   "outputs": [
    {
     "data": {
      "text/html": [
       "<table>\n",
       "<tbody>\n",
       "\t<tr><td>0.0</td><td>0.8</td></tr>\n",
       "\t<tr><td>0.8</td><td>0.0</td></tr>\n",
       "</tbody>\n",
       "</table>\n"
      ],
      "text/latex": [
       "\\begin{tabular}{ll}\n",
       "\t 0.0 & 0.8\\\\\n",
       "\t 0.8 & 0.0\\\\\n",
       "\\end{tabular}\n"
      ],
      "text/markdown": [
       "\n",
       "| 0.0 | 0.8 | \n",
       "| 0.8 | 0.0 | \n",
       "\n",
       "\n"
      ],
      "text/plain": [
       "     [,1] [,2]\n",
       "[1,] 0.0  0.8 \n",
       "[2,] 0.8  0.0 "
      ]
     },
     "metadata": {},
     "output_type": "display_data"
    }
   ],
   "source": [
    "# thus, fuse third and fourth observations\n",
    "# after fuse, new dissimilarity matrix\n",
    "matrix(c(0, 0.8,\n",
    "         0.8, 0.0), nrow=2)"
   ]
  },
  {
   "cell_type": "code",
   "execution_count": 5,
   "metadata": {},
   "outputs": [
    {
     "data": {
      "image/png": "[encoded data removed]",
      "text/plain": [
       "Plot with title \"Cluster Dendrogram\""
      ]
     },
     "metadata": {},
     "output_type": "display_data"
    }
   ],
   "source": [
    "# lastly fuse clusters (1,2) and (3,4)\n",
    "dend = as.dist(matrix(c(0, 0.3, 0.4, 0.7,\n",
    "                        0.3, 0, 0.5, 0.8,\n",
    "                        0.4, 0.5, 0.0, 0.45,\n",
    "                        0.7, 0.8, 0.45, 0.0), nrow=4))\n",
    "\n",
    "plot(hclust(dend,method=\"complete\"))"
   ]
  },
  {
   "cell_type": "markdown",
   "metadata": {},
   "source": [
    "(b) Repeat part (a) using **single linkage** clustering."
   ]
  },
  {
   "cell_type": "code",
   "execution_count": 6,
   "metadata": {},
   "outputs": [
    {
     "data": {
      "text/html": [
       "<table>\n",
       "<tbody>\n",
       "\t<tr><td>0.0 </td><td>0.3 </td><td>0.40</td><td>0.70</td></tr>\n",
       "\t<tr><td>0.3 </td><td>0.0 </td><td>0.50</td><td>0.80</td></tr>\n",
       "\t<tr><td>0.4 </td><td>0.5 </td><td>0.00</td><td>0.45</td></tr>\n",
       "\t<tr><td>0.7 </td><td>0.8 </td><td>0.45</td><td>0.00</td></tr>\n",
       "</tbody>\n",
       "</table>\n"
      ],
      "text/latex": [
       "\\begin{tabular}{llll}\n",
       "\t 0.0  & 0.3  & 0.40 & 0.70\\\\\n",
       "\t 0.3  & 0.0  & 0.50 & 0.80\\\\\n",
       "\t 0.4  & 0.5  & 0.00 & 0.45\\\\\n",
       "\t 0.7  & 0.8  & 0.45 & 0.00\\\\\n",
       "\\end{tabular}\n"
      ],
      "text/markdown": [
       "\n",
       "| 0.0  | 0.3  | 0.40 | 0.70 | \n",
       "| 0.3  | 0.0  | 0.50 | 0.80 | \n",
       "| 0.4  | 0.5  | 0.00 | 0.45 | \n",
       "| 0.7  | 0.8  | 0.45 | 0.00 | \n",
       "\n",
       "\n"
      ],
      "text/plain": [
       "     [,1] [,2] [,3] [,4]\n",
       "[1,] 0.0  0.3  0.40 0.70\n",
       "[2,] 0.3  0.0  0.50 0.80\n",
       "[3,] 0.4  0.5  0.00 0.45\n",
       "[4,] 0.7  0.8  0.45 0.00"
      ]
     },
     "metadata": {},
     "output_type": "display_data"
    }
   ],
   "source": [
    "matrix(c(0, 0.3, 0.4, 0.7,\n",
    "         0.3, 0, 0.5, 0.8,\n",
    "         0.4, 0.5, 0.0, 0.45,\n",
    "         0.7, 0.8, 0.45, 0.0), nrow=4)\n",
    "\n",
    "# 0.3 is the minimum dissimilarity\n",
    "# single linkage records the smallest"
   ]
  },
  {
   "cell_type": "code",
   "execution_count": 7,
   "metadata": {},
   "outputs": [
    {
     "data": {
      "text/html": [
       "<table>\n",
       "<tbody>\n",
       "\t<tr><td>0.0 </td><td>0.40</td><td>0.70</td></tr>\n",
       "\t<tr><td>0.4 </td><td>0.00</td><td>0.45</td></tr>\n",
       "\t<tr><td>0.7 </td><td>0.45</td><td>0.00</td></tr>\n",
       "</tbody>\n",
       "</table>\n"
      ],
      "text/latex": [
       "\\begin{tabular}{lll}\n",
       "\t 0.0  & 0.40 & 0.70\\\\\n",
       "\t 0.4  & 0.00 & 0.45\\\\\n",
       "\t 0.7  & 0.45 & 0.00\\\\\n",
       "\\end{tabular}\n"
      ],
      "text/markdown": [
       "\n",
       "| 0.0  | 0.40 | 0.70 | \n",
       "| 0.4  | 0.00 | 0.45 | \n",
       "| 0.7  | 0.45 | 0.00 | \n",
       "\n",
       "\n"
      ],
      "text/plain": [
       "     [,1] [,2] [,3]\n",
       "[1,] 0.0  0.40 0.70\n",
       "[2,] 0.4  0.00 0.45\n",
       "[3,] 0.7  0.45 0.00"
      ]
     },
     "metadata": {},
     "output_type": "display_data"
    }
   ],
   "source": [
    "# thus, fuse first and second observations\n",
    "# after fuse, new dissimilarity matrix\n",
    "matrix(c(0,   0.4, 0.7,\n",
    "         0.4, 0.0, 0.45,\n",
    "         0.7, 0.45, 0.0), nrow=3)\n",
    "\n",
    "# now 0.4 is the minimum dissimilarity"
   ]
  },
  {
   "cell_type": "code",
   "execution_count": 8,
   "metadata": {},
   "outputs": [
    {
     "data": {
      "text/html": [
       "<table>\n",
       "<tbody>\n",
       "\t<tr><td>0.00</td><td>0.45</td></tr>\n",
       "\t<tr><td>0.45</td><td>0.00</td></tr>\n",
       "</tbody>\n",
       "</table>\n"
      ],
      "text/latex": [
       "\\begin{tabular}{ll}\n",
       "\t 0.00 & 0.45\\\\\n",
       "\t 0.45 & 0.00\\\\\n",
       "\\end{tabular}\n"
      ],
      "text/markdown": [
       "\n",
       "| 0.00 | 0.45 | \n",
       "| 0.45 | 0.00 | \n",
       "\n",
       "\n"
      ],
      "text/plain": [
       "     [,1] [,2]\n",
       "[1,] 0.00 0.45\n",
       "[2,] 0.45 0.00"
      ]
     },
     "metadata": {},
     "output_type": "display_data"
    }
   ],
   "source": [
    "# thus, fuse third and fourth observations\n",
    "# after fuse, new dissimilarity matrix\n",
    "matrix(c(0, 0.45,\n",
    "         0.45, 0.0), nrow=2)"
   ]
  },
  {
   "cell_type": "code",
   "execution_count": 9,
   "metadata": {},
   "outputs": [
    {
     "data": {
      "image/png": "[encoded data removed]",
      "text/plain": [
       "Plot with title \"Cluster Dendrogram\""
      ]
     },
     "metadata": {},
     "output_type": "display_data"
    }
   ],
   "source": [
    "# lastly fuse clusters ((1,2),3) and (4)\n",
    "dend = as.dist(matrix(c(0, 0.3, 0.4, 0.7,\n",
    "                        0.3, 0, 0.5, 0.8,\n",
    "                        0.4, 0.5, 0.0, 0.45,\n",
    "                        0.7, 0.8, 0.45, 0.0), nrow=4))\n",
    "\n",
    "plot(hclust(dend,method=\"single\"))"
   ]
  },
  {
   "cell_type": "markdown",
   "metadata": {},
   "source": [
    "(c) Suppose that we cut the dendrogram from (a) in such a way that results in two\n",
    "clusters. Which observations are in each cluster?"
   ]
  },
  {
   "cell_type": "markdown",
   "metadata": {},
   "source": [
    "<span style=\"color:blue\">\n",
    "Gyu-Ho's Answer: Two clusters of (1,2) and (3,4).\n",
    "</span>"
   ]
  },
  {
   "cell_type": "markdown",
   "metadata": {},
   "source": [
    "(d) Suppose that we cut the dendrogram from (b) in such a way that results in two clusters. Which observations are in each cluster?"
   ]
  },
  {
   "cell_type": "markdown",
   "metadata": {},
   "source": [
    "<span style=\"color:blue\">\n",
    "Gyu-Ho's Answer: Two clusters of ((1,2),3) and (4).\n",
    "</span>"
   ]
  },
  {
   "cell_type": "markdown",
   "metadata": {
    "collapsed": true
   },
   "source": [
    "###### Q2.\n",
    "\n",
    "Here we explore the maximal margin classifier on a toy data set."
   ]
  },
  {
   "cell_type": "markdown",
   "metadata": {},
   "source": [
    "(a) We are given $n = 7$ observations in $p = 2$ dimensions. For each observation, there is an associated class label. Sketch the observations.\n",
    "\n",
    "| Obs. | $X_1$ | $X_2$ | $Y$ |\n",
    "|---|---|---|---|\n",
    "|1|13.58|17.50|blue|\n",
    "|2|9.60|9.60|blue|\n",
    "|3|17.60|17.60|blue|\n",
    "|4|5.56|17.60|blue|\n",
    "|5|9.60|5.60|red|\n",
    "|6|17.60|13.60|red|\n",
    "|7|17.58|5.60|red|"
   ]
  },
  {
   "cell_type": "code",
   "execution_count": 10,
   "metadata": {},
   "outputs": [
    {
     "data": {
      "image/png": "[encoded data removed]",
      "text/plain": [
       "plot without title"
      ]
     },
     "metadata": {},
     "output_type": "display_data"
    }
   ],
   "source": [
    "x1=c(13.58,9.60,17.60,5.56,9.60,17.60,17.58)\n",
    "x2=c(17.50,9.60,17.60,17.60,5.60,13.60,5.60)\n",
    "colors=c(\"blue\",\"blue\",\"blue\",\"blue\",\"red\",\"red\",\"red\")\n",
    "plot(x1,x2,col=colors)"
   ]
  },
  {
   "cell_type": "markdown",
   "metadata": {},
   "source": [
    "(b) Sketch the optimal separating hyperplane, and provide the equation for this hyperplane (of the form $\\beta_0 + \\beta_1 X_1 + \\beta_2 X_2 = 0$)."
   ]
  },
  {
   "cell_type": "code",
   "execution_count": 11,
   "metadata": {},
   "outputs": [
    {
     "data": {
      "image/png": "[encoded data removed]",
      "text/plain": [
       "plot without title"
      ]
     },
     "metadata": {},
     "output_type": "display_data"
    }
   ],
   "source": [
    "plot(x1,x2,col=colors)\n",
    "\n",
    "# between (9.60,9.60),(17.60,17.60)\n",
    "#     and (9.60,5.60),(17.60,13.60)\n",
    "#\n",
    "# line passes (9.6,7.6) and (17.6,15.6)\n",
    "abline(-2,1) # y=x-2"
   ]
  },
  {
   "cell_type": "markdown",
   "metadata": {},
   "source": [
    "(c) Describe the classification rule for the maximal margin classifier. It should be something along the lines of “Classify to Red if $\\beta_0 + \\beta_1 X_1 + \\beta_2 X_2 > 0$, and classify to Green otherwise.” Provide the values for $\\beta_0$, $\\beta_1$, and $\\beta_2$."
   ]
  },
  {
   "cell_type": "markdown",
   "metadata": {},
   "source": [
    "<span style=\"color:blue\">\n",
    "Gyu-Ho's Answer: Classify to Blue if $X_1 - X_2 - 2 < 0$, and classify to Red otherwise.\n",
    "</span>"
   ]
  },
  {
   "cell_type": "markdown",
   "metadata": {},
   "source": [
    "(d) On your sketch, indicate the margin for the maximal margin hyperplane. How wide is the margin?"
   ]
  },
  {
   "cell_type": "code",
   "execution_count": 12,
   "metadata": {},
   "outputs": [
    {
     "data": {
      "image/png": "[encoded data removed]",
      "text/plain": [
       "plot without title"
      ]
     },
     "metadata": {},
     "output_type": "display_data"
    }
   ],
   "source": [
    "plot(x1,x2,col=colors)\n",
    "abline(-2,1) # y=x-2\n",
    "abline(0,1,lty=2) # y=x\n",
    "abline(-4,1,lty=2) # y=x-4"
   ]
  },
  {
   "cell_type": "markdown",
   "metadata": {},
   "source": [
    "<span style=\"color:blue\">\n",
    "Gyu-Ho's Answer: Margin is the smallest distance from the observations to the hyperplane. It's $\\sqrt{2}$.\n",
    "</span>"
   ]
  },
  {
   "cell_type": "markdown",
   "metadata": {},
   "source": [
    "(e) Indicate the support vectors for the maximal margin classifier."
   ]
  },
  {
   "cell_type": "markdown",
   "metadata": {},
   "source": [
    "<span style=\"color:blue\">\n",
    "Gyu-Ho's Answer: Support vectors are (9.60,9.60),(17.60,17.60) and (9.60,5.60),(17.60,13.60).\n",
    "</span>"
   ]
  },
  {
   "cell_type": "markdown",
   "metadata": {},
   "source": [
    "(f) Argue that a slight movement of the seventh observation would not affect the maximal margin hyperplane."
   ]
  },
  {
   "cell_type": "markdown",
   "metadata": {},
   "source": [
    "<span style=\"color:blue\">\n",
    "Gyu-Ho's Answer: Seventh observation is located at right-bottom (17.58,5.6) and not a support vector. It is far away from the hyperplane, so moving the seventh observation would not change the maximal margin hyperplane.\n",
    "</span>"
   ]
  },
  {
   "cell_type": "markdown",
   "metadata": {},
   "source": [
    "(g) Sketch a hyperplane that is not the optimal separating hyperplane, and provide the equation for this hyperplane."
   ]
  },
  {
   "cell_type": "markdown",
   "metadata": {},
   "source": [
    "<span style=\"color:blue\">\n",
    "Gyu-Ho's Answer: $X_1 - X_2 - 1 = 0$ is not the optimal separating hyperplane as shown below.\n",
    "</span>"
   ]
  },
  {
   "cell_type": "code",
   "execution_count": 13,
   "metadata": {},
   "outputs": [
    {
     "data": {
      "image/png": "[encoded data removed]",
      "text/plain": [
       "plot without title"
      ]
     },
     "metadata": {},
     "output_type": "display_data"
    }
   ],
   "source": [
    "plot(x1,x2,col=colors)\n",
    "abline(-1,1)"
   ]
  },
  {
   "cell_type": "markdown",
   "metadata": {},
   "source": [
    "(h) Draw an additional observation on the plot so that the two classes are no longer separable by a hyperplane."
   ]
  },
  {
   "cell_type": "code",
   "execution_count": 14,
   "metadata": {},
   "outputs": [
    {
     "data": {
      "image/png": "[encoded data removed]",
      "text/plain": [
       "plot without title"
      ]
     },
     "metadata": {},
     "output_type": "display_data"
    }
   ],
   "source": [
    "plot(x1,x2,col=colors)\n",
    "points(c(12),c(6),col=c(\"blue\")) # additional observation"
   ]
  },
  {
   "cell_type": "code",
   "execution_count": 85,
   "metadata": {},
   "outputs": [
    {
     "name": "stderr",
     "output_type": "stream",
     "text": [
      "Updating HTML index of packages in '.Library'\n",
      "Making 'packages.html' ... done\n",
      "Updating HTML index of packages in '.Library'\n",
      "Making 'packages.html' ... done\n",
      "Updating HTML index of packages in '.Library'\n",
      "Making 'packages.html' ... done\n",
      "Updating HTML index of packages in '.Library'\n",
      "Making 'packages.html' ... done\n",
      "\n",
      "Attaching package: 'pls'\n",
      "\n",
      "The following object is masked from 'package:stats':\n",
      "\n",
      "    loadings\n",
      "\n"
     ]
    },
    {
     "name": "stdout",
     "output_type": "stream",
     "text": [
      "[1] \"Libraries have been loaded!\"\n"
     ]
    }
   ],
   "source": [
    "LoadLibraries = function() {\n",
    "    install.packages(\"ISLR\")\n",
    "    library(ISLR)\n",
    "    install.packages(\"e1071\")\n",
    "    library(e1071)\n",
    "    install.packages(\"dendextend\")\n",
    "    library(dendextend)\n",
    "    install.packages(\"pls\")\n",
    "    library(pls)\n",
    "    print(\"Libraries have been loaded!\")\n",
    "}\n",
    "\n",
    "LoadLibraries()"
   ]
  },
  {
   "cell_type": "markdown",
   "metadata": {},
   "source": [
    "###### Q3.\n",
    "\n",
    "This problem involves the OJ data set which is part of the ISLR package."
   ]
  },
  {
   "cell_type": "markdown",
   "metadata": {},
   "source": [
    "(a) Create a training set containing a random sample of 535 observations, and a test set containing the remaining observations. Use the commands `set.seed(2017); train = sample(1:nrow(OJ), 535); test = setdiff(1:nrow(OJ), train)`."
   ]
  },
  {
   "cell_type": "code",
   "execution_count": 16,
   "metadata": {},
   "outputs": [
    {
     "data": {
      "text/html": [
       "<table>\n",
       "<thead><tr><th scope=col>Purchase</th><th scope=col>WeekofPurchase</th><th scope=col>StoreID</th><th scope=col>PriceCH</th><th scope=col>PriceMM</th><th scope=col>DiscCH</th><th scope=col>DiscMM</th><th scope=col>SpecialCH</th><th scope=col>SpecialMM</th><th scope=col>LoyalCH</th><th scope=col>SalePriceMM</th><th scope=col>SalePriceCH</th><th scope=col>PriceDiff</th><th scope=col>Store7</th><th scope=col>PctDiscMM</th><th scope=col>PctDiscCH</th><th scope=col>ListPriceDiff</th><th scope=col>STORE</th></tr></thead>\n",
       "<tbody>\n",
       "\t<tr><td>CH      </td><td>237     </td><td>1       </td><td>1.75    </td><td>1.99    </td><td>0.00    </td><td>0.0     </td><td>0       </td><td>0       </td><td>0.500000</td><td>1.99    </td><td>1.75    </td><td> 0.24   </td><td>No      </td><td>0.000000</td><td>0.000000</td><td>0.24    </td><td>1       </td></tr>\n",
       "\t<tr><td>CH      </td><td>239     </td><td>1       </td><td>1.75    </td><td>1.99    </td><td>0.00    </td><td>0.3     </td><td>0       </td><td>1       </td><td>0.600000</td><td>1.69    </td><td>1.75    </td><td>-0.06   </td><td>No      </td><td>0.150754</td><td>0.000000</td><td>0.24    </td><td>1       </td></tr>\n",
       "\t<tr><td>CH      </td><td>245     </td><td>1       </td><td>1.86    </td><td>2.09    </td><td>0.17    </td><td>0.0     </td><td>0       </td><td>0       </td><td>0.680000</td><td>2.09    </td><td>1.69    </td><td> 0.40   </td><td>No      </td><td>0.000000</td><td>0.091398</td><td>0.23    </td><td>1       </td></tr>\n",
       "\t<tr><td>MM      </td><td>227     </td><td>1       </td><td>1.69    </td><td>1.69    </td><td>0.00    </td><td>0.0     </td><td>0       </td><td>0       </td><td>0.400000</td><td>1.69    </td><td>1.69    </td><td> 0.00   </td><td>No      </td><td>0.000000</td><td>0.000000</td><td>0.00    </td><td>1       </td></tr>\n",
       "\t<tr><td>CH      </td><td>228     </td><td>7       </td><td>1.69    </td><td>1.69    </td><td>0.00    </td><td>0.0     </td><td>0       </td><td>0       </td><td>0.956535</td><td>1.69    </td><td>1.69    </td><td> 0.00   </td><td>Yes     </td><td>0.000000</td><td>0.000000</td><td>0.00    </td><td>0       </td></tr>\n",
       "\t<tr><td>CH      </td><td>230     </td><td>7       </td><td>1.69    </td><td>1.99    </td><td>0.00    </td><td>0.0     </td><td>0       </td><td>1       </td><td>0.965228</td><td>1.99    </td><td>1.69    </td><td> 0.30   </td><td>Yes     </td><td>0.000000</td><td>0.000000</td><td>0.30    </td><td>0       </td></tr>\n",
       "</tbody>\n",
       "</table>\n"
      ],
      "text/latex": [
       "\\begin{tabular}{r|llllllllllllllllll}\n",
       " Purchase & WeekofPurchase & StoreID & PriceCH & PriceMM & DiscCH & DiscMM & SpecialCH & SpecialMM & LoyalCH & SalePriceMM & SalePriceCH & PriceDiff & Store7 & PctDiscMM & PctDiscCH & ListPriceDiff & STORE\\\\\n",
       "\\hline\n",
       "\t CH       & 237      & 1        & 1.75     & 1.99     & 0.00     & 0.0      & 0        & 0        & 0.500000 & 1.99     & 1.75     &  0.24    & No       & 0.000000 & 0.000000 & 0.24     & 1       \\\\\n",
       "\t CH       & 239      & 1        & 1.75     & 1.99     & 0.00     & 0.3      & 0        & 1        & 0.600000 & 1.69     & 1.75     & -0.06    & No       & 0.150754 & 0.000000 & 0.24     & 1       \\\\\n",
       "\t CH       & 245      & 1        & 1.86     & 2.09     & 0.17     & 0.0      & 0        & 0        & 0.680000 & 2.09     & 1.69     &  0.40    & No       & 0.000000 & 0.091398 & 0.23     & 1       \\\\\n",
       "\t MM       & 227      & 1        & 1.69     & 1.69     & 0.00     & 0.0      & 0        & 0        & 0.400000 & 1.69     & 1.69     &  0.00    & No       & 0.000000 & 0.000000 & 0.00     & 1       \\\\\n",
       "\t CH       & 228      & 7        & 1.69     & 1.69     & 0.00     & 0.0      & 0        & 0        & 0.956535 & 1.69     & 1.69     &  0.00    & Yes      & 0.000000 & 0.000000 & 0.00     & 0       \\\\\n",
       "\t CH       & 230      & 7        & 1.69     & 1.99     & 0.00     & 0.0      & 0        & 1        & 0.965228 & 1.99     & 1.69     &  0.30    & Yes      & 0.000000 & 0.000000 & 0.30     & 0       \\\\\n",
       "\\end{tabular}\n"
      ],
      "text/markdown": [
       "\n",
       "Purchase | WeekofPurchase | StoreID | PriceCH | PriceMM | DiscCH | DiscMM | SpecialCH | SpecialMM | LoyalCH | SalePriceMM | SalePriceCH | PriceDiff | Store7 | PctDiscMM | PctDiscCH | ListPriceDiff | STORE | \n",
       "|---|---|---|---|---|---|\n",
       "| CH       | 237      | 1        | 1.75     | 1.99     | 0.00     | 0.0      | 0        | 0        | 0.500000 | 1.99     | 1.75     |  0.24    | No       | 0.000000 | 0.000000 | 0.24     | 1        | \n",
       "| CH       | 239      | 1        | 1.75     | 1.99     | 0.00     | 0.3      | 0        | 1        | 0.600000 | 1.69     | 1.75     | -0.06    | No       | 0.150754 | 0.000000 | 0.24     | 1        | \n",
       "| CH       | 245      | 1        | 1.86     | 2.09     | 0.17     | 0.0      | 0        | 0        | 0.680000 | 2.09     | 1.69     |  0.40    | No       | 0.000000 | 0.091398 | 0.23     | 1        | \n",
       "| MM       | 227      | 1        | 1.69     | 1.69     | 0.00     | 0.0      | 0        | 0        | 0.400000 | 1.69     | 1.69     |  0.00    | No       | 0.000000 | 0.000000 | 0.00     | 1        | \n",
       "| CH       | 228      | 7        | 1.69     | 1.69     | 0.00     | 0.0      | 0        | 0        | 0.956535 | 1.69     | 1.69     |  0.00    | Yes      | 0.000000 | 0.000000 | 0.00     | 0        | \n",
       "| CH       | 230      | 7        | 1.69     | 1.99     | 0.00     | 0.0      | 0        | 1        | 0.965228 | 1.99     | 1.69     |  0.30    | Yes      | 0.000000 | 0.000000 | 0.30     | 0        | \n",
       "\n",
       "\n"
      ],
      "text/plain": [
       "  Purchase WeekofPurchase StoreID PriceCH PriceMM DiscCH DiscMM SpecialCH\n",
       "1 CH       237            1       1.75    1.99    0.00   0.0    0        \n",
       "2 CH       239            1       1.75    1.99    0.00   0.3    0        \n",
       "3 CH       245            1       1.86    2.09    0.17   0.0    0        \n",
       "4 MM       227            1       1.69    1.69    0.00   0.0    0        \n",
       "5 CH       228            7       1.69    1.69    0.00   0.0    0        \n",
       "6 CH       230            7       1.69    1.99    0.00   0.0    0        \n",
       "  SpecialMM LoyalCH  SalePriceMM SalePriceCH PriceDiff Store7 PctDiscMM\n",
       "1 0         0.500000 1.99        1.75         0.24     No     0.000000 \n",
       "2 1         0.600000 1.69        1.75        -0.06     No     0.150754 \n",
       "3 0         0.680000 2.09        1.69         0.40     No     0.000000 \n",
       "4 0         0.400000 1.69        1.69         0.00     No     0.000000 \n",
       "5 0         0.956535 1.69        1.69         0.00     Yes    0.000000 \n",
       "6 1         0.965228 1.99        1.69         0.30     Yes    0.000000 \n",
       "  PctDiscCH ListPriceDiff STORE\n",
       "1 0.000000  0.24          1    \n",
       "2 0.000000  0.24          1    \n",
       "3 0.091398  0.23          1    \n",
       "4 0.000000  0.00          1    \n",
       "5 0.000000  0.00          0    \n",
       "6 0.000000  0.30          0    "
      ]
     },
     "metadata": {},
     "output_type": "display_data"
    }
   ],
   "source": [
    "attach(OJ)\n",
    "head(OJ)"
   ]
  },
  {
   "cell_type": "code",
   "execution_count": 17,
   "metadata": {},
   "outputs": [],
   "source": [
    "set.seed(2017)\n",
    "\n",
    "train=sample(1:nrow(OJ), 535)\n",
    "test=setdiff(1:nrow(OJ), train)"
   ]
  },
  {
   "cell_type": "markdown",
   "metadata": {},
   "source": [
    "(b) Fit a (linear) support vector classifier to the training data using `cost=1`, with Purchase as the response and the other variables as predictors. Use the `summary()` function to produce summary statistics about the SVM, and describe the results obtained."
   ]
  },
  {
   "cell_type": "code",
   "execution_count": 18,
   "metadata": {},
   "outputs": [
    {
     "data": {
      "text/plain": [
       "\n",
       "Call:\n",
       "svm(formula = Purchase ~ ., data = OJ.train, kernel = \"linear\", cost = 1)\n",
       "\n",
       "\n",
       "Parameters:\n",
       "   SVM-Type:  C-classification \n",
       " SVM-Kernel:  linear \n",
       "       cost:  1 \n",
       "      gamma:  0.05555556 \n",
       "\n",
       "Number of Support Vectors:  227\n",
       "\n",
       " ( 115 112 )\n",
       "\n",
       "\n",
       "Number of Classes:  2 \n",
       "\n",
       "Levels: \n",
       " CH MM\n",
       "\n",
       "\n"
      ]
     },
     "metadata": {},
     "output_type": "display_data"
    }
   ],
   "source": [
    "OJ.train=OJ[train,]\n",
    "OJ.test=OJ[-train,]\n",
    "svmfit=svm(Purchase~., data=OJ.train, kernel=\"linear\", cost=1)\n",
    "summary(svmfit)"
   ]
  },
  {
   "cell_type": "markdown",
   "metadata": {},
   "source": [
    "<span style=\"color:blue\">\n",
    "Gyu-Ho's Answer: This tells us that a linear kernel was used with cost parameter 1. And there are 227 support vectors: 115 in one class, 112 in the other class. Two classes are `CH` and `MM`.\n",
    "</span>"
   ]
  },
  {
   "cell_type": "markdown",
   "metadata": {},
   "source": [
    "(c) What are the training and test error rates?"
   ]
  },
  {
   "cell_type": "code",
   "execution_count": 19,
   "metadata": {},
   "outputs": [
    {
     "data": {
      "text/plain": [
       "       Truth\n",
       "Predict  CH  MM\n",
       "     CH 277  49\n",
       "     MM  41 168"
      ]
     },
     "metadata": {},
     "output_type": "display_data"
    },
    {
     "data": {
      "text/plain": [
       "       Truth\n",
       "Predict  CH  MM\n",
       "     CH 291  46\n",
       "     MM  44 154"
      ]
     },
     "metadata": {},
     "output_type": "display_data"
    }
   ],
   "source": [
    "OJ.train.pred=predict(svmfit)\n",
    "OJ.test.pred=predict(svmfit, newdata=OJ.test)\n",
    "OJ.train.table=table(Predict=OJ.train.pred, Truth=OJ.train$Purchase)\n",
    "OJ.test.table=table(Predict=OJ.test.pred, Truth=OJ.test$Purchase)\n",
    "OJ.train.table\n",
    "OJ.test.table"
   ]
  },
  {
   "cell_type": "code",
   "execution_count": 20,
   "metadata": {},
   "outputs": [
    {
     "data": {
      "text/html": [
       "0.168224299065421"
      ],
      "text/latex": [
       "0.168224299065421"
      ],
      "text/markdown": [
       "0.168224299065421"
      ],
      "text/plain": [
       "[1] 0.1682243"
      ]
     },
     "metadata": {},
     "output_type": "display_data"
    }
   ],
   "source": [
    "# training error rate\n",
    "(OJ.train.table[1,2]+OJ.train.table[2,1])/sum(OJ.train.table)"
   ]
  },
  {
   "cell_type": "code",
   "execution_count": 21,
   "metadata": {},
   "outputs": [
    {
     "data": {
      "text/html": [
       "0.168224299065421"
      ],
      "text/latex": [
       "0.168224299065421"
      ],
      "text/markdown": [
       "0.168224299065421"
      ],
      "text/plain": [
       "[1] 0.1682243"
      ]
     },
     "metadata": {},
     "output_type": "display_data"
    }
   ],
   "source": [
    "# test error rate\n",
    "(OJ.test.table[1,2]+OJ.test.table[2,1])/sum(OJ.test.table)"
   ]
  },
  {
   "cell_type": "markdown",
   "metadata": {},
   "source": [
    "(d) Use the `tune()` function to select an optimal cost. Consider values in the range 0.01 to 10."
   ]
  },
  {
   "cell_type": "code",
   "execution_count": 22,
   "metadata": {},
   "outputs": [
    {
     "data": {
      "text/plain": [
       "\n",
       "Call:\n",
       "best.tune(method = svm, train.x = Purchase ~ ., data = OJ, ranges = list(cost = costs), \n",
       "    kernel = \"linear\")\n",
       "\n",
       "\n",
       "Parameters:\n",
       "   SVM-Type:  C-classification \n",
       " SVM-Kernel:  linear \n",
       "       cost:  0.01 \n",
       "      gamma:  0.05555556 \n",
       "\n",
       "Number of Support Vectors:  560\n"
      ]
     },
     "metadata": {},
     "output_type": "display_data"
    }
   ],
   "source": [
    "# cost range\n",
    "costs=seq(.01, 10, 100)\n",
    "svmfit.tune=tune(svm,\n",
    "                 Purchase~.,\n",
    "                 data=OJ,\n",
    "                 kernel=\"linear\",\n",
    "                 ranges=list(cost=costs),\n",
    "                )\n",
    "\n",
    "svmfit.tune$best.model"
   ]
  },
  {
   "cell_type": "markdown",
   "metadata": {},
   "source": [
    "<span style=\"color:blue\">\n",
    "Gyu-Ho's Answer: 0.01 is already the optimal cost.\n",
    "</span>"
   ]
  },
  {
   "cell_type": "markdown",
   "metadata": {},
   "source": [
    "(e) Compute the training and test error rates using this new value for cost."
   ]
  },
  {
   "cell_type": "code",
   "execution_count": 23,
   "metadata": {
    "collapsed": true
   },
   "outputs": [],
   "source": [
    "OJ.train=OJ[train,]\n",
    "OJ.test=OJ[-train,]\n",
    "svmfit=svm(Purchase~., data=OJ.train, kernel=\"linear\", cost=0.01)\n",
    "\n",
    "OJ.train.pred=predict(svmfit)\n",
    "OJ.test.pred=predict(svmfit, newdata=OJ.test)\n",
    "OJ.train.table=table(Predict=OJ.train.pred, Truth=OJ.train$Purchase)\n",
    "OJ.test.table=table(Predict=OJ.test.pred, Truth=OJ.test$Purchase)"
   ]
  },
  {
   "cell_type": "code",
   "execution_count": 24,
   "metadata": {},
   "outputs": [
    {
     "data": {
      "text/html": [
       "0.175700934579439"
      ],
      "text/latex": [
       "0.175700934579439"
      ],
      "text/markdown": [
       "0.175700934579439"
      ],
      "text/plain": [
       "[1] 0.1757009"
      ]
     },
     "metadata": {},
     "output_type": "display_data"
    }
   ],
   "source": [
    "# training error rate\n",
    "(OJ.train.table[1,2]+OJ.train.table[2,1])/sum(OJ.train.table)"
   ]
  },
  {
   "cell_type": "code",
   "execution_count": 25,
   "metadata": {},
   "outputs": [
    {
     "data": {
      "text/html": [
       "0.164485981308411"
      ],
      "text/latex": [
       "0.164485981308411"
      ],
      "text/markdown": [
       "0.164485981308411"
      ],
      "text/plain": [
       "[1] 0.164486"
      ]
     },
     "metadata": {},
     "output_type": "display_data"
    }
   ],
   "source": [
    "# test error rate\n",
    "(OJ.test.table[1,2]+OJ.test.table[2,1])/sum(OJ.test.table)"
   ]
  },
  {
   "cell_type": "markdown",
   "metadata": {},
   "source": [
    "(f) Repeat parts (b) through (e) using a support vector machine with a radial kernel. Use the default value for gamma."
   ]
  },
  {
   "cell_type": "code",
   "execution_count": 26,
   "metadata": {},
   "outputs": [
    {
     "data": {
      "text/plain": [
       "\n",
       "Call:\n",
       "best.tune(method = svm, train.x = Purchase ~ ., data = OJ, ranges = list(cost = costs), \n",
       "    kernel = \"radial\")\n",
       "\n",
       "\n",
       "Parameters:\n",
       "   SVM-Type:  C-classification \n",
       " SVM-Kernel:  radial \n",
       "       cost:  0.01 \n",
       "      gamma:  0.05555556 \n",
       "\n",
       "Number of Support Vectors:  837\n"
      ]
     },
     "metadata": {},
     "output_type": "display_data"
    }
   ],
   "source": [
    "costs=seq(.01, 10, 100)\n",
    "svmfit.tune.radial=tune(svm,\n",
    "                        Purchase~.,\n",
    "                        data=OJ,\n",
    "                        kernel=\"radial\",\n",
    "                        ranges=list(cost=costs),\n",
    "                       )\n",
    "\n",
    "svmfit.tune.radial$best.model"
   ]
  },
  {
   "cell_type": "code",
   "execution_count": 27,
   "metadata": {
    "collapsed": true
   },
   "outputs": [],
   "source": [
    "OJ.radial.train.pred=predict(svmfit.tune.radial$best.model, OJ.train)\n",
    "OJ.radial.test.pred=predict(svmfit.tune.radial$best.model, OJ.test)\n",
    "\n",
    "OJ.radial.train.table=table(\n",
    "    Predict=OJ.radial.train.pred,\n",
    "    Truth=OJ.train$Purchase)\n",
    "\n",
    "OJ.radial.test.table=table(\n",
    "    Predict=OJ.radial.test.pred,\n",
    "    Truth=OJ.train$Purchase)"
   ]
  },
  {
   "cell_type": "code",
   "execution_count": 28,
   "metadata": {},
   "outputs": [
    {
     "data": {
      "text/plain": [
       "       Truth\n",
       "Predict  CH  MM\n",
       "     CH 318 217\n",
       "     MM   0   0"
      ]
     },
     "metadata": {},
     "output_type": "display_data"
    }
   ],
   "source": [
    "OJ.radial.train.table"
   ]
  },
  {
   "cell_type": "code",
   "execution_count": 29,
   "metadata": {},
   "outputs": [
    {
     "data": {
      "text/plain": [
       "       Truth\n",
       "Predict  CH  MM\n",
       "     CH 318 217\n",
       "     MM   0   0"
      ]
     },
     "metadata": {},
     "output_type": "display_data"
    }
   ],
   "source": [
    "OJ.radial.test.table # radial dose not fit well in this case"
   ]
  },
  {
   "cell_type": "markdown",
   "metadata": {},
   "source": [
    "(g) Repeat parts (b) through (e) using a support vector machine with a polynomial kernel of degree 2."
   ]
  },
  {
   "cell_type": "code",
   "execution_count": 30,
   "metadata": {},
   "outputs": [
    {
     "data": {
      "text/plain": [
       "       Truth\n",
       "Predict  CH  MM\n",
       "     CH 314 208\n",
       "     MM   4   9"
      ]
     },
     "metadata": {},
     "output_type": "display_data"
    },
    {
     "data": {
      "text/plain": [
       "       Truth\n",
       "Predict  CH  MM\n",
       "     CH 299 213\n",
       "     MM  19   4"
      ]
     },
     "metadata": {},
     "output_type": "display_data"
    }
   ],
   "source": [
    "costs=seq(.01, 10, 100)\n",
    "svmfit.tune.poly=tune(svm,\n",
    "                      Purchase~.,\n",
    "                      data=OJ,\n",
    "                      kernel=\"polynomial\",\n",
    "                      degree=2,\n",
    "                      ranges=list(cost=costs),\n",
    "                     )\n",
    "\n",
    "OJ.poly.train.pred=predict(svmfit.tune.poly$best.model, OJ.train)\n",
    "OJ.poly.test.pred=predict(svmfit.tune.poly$best.model, OJ.test)\n",
    "\n",
    "OJ.poly.train.table=table(\n",
    "    Predict=OJ.poly.train.pred,\n",
    "    Truth=OJ.train$Purchase)\n",
    "\n",
    "OJ.poly.test.table=table(\n",
    "    Predict=OJ.poly.test.pred,\n",
    "    Truth=OJ.train$Purchase)\n",
    "\n",
    "# polynomial approach does not fit well either\n",
    "OJ.poly.train.table\n",
    "OJ.poly.test.table"
   ]
  },
  {
   "cell_type": "markdown",
   "metadata": {},
   "source": [
    "(h) Repeat parts (b) through (e) using a linear support vector machine, applied to an expanded feature set consisting of linear and all possible quadratic terms for the predictors. How does this compare to the polynomial kernel both conceptually and in terms of the results for this problem?"
   ]
  },
  {
   "cell_type": "code",
   "execution_count": 41,
   "metadata": {},
   "outputs": [
    {
     "data": {
      "text/html": [
       "<ol class=list-inline>\n",
       "\t<li>'Purchase'</li>\n",
       "\t<li>'WeekofPurchase'</li>\n",
       "\t<li>'StoreID'</li>\n",
       "\t<li>'PriceCH'</li>\n",
       "\t<li>'PriceMM'</li>\n",
       "\t<li>'DiscCH'</li>\n",
       "\t<li>'DiscMM'</li>\n",
       "\t<li>'SpecialCH'</li>\n",
       "\t<li>'SpecialMM'</li>\n",
       "\t<li>'LoyalCH'</li>\n",
       "\t<li>'SalePriceMM'</li>\n",
       "\t<li>'SalePriceCH'</li>\n",
       "\t<li>'PriceDiff'</li>\n",
       "\t<li>'Store7'</li>\n",
       "\t<li>'PctDiscMM'</li>\n",
       "\t<li>'PctDiscCH'</li>\n",
       "\t<li>'ListPriceDiff'</li>\n",
       "\t<li>'STORE'</li>\n",
       "</ol>\n"
      ],
      "text/latex": [
       "\\begin{enumerate*}\n",
       "\\item 'Purchase'\n",
       "\\item 'WeekofPurchase'\n",
       "\\item 'StoreID'\n",
       "\\item 'PriceCH'\n",
       "\\item 'PriceMM'\n",
       "\\item 'DiscCH'\n",
       "\\item 'DiscMM'\n",
       "\\item 'SpecialCH'\n",
       "\\item 'SpecialMM'\n",
       "\\item 'LoyalCH'\n",
       "\\item 'SalePriceMM'\n",
       "\\item 'SalePriceCH'\n",
       "\\item 'PriceDiff'\n",
       "\\item 'Store7'\n",
       "\\item 'PctDiscMM'\n",
       "\\item 'PctDiscCH'\n",
       "\\item 'ListPriceDiff'\n",
       "\\item 'STORE'\n",
       "\\end{enumerate*}\n"
      ],
      "text/markdown": [
       "1. 'Purchase'\n",
       "2. 'WeekofPurchase'\n",
       "3. 'StoreID'\n",
       "4. 'PriceCH'\n",
       "5. 'PriceMM'\n",
       "6. 'DiscCH'\n",
       "7. 'DiscMM'\n",
       "8. 'SpecialCH'\n",
       "9. 'SpecialMM'\n",
       "10. 'LoyalCH'\n",
       "11. 'SalePriceMM'\n",
       "12. 'SalePriceCH'\n",
       "13. 'PriceDiff'\n",
       "14. 'Store7'\n",
       "15. 'PctDiscMM'\n",
       "16. 'PctDiscCH'\n",
       "17. 'ListPriceDiff'\n",
       "18. 'STORE'\n",
       "\n",
       "\n"
      ],
      "text/plain": [
       " [1] \"Purchase\"       \"WeekofPurchase\" \"StoreID\"        \"PriceCH\"       \n",
       " [5] \"PriceMM\"        \"DiscCH\"         \"DiscMM\"         \"SpecialCH\"     \n",
       " [9] \"SpecialMM\"      \"LoyalCH\"        \"SalePriceMM\"    \"SalePriceCH\"   \n",
       "[13] \"PriceDiff\"      \"Store7\"         \"PctDiscMM\"      \"PctDiscCH\"     \n",
       "[17] \"ListPriceDiff\"  \"STORE\"         "
      ]
     },
     "metadata": {},
     "output_type": "display_data"
    }
   ],
   "source": [
    "names(OJ)"
   ]
  },
  {
   "cell_type": "code",
   "execution_count": 51,
   "metadata": {},
   "outputs": [
    {
     "data": {
      "text/plain": [
       "       Truth\n",
       "Predict  CH  MM\n",
       "     CH 285  69\n",
       "     MM  33 148"
      ]
     },
     "metadata": {},
     "output_type": "display_data"
    },
    {
     "data": {
      "text/plain": [
       "       Truth\n",
       "Predict  CH  MM\n",
       "     CH 207 154\n",
       "     MM 111  63"
      ]
     },
     "metadata": {},
     "output_type": "display_data"
    }
   ],
   "source": [
    "costs=seq(.01, 10, 100)\n",
    "svmfit.tune.all=tune(svm,\n",
    "                      Purchase~poly(WeekofPurchase,2)\n",
    "                     +poly(StoreID,2)\n",
    "                     +poly(PriceCH,2)\n",
    "                     +poly(PriceMM,2)\n",
    "                     +poly(DiscCH,2)\n",
    "                     +poly(DiscMM,2)\n",
    "                     +poly(LoyalCH,2)\n",
    "                     +poly(SalePriceMM,2)\n",
    "                     +poly(SalePriceCH,2)\n",
    "                     +poly(PriceDiff,2)\n",
    "                     +poly(PctDiscMM,2)\n",
    "                     +poly(PctDiscCH,2)\n",
    "                     +poly(ListPriceDiff,2)\n",
    "                     +poly(STORE,2),\n",
    "                      data=OJ,\n",
    "                      kernel=\"linear\",\n",
    "                      degree=2,\n",
    "                      ranges=list(cost=costs),\n",
    "                     )\n",
    "\n",
    "OJ.all.train.pred=predict(svmfit.tune.all$best.model, OJ.train)\n",
    "OJ.all.test.pred=predict(svmfit.tune.all$best.model, OJ.test)\n",
    "\n",
    "OJ.all.train.table=table(\n",
    "    Predict=OJ.all.train.pred,\n",
    "    Truth=OJ.train$Purchase)\n",
    "\n",
    "OJ.all.test.table=table(\n",
    "    Predict=OJ.all.test.pred,\n",
    "    Truth=OJ.train$Purchase)\n",
    "\n",
    "# linear approach with all possible quadratic terms does not fit well either\n",
    "OJ.all.train.table\n",
    "OJ.all.test.table"
   ]
  },
  {
   "cell_type": "markdown",
   "metadata": {},
   "source": [
    "<span style=\"color:blue\">\n",
    "Gyu-Ho's Answer: Linear kernel above just adds quadratic terms with existing linear ones. However, decision boundary is still the linear. Polynomial kernel uses polynomial decision boundary. Since linear model performs well in this data, linear kernel with quadratic terms still performs better than polynomial kernel with polynomial decision boundary.\n",
    "</span>"
   ]
  },
  {
   "cell_type": "markdown",
   "metadata": {},
   "source": [
    "(i) Overall, which approach seems to give the best results on this data?"
   ]
  },
  {
   "cell_type": "markdown",
   "metadata": {},
   "source": [
    "<span style=\"color:blue\">\n",
    "Gyu-Ho's Answer: Linear support vector classifier gives the best results (lowest test error rate).\n",
    "</span>"
   ]
  },
  {
   "cell_type": "markdown",
   "metadata": {},
   "source": [
    "###### Q4.\n",
    "\n",
    "In this problem we will explore K-means and hierarchical clustering on a wheat seed data set. The data file `SeedData.csv` is available on the class website. There are `n = 210` seeds with `p = 7` real valued features for each observation. The data set is from Lichman, M. (2013) from the UCI Machine Learning Repository 1. You can find a full description of the data at http://archive.ics.uci.edu/ml/datasets/seeds#."
   ]
  },
  {
   "cell_type": "code",
   "execution_count": 60,
   "metadata": {},
   "outputs": [
    {
     "data": {
      "text/html": [
       "<table>\n",
       "<thead><tr><th scope=col>V1</th><th scope=col>V2</th><th scope=col>V3</th><th scope=col>V4</th><th scope=col>V5</th><th scope=col>V6</th><th scope=col>V7</th><th scope=col>V8</th></tr></thead>\n",
       "<tbody>\n",
       "\t<tr><td>15.26 </td><td>14.84 </td><td>0.8710</td><td>5.763 </td><td>3.312 </td><td>2.221 </td><td>5.220 </td><td>1     </td></tr>\n",
       "\t<tr><td>14.88 </td><td>14.57 </td><td>0.8811</td><td>5.554 </td><td>3.333 </td><td>1.018 </td><td>4.956 </td><td>1     </td></tr>\n",
       "\t<tr><td>14.29 </td><td>14.09 </td><td>0.9050</td><td>5.291 </td><td>3.337 </td><td>2.699 </td><td>4.825 </td><td>1     </td></tr>\n",
       "\t<tr><td>13.84 </td><td>13.94 </td><td>0.8955</td><td>5.324 </td><td>3.379 </td><td>2.259 </td><td>4.805 </td><td>1     </td></tr>\n",
       "\t<tr><td>16.14 </td><td>14.99 </td><td>0.9034</td><td>5.658 </td><td>3.562 </td><td>1.355 </td><td>5.175 </td><td>1     </td></tr>\n",
       "\t<tr><td>14.38 </td><td>14.21 </td><td>0.8951</td><td>5.386 </td><td>3.312 </td><td>2.462 </td><td>4.956 </td><td>1     </td></tr>\n",
       "</tbody>\n",
       "</table>\n"
      ],
      "text/latex": [
       "\\begin{tabular}{r|llllllll}\n",
       " V1 & V2 & V3 & V4 & V5 & V6 & V7 & V8\\\\\n",
       "\\hline\n",
       "\t 15.26  & 14.84  & 0.8710 & 5.763  & 3.312  & 2.221  & 5.220  & 1     \\\\\n",
       "\t 14.88  & 14.57  & 0.8811 & 5.554  & 3.333  & 1.018  & 4.956  & 1     \\\\\n",
       "\t 14.29  & 14.09  & 0.9050 & 5.291  & 3.337  & 2.699  & 4.825  & 1     \\\\\n",
       "\t 13.84  & 13.94  & 0.8955 & 5.324  & 3.379  & 2.259  & 4.805  & 1     \\\\\n",
       "\t 16.14  & 14.99  & 0.9034 & 5.658  & 3.562  & 1.355  & 5.175  & 1     \\\\\n",
       "\t 14.38  & 14.21  & 0.8951 & 5.386  & 3.312  & 2.462  & 4.956  & 1     \\\\\n",
       "\\end{tabular}\n"
      ],
      "text/markdown": [
       "\n",
       "V1 | V2 | V3 | V4 | V5 | V6 | V7 | V8 | \n",
       "|---|---|---|---|---|---|\n",
       "| 15.26  | 14.84  | 0.8710 | 5.763  | 3.312  | 2.221  | 5.220  | 1      | \n",
       "| 14.88  | 14.57  | 0.8811 | 5.554  | 3.333  | 1.018  | 4.956  | 1      | \n",
       "| 14.29  | 14.09  | 0.9050 | 5.291  | 3.337  | 2.699  | 4.825  | 1      | \n",
       "| 13.84  | 13.94  | 0.8955 | 5.324  | 3.379  | 2.259  | 4.805  | 1      | \n",
       "| 16.14  | 14.99  | 0.9034 | 5.658  | 3.562  | 1.355  | 5.175  | 1      | \n",
       "| 14.38  | 14.21  | 0.8951 | 5.386  | 3.312  | 2.462  | 4.956  | 1      | \n",
       "\n",
       "\n"
      ],
      "text/plain": [
       "  V1    V2    V3     V4    V5    V6    V7    V8\n",
       "1 15.26 14.84 0.8710 5.763 3.312 2.221 5.220 1 \n",
       "2 14.88 14.57 0.8811 5.554 3.333 1.018 4.956 1 \n",
       "3 14.29 14.09 0.9050 5.291 3.337 2.699 4.825 1 \n",
       "4 13.84 13.94 0.8955 5.324 3.379 2.259 4.805 1 \n",
       "5 16.14 14.99 0.9034 5.658 3.562 1.355 5.175 1 \n",
       "6 14.38 14.21 0.8951 5.386 3.312 2.462 4.956 1 "
      ]
     },
     "metadata": {},
     "output_type": "display_data"
    }
   ],
   "source": [
    "seeds=read.table(\"hw-4-seeds_dataset.txt\")\n",
    "head(seeds)\n",
    "\n",
    "seeds.labels=seeds[,8]\n",
    "seeds.data=seeds[,1:7]"
   ]
  },
  {
   "cell_type": "markdown",
   "metadata": {},
   "source": [
    "(a) Set `set.seed(2017)`. Using the `kmeans()` function, perform K-means clustering (using all 7 features) with `K = 3` and 20 random starting positions. Plot the data in terms of the variables in the 2nd and 6th columns, with the points colored according to the clusters you just obtained."
   ]
  },
  {
   "cell_type": "code",
   "execution_count": 65,
   "metadata": {},
   "outputs": [
    {
     "data": {
      "text/html": [
       "<ol class=list-inline>\n",
       "\t<li>1</li>\n",
       "\t<li>1</li>\n",
       "\t<li>1</li>\n",
       "\t<li>1</li>\n",
       "\t<li>1</li>\n",
       "\t<li>1</li>\n",
       "\t<li>1</li>\n",
       "\t<li>1</li>\n",
       "\t<li>1</li>\n",
       "\t<li>1</li>\n",
       "\t<li>1</li>\n",
       "\t<li>1</li>\n",
       "\t<li>1</li>\n",
       "\t<li>1</li>\n",
       "\t<li>1</li>\n",
       "\t<li>1</li>\n",
       "\t<li>3</li>\n",
       "\t<li>1</li>\n",
       "\t<li>1</li>\n",
       "\t<li>3</li>\n",
       "\t<li>1</li>\n",
       "\t<li>1</li>\n",
       "\t<li>1</li>\n",
       "\t<li>1</li>\n",
       "\t<li>1</li>\n",
       "\t<li>1</li>\n",
       "\t<li>3</li>\n",
       "\t<li>1</li>\n",
       "\t<li>1</li>\n",
       "\t<li>1</li>\n",
       "\t<li>1</li>\n",
       "\t<li>1</li>\n",
       "\t<li>1</li>\n",
       "\t<li>1</li>\n",
       "\t<li>1</li>\n",
       "\t<li>1</li>\n",
       "\t<li>1</li>\n",
       "\t<li>2</li>\n",
       "\t<li>1</li>\n",
       "\t<li>3</li>\n",
       "\t<li>1</li>\n",
       "\t<li>1</li>\n",
       "\t<li>1</li>\n",
       "\t<li>1</li>\n",
       "\t<li>1</li>\n",
       "\t<li>1</li>\n",
       "\t<li>1</li>\n",
       "\t<li>1</li>\n",
       "\t<li>1</li>\n",
       "\t<li>1</li>\n",
       "\t<li>1</li>\n",
       "\t<li>1</li>\n",
       "\t<li>1</li>\n",
       "\t<li>1</li>\n",
       "\t<li>1</li>\n",
       "\t<li>1</li>\n",
       "\t<li>1</li>\n",
       "\t<li>1</li>\n",
       "\t<li>1</li>\n",
       "\t<li>1</li>\n",
       "\t<li>3</li>\n",
       "\t<li>3</li>\n",
       "\t<li>3</li>\n",
       "\t<li>3</li>\n",
       "\t<li>1</li>\n",
       "\t<li>1</li>\n",
       "\t<li>1</li>\n",
       "\t<li>1</li>\n",
       "\t<li>1</li>\n",
       "\t<li>3</li>\n",
       "\t<li>2</li>\n",
       "\t<li>2</li>\n",
       "\t<li>2</li>\n",
       "\t<li>2</li>\n",
       "\t<li>2</li>\n",
       "\t<li>2</li>\n",
       "\t<li>2</li>\n",
       "\t<li>2</li>\n",
       "\t<li>2</li>\n",
       "\t<li>2</li>\n",
       "\t<li>2</li>\n",
       "\t<li>2</li>\n",
       "\t<li>2</li>\n",
       "\t<li>2</li>\n",
       "\t<li>2</li>\n",
       "\t<li>2</li>\n",
       "\t<li>2</li>\n",
       "\t<li>2</li>\n",
       "\t<li>2</li>\n",
       "\t<li>2</li>\n",
       "\t<li>2</li>\n",
       "\t<li>2</li>\n",
       "\t<li>2</li>\n",
       "\t<li>2</li>\n",
       "\t<li>2</li>\n",
       "\t<li>2</li>\n",
       "\t<li>2</li>\n",
       "\t<li>2</li>\n",
       "\t<li>2</li>\n",
       "\t<li>2</li>\n",
       "\t<li>1</li>\n",
       "\t<li>2</li>\n",
       "\t<li>2</li>\n",
       "\t<li>2</li>\n",
       "\t<li>2</li>\n",
       "\t<li>2</li>\n",
       "\t<li>2</li>\n",
       "\t<li>2</li>\n",
       "\t<li>2</li>\n",
       "\t<li>2</li>\n",
       "\t<li>2</li>\n",
       "\t<li>2</li>\n",
       "\t<li>2</li>\n",
       "\t<li>2</li>\n",
       "\t<li>2</li>\n",
       "\t<li>2</li>\n",
       "\t<li>2</li>\n",
       "\t<li>2</li>\n",
       "\t<li>2</li>\n",
       "\t<li>2</li>\n",
       "\t<li>2</li>\n",
       "\t<li>2</li>\n",
       "\t<li>1</li>\n",
       "\t<li>2</li>\n",
       "\t<li>1</li>\n",
       "\t<li>2</li>\n",
       "\t<li>2</li>\n",
       "\t<li>2</li>\n",
       "\t<li>2</li>\n",
       "\t<li>2</li>\n",
       "\t<li>2</li>\n",
       "\t<li>2</li>\n",
       "\t<li>1</li>\n",
       "\t<li>1</li>\n",
       "\t<li>1</li>\n",
       "\t<li>1</li>\n",
       "\t<li>2</li>\n",
       "\t<li>1</li>\n",
       "\t<li>1</li>\n",
       "\t<li>1</li>\n",
       "\t<li>3</li>\n",
       "\t<li>3</li>\n",
       "\t<li>3</li>\n",
       "\t<li>3</li>\n",
       "\t<li>3</li>\n",
       "\t<li>3</li>\n",
       "\t<li>3</li>\n",
       "\t<li>3</li>\n",
       "\t<li>3</li>\n",
       "\t<li>3</li>\n",
       "\t<li>3</li>\n",
       "\t<li>3</li>\n",
       "\t<li>3</li>\n",
       "\t<li>3</li>\n",
       "\t<li>3</li>\n",
       "\t<li>3</li>\n",
       "\t<li>3</li>\n",
       "\t<li>3</li>\n",
       "\t<li>3</li>\n",
       "\t<li>3</li>\n",
       "\t<li>3</li>\n",
       "\t<li>3</li>\n",
       "\t<li>3</li>\n",
       "\t<li>3</li>\n",
       "\t<li>3</li>\n",
       "\t<li>3</li>\n",
       "\t<li>3</li>\n",
       "\t<li>3</li>\n",
       "\t<li>3</li>\n",
       "\t<li>3</li>\n",
       "\t<li>3</li>\n",
       "\t<li>3</li>\n",
       "\t<li>3</li>\n",
       "\t<li>3</li>\n",
       "\t<li>3</li>\n",
       "\t<li>3</li>\n",
       "\t<li>3</li>\n",
       "\t<li>3</li>\n",
       "\t<li>3</li>\n",
       "\t<li>1</li>\n",
       "\t<li>3</li>\n",
       "\t<li>3</li>\n",
       "\t<li>3</li>\n",
       "\t<li>3</li>\n",
       "\t<li>3</li>\n",
       "\t<li>3</li>\n",
       "\t<li>3</li>\n",
       "\t<li>3</li>\n",
       "\t<li>3</li>\n",
       "\t<li>3</li>\n",
       "\t<li>3</li>\n",
       "\t<li>3</li>\n",
       "\t<li>3</li>\n",
       "\t<li>3</li>\n",
       "\t<li>3</li>\n",
       "\t<li>3</li>\n",
       "\t<li>3</li>\n",
       "\t<li>3</li>\n",
       "\t<li>3</li>\n",
       "\t<li>3</li>\n",
       "\t<li>3</li>\n",
       "\t<li>1</li>\n",
       "\t<li>3</li>\n",
       "\t<li>3</li>\n",
       "\t<li>3</li>\n",
       "\t<li>3</li>\n",
       "\t<li>3</li>\n",
       "\t<li>3</li>\n",
       "\t<li>3</li>\n",
       "\t<li>3</li>\n",
       "</ol>\n"
      ],
      "text/latex": [
       "\\begin{enumerate*}\n",
       "\\item 1\n",
       "\\item 1\n",
       "\\item 1\n",
       "\\item 1\n",
       "\\item 1\n",
       "\\item 1\n",
       "\\item 1\n",
       "\\item 1\n",
       "\\item 1\n",
       "\\item 1\n",
       "\\item 1\n",
       "\\item 1\n",
       "\\item 1\n",
       "\\item 1\n",
       "\\item 1\n",
       "\\item 1\n",
       "\\item 3\n",
       "\\item 1\n",
       "\\item 1\n",
       "\\item 3\n",
       "\\item 1\n",
       "\\item 1\n",
       "\\item 1\n",
       "\\item 1\n",
       "\\item 1\n",
       "\\item 1\n",
       "\\item 3\n",
       "\\item 1\n",
       "\\item 1\n",
       "\\item 1\n",
       "\\item 1\n",
       "\\item 1\n",
       "\\item 1\n",
       "\\item 1\n",
       "\\item 1\n",
       "\\item 1\n",
       "\\item 1\n",
       "\\item 2\n",
       "\\item 1\n",
       "\\item 3\n",
       "\\item 1\n",
       "\\item 1\n",
       "\\item 1\n",
       "\\item 1\n",
       "\\item 1\n",
       "\\item 1\n",
       "\\item 1\n",
       "\\item 1\n",
       "\\item 1\n",
       "\\item 1\n",
       "\\item 1\n",
       "\\item 1\n",
       "\\item 1\n",
       "\\item 1\n",
       "\\item 1\n",
       "\\item 1\n",
       "\\item 1\n",
       "\\item 1\n",
       "\\item 1\n",
       "\\item 1\n",
       "\\item 3\n",
       "\\item 3\n",
       "\\item 3\n",
       "\\item 3\n",
       "\\item 1\n",
       "\\item 1\n",
       "\\item 1\n",
       "\\item 1\n",
       "\\item 1\n",
       "\\item 3\n",
       "\\item 2\n",
       "\\item 2\n",
       "\\item 2\n",
       "\\item 2\n",
       "\\item 2\n",
       "\\item 2\n",
       "\\item 2\n",
       "\\item 2\n",
       "\\item 2\n",
       "\\item 2\n",
       "\\item 2\n",
       "\\item 2\n",
       "\\item 2\n",
       "\\item 2\n",
       "\\item 2\n",
       "\\item 2\n",
       "\\item 2\n",
       "\\item 2\n",
       "\\item 2\n",
       "\\item 2\n",
       "\\item 2\n",
       "\\item 2\n",
       "\\item 2\n",
       "\\item 2\n",
       "\\item 2\n",
       "\\item 2\n",
       "\\item 2\n",
       "\\item 2\n",
       "\\item 2\n",
       "\\item 2\n",
       "\\item 1\n",
       "\\item 2\n",
       "\\item 2\n",
       "\\item 2\n",
       "\\item 2\n",
       "\\item 2\n",
       "\\item 2\n",
       "\\item 2\n",
       "\\item 2\n",
       "\\item 2\n",
       "\\item 2\n",
       "\\item 2\n",
       "\\item 2\n",
       "\\item 2\n",
       "\\item 2\n",
       "\\item 2\n",
       "\\item 2\n",
       "\\item 2\n",
       "\\item 2\n",
       "\\item 2\n",
       "\\item 2\n",
       "\\item 2\n",
       "\\item 1\n",
       "\\item 2\n",
       "\\item 1\n",
       "\\item 2\n",
       "\\item 2\n",
       "\\item 2\n",
       "\\item 2\n",
       "\\item 2\n",
       "\\item 2\n",
       "\\item 2\n",
       "\\item 1\n",
       "\\item 1\n",
       "\\item 1\n",
       "\\item 1\n",
       "\\item 2\n",
       "\\item 1\n",
       "\\item 1\n",
       "\\item 1\n",
       "\\item 3\n",
       "\\item 3\n",
       "\\item 3\n",
       "\\item 3\n",
       "\\item 3\n",
       "\\item 3\n",
       "\\item 3\n",
       "\\item 3\n",
       "\\item 3\n",
       "\\item 3\n",
       "\\item 3\n",
       "\\item 3\n",
       "\\item 3\n",
       "\\item 3\n",
       "\\item 3\n",
       "\\item 3\n",
       "\\item 3\n",
       "\\item 3\n",
       "\\item 3\n",
       "\\item 3\n",
       "\\item 3\n",
       "\\item 3\n",
       "\\item 3\n",
       "\\item 3\n",
       "\\item 3\n",
       "\\item 3\n",
       "\\item 3\n",
       "\\item 3\n",
       "\\item 3\n",
       "\\item 3\n",
       "\\item 3\n",
       "\\item 3\n",
       "\\item 3\n",
       "\\item 3\n",
       "\\item 3\n",
       "\\item 3\n",
       "\\item 3\n",
       "\\item 3\n",
       "\\item 3\n",
       "\\item 1\n",
       "\\item 3\n",
       "\\item 3\n",
       "\\item 3\n",
       "\\item 3\n",
       "\\item 3\n",
       "\\item 3\n",
       "\\item 3\n",
       "\\item 3\n",
       "\\item 3\n",
       "\\item 3\n",
       "\\item 3\n",
       "\\item 3\n",
       "\\item 3\n",
       "\\item 3\n",
       "\\item 3\n",
       "\\item 3\n",
       "\\item 3\n",
       "\\item 3\n",
       "\\item 3\n",
       "\\item 3\n",
       "\\item 3\n",
       "\\item 1\n",
       "\\item 3\n",
       "\\item 3\n",
       "\\item 3\n",
       "\\item 3\n",
       "\\item 3\n",
       "\\item 3\n",
       "\\item 3\n",
       "\\item 3\n",
       "\\end{enumerate*}\n"
      ],
      "text/markdown": [
       "1. 1\n",
       "2. 1\n",
       "3. 1\n",
       "4. 1\n",
       "5. 1\n",
       "6. 1\n",
       "7. 1\n",
       "8. 1\n",
       "9. 1\n",
       "10. 1\n",
       "11. 1\n",
       "12. 1\n",
       "13. 1\n",
       "14. 1\n",
       "15. 1\n",
       "16. 1\n",
       "17. 3\n",
       "18. 1\n",
       "19. 1\n",
       "20. 3\n",
       "21. 1\n",
       "22. 1\n",
       "23. 1\n",
       "24. 1\n",
       "25. 1\n",
       "26. 1\n",
       "27. 3\n",
       "28. 1\n",
       "29. 1\n",
       "30. 1\n",
       "31. 1\n",
       "32. 1\n",
       "33. 1\n",
       "34. 1\n",
       "35. 1\n",
       "36. 1\n",
       "37. 1\n",
       "38. 2\n",
       "39. 1\n",
       "40. 3\n",
       "41. 1\n",
       "42. 1\n",
       "43. 1\n",
       "44. 1\n",
       "45. 1\n",
       "46. 1\n",
       "47. 1\n",
       "48. 1\n",
       "49. 1\n",
       "50. 1\n",
       "51. 1\n",
       "52. 1\n",
       "53. 1\n",
       "54. 1\n",
       "55. 1\n",
       "56. 1\n",
       "57. 1\n",
       "58. 1\n",
       "59. 1\n",
       "60. 1\n",
       "61. 3\n",
       "62. 3\n",
       "63. 3\n",
       "64. 3\n",
       "65. 1\n",
       "66. 1\n",
       "67. 1\n",
       "68. 1\n",
       "69. 1\n",
       "70. 3\n",
       "71. 2\n",
       "72. 2\n",
       "73. 2\n",
       "74. 2\n",
       "75. 2\n",
       "76. 2\n",
       "77. 2\n",
       "78. 2\n",
       "79. 2\n",
       "80. 2\n",
       "81. 2\n",
       "82. 2\n",
       "83. 2\n",
       "84. 2\n",
       "85. 2\n",
       "86. 2\n",
       "87. 2\n",
       "88. 2\n",
       "89. 2\n",
       "90. 2\n",
       "91. 2\n",
       "92. 2\n",
       "93. 2\n",
       "94. 2\n",
       "95. 2\n",
       "96. 2\n",
       "97. 2\n",
       "98. 2\n",
       "99. 2\n",
       "100. 2\n",
       "101. 1\n",
       "102. 2\n",
       "103. 2\n",
       "104. 2\n",
       "105. 2\n",
       "106. 2\n",
       "107. 2\n",
       "108. 2\n",
       "109. 2\n",
       "110. 2\n",
       "111. 2\n",
       "112. 2\n",
       "113. 2\n",
       "114. 2\n",
       "115. 2\n",
       "116. 2\n",
       "117. 2\n",
       "118. 2\n",
       "119. 2\n",
       "120. 2\n",
       "121. 2\n",
       "122. 2\n",
       "123. 1\n",
       "124. 2\n",
       "125. 1\n",
       "126. 2\n",
       "127. 2\n",
       "128. 2\n",
       "129. 2\n",
       "130. 2\n",
       "131. 2\n",
       "132. 2\n",
       "133. 1\n",
       "134. 1\n",
       "135. 1\n",
       "136. 1\n",
       "137. 2\n",
       "138. 1\n",
       "139. 1\n",
       "140. 1\n",
       "141. 3\n",
       "142. 3\n",
       "143. 3\n",
       "144. 3\n",
       "145. 3\n",
       "146. 3\n",
       "147. 3\n",
       "148. 3\n",
       "149. 3\n",
       "150. 3\n",
       "151. 3\n",
       "152. 3\n",
       "153. 3\n",
       "154. 3\n",
       "155. 3\n",
       "156. 3\n",
       "157. 3\n",
       "158. 3\n",
       "159. 3\n",
       "160. 3\n",
       "161. 3\n",
       "162. 3\n",
       "163. 3\n",
       "164. 3\n",
       "165. 3\n",
       "166. 3\n",
       "167. 3\n",
       "168. 3\n",
       "169. 3\n",
       "170. 3\n",
       "171. 3\n",
       "172. 3\n",
       "173. 3\n",
       "174. 3\n",
       "175. 3\n",
       "176. 3\n",
       "177. 3\n",
       "178. 3\n",
       "179. 3\n",
       "180. 1\n",
       "181. 3\n",
       "182. 3\n",
       "183. 3\n",
       "184. 3\n",
       "185. 3\n",
       "186. 3\n",
       "187. 3\n",
       "188. 3\n",
       "189. 3\n",
       "190. 3\n",
       "191. 3\n",
       "192. 3\n",
       "193. 3\n",
       "194. 3\n",
       "195. 3\n",
       "196. 3\n",
       "197. 3\n",
       "198. 3\n",
       "199. 3\n",
       "200. 3\n",
       "201. 3\n",
       "202. 1\n",
       "203. 3\n",
       "204. 3\n",
       "205. 3\n",
       "206. 3\n",
       "207. 3\n",
       "208. 3\n",
       "209. 3\n",
       "210. 3\n",
       "\n",
       "\n"
      ],
      "text/plain": [
       "  [1] 1 1 1 1 1 1 1 1 1 1 1 1 1 1 1 1 3 1 1 3 1 1 1 1 1 1 3 1 1 1 1 1 1 1 1 1 1\n",
       " [38] 2 1 3 1 1 1 1 1 1 1 1 1 1 1 1 1 1 1 1 1 1 1 1 3 3 3 3 1 1 1 1 1 3 2 2 2 2\n",
       " [75] 2 2 2 2 2 2 2 2 2 2 2 2 2 2 2 2 2 2 2 2 2 2 2 2 2 2 1 2 2 2 2 2 2 2 2 2 2\n",
       "[112] 2 2 2 2 2 2 2 2 2 2 2 1 2 1 2 2 2 2 2 2 2 1 1 1 1 2 1 1 1 3 3 3 3 3 3 3 3\n",
       "[149] 3 3 3 3 3 3 3 3 3 3 3 3 3 3 3 3 3 3 3 3 3 3 3 3 3 3 3 3 3 3 3 1 3 3 3 3 3\n",
       "[186] 3 3 3 3 3 3 3 3 3 3 3 3 3 3 3 3 1 3 3 3 3 3 3 3 3"
      ]
     },
     "metadata": {},
     "output_type": "display_data"
    }
   ],
   "source": [
    "set.seed(2017)\n",
    "km.out=kmeans(seeds.data,3,nstart=20)\n",
    "km.out$cluster"
   ]
  },
  {
   "cell_type": "code",
   "execution_count": 66,
   "metadata": {},
   "outputs": [
    {
     "data": {
      "image/png": "[encoded data removed]",
      "text/plain": [
       "plot without title"
      ]
     },
     "metadata": {},
     "output_type": "display_data"
    }
   ],
   "source": [
    "plot(seeds.data[,2:6], col=(km.out$cluster+1), main=\"K-means Clustering with K=3\", pch=20, cex=2)"
   ]
  },
  {
   "cell_type": "markdown",
   "metadata": {},
   "source": [
    "(b) Using the `hclust()` function, perform single linkage hierarchical clustering on the data. Plot the corresponding dendrogram."
   ]
  },
  {
   "cell_type": "code",
   "execution_count": 67,
   "metadata": {},
   "outputs": [
    {
     "data": {
      "image/png": "[encoded data removed]",
      "text/plain": [
       "Plot with title \"Single Linkage\""
      ]
     },
     "metadata": {},
     "output_type": "display_data"
    }
   ],
   "source": [
    "hc.single=hclust(dist(seeds.data), method=\"single\")\n",
    "plot(hc.single, main=\"Single Linkage\")"
   ]
  },
  {
   "cell_type": "markdown",
   "metadata": {},
   "source": [
    "(c) Using the `cutree()` function, make a cut on the tree that splits the data into 3 clusters. Plot the data again in terms of the variables in the 2nd and 6th columns, coloring the points by the clusters you just obtained. How does it compare to the result you got using k-means clustering?"
   ]
  },
  {
   "cell_type": "markdown",
   "metadata": {},
   "source": [
    "<span style=\"color:blue\">\n",
    "Gyu-Ho's Answer: Most observations are classified as 1, while K-means clustering classifies them quite equally among 1, 2, and 3.\n",
    "</span>"
   ]
  },
  {
   "cell_type": "code",
   "execution_count": 80,
   "metadata": {},
   "outputs": [
    {
     "data": {
      "text/html": [
       "<ol class=list-inline>\n",
       "\t<li>1</li>\n",
       "\t<li>1</li>\n",
       "\t<li>1</li>\n",
       "\t<li>1</li>\n",
       "\t<li>1</li>\n",
       "\t<li>1</li>\n",
       "\t<li>1</li>\n",
       "\t<li>1</li>\n",
       "\t<li>1</li>\n",
       "\t<li>1</li>\n",
       "\t<li>1</li>\n",
       "\t<li>1</li>\n",
       "\t<li>1</li>\n",
       "\t<li>1</li>\n",
       "\t<li>1</li>\n",
       "\t<li>1</li>\n",
       "\t<li>1</li>\n",
       "\t<li>1</li>\n",
       "\t<li>1</li>\n",
       "\t<li>1</li>\n",
       "\t<li>1</li>\n",
       "\t<li>1</li>\n",
       "\t<li>1</li>\n",
       "\t<li>1</li>\n",
       "\t<li>1</li>\n",
       "\t<li>1</li>\n",
       "\t<li>1</li>\n",
       "\t<li>1</li>\n",
       "\t<li>1</li>\n",
       "\t<li>1</li>\n",
       "\t<li>1</li>\n",
       "\t<li>1</li>\n",
       "\t<li>1</li>\n",
       "\t<li>1</li>\n",
       "\t<li>1</li>\n",
       "\t<li>1</li>\n",
       "\t<li>1</li>\n",
       "\t<li>1</li>\n",
       "\t<li>1</li>\n",
       "\t<li>1</li>\n",
       "\t<li>1</li>\n",
       "\t<li>1</li>\n",
       "\t<li>1</li>\n",
       "\t<li>1</li>\n",
       "\t<li>1</li>\n",
       "\t<li>1</li>\n",
       "\t<li>1</li>\n",
       "\t<li>1</li>\n",
       "\t<li>1</li>\n",
       "\t<li>1</li>\n",
       "\t<li>1</li>\n",
       "\t<li>1</li>\n",
       "\t<li>1</li>\n",
       "\t<li>1</li>\n",
       "\t<li>1</li>\n",
       "\t<li>1</li>\n",
       "\t<li>1</li>\n",
       "\t<li>1</li>\n",
       "\t<li>1</li>\n",
       "\t<li>1</li>\n",
       "\t<li>1</li>\n",
       "\t<li>1</li>\n",
       "\t<li>1</li>\n",
       "\t<li>1</li>\n",
       "\t<li>1</li>\n",
       "\t<li>1</li>\n",
       "\t<li>1</li>\n",
       "\t<li>1</li>\n",
       "\t<li>1</li>\n",
       "\t<li>1</li>\n",
       "\t<li>1</li>\n",
       "\t<li>1</li>\n",
       "\t<li>1</li>\n",
       "\t<li>1</li>\n",
       "\t<li>1</li>\n",
       "\t<li>1</li>\n",
       "\t<li>1</li>\n",
       "\t<li>2</li>\n",
       "\t<li>1</li>\n",
       "\t<li>1</li>\n",
       "\t<li>1</li>\n",
       "\t<li>1</li>\n",
       "\t<li>2</li>\n",
       "\t<li>1</li>\n",
       "\t<li>1</li>\n",
       "\t<li>1</li>\n",
       "\t<li>1</li>\n",
       "\t<li>1</li>\n",
       "\t<li>2</li>\n",
       "\t<li>2</li>\n",
       "\t<li>1</li>\n",
       "\t<li>1</li>\n",
       "\t<li>1</li>\n",
       "\t<li>1</li>\n",
       "\t<li>1</li>\n",
       "\t<li>1</li>\n",
       "\t<li>1</li>\n",
       "\t<li>1</li>\n",
       "\t<li>1</li>\n",
       "\t<li>1</li>\n",
       "\t<li>1</li>\n",
       "\t<li>1</li>\n",
       "\t<li>1</li>\n",
       "\t<li>1</li>\n",
       "\t<li>1</li>\n",
       "\t<li>1</li>\n",
       "\t<li>1</li>\n",
       "\t<li>1</li>\n",
       "\t<li>1</li>\n",
       "\t<li>1</li>\n",
       "\t<li>1</li>\n",
       "\t<li>1</li>\n",
       "\t<li>1</li>\n",
       "\t<li>1</li>\n",
       "\t<li>2</li>\n",
       "\t<li>1</li>\n",
       "\t<li>1</li>\n",
       "\t<li>1</li>\n",
       "\t<li>1</li>\n",
       "\t<li>1</li>\n",
       "\t<li>2</li>\n",
       "\t<li>1</li>\n",
       "\t<li>1</li>\n",
       "\t<li>1</li>\n",
       "\t<li>1</li>\n",
       "\t<li>1</li>\n",
       "\t<li>1</li>\n",
       "\t<li>1</li>\n",
       "\t<li>1</li>\n",
       "\t<li>1</li>\n",
       "\t<li>1</li>\n",
       "\t<li>1</li>\n",
       "\t<li>1</li>\n",
       "\t<li>1</li>\n",
       "\t<li>1</li>\n",
       "\t<li>1</li>\n",
       "\t<li>1</li>\n",
       "\t<li>1</li>\n",
       "\t<li>1</li>\n",
       "\t<li>1</li>\n",
       "\t<li>1</li>\n",
       "\t<li>1</li>\n",
       "\t<li>1</li>\n",
       "\t<li>1</li>\n",
       "\t<li>1</li>\n",
       "\t<li>1</li>\n",
       "\t<li>1</li>\n",
       "\t<li>1</li>\n",
       "\t<li>1</li>\n",
       "\t<li>1</li>\n",
       "\t<li>1</li>\n",
       "\t<li>1</li>\n",
       "\t<li>1</li>\n",
       "\t<li>1</li>\n",
       "\t<li>1</li>\n",
       "\t<li>1</li>\n",
       "\t<li>1</li>\n",
       "\t<li>1</li>\n",
       "\t<li>1</li>\n",
       "\t<li>1</li>\n",
       "\t<li>1</li>\n",
       "\t<li>1</li>\n",
       "\t<li>1</li>\n",
       "\t<li>1</li>\n",
       "\t<li>1</li>\n",
       "\t<li>1</li>\n",
       "\t<li>1</li>\n",
       "\t<li>1</li>\n",
       "\t<li>1</li>\n",
       "\t<li>1</li>\n",
       "\t<li>1</li>\n",
       "\t<li>1</li>\n",
       "\t<li>1</li>\n",
       "\t<li>1</li>\n",
       "\t<li>1</li>\n",
       "\t<li>1</li>\n",
       "\t<li>1</li>\n",
       "\t<li>1</li>\n",
       "\t<li>1</li>\n",
       "\t<li>1</li>\n",
       "\t<li>1</li>\n",
       "\t<li>1</li>\n",
       "\t<li>1</li>\n",
       "\t<li>1</li>\n",
       "\t<li>1</li>\n",
       "\t<li>1</li>\n",
       "\t<li>1</li>\n",
       "\t<li>1</li>\n",
       "\t<li>1</li>\n",
       "\t<li>1</li>\n",
       "\t<li>1</li>\n",
       "\t<li>1</li>\n",
       "\t<li>1</li>\n",
       "\t<li>1</li>\n",
       "\t<li>1</li>\n",
       "\t<li>1</li>\n",
       "\t<li>1</li>\n",
       "\t<li>1</li>\n",
       "\t<li>1</li>\n",
       "\t<li>1</li>\n",
       "\t<li>1</li>\n",
       "\t<li>1</li>\n",
       "\t<li>1</li>\n",
       "\t<li>3</li>\n",
       "\t<li>1</li>\n",
       "\t<li>1</li>\n",
       "\t<li>1</li>\n",
       "\t<li>3</li>\n",
       "\t<li>1</li>\n",
       "\t<li>1</li>\n",
       "</ol>\n"
      ],
      "text/latex": [
       "\\begin{enumerate*}\n",
       "\\item 1\n",
       "\\item 1\n",
       "\\item 1\n",
       "\\item 1\n",
       "\\item 1\n",
       "\\item 1\n",
       "\\item 1\n",
       "\\item 1\n",
       "\\item 1\n",
       "\\item 1\n",
       "\\item 1\n",
       "\\item 1\n",
       "\\item 1\n",
       "\\item 1\n",
       "\\item 1\n",
       "\\item 1\n",
       "\\item 1\n",
       "\\item 1\n",
       "\\item 1\n",
       "\\item 1\n",
       "\\item 1\n",
       "\\item 1\n",
       "\\item 1\n",
       "\\item 1\n",
       "\\item 1\n",
       "\\item 1\n",
       "\\item 1\n",
       "\\item 1\n",
       "\\item 1\n",
       "\\item 1\n",
       "\\item 1\n",
       "\\item 1\n",
       "\\item 1\n",
       "\\item 1\n",
       "\\item 1\n",
       "\\item 1\n",
       "\\item 1\n",
       "\\item 1\n",
       "\\item 1\n",
       "\\item 1\n",
       "\\item 1\n",
       "\\item 1\n",
       "\\item 1\n",
       "\\item 1\n",
       "\\item 1\n",
       "\\item 1\n",
       "\\item 1\n",
       "\\item 1\n",
       "\\item 1\n",
       "\\item 1\n",
       "\\item 1\n",
       "\\item 1\n",
       "\\item 1\n",
       "\\item 1\n",
       "\\item 1\n",
       "\\item 1\n",
       "\\item 1\n",
       "\\item 1\n",
       "\\item 1\n",
       "\\item 1\n",
       "\\item 1\n",
       "\\item 1\n",
       "\\item 1\n",
       "\\item 1\n",
       "\\item 1\n",
       "\\item 1\n",
       "\\item 1\n",
       "\\item 1\n",
       "\\item 1\n",
       "\\item 1\n",
       "\\item 1\n",
       "\\item 1\n",
       "\\item 1\n",
       "\\item 1\n",
       "\\item 1\n",
       "\\item 1\n",
       "\\item 1\n",
       "\\item 2\n",
       "\\item 1\n",
       "\\item 1\n",
       "\\item 1\n",
       "\\item 1\n",
       "\\item 2\n",
       "\\item 1\n",
       "\\item 1\n",
       "\\item 1\n",
       "\\item 1\n",
       "\\item 1\n",
       "\\item 2\n",
       "\\item 2\n",
       "\\item 1\n",
       "\\item 1\n",
       "\\item 1\n",
       "\\item 1\n",
       "\\item 1\n",
       "\\item 1\n",
       "\\item 1\n",
       "\\item 1\n",
       "\\item 1\n",
       "\\item 1\n",
       "\\item 1\n",
       "\\item 1\n",
       "\\item 1\n",
       "\\item 1\n",
       "\\item 1\n",
       "\\item 1\n",
       "\\item 1\n",
       "\\item 1\n",
       "\\item 1\n",
       "\\item 1\n",
       "\\item 1\n",
       "\\item 1\n",
       "\\item 1\n",
       "\\item 1\n",
       "\\item 2\n",
       "\\item 1\n",
       "\\item 1\n",
       "\\item 1\n",
       "\\item 1\n",
       "\\item 1\n",
       "\\item 2\n",
       "\\item 1\n",
       "\\item 1\n",
       "\\item 1\n",
       "\\item 1\n",
       "\\item 1\n",
       "\\item 1\n",
       "\\item 1\n",
       "\\item 1\n",
       "\\item 1\n",
       "\\item 1\n",
       "\\item 1\n",
       "\\item 1\n",
       "\\item 1\n",
       "\\item 1\n",
       "\\item 1\n",
       "\\item 1\n",
       "\\item 1\n",
       "\\item 1\n",
       "\\item 1\n",
       "\\item 1\n",
       "\\item 1\n",
       "\\item 1\n",
       "\\item 1\n",
       "\\item 1\n",
       "\\item 1\n",
       "\\item 1\n",
       "\\item 1\n",
       "\\item 1\n",
       "\\item 1\n",
       "\\item 1\n",
       "\\item 1\n",
       "\\item 1\n",
       "\\item 1\n",
       "\\item 1\n",
       "\\item 1\n",
       "\\item 1\n",
       "\\item 1\n",
       "\\item 1\n",
       "\\item 1\n",
       "\\item 1\n",
       "\\item 1\n",
       "\\item 1\n",
       "\\item 1\n",
       "\\item 1\n",
       "\\item 1\n",
       "\\item 1\n",
       "\\item 1\n",
       "\\item 1\n",
       "\\item 1\n",
       "\\item 1\n",
       "\\item 1\n",
       "\\item 1\n",
       "\\item 1\n",
       "\\item 1\n",
       "\\item 1\n",
       "\\item 1\n",
       "\\item 1\n",
       "\\item 1\n",
       "\\item 1\n",
       "\\item 1\n",
       "\\item 1\n",
       "\\item 1\n",
       "\\item 1\n",
       "\\item 1\n",
       "\\item 1\n",
       "\\item 1\n",
       "\\item 1\n",
       "\\item 1\n",
       "\\item 1\n",
       "\\item 1\n",
       "\\item 1\n",
       "\\item 1\n",
       "\\item 1\n",
       "\\item 1\n",
       "\\item 1\n",
       "\\item 1\n",
       "\\item 1\n",
       "\\item 1\n",
       "\\item 1\n",
       "\\item 1\n",
       "\\item 1\n",
       "\\item 1\n",
       "\\item 3\n",
       "\\item 1\n",
       "\\item 1\n",
       "\\item 1\n",
       "\\item 3\n",
       "\\item 1\n",
       "\\item 1\n",
       "\\end{enumerate*}\n"
      ],
      "text/markdown": [
       "1. 1\n",
       "2. 1\n",
       "3. 1\n",
       "4. 1\n",
       "5. 1\n",
       "6. 1\n",
       "7. 1\n",
       "8. 1\n",
       "9. 1\n",
       "10. 1\n",
       "11. 1\n",
       "12. 1\n",
       "13. 1\n",
       "14. 1\n",
       "15. 1\n",
       "16. 1\n",
       "17. 1\n",
       "18. 1\n",
       "19. 1\n",
       "20. 1\n",
       "21. 1\n",
       "22. 1\n",
       "23. 1\n",
       "24. 1\n",
       "25. 1\n",
       "26. 1\n",
       "27. 1\n",
       "28. 1\n",
       "29. 1\n",
       "30. 1\n",
       "31. 1\n",
       "32. 1\n",
       "33. 1\n",
       "34. 1\n",
       "35. 1\n",
       "36. 1\n",
       "37. 1\n",
       "38. 1\n",
       "39. 1\n",
       "40. 1\n",
       "41. 1\n",
       "42. 1\n",
       "43. 1\n",
       "44. 1\n",
       "45. 1\n",
       "46. 1\n",
       "47. 1\n",
       "48. 1\n",
       "49. 1\n",
       "50. 1\n",
       "51. 1\n",
       "52. 1\n",
       "53. 1\n",
       "54. 1\n",
       "55. 1\n",
       "56. 1\n",
       "57. 1\n",
       "58. 1\n",
       "59. 1\n",
       "60. 1\n",
       "61. 1\n",
       "62. 1\n",
       "63. 1\n",
       "64. 1\n",
       "65. 1\n",
       "66. 1\n",
       "67. 1\n",
       "68. 1\n",
       "69. 1\n",
       "70. 1\n",
       "71. 1\n",
       "72. 1\n",
       "73. 1\n",
       "74. 1\n",
       "75. 1\n",
       "76. 1\n",
       "77. 1\n",
       "78. 2\n",
       "79. 1\n",
       "80. 1\n",
       "81. 1\n",
       "82. 1\n",
       "83. 2\n",
       "84. 1\n",
       "85. 1\n",
       "86. 1\n",
       "87. 1\n",
       "88. 1\n",
       "89. 2\n",
       "90. 2\n",
       "91. 1\n",
       "92. 1\n",
       "93. 1\n",
       "94. 1\n",
       "95. 1\n",
       "96. 1\n",
       "97. 1\n",
       "98. 1\n",
       "99. 1\n",
       "100. 1\n",
       "101. 1\n",
       "102. 1\n",
       "103. 1\n",
       "104. 1\n",
       "105. 1\n",
       "106. 1\n",
       "107. 1\n",
       "108. 1\n",
       "109. 1\n",
       "110. 1\n",
       "111. 1\n",
       "112. 1\n",
       "113. 1\n",
       "114. 1\n",
       "115. 2\n",
       "116. 1\n",
       "117. 1\n",
       "118. 1\n",
       "119. 1\n",
       "120. 1\n",
       "121. 2\n",
       "122. 1\n",
       "123. 1\n",
       "124. 1\n",
       "125. 1\n",
       "126. 1\n",
       "127. 1\n",
       "128. 1\n",
       "129. 1\n",
       "130. 1\n",
       "131. 1\n",
       "132. 1\n",
       "133. 1\n",
       "134. 1\n",
       "135. 1\n",
       "136. 1\n",
       "137. 1\n",
       "138. 1\n",
       "139. 1\n",
       "140. 1\n",
       "141. 1\n",
       "142. 1\n",
       "143. 1\n",
       "144. 1\n",
       "145. 1\n",
       "146. 1\n",
       "147. 1\n",
       "148. 1\n",
       "149. 1\n",
       "150. 1\n",
       "151. 1\n",
       "152. 1\n",
       "153. 1\n",
       "154. 1\n",
       "155. 1\n",
       "156. 1\n",
       "157. 1\n",
       "158. 1\n",
       "159. 1\n",
       "160. 1\n",
       "161. 1\n",
       "162. 1\n",
       "163. 1\n",
       "164. 1\n",
       "165. 1\n",
       "166. 1\n",
       "167. 1\n",
       "168. 1\n",
       "169. 1\n",
       "170. 1\n",
       "171. 1\n",
       "172. 1\n",
       "173. 1\n",
       "174. 1\n",
       "175. 1\n",
       "176. 1\n",
       "177. 1\n",
       "178. 1\n",
       "179. 1\n",
       "180. 1\n",
       "181. 1\n",
       "182. 1\n",
       "183. 1\n",
       "184. 1\n",
       "185. 1\n",
       "186. 1\n",
       "187. 1\n",
       "188. 1\n",
       "189. 1\n",
       "190. 1\n",
       "191. 1\n",
       "192. 1\n",
       "193. 1\n",
       "194. 1\n",
       "195. 1\n",
       "196. 1\n",
       "197. 1\n",
       "198. 1\n",
       "199. 1\n",
       "200. 1\n",
       "201. 1\n",
       "202. 1\n",
       "203. 1\n",
       "204. 3\n",
       "205. 1\n",
       "206. 1\n",
       "207. 1\n",
       "208. 3\n",
       "209. 1\n",
       "210. 1\n",
       "\n",
       "\n"
      ],
      "text/plain": [
       "  [1] 1 1 1 1 1 1 1 1 1 1 1 1 1 1 1 1 1 1 1 1 1 1 1 1 1 1 1 1 1 1 1 1 1 1 1 1 1\n",
       " [38] 1 1 1 1 1 1 1 1 1 1 1 1 1 1 1 1 1 1 1 1 1 1 1 1 1 1 1 1 1 1 1 1 1 1 1 1 1\n",
       " [75] 1 1 1 2 1 1 1 1 2 1 1 1 1 1 2 2 1 1 1 1 1 1 1 1 1 1 1 1 1 1 1 1 1 1 1 1 1\n",
       "[112] 1 1 1 2 1 1 1 1 1 2 1 1 1 1 1 1 1 1 1 1 1 1 1 1 1 1 1 1 1 1 1 1 1 1 1 1 1\n",
       "[149] 1 1 1 1 1 1 1 1 1 1 1 1 1 1 1 1 1 1 1 1 1 1 1 1 1 1 1 1 1 1 1 1 1 1 1 1 1\n",
       "[186] 1 1 1 1 1 1 1 1 1 1 1 1 1 1 1 1 1 1 3 1 1 1 3 1 1"
      ]
     },
     "metadata": {},
     "output_type": "display_data"
    }
   ],
   "source": [
    "cutree(hc.single, 3)"
   ]
  },
  {
   "cell_type": "code",
   "execution_count": 78,
   "metadata": {},
   "outputs": [
    {
     "data": {
      "image/png": "[encoded data removed]",
      "text/plain": [
       "Plot with title \"Hierarchical Clustering with Single Linkage\""
      ]
     },
     "metadata": {},
     "output_type": "display_data"
    }
   ],
   "source": [
    "dend=as.dendrogram(hclust(dist(seeds.data[,2:6]), method=\"single\"))\n",
    "dend.color=color_branches(dend, k=3)\n",
    "plot(dend.color, main=\"Hierarchical Clustering with Single Linkage\")"
   ]
  },
  {
   "cell_type": "markdown",
   "metadata": {},
   "source": [
    "(d) Using the `hclust()` function, perform complete linkage hierarchical clustering on the data. Plot the corresponding dendrogram. What do you see? If we wanted to cluster our data into 3 clusters, do you prefer single linkage clustering or complete linkage clustering in this example? Why?"
   ]
  },
  {
   "cell_type": "markdown",
   "metadata": {},
   "source": [
    "<span style=\"color:blue\">\n",
    "Gyu-Ho's Answer: I prefer **complete linkage** because it builds more balanced dendrogram in this data.\n",
    "</span>"
   ]
  },
  {
   "cell_type": "code",
   "execution_count": 81,
   "metadata": {},
   "outputs": [
    {
     "data": {
      "text/html": [
       "<ol class=list-inline>\n",
       "\t<li>1</li>\n",
       "\t<li>1</li>\n",
       "\t<li>1</li>\n",
       "\t<li>1</li>\n",
       "\t<li>1</li>\n",
       "\t<li>1</li>\n",
       "\t<li>1</li>\n",
       "\t<li>1</li>\n",
       "\t<li>1</li>\n",
       "\t<li>1</li>\n",
       "\t<li>1</li>\n",
       "\t<li>1</li>\n",
       "\t<li>1</li>\n",
       "\t<li>1</li>\n",
       "\t<li>1</li>\n",
       "\t<li>1</li>\n",
       "\t<li>2</li>\n",
       "\t<li>1</li>\n",
       "\t<li>1</li>\n",
       "\t<li>2</li>\n",
       "\t<li>1</li>\n",
       "\t<li>1</li>\n",
       "\t<li>1</li>\n",
       "\t<li>2</li>\n",
       "\t<li>1</li>\n",
       "\t<li>1</li>\n",
       "\t<li>2</li>\n",
       "\t<li>2</li>\n",
       "\t<li>1</li>\n",
       "\t<li>1</li>\n",
       "\t<li>2</li>\n",
       "\t<li>1</li>\n",
       "\t<li>1</li>\n",
       "\t<li>1</li>\n",
       "\t<li>1</li>\n",
       "\t<li>1</li>\n",
       "\t<li>1</li>\n",
       "\t<li>1</li>\n",
       "\t<li>1</li>\n",
       "\t<li>2</li>\n",
       "\t<li>2</li>\n",
       "\t<li>2</li>\n",
       "\t<li>2</li>\n",
       "\t<li>1</li>\n",
       "\t<li>1</li>\n",
       "\t<li>1</li>\n",
       "\t<li>1</li>\n",
       "\t<li>1</li>\n",
       "\t<li>1</li>\n",
       "\t<li>1</li>\n",
       "\t<li>1</li>\n",
       "\t<li>1</li>\n",
       "\t<li>1</li>\n",
       "\t<li>1</li>\n",
       "\t<li>1</li>\n",
       "\t<li>1</li>\n",
       "\t<li>1</li>\n",
       "\t<li>1</li>\n",
       "\t<li>1</li>\n",
       "\t<li>2</li>\n",
       "\t<li>2</li>\n",
       "\t<li>2</li>\n",
       "\t<li>2</li>\n",
       "\t<li>2</li>\n",
       "\t<li>2</li>\n",
       "\t<li>2</li>\n",
       "\t<li>1</li>\n",
       "\t<li>1</li>\n",
       "\t<li>1</li>\n",
       "\t<li>2</li>\n",
       "\t<li>1</li>\n",
       "\t<li>1</li>\n",
       "\t<li>1</li>\n",
       "\t<li>3</li>\n",
       "\t<li>1</li>\n",
       "\t<li>1</li>\n",
       "\t<li>1</li>\n",
       "\t<li>3</li>\n",
       "\t<li>3</li>\n",
       "\t<li>1</li>\n",
       "\t<li>1</li>\n",
       "\t<li>3</li>\n",
       "\t<li>3</li>\n",
       "\t<li>3</li>\n",
       "\t<li>3</li>\n",
       "\t<li>3</li>\n",
       "\t<li>3</li>\n",
       "\t<li>3</li>\n",
       "\t<li>3</li>\n",
       "\t<li>3</li>\n",
       "\t<li>3</li>\n",
       "\t<li>3</li>\n",
       "\t<li>3</li>\n",
       "\t<li>3</li>\n",
       "\t<li>3</li>\n",
       "\t<li>1</li>\n",
       "\t<li>3</li>\n",
       "\t<li>3</li>\n",
       "\t<li>3</li>\n",
       "\t<li>3</li>\n",
       "\t<li>1</li>\n",
       "\t<li>3</li>\n",
       "\t<li>3</li>\n",
       "\t<li>3</li>\n",
       "\t<li>3</li>\n",
       "\t<li>3</li>\n",
       "\t<li>3</li>\n",
       "\t<li>1</li>\n",
       "\t<li>3</li>\n",
       "\t<li>3</li>\n",
       "\t<li>3</li>\n",
       "\t<li>3</li>\n",
       "\t<li>3</li>\n",
       "\t<li>3</li>\n",
       "\t<li>3</li>\n",
       "\t<li>3</li>\n",
       "\t<li>3</li>\n",
       "\t<li>3</li>\n",
       "\t<li>3</li>\n",
       "\t<li>3</li>\n",
       "\t<li>3</li>\n",
       "\t<li>1</li>\n",
       "\t<li>1</li>\n",
       "\t<li>3</li>\n",
       "\t<li>1</li>\n",
       "\t<li>3</li>\n",
       "\t<li>3</li>\n",
       "\t<li>3</li>\n",
       "\t<li>3</li>\n",
       "\t<li>1</li>\n",
       "\t<li>3</li>\n",
       "\t<li>3</li>\n",
       "\t<li>1</li>\n",
       "\t<li>1</li>\n",
       "\t<li>1</li>\n",
       "\t<li>1</li>\n",
       "\t<li>1</li>\n",
       "\t<li>1</li>\n",
       "\t<li>1</li>\n",
       "\t<li>1</li>\n",
       "\t<li>2</li>\n",
       "\t<li>2</li>\n",
       "\t<li>2</li>\n",
       "\t<li>2</li>\n",
       "\t<li>2</li>\n",
       "\t<li>2</li>\n",
       "\t<li>2</li>\n",
       "\t<li>2</li>\n",
       "\t<li>2</li>\n",
       "\t<li>2</li>\n",
       "\t<li>2</li>\n",
       "\t<li>2</li>\n",
       "\t<li>2</li>\n",
       "\t<li>2</li>\n",
       "\t<li>2</li>\n",
       "\t<li>2</li>\n",
       "\t<li>2</li>\n",
       "\t<li>2</li>\n",
       "\t<li>2</li>\n",
       "\t<li>2</li>\n",
       "\t<li>2</li>\n",
       "\t<li>2</li>\n",
       "\t<li>2</li>\n",
       "\t<li>2</li>\n",
       "\t<li>2</li>\n",
       "\t<li>2</li>\n",
       "\t<li>2</li>\n",
       "\t<li>2</li>\n",
       "\t<li>2</li>\n",
       "\t<li>2</li>\n",
       "\t<li>2</li>\n",
       "\t<li>2</li>\n",
       "\t<li>2</li>\n",
       "\t<li>2</li>\n",
       "\t<li>2</li>\n",
       "\t<li>2</li>\n",
       "\t<li>2</li>\n",
       "\t<li>2</li>\n",
       "\t<li>2</li>\n",
       "\t<li>2</li>\n",
       "\t<li>2</li>\n",
       "\t<li>2</li>\n",
       "\t<li>2</li>\n",
       "\t<li>2</li>\n",
       "\t<li>2</li>\n",
       "\t<li>2</li>\n",
       "\t<li>2</li>\n",
       "\t<li>2</li>\n",
       "\t<li>2</li>\n",
       "\t<li>2</li>\n",
       "\t<li>2</li>\n",
       "\t<li>2</li>\n",
       "\t<li>2</li>\n",
       "\t<li>2</li>\n",
       "\t<li>2</li>\n",
       "\t<li>2</li>\n",
       "\t<li>2</li>\n",
       "\t<li>2</li>\n",
       "\t<li>2</li>\n",
       "\t<li>2</li>\n",
       "\t<li>2</li>\n",
       "\t<li>2</li>\n",
       "\t<li>2</li>\n",
       "\t<li>2</li>\n",
       "\t<li>2</li>\n",
       "\t<li>2</li>\n",
       "\t<li>2</li>\n",
       "\t<li>2</li>\n",
       "\t<li>2</li>\n",
       "\t<li>2</li>\n",
       "</ol>\n"
      ],
      "text/latex": [
       "\\begin{enumerate*}\n",
       "\\item 1\n",
       "\\item 1\n",
       "\\item 1\n",
       "\\item 1\n",
       "\\item 1\n",
       "\\item 1\n",
       "\\item 1\n",
       "\\item 1\n",
       "\\item 1\n",
       "\\item 1\n",
       "\\item 1\n",
       "\\item 1\n",
       "\\item 1\n",
       "\\item 1\n",
       "\\item 1\n",
       "\\item 1\n",
       "\\item 2\n",
       "\\item 1\n",
       "\\item 1\n",
       "\\item 2\n",
       "\\item 1\n",
       "\\item 1\n",
       "\\item 1\n",
       "\\item 2\n",
       "\\item 1\n",
       "\\item 1\n",
       "\\item 2\n",
       "\\item 2\n",
       "\\item 1\n",
       "\\item 1\n",
       "\\item 2\n",
       "\\item 1\n",
       "\\item 1\n",
       "\\item 1\n",
       "\\item 1\n",
       "\\item 1\n",
       "\\item 1\n",
       "\\item 1\n",
       "\\item 1\n",
       "\\item 2\n",
       "\\item 2\n",
       "\\item 2\n",
       "\\item 2\n",
       "\\item 1\n",
       "\\item 1\n",
       "\\item 1\n",
       "\\item 1\n",
       "\\item 1\n",
       "\\item 1\n",
       "\\item 1\n",
       "\\item 1\n",
       "\\item 1\n",
       "\\item 1\n",
       "\\item 1\n",
       "\\item 1\n",
       "\\item 1\n",
       "\\item 1\n",
       "\\item 1\n",
       "\\item 1\n",
       "\\item 2\n",
       "\\item 2\n",
       "\\item 2\n",
       "\\item 2\n",
       "\\item 2\n",
       "\\item 2\n",
       "\\item 2\n",
       "\\item 1\n",
       "\\item 1\n",
       "\\item 1\n",
       "\\item 2\n",
       "\\item 1\n",
       "\\item 1\n",
       "\\item 1\n",
       "\\item 3\n",
       "\\item 1\n",
       "\\item 1\n",
       "\\item 1\n",
       "\\item 3\n",
       "\\item 3\n",
       "\\item 1\n",
       "\\item 1\n",
       "\\item 3\n",
       "\\item 3\n",
       "\\item 3\n",
       "\\item 3\n",
       "\\item 3\n",
       "\\item 3\n",
       "\\item 3\n",
       "\\item 3\n",
       "\\item 3\n",
       "\\item 3\n",
       "\\item 3\n",
       "\\item 3\n",
       "\\item 3\n",
       "\\item 3\n",
       "\\item 1\n",
       "\\item 3\n",
       "\\item 3\n",
       "\\item 3\n",
       "\\item 3\n",
       "\\item 1\n",
       "\\item 3\n",
       "\\item 3\n",
       "\\item 3\n",
       "\\item 3\n",
       "\\item 3\n",
       "\\item 3\n",
       "\\item 1\n",
       "\\item 3\n",
       "\\item 3\n",
       "\\item 3\n",
       "\\item 3\n",
       "\\item 3\n",
       "\\item 3\n",
       "\\item 3\n",
       "\\item 3\n",
       "\\item 3\n",
       "\\item 3\n",
       "\\item 3\n",
       "\\item 3\n",
       "\\item 3\n",
       "\\item 1\n",
       "\\item 1\n",
       "\\item 3\n",
       "\\item 1\n",
       "\\item 3\n",
       "\\item 3\n",
       "\\item 3\n",
       "\\item 3\n",
       "\\item 1\n",
       "\\item 3\n",
       "\\item 3\n",
       "\\item 1\n",
       "\\item 1\n",
       "\\item 1\n",
       "\\item 1\n",
       "\\item 1\n",
       "\\item 1\n",
       "\\item 1\n",
       "\\item 1\n",
       "\\item 2\n",
       "\\item 2\n",
       "\\item 2\n",
       "\\item 2\n",
       "\\item 2\n",
       "\\item 2\n",
       "\\item 2\n",
       "\\item 2\n",
       "\\item 2\n",
       "\\item 2\n",
       "\\item 2\n",
       "\\item 2\n",
       "\\item 2\n",
       "\\item 2\n",
       "\\item 2\n",
       "\\item 2\n",
       "\\item 2\n",
       "\\item 2\n",
       "\\item 2\n",
       "\\item 2\n",
       "\\item 2\n",
       "\\item 2\n",
       "\\item 2\n",
       "\\item 2\n",
       "\\item 2\n",
       "\\item 2\n",
       "\\item 2\n",
       "\\item 2\n",
       "\\item 2\n",
       "\\item 2\n",
       "\\item 2\n",
       "\\item 2\n",
       "\\item 2\n",
       "\\item 2\n",
       "\\item 2\n",
       "\\item 2\n",
       "\\item 2\n",
       "\\item 2\n",
       "\\item 2\n",
       "\\item 2\n",
       "\\item 2\n",
       "\\item 2\n",
       "\\item 2\n",
       "\\item 2\n",
       "\\item 2\n",
       "\\item 2\n",
       "\\item 2\n",
       "\\item 2\n",
       "\\item 2\n",
       "\\item 2\n",
       "\\item 2\n",
       "\\item 2\n",
       "\\item 2\n",
       "\\item 2\n",
       "\\item 2\n",
       "\\item 2\n",
       "\\item 2\n",
       "\\item 2\n",
       "\\item 2\n",
       "\\item 2\n",
       "\\item 2\n",
       "\\item 2\n",
       "\\item 2\n",
       "\\item 2\n",
       "\\item 2\n",
       "\\item 2\n",
       "\\item 2\n",
       "\\item 2\n",
       "\\item 2\n",
       "\\item 2\n",
       "\\end{enumerate*}\n"
      ],
      "text/markdown": [
       "1. 1\n",
       "2. 1\n",
       "3. 1\n",
       "4. 1\n",
       "5. 1\n",
       "6. 1\n",
       "7. 1\n",
       "8. 1\n",
       "9. 1\n",
       "10. 1\n",
       "11. 1\n",
       "12. 1\n",
       "13. 1\n",
       "14. 1\n",
       "15. 1\n",
       "16. 1\n",
       "17. 2\n",
       "18. 1\n",
       "19. 1\n",
       "20. 2\n",
       "21. 1\n",
       "22. 1\n",
       "23. 1\n",
       "24. 2\n",
       "25. 1\n",
       "26. 1\n",
       "27. 2\n",
       "28. 2\n",
       "29. 1\n",
       "30. 1\n",
       "31. 2\n",
       "32. 1\n",
       "33. 1\n",
       "34. 1\n",
       "35. 1\n",
       "36. 1\n",
       "37. 1\n",
       "38. 1\n",
       "39. 1\n",
       "40. 2\n",
       "41. 2\n",
       "42. 2\n",
       "43. 2\n",
       "44. 1\n",
       "45. 1\n",
       "46. 1\n",
       "47. 1\n",
       "48. 1\n",
       "49. 1\n",
       "50. 1\n",
       "51. 1\n",
       "52. 1\n",
       "53. 1\n",
       "54. 1\n",
       "55. 1\n",
       "56. 1\n",
       "57. 1\n",
       "58. 1\n",
       "59. 1\n",
       "60. 2\n",
       "61. 2\n",
       "62. 2\n",
       "63. 2\n",
       "64. 2\n",
       "65. 2\n",
       "66. 2\n",
       "67. 1\n",
       "68. 1\n",
       "69. 1\n",
       "70. 2\n",
       "71. 1\n",
       "72. 1\n",
       "73. 1\n",
       "74. 3\n",
       "75. 1\n",
       "76. 1\n",
       "77. 1\n",
       "78. 3\n",
       "79. 3\n",
       "80. 1\n",
       "81. 1\n",
       "82. 3\n",
       "83. 3\n",
       "84. 3\n",
       "85. 3\n",
       "86. 3\n",
       "87. 3\n",
       "88. 3\n",
       "89. 3\n",
       "90. 3\n",
       "91. 3\n",
       "92. 3\n",
       "93. 3\n",
       "94. 3\n",
       "95. 3\n",
       "96. 1\n",
       "97. 3\n",
       "98. 3\n",
       "99. 3\n",
       "100. 3\n",
       "101. 1\n",
       "102. 3\n",
       "103. 3\n",
       "104. 3\n",
       "105. 3\n",
       "106. 3\n",
       "107. 3\n",
       "108. 1\n",
       "109. 3\n",
       "110. 3\n",
       "111. 3\n",
       "112. 3\n",
       "113. 3\n",
       "114. 3\n",
       "115. 3\n",
       "116. 3\n",
       "117. 3\n",
       "118. 3\n",
       "119. 3\n",
       "120. 3\n",
       "121. 3\n",
       "122. 1\n",
       "123. 1\n",
       "124. 3\n",
       "125. 1\n",
       "126. 3\n",
       "127. 3\n",
       "128. 3\n",
       "129. 3\n",
       "130. 1\n",
       "131. 3\n",
       "132. 3\n",
       "133. 1\n",
       "134. 1\n",
       "135. 1\n",
       "136. 1\n",
       "137. 1\n",
       "138. 1\n",
       "139. 1\n",
       "140. 1\n",
       "141. 2\n",
       "142. 2\n",
       "143. 2\n",
       "144. 2\n",
       "145. 2\n",
       "146. 2\n",
       "147. 2\n",
       "148. 2\n",
       "149. 2\n",
       "150. 2\n",
       "151. 2\n",
       "152. 2\n",
       "153. 2\n",
       "154. 2\n",
       "155. 2\n",
       "156. 2\n",
       "157. 2\n",
       "158. 2\n",
       "159. 2\n",
       "160. 2\n",
       "161. 2\n",
       "162. 2\n",
       "163. 2\n",
       "164. 2\n",
       "165. 2\n",
       "166. 2\n",
       "167. 2\n",
       "168. 2\n",
       "169. 2\n",
       "170. 2\n",
       "171. 2\n",
       "172. 2\n",
       "173. 2\n",
       "174. 2\n",
       "175. 2\n",
       "176. 2\n",
       "177. 2\n",
       "178. 2\n",
       "179. 2\n",
       "180. 2\n",
       "181. 2\n",
       "182. 2\n",
       "183. 2\n",
       "184. 2\n",
       "185. 2\n",
       "186. 2\n",
       "187. 2\n",
       "188. 2\n",
       "189. 2\n",
       "190. 2\n",
       "191. 2\n",
       "192. 2\n",
       "193. 2\n",
       "194. 2\n",
       "195. 2\n",
       "196. 2\n",
       "197. 2\n",
       "198. 2\n",
       "199. 2\n",
       "200. 2\n",
       "201. 2\n",
       "202. 2\n",
       "203. 2\n",
       "204. 2\n",
       "205. 2\n",
       "206. 2\n",
       "207. 2\n",
       "208. 2\n",
       "209. 2\n",
       "210. 2\n",
       "\n",
       "\n"
      ],
      "text/plain": [
       "  [1] 1 1 1 1 1 1 1 1 1 1 1 1 1 1 1 1 2 1 1 2 1 1 1 2 1 1 2 2 1 1 2 1 1 1 1 1 1\n",
       " [38] 1 1 2 2 2 2 1 1 1 1 1 1 1 1 1 1 1 1 1 1 1 1 2 2 2 2 2 2 2 1 1 1 2 1 1 1 3\n",
       " [75] 1 1 1 3 3 1 1 3 3 3 3 3 3 3 3 3 3 3 3 3 3 1 3 3 3 3 1 3 3 3 3 3 3 1 3 3 3\n",
       "[112] 3 3 3 3 3 3 3 3 3 3 1 1 3 1 3 3 3 3 1 3 3 1 1 1 1 1 1 1 1 2 2 2 2 2 2 2 2\n",
       "[149] 2 2 2 2 2 2 2 2 2 2 2 2 2 2 2 2 2 2 2 2 2 2 2 2 2 2 2 2 2 2 2 2 2 2 2 2 2\n",
       "[186] 2 2 2 2 2 2 2 2 2 2 2 2 2 2 2 2 2 2 2 2 2 2 2 2 2"
      ]
     },
     "metadata": {},
     "output_type": "display_data"
    }
   ],
   "source": [
    "hc.complete=hclust(dist(seeds.data), method=\"complete\")\n",
    "cutree(hc.complete, 3)"
   ]
  },
  {
   "cell_type": "code",
   "execution_count": 83,
   "metadata": {},
   "outputs": [
    {
     "data": {
      "image/png": "[encoded data removed]",
      "text/plain": [
       "Plot with title \"Hierarchical Clustering with Complete Linkage\""
      ]
     },
     "metadata": {},
     "output_type": "display_data"
    }
   ],
   "source": [
    "dend=as.dendrogram(hc.complete, method=\"complete\")\n",
    "dend.color=color_branches(dend, k=3)\n",
    "plot(dend.color, main=\"Hierarchical Clustering with Complete Linkage\")"
   ]
  },
  {
   "cell_type": "markdown",
   "metadata": {},
   "source": [
    "(e) It turns out that there are three different types of wheat seeds: Kama, Rosa, and Canadian. If you had access to the class labels, briefly describe one way to build a model for classifying wheat seeds. Limit your answer to 1 sentence."
   ]
  },
  {
   "cell_type": "markdown",
   "metadata": {},
   "source": [
    "<span style=\"color:blue\">\n",
    "Gyu-Ho's Answer: Now we have response variable, *wheat seeds*, upon which we can train **logistic regression** model to predict seed class label, thus it's now a supervised learning.\n",
    "</span>"
   ]
  },
  {
   "cell_type": "markdown",
   "metadata": {},
   "source": [
    "###### Q5.\n",
    "\n",
    "This problem uses the ALS data set. Recall that in previous problem sets we tried to predict the rate of progression of ALS in patients using linear regression, the Lasso, decision trees, boosting and random forests, and saw varying values of the test RMSE. Now we will see if we can improve on these results by first preprocessing the data in an unsupervised way."
   ]
  },
  {
   "cell_type": "code",
   "execution_count": 84,
   "metadata": {},
   "outputs": [
    {
     "data": {
      "text/html": [
       "<ol class=list-inline>\n",
       "\t<li>'train.X'</li>\n",
       "\t<li>'train.y'</li>\n",
       "\t<li>'test.X'</li>\n",
       "\t<li>'test.y'</li>\n",
       "</ol>\n"
      ],
      "text/latex": [
       "\\begin{enumerate*}\n",
       "\\item 'train.X'\n",
       "\\item 'train.y'\n",
       "\\item 'test.X'\n",
       "\\item 'test.y'\n",
       "\\end{enumerate*}\n"
      ],
      "text/markdown": [
       "1. 'train.X'\n",
       "2. 'train.y'\n",
       "3. 'test.X'\n",
       "4. 'test.y'\n",
       "\n",
       "\n"
      ],
      "text/plain": [
       "[1] \"train.X\" \"train.y\" \"test.X\"  \"test.y\" "
      ]
     },
     "metadata": {},
     "output_type": "display_data"
    },
    {
     "data": {
      "text/html": [
       "<table>\n",
       "<thead><tr><th scope=col>Onset.Delta</th><th scope=col>Symptom.Speech</th><th scope=col>Symptom.WEAKNESS</th><th scope=col>Site.of.Onset.Onset..Bulbar</th><th scope=col>Site.of.Onset.Onset..Limb</th><th scope=col>Race...Caucasian</th><th scope=col>Age</th><th scope=col>Sex.Female</th><th scope=col>Sex.Male</th><th scope=col>Mother</th><th scope=col>⋯</th><th scope=col>max.slope.bp.systolic</th><th scope=col>min.slope.bp.systolic</th><th scope=col>last.slope.bp.systolic</th><th scope=col>mean.slope.bp.systolic</th><th scope=col>num.slope.bp.systolic.visits</th><th scope=col>sum.slope.bp.systolic</th><th scope=col>first.slope.bp.systolic.date</th><th scope=col>meansquares.slope.bp.systolic</th><th scope=col>sd.slope.bp.systolic</th><th scope=col>slope.bp.systolic.slope</th></tr></thead>\n",
       "<tbody>\n",
       "\t<tr><td> -341       </td><td>1           </td><td>1           </td><td>1           </td><td>0           </td><td>1           </td><td>48          </td><td>0           </td><td>0           </td><td>0           </td><td><U+22EF>    </td><td> 4.198161   </td><td> -4.475980  </td><td>-4.475980   </td><td> -1.36080094</td><td>3           </td><td> -4.0824028 </td><td>16.0        </td><td>  17.37794  </td><td> 3.940325   </td><td> -0.3295982 </td></tr>\n",
       "\t<tr><td>-1768       </td><td>0           </td><td>1           </td><td>0           </td><td>1           </td><td>1           </td><td>63          </td><td>1           </td><td>0           </td><td>0           </td><td><U+22EF>    </td><td>17.392381   </td><td>-65.221429  </td><td>17.392381   </td><td>-17.60978571</td><td>4           </td><td>-70.4391429 </td><td> 7.0        </td><td>1266.88652  </td><td>30.931892   </td><td> 29.9343926 </td></tr>\n",
       "\t<tr><td> -334       </td><td>1           </td><td>0           </td><td>1           </td><td>0           </td><td>1           </td><td>36          </td><td>0           </td><td>0           </td><td>0           </td><td><U+22EF>    </td><td>18.446465   </td><td> -6.297241  </td><td>18.446465   </td><td>  3.26931374</td><td>3           </td><td>  9.8079412 </td><td>14.5        </td><td> 128.46964  </td><td>10.852706   </td><td> 13.2125602 </td></tr>\n",
       "\t<tr><td> -268       </td><td>0           </td><td>1           </td><td>0           </td><td>1           </td><td>1           </td><td>55          </td><td>0           </td><td>1           </td><td>0           </td><td><U+22EF>    </td><td>16.601818   </td><td> -6.522143  </td><td> 0.000000   </td><td>  2.08510931</td><td>4           </td><td>  8.3404372 </td><td> 5.5        </td><td>  80.29592  </td><td> 8.714828   </td><td> -6.1248970 </td></tr>\n",
       "\t<tr><td> -440       </td><td>0           </td><td>1           </td><td>0           </td><td>1           </td><td>1           </td><td>37          </td><td>0           </td><td>0           </td><td>0           </td><td><U+22EF>    </td><td> 9.223232   </td><td>-10.145556  </td><td> 9.223232   </td><td> -1.79943454</td><td>3           </td><td> -5.3983036 </td><td>17.0        </td><td>  69.34490  </td><td> 8.130617   </td><td>  6.5662736 </td></tr>\n",
       "\t<tr><td> -773       </td><td>0           </td><td>1           </td><td>0           </td><td>1           </td><td>1           </td><td>68          </td><td>1           </td><td>0           </td><td>0           </td><td><U+22EF>    </td><td>23.412821   </td><td>-13.834848  </td><td>-9.223232   </td><td>  0.08868493</td><td>4           </td><td>  0.3547397 </td><td> 6.5        </td><td> 206.15780  </td><td>14.357922   </td><td>-12.2633662 </td></tr>\n",
       "</tbody>\n",
       "</table>\n"
      ],
      "text/latex": [
       "\\begin{tabular}{r|lllllllllllllllllllllllllllllllllllllllllllllllllllllllllllllllllllllllllllllllllllllllllllllllllllllllllllllllllllllllllllllllllllllllllllllllllllllllllllllllllllllllllllllllllllllllllllllllllllllllllllllllllllllllllllllllllllllllllllllllllllllllllllllllllllllllllllllllllllllllllllllllllllllllllllllllllllllllllllllllllll}\n",
       " Onset.Delta & Symptom.Speech & Symptom.WEAKNESS & Site.of.Onset.Onset..Bulbar & Site.of.Onset.Onset..Limb & Race...Caucasian & Age & Sex.Female & Sex.Male & Mother & ⋯ & max.slope.bp.systolic & min.slope.bp.systolic & last.slope.bp.systolic & mean.slope.bp.systolic & num.slope.bp.systolic.visits & sum.slope.bp.systolic & first.slope.bp.systolic.date & meansquares.slope.bp.systolic & sd.slope.bp.systolic & slope.bp.systolic.slope\\\\\n",
       "\\hline\n",
       "\t  -341        & 1            & 1            & 1            & 0            & 1            & 48           & 0            & 0            & 0            & <U+22EF>     &  4.198161    &  -4.475980   & -4.475980    &  -1.36080094 & 3            &  -4.0824028  & 16.0         &   17.37794   &  3.940325    &  -0.3295982 \\\\\n",
       "\t -1768        & 0            & 1            & 0            & 1            & 1            & 63           & 1            & 0            & 0            & <U+22EF>     & 17.392381    & -65.221429   & 17.392381    & -17.60978571 & 4            & -70.4391429  &  7.0         & 1266.88652   & 30.931892    &  29.9343926 \\\\\n",
       "\t  -334        & 1            & 0            & 1            & 0            & 1            & 36           & 0            & 0            & 0            & <U+22EF>     & 18.446465    &  -6.297241   & 18.446465    &   3.26931374 & 3            &   9.8079412  & 14.5         &  128.46964   & 10.852706    &  13.2125602 \\\\\n",
       "\t  -268        & 0            & 1            & 0            & 1            & 1            & 55           & 0            & 1            & 0            & <U+22EF>     & 16.601818    &  -6.522143   &  0.000000    &   2.08510931 & 4            &   8.3404372  &  5.5         &   80.29592   &  8.714828    &  -6.1248970 \\\\\n",
       "\t  -440        & 0            & 1            & 0            & 1            & 1            & 37           & 0            & 0            & 0            & <U+22EF>     &  9.223232    & -10.145556   &  9.223232    &  -1.79943454 & 3            &  -5.3983036  & 17.0         &   69.34490   &  8.130617    &   6.5662736 \\\\\n",
       "\t  -773        & 0            & 1            & 0            & 1            & 1            & 68           & 1            & 0            & 0            & <U+22EF>     & 23.412821    & -13.834848   & -9.223232    &   0.08868493 & 4            &   0.3547397  &  6.5         &  206.15780   & 14.357922    & -12.2633662 \\\\\n",
       "\\end{tabular}\n"
      ],
      "text/markdown": [
       "\n",
       "Onset.Delta | Symptom.Speech | Symptom.WEAKNESS | Site.of.Onset.Onset..Bulbar | Site.of.Onset.Onset..Limb | Race...Caucasian | Age | Sex.Female | Sex.Male | Mother | ⋯ | max.slope.bp.systolic | min.slope.bp.systolic | last.slope.bp.systolic | mean.slope.bp.systolic | num.slope.bp.systolic.visits | sum.slope.bp.systolic | first.slope.bp.systolic.date | meansquares.slope.bp.systolic | sd.slope.bp.systolic | slope.bp.systolic.slope | \n",
       "|---|---|---|---|---|---|\n",
       "|  -341        | 1            | 1            | 1            | 0            | 1            | 48           | 0            | 0            | 0            | <U+22EF>     |  4.198161    |  -4.475980   | -4.475980    |  -1.36080094 | 3            |  -4.0824028  | 16.0         |   17.37794   |  3.940325    |  -0.3295982  | \n",
       "| -1768        | 0            | 1            | 0            | 1            | 1            | 63           | 1            | 0            | 0            | <U+22EF>     | 17.392381    | -65.221429   | 17.392381    | -17.60978571 | 4            | -70.4391429  |  7.0         | 1266.88652   | 30.931892    |  29.9343926  | \n",
       "|  -334        | 1            | 0            | 1            | 0            | 1            | 36           | 0            | 0            | 0            | <U+22EF>     | 18.446465    |  -6.297241   | 18.446465    |   3.26931374 | 3            |   9.8079412  | 14.5         |  128.46964   | 10.852706    |  13.2125602  | \n",
       "|  -268        | 0            | 1            | 0            | 1            | 1            | 55           | 0            | 1            | 0            | <U+22EF>     | 16.601818    |  -6.522143   |  0.000000    |   2.08510931 | 4            |   8.3404372  |  5.5         |   80.29592   |  8.714828    |  -6.1248970  | \n",
       "|  -440        | 0            | 1            | 0            | 1            | 1            | 37           | 0            | 0            | 0            | <U+22EF>     |  9.223232    | -10.145556   |  9.223232    |  -1.79943454 | 3            |  -5.3983036  | 17.0         |   69.34490   |  8.130617    |   6.5662736  | \n",
       "|  -773        | 0            | 1            | 0            | 1            | 1            | 68           | 1            | 0            | 0            | <U+22EF>     | 23.412821    | -13.834848   | -9.223232    |   0.08868493 | 4            |   0.3547397  |  6.5         |  206.15780   | 14.357922    | -12.2633662  | \n",
       "\n",
       "\n"
      ],
      "text/plain": [
       "  Onset.Delta Symptom.Speech Symptom.WEAKNESS Site.of.Onset.Onset..Bulbar\n",
       "1  -341       1              1                1                          \n",
       "2 -1768       0              1                0                          \n",
       "3  -334       1              0                1                          \n",
       "4  -268       0              1                0                          \n",
       "5  -440       0              1                0                          \n",
       "6  -773       0              1                0                          \n",
       "  Site.of.Onset.Onset..Limb Race...Caucasian Age Sex.Female Sex.Male Mother\n",
       "1 0                         1                48  0          0        0     \n",
       "2 1                         1                63  1          0        0     \n",
       "3 0                         1                36  0          0        0     \n",
       "4 1                         1                55  0          1        0     \n",
       "5 1                         1                37  0          0        0     \n",
       "6 1                         1                68  1          0        0     \n",
       "  <U+22EF>   max.slope.bp.systolic min.slope.bp.systolic last.slope.bp.systolic\n",
       "1 <U+22EF>  4.198161              -4.475980            -4.475980             \n",
       "2 <U+22EF> 17.392381             -65.221429            17.392381             \n",
       "3 <U+22EF> 18.446465              -6.297241            18.446465             \n",
       "4 <U+22EF> 16.601818              -6.522143             0.000000             \n",
       "5 <U+22EF>  9.223232             -10.145556             9.223232             \n",
       "6 <U+22EF> 23.412821             -13.834848            -9.223232             \n",
       "  mean.slope.bp.systolic num.slope.bp.systolic.visits sum.slope.bp.systolic\n",
       "1  -1.36080094           3                             -4.0824028          \n",
       "2 -17.60978571           4                            -70.4391429          \n",
       "3   3.26931374           3                              9.8079412          \n",
       "4   2.08510931           4                              8.3404372          \n",
       "5  -1.79943454           3                             -5.3983036          \n",
       "6   0.08868493           4                              0.3547397          \n",
       "  first.slope.bp.systolic.date meansquares.slope.bp.systolic\n",
       "1 16.0                           17.37794                   \n",
       "2  7.0                         1266.88652                   \n",
       "3 14.5                          128.46964                   \n",
       "4  5.5                           80.29592                   \n",
       "5 17.0                           69.34490                   \n",
       "6  6.5                          206.15780                   \n",
       "  sd.slope.bp.systolic slope.bp.systolic.slope\n",
       "1  3.940325             -0.3295982            \n",
       "2 30.931892             29.9343926            \n",
       "3 10.852706             13.2125602            \n",
       "4  8.714828             -6.1248970            \n",
       "5  8.130617              6.5662736            \n",
       "6 14.357922            -12.2633662            "
      ]
     },
     "metadata": {},
     "output_type": "display_data"
    },
    {
     "data": {
      "text/html": [
       "<ol class=list-inline>\n",
       "\t<li>'LoadLibraries'</li>\n",
       "\t<li>'OJ.all.test.pred'</li>\n",
       "\t<li>'OJ.all.test.table'</li>\n",
       "\t<li>'OJ.all.train.pred'</li>\n",
       "\t<li>'OJ.all.train.table'</li>\n",
       "\t<li>'OJ.poly.test.pred'</li>\n",
       "\t<li>'OJ.poly.test.table'</li>\n",
       "\t<li>'OJ.poly.train.pred'</li>\n",
       "\t<li>'OJ.poly.train.table'</li>\n",
       "\t<li>'OJ.radial.test.pred'</li>\n",
       "\t<li>'OJ.radial.test.table'</li>\n",
       "\t<li>'OJ.radial.train.pred'</li>\n",
       "\t<li>'OJ.radial.train.table'</li>\n",
       "\t<li>'OJ.test'</li>\n",
       "\t<li>'OJ.test.pred'</li>\n",
       "\t<li>'OJ.test.table'</li>\n",
       "\t<li>'OJ.train'</li>\n",
       "\t<li>'OJ.train.pred'</li>\n",
       "\t<li>'OJ.train.table'</li>\n",
       "\t<li>'colors'</li>\n",
       "\t<li>'costs'</li>\n",
       "\t<li>'data'</li>\n",
       "\t<li>'dend'</li>\n",
       "\t<li>'dend.color'</li>\n",
       "\t<li>'hc.complete'</li>\n",
       "\t<li>'hc.single'</li>\n",
       "\t<li>'km.out'</li>\n",
       "\t<li>'loaded'</li>\n",
       "\t<li>'rData'</li>\n",
       "\t<li>'seeds'</li>\n",
       "\t<li>'seeds.data'</li>\n",
       "\t<li>'seeds.labels'</li>\n",
       "\t<li>'svmfit'</li>\n",
       "\t<li>'svmfit.tune'</li>\n",
       "\t<li>'svmfit.tune.all'</li>\n",
       "\t<li>'svmfit.tune.poly'</li>\n",
       "\t<li>'svmfit.tune.radial'</li>\n",
       "\t<li>'test'</li>\n",
       "\t<li>'test.X'</li>\n",
       "\t<li>'test.y'</li>\n",
       "\t<li>'train'</li>\n",
       "\t<li>'train.X'</li>\n",
       "\t<li>'train.y'</li>\n",
       "\t<li>'x1'</li>\n",
       "\t<li>'x2'</li>\n",
       "</ol>\n"
      ],
      "text/latex": [
       "\\begin{enumerate*}\n",
       "\\item 'LoadLibraries'\n",
       "\\item 'OJ.all.test.pred'\n",
       "\\item 'OJ.all.test.table'\n",
       "\\item 'OJ.all.train.pred'\n",
       "\\item 'OJ.all.train.table'\n",
       "\\item 'OJ.poly.test.pred'\n",
       "\\item 'OJ.poly.test.table'\n",
       "\\item 'OJ.poly.train.pred'\n",
       "\\item 'OJ.poly.train.table'\n",
       "\\item 'OJ.radial.test.pred'\n",
       "\\item 'OJ.radial.test.table'\n",
       "\\item 'OJ.radial.train.pred'\n",
       "\\item 'OJ.radial.train.table'\n",
       "\\item 'OJ.test'\n",
       "\\item 'OJ.test.pred'\n",
       "\\item 'OJ.test.table'\n",
       "\\item 'OJ.train'\n",
       "\\item 'OJ.train.pred'\n",
       "\\item 'OJ.train.table'\n",
       "\\item 'colors'\n",
       "\\item 'costs'\n",
       "\\item 'data'\n",
       "\\item 'dend'\n",
       "\\item 'dend.color'\n",
       "\\item 'hc.complete'\n",
       "\\item 'hc.single'\n",
       "\\item 'km.out'\n",
       "\\item 'loaded'\n",
       "\\item 'rData'\n",
       "\\item 'seeds'\n",
       "\\item 'seeds.data'\n",
       "\\item 'seeds.labels'\n",
       "\\item 'svmfit'\n",
       "\\item 'svmfit.tune'\n",
       "\\item 'svmfit.tune.all'\n",
       "\\item 'svmfit.tune.poly'\n",
       "\\item 'svmfit.tune.radial'\n",
       "\\item 'test'\n",
       "\\item 'test.X'\n",
       "\\item 'test.y'\n",
       "\\item 'train'\n",
       "\\item 'train.X'\n",
       "\\item 'train.y'\n",
       "\\item 'x1'\n",
       "\\item 'x2'\n",
       "\\end{enumerate*}\n"
      ],
      "text/markdown": [
       "1. 'LoadLibraries'\n",
       "2. 'OJ.all.test.pred'\n",
       "3. 'OJ.all.test.table'\n",
       "4. 'OJ.all.train.pred'\n",
       "5. 'OJ.all.train.table'\n",
       "6. 'OJ.poly.test.pred'\n",
       "7. 'OJ.poly.test.table'\n",
       "8. 'OJ.poly.train.pred'\n",
       "9. 'OJ.poly.train.table'\n",
       "10. 'OJ.radial.test.pred'\n",
       "11. 'OJ.radial.test.table'\n",
       "12. 'OJ.radial.train.pred'\n",
       "13. 'OJ.radial.train.table'\n",
       "14. 'OJ.test'\n",
       "15. 'OJ.test.pred'\n",
       "16. 'OJ.test.table'\n",
       "17. 'OJ.train'\n",
       "18. 'OJ.train.pred'\n",
       "19. 'OJ.train.table'\n",
       "20. 'colors'\n",
       "21. 'costs'\n",
       "22. 'data'\n",
       "23. 'dend'\n",
       "24. 'dend.color'\n",
       "25. 'hc.complete'\n",
       "26. 'hc.single'\n",
       "27. 'km.out'\n",
       "28. 'loaded'\n",
       "29. 'rData'\n",
       "30. 'seeds'\n",
       "31. 'seeds.data'\n",
       "32. 'seeds.labels'\n",
       "33. 'svmfit'\n",
       "34. 'svmfit.tune'\n",
       "35. 'svmfit.tune.all'\n",
       "36. 'svmfit.tune.poly'\n",
       "37. 'svmfit.tune.radial'\n",
       "38. 'test'\n",
       "39. 'test.X'\n",
       "40. 'test.y'\n",
       "41. 'train'\n",
       "42. 'train.X'\n",
       "43. 'train.y'\n",
       "44. 'x1'\n",
       "45. 'x2'\n",
       "\n",
       "\n"
      ],
      "text/plain": [
       " [1] \"LoadLibraries\"         \"OJ.all.test.pred\"      \"OJ.all.test.table\"    \n",
       " [4] \"OJ.all.train.pred\"     \"OJ.all.train.table\"    \"OJ.poly.test.pred\"    \n",
       " [7] \"OJ.poly.test.table\"    \"OJ.poly.train.pred\"    \"OJ.poly.train.table\"  \n",
       "[10] \"OJ.radial.test.pred\"   \"OJ.radial.test.table\"  \"OJ.radial.train.pred\" \n",
       "[13] \"OJ.radial.train.table\" \"OJ.test\"               \"OJ.test.pred\"         \n",
       "[16] \"OJ.test.table\"         \"OJ.train\"              \"OJ.train.pred\"        \n",
       "[19] \"OJ.train.table\"        \"colors\"                \"costs\"                \n",
       "[22] \"data\"                  \"dend\"                  \"dend.color\"           \n",
       "[25] \"hc.complete\"           \"hc.single\"             \"km.out\"               \n",
       "[28] \"loaded\"                \"rData\"                 \"seeds\"                \n",
       "[31] \"seeds.data\"            \"seeds.labels\"          \"svmfit\"               \n",
       "[34] \"svmfit.tune\"           \"svmfit.tune.all\"       \"svmfit.tune.poly\"     \n",
       "[37] \"svmfit.tune.radial\"    \"test\"                  \"test.X\"               \n",
       "[40] \"test.y\"                \"train\"                 \"train.X\"              \n",
       "[43] \"train.y\"               \"x1\"                    \"x2\"                   "
      ]
     },
     "metadata": {},
     "output_type": "display_data"
    },
    {
     "data": {
      "text/html": [
       "<table>\n",
       "<thead><tr><th scope=col>Onset.Delta</th><th scope=col>Symptom.Speech</th><th scope=col>Symptom.WEAKNESS</th><th scope=col>Site.of.Onset.Onset..Bulbar</th><th scope=col>Site.of.Onset.Onset..Limb</th><th scope=col>Race...Caucasian</th><th scope=col>Age</th><th scope=col>Sex.Female</th><th scope=col>Sex.Male</th><th scope=col>Mother</th><th scope=col>⋯</th><th scope=col>max.slope.bp.systolic</th><th scope=col>min.slope.bp.systolic</th><th scope=col>last.slope.bp.systolic</th><th scope=col>mean.slope.bp.systolic</th><th scope=col>num.slope.bp.systolic.visits</th><th scope=col>sum.slope.bp.systolic</th><th scope=col>first.slope.bp.systolic.date</th><th scope=col>meansquares.slope.bp.systolic</th><th scope=col>sd.slope.bp.systolic</th><th scope=col>slope.bp.systolic.slope</th></tr></thead>\n",
       "<tbody>\n",
       "\t<tr><td>-1181      </td><td>1          </td><td>0          </td><td>1          </td><td>0          </td><td>1          </td><td>38         </td><td>0          </td><td>0          </td><td>0          </td><td><U+22EF>   </td><td> 0.981828  </td><td> -8.300909 </td><td> 0.000000  </td><td>-2.4396937 </td><td>3          </td><td> -7.3190811</td><td> 5.5       </td><td>  23.28969 </td><td> 4.163843  </td><td> 5.003010  </td></tr>\n",
       "\t<tr><td>-1324      </td><td>0          </td><td>1          </td><td>0          </td><td>1          </td><td>1          </td><td>72         </td><td>0          </td><td>0          </td><td>0          </td><td><U+22EF>   </td><td> 0.000000  </td><td> -9.818280 </td><td>-9.818280  </td><td>-4.9091398 </td><td>2          </td><td> -9.8182796</td><td>18.0       </td><td>  48.19931 </td><td> 4.909140  </td><td>-8.920469  </td></tr>\n",
       "\t<tr><td>-1061      </td><td>0          </td><td>0          </td><td>0          </td><td>1          </td><td>1          </td><td>46         </td><td>0          </td><td>1          </td><td>0          </td><td><U+22EF>   </td><td> 6.522143  </td><td> -5.533939 </td><td> 6.522143  </td><td> 0.4941017 </td><td>2          </td><td>  0.9882035</td><td>11.0       </td><td>  36.58142 </td><td> 6.028041  </td><td>14.677878  </td></tr>\n",
       "\t<tr><td>-1736      </td><td>0          </td><td>1          </td><td>0          </td><td>1          </td><td>1          </td><td>66         </td><td>0          </td><td>0          </td><td>1          </td><td><U+22EF>   </td><td>55.800556  </td><td>-87.928148 </td><td>10.145556  </td><td>-8.6064679 </td><td>7          </td><td>-60.2452751</td><td> 4.5       </td><td>1842.17436 </td><td>42.048818  </td><td>41.458842  </td></tr>\n",
       "\t<tr><td> -354      </td><td>1          </td><td>0          </td><td>1          </td><td>0          </td><td>1          </td><td>70         </td><td>0          </td><td>0          </td><td>0          </td><td><U+22EF>   </td><td> 6.917424  </td><td>-10.870238 </td><td> 6.917424  </td><td>-1.3176046 </td><td>3          </td><td> -3.9528139</td><td> 6.0       </td><td>  55.33761 </td><td> 7.321307  </td><td> 3.759702  </td></tr>\n",
       "\t<tr><td> -500      </td><td>1          </td><td>1          </td><td>1          </td><td>0          </td><td>1          </td><td>37         </td><td>0          </td><td>0          </td><td>0          </td><td><U+22EF>   </td><td>19.566429  </td><td> -9.223232 </td><td> 0.000000  </td><td> 3.4477321 </td><td>3          </td><td> 10.3431962</td><td>14.0       </td><td> 155.97105 </td><td>12.003507  </td><td>-9.605433  </td></tr>\n",
       "</tbody>\n",
       "</table>\n"
      ],
      "text/latex": [
       "\\begin{tabular}{r|lllllllllllllllllllllllllllllllllllllllllllllllllllllllllllllllllllllllllllllllllllllllllllllllllllllllllllllllllllllllllllllllllllllllllllllllllllllllllllllllllllllllllllllllllllllllllllllllllllllllllllllllllllllllllllllllllllllllllllllllllllllllllllllllllllllllllllllllllllllllllllllllllllllllllllllllllllllllllllllllllll}\n",
       " Onset.Delta & Symptom.Speech & Symptom.WEAKNESS & Site.of.Onset.Onset..Bulbar & Site.of.Onset.Onset..Limb & Race...Caucasian & Age & Sex.Female & Sex.Male & Mother & ⋯ & max.slope.bp.systolic & min.slope.bp.systolic & last.slope.bp.systolic & mean.slope.bp.systolic & num.slope.bp.systolic.visits & sum.slope.bp.systolic & first.slope.bp.systolic.date & meansquares.slope.bp.systolic & sd.slope.bp.systolic & slope.bp.systolic.slope\\\\\n",
       "\\hline\n",
       "\t -1181       & 1           & 0           & 1           & 0           & 1           & 38          & 0           & 0           & 0           & <U+22EF>    &  0.981828   &  -8.300909  &  0.000000   & -2.4396937  & 3           &  -7.3190811 &  5.5        &   23.28969  &  4.163843   &  5.003010  \\\\\n",
       "\t -1324       & 0           & 1           & 0           & 1           & 1           & 72          & 0           & 0           & 0           & <U+22EF>    &  0.000000   &  -9.818280  & -9.818280   & -4.9091398  & 2           &  -9.8182796 & 18.0        &   48.19931  &  4.909140   & -8.920469  \\\\\n",
       "\t -1061       & 0           & 0           & 0           & 1           & 1           & 46          & 0           & 1           & 0           & <U+22EF>    &  6.522143   &  -5.533939  &  6.522143   &  0.4941017  & 2           &   0.9882035 & 11.0        &   36.58142  &  6.028041   & 14.677878  \\\\\n",
       "\t -1736       & 0           & 1           & 0           & 1           & 1           & 66          & 0           & 0           & 1           & <U+22EF>    & 55.800556   & -87.928148  & 10.145556   & -8.6064679  & 7           & -60.2452751 &  4.5        & 1842.17436  & 42.048818   & 41.458842  \\\\\n",
       "\t  -354       & 1           & 0           & 1           & 0           & 1           & 70          & 0           & 0           & 0           & <U+22EF>    &  6.917424   & -10.870238  &  6.917424   & -1.3176046  & 3           &  -3.9528139 &  6.0        &   55.33761  &  7.321307   &  3.759702  \\\\\n",
       "\t  -500       & 1           & 1           & 1           & 0           & 1           & 37          & 0           & 0           & 0           & <U+22EF>    & 19.566429   &  -9.223232  &  0.000000   &  3.4477321  & 3           &  10.3431962 & 14.0        &  155.97105  & 12.003507   & -9.605433  \\\\\n",
       "\\end{tabular}\n"
      ],
      "text/markdown": [
       "\n",
       "Onset.Delta | Symptom.Speech | Symptom.WEAKNESS | Site.of.Onset.Onset..Bulbar | Site.of.Onset.Onset..Limb | Race...Caucasian | Age | Sex.Female | Sex.Male | Mother | ⋯ | max.slope.bp.systolic | min.slope.bp.systolic | last.slope.bp.systolic | mean.slope.bp.systolic | num.slope.bp.systolic.visits | sum.slope.bp.systolic | first.slope.bp.systolic.date | meansquares.slope.bp.systolic | sd.slope.bp.systolic | slope.bp.systolic.slope | \n",
       "|---|---|---|---|---|---|\n",
       "| -1181       | 1           | 0           | 1           | 0           | 1           | 38          | 0           | 0           | 0           | <U+22EF>    |  0.981828   |  -8.300909  |  0.000000   | -2.4396937  | 3           |  -7.3190811 |  5.5        |   23.28969  |  4.163843   |  5.003010   | \n",
       "| -1324       | 0           | 1           | 0           | 1           | 1           | 72          | 0           | 0           | 0           | <U+22EF>    |  0.000000   |  -9.818280  | -9.818280   | -4.9091398  | 2           |  -9.8182796 | 18.0        |   48.19931  |  4.909140   | -8.920469   | \n",
       "| -1061       | 0           | 0           | 0           | 1           | 1           | 46          | 0           | 1           | 0           | <U+22EF>    |  6.522143   |  -5.533939  |  6.522143   |  0.4941017  | 2           |   0.9882035 | 11.0        |   36.58142  |  6.028041   | 14.677878   | \n",
       "| -1736       | 0           | 1           | 0           | 1           | 1           | 66          | 0           | 0           | 1           | <U+22EF>    | 55.800556   | -87.928148  | 10.145556   | -8.6064679  | 7           | -60.2452751 |  4.5        | 1842.17436  | 42.048818   | 41.458842   | \n",
       "|  -354       | 1           | 0           | 1           | 0           | 1           | 70          | 0           | 0           | 0           | <U+22EF>    |  6.917424   | -10.870238  |  6.917424   | -1.3176046  | 3           |  -3.9528139 |  6.0        |   55.33761  |  7.321307   |  3.759702   | \n",
       "|  -500       | 1           | 1           | 1           | 0           | 1           | 37          | 0           | 0           | 0           | <U+22EF>    | 19.566429   |  -9.223232  |  0.000000   |  3.4477321  | 3           |  10.3431962 | 14.0        |  155.97105  | 12.003507   | -9.605433   | \n",
       "\n",
       "\n"
      ],
      "text/plain": [
       "  Onset.Delta Symptom.Speech Symptom.WEAKNESS Site.of.Onset.Onset..Bulbar\n",
       "1 -1181       1              0                1                          \n",
       "2 -1324       0              1                0                          \n",
       "3 -1061       0              0                0                          \n",
       "4 -1736       0              1                0                          \n",
       "5  -354       1              0                1                          \n",
       "6  -500       1              1                1                          \n",
       "  Site.of.Onset.Onset..Limb Race...Caucasian Age Sex.Female Sex.Male Mother\n",
       "1 0                         1                38  0          0        0     \n",
       "2 1                         1                72  0          0        0     \n",
       "3 1                         1                46  0          1        0     \n",
       "4 1                         1                66  0          0        1     \n",
       "5 0                         1                70  0          0        0     \n",
       "6 0                         1                37  0          0        0     \n",
       "  <U+22EF>   max.slope.bp.systolic min.slope.bp.systolic last.slope.bp.systolic\n",
       "1 <U+22EF>  0.981828              -8.300909             0.000000             \n",
       "2 <U+22EF>  0.000000              -9.818280            -9.818280             \n",
       "3 <U+22EF>  6.522143              -5.533939             6.522143             \n",
       "4 <U+22EF> 55.800556             -87.928148            10.145556             \n",
       "5 <U+22EF>  6.917424             -10.870238             6.917424             \n",
       "6 <U+22EF> 19.566429              -9.223232             0.000000             \n",
       "  mean.slope.bp.systolic num.slope.bp.systolic.visits sum.slope.bp.systolic\n",
       "1 -2.4396937             3                             -7.3190811          \n",
       "2 -4.9091398             2                             -9.8182796          \n",
       "3  0.4941017             2                              0.9882035          \n",
       "4 -8.6064679             7                            -60.2452751          \n",
       "5 -1.3176046             3                             -3.9528139          \n",
       "6  3.4477321             3                             10.3431962          \n",
       "  first.slope.bp.systolic.date meansquares.slope.bp.systolic\n",
       "1  5.5                           23.28969                   \n",
       "2 18.0                           48.19931                   \n",
       "3 11.0                           36.58142                   \n",
       "4  4.5                         1842.17436                   \n",
       "5  6.0                           55.33761                   \n",
       "6 14.0                          155.97105                   \n",
       "  sd.slope.bp.systolic slope.bp.systolic.slope\n",
       "1  4.163843             5.003010              \n",
       "2  4.909140            -8.920469              \n",
       "3  6.028041            14.677878              \n",
       "4 42.048818            41.458842              \n",
       "5  7.321307             3.759702              \n",
       "6 12.003507            -9.605433              "
      ]
     },
     "metadata": {},
     "output_type": "display_data"
    }
   ],
   "source": [
    "# HW3 Q5\n",
    "loaded = load(\"hw-1-als.RData\")\n",
    "head(loaded) # 'train.X' 'train.y' 'test.X' 'test.y'\n",
    "\n",
    "rData = get(loaded)\n",
    "head(rData)\n",
    "\n",
    "ls() # 'Elite' 'college' 'isfar' 'loaded' 'op' 'rData' 'test.X' 'test.y' 'train.X' 'train.y'\n",
    "head(test.X)"
   ]
  },
  {
   "cell_type": "markdown",
   "metadata": {},
   "source": [
    "(a) Use the `prcomp()` function to run a principal components analysis on the training set. "
   ]
  },
  {
   "cell_type": "code",
   "execution_count": 87,
   "metadata": {},
   "outputs": [],
   "source": [
    "set.seed(2017)\n",
    "train.X=train.X\n",
    "test.X=test.X\n",
    "pr.out=prcomp(train.X, scale = TRUE)"
   ]
  },
  {
   "cell_type": "markdown",
   "metadata": {},
   "source": [
    "(b) Use the standard deviations to calculate the proportion of variance explained (PVE) by each principal component. Plot the PVE and the cumulative PVE."
   ]
  },
  {
   "cell_type": "code",
   "execution_count": 89,
   "metadata": {},
   "outputs": [
    {
     "data": {
      "image/png": "[encoded data removed]",
      "text/plain": [
       "plot without title"
      ]
     },
     "metadata": {},
     "output_type": "display_data"
    }
   ],
   "source": [
    "pr.var=pr.out$sdev^2\n",
    "pve=pr.var/sum(pr.var)\n",
    "\n",
    "par(mfrow=c(1,2))\n",
    "plot(pve)\n",
    "plot(cumsum(pve))"
   ]
  },
  {
   "cell_type": "markdown",
   "metadata": {},
   "source": [
    "(c) Use the `pcr()` function in the `pls` library to run PCR on the training set us- ing cross-validation; pass along the parameter `ncomp = 100` and call your object `pcr.fit`. Plot the cross-validation RMSE via the function `validationplot()`."
   ]
  },
  {
   "cell_type": "code",
   "execution_count": 90,
   "metadata": {},
   "outputs": [
    {
     "data": {
      "image/png": "[encoded data removed]",
      "text/plain": [
       "Plot with title \"train.y\""
      ]
     },
     "metadata": {},
     "output_type": "display_data"
    }
   ],
   "source": [
    "pcr.fit=pcr(train.y~., data=train.X, scale=TRUE, validation=\"CV\", ncomp=100)\n",
    "validationplot(pcr.fit)"
   ]
  },
  {
   "cell_type": "markdown",
   "metadata": {},
   "source": [
    "(d) What is the number of components that minimize the RMSE? You can extract the errors for each component via `RMSEP(pcr.fit)$val[2,1,1:101]`."
   ]
  },
  {
   "cell_type": "code",
   "execution_count": 91,
   "metadata": {},
   "outputs": [
    {
     "data": {
      "text/html": [
       "<strong>89 comps:</strong> 90"
      ],
      "text/latex": [
       "\\textbf{89 comps:} 90"
      ],
      "text/markdown": [
       "**89 comps:** 90"
      ],
      "text/plain": [
       "89 comps \n",
       "      90 "
      ]
     },
     "metadata": {},
     "output_type": "display_data"
    }
   ],
   "source": [
    "which.min(RMSEP(pcr.fit)$val[2,1,1:101])"
   ]
  },
  {
   "cell_type": "markdown",
   "metadata": {},
   "source": [
    "(e) Compute the test set RMSE using the number of components you found in the previous item. How does this compare to our previous results? Recall that the test RMSE for linear regression was 0.7527, for the Lasso it was 0.5209, for Boosted Trees it was 0.5115 and for Random Forests it was 0.5123."
   ]
  },
  {
   "cell_type": "code",
   "execution_count": 94,
   "metadata": {},
   "outputs": [
    {
     "data": {
      "text/html": [
       "0.551081650356353"
      ],
      "text/latex": [
       "0.551081650356353"
      ],
      "text/markdown": [
       "0.551081650356353"
      ],
      "text/plain": [
       "[1] 0.5510817"
      ]
     },
     "metadata": {},
     "output_type": "display_data"
    }
   ],
   "source": [
    "pcr.pred=predict(pcr.fit, test.X, ncomp=89)\n",
    "pcr.RMSE=sqrt(mean((pcr.pred-test.y)^2))\n",
    "pcr.RMSE"
   ]
  },
  {
   "cell_type": "markdown",
   "metadata": {},
   "source": [
    "<span style=\"color:blue\">\n",
    "PCR test RMSE is 0.551081650356353, which performs better than linear regression but lower than Lasso, Boosted Trees, and Random Forests.\n",
    "</span>"
   ]
  }
 ],
 "metadata": {
  "kernelspec": {
   "display_name": "R",
   "language": "R",
   "name": "ir"
  },
  "language_info": {
   "codemirror_mode": "r",
   "file_extension": ".r",
   "mimetype": "text/x-r-source",
   "name": "R",
   "pygments_lexer": "r",
   "version": "3.3.2"
  }
 },
 "nbformat": 4,
 "nbformat_minor": 2
}
