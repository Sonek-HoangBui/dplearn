{
 "cells": [
  {
   "cell_type": "markdown",
   "metadata": {},
   "source": [
    "<div style=\"text-align: center; font-size: 20px;\"><b>Stats216v: Statistical Learning</b></div>\n",
    "\n",
    "<br>\n",
    "<div style=\"text-align: center\">Stanford University</div>\n",
    "<div style=\"text-align: center\">Summer 2017</div>\n",
    "<div style=\"text-align: center\">Gyu-Ho Lee (<a href=\"mailto:gyuhox@gmail.com\">gyuhox@gmail.com</a>)</div>"
   ]
  },
  {
   "cell_type": "markdown",
   "metadata": {},
   "source": [
    "###### Q1.\n",
    "\n",
    "Suppose you have collected a dataset of information about 40 patients, ages 55 to 60 years old. You have variables $X_{1}$ = weight, $X_{2}$ = years they have smoked, and $Y$ = whether or not they have had a heart attack. You fit a logistic regression model, which yields the following coefficients: $\\hat{β}_{0} = −3.8$, $\\hat{β}_{1} = 0.007$, $\\hat{β}_{2} = 0.03$."
   ]
  },
  {
   "cell_type": "markdown",
   "metadata": {},
   "source": [
    "(a) Estimate the probability that a new patient who weighs 143 lbs and has smoked for 17 years will have a heart attack."
   ]
  },
  {
   "cell_type": "markdown",
   "metadata": {},
   "source": [
    "<span style=\"color:blue\">\n",
    "Gyu-Ho's Answer: 0.09203808291997737.\n",
    "</span>\n",
    "\n",
    "<span style=\"color:blue\">\n",
    "Logistic regression would be in $P(X) = \\frac{e^{β_{0} + β_{1}*X_{1} + β_{2}*X_{2}}}{1 + e^{β_{0} + β_{1}*X_{1} + β_{2}*X_{2}}} = \\frac{e^{-3.8 + 0.007*143 + 0.03*17}}{1 + e^{-3.8 + 0.007*143 + 0.03*17}} = 0.09203808291997737$\n",
    "</span>"
   ]
  },
  {
   "cell_type": "markdown",
   "metadata": {},
   "source": [
    "(b) Suppose a patient does not smoke: $X_{2}$ = 0. At what weight would we predict the chance of having a heart attack is 10%?"
   ]
  },
  {
   "cell_type": "markdown",
   "metadata": {},
   "source": [
    "<span style=\"color:blue\">\n",
    "Gyu-Ho's Answer: 228.96791752339718.\n",
    "</span>\n",
    "\n",
    "<span style=\"color:blue\">\n",
    "$\\frac{e^{-3.8 + 0.007*X_{1}}}{1 + e^{-3.8 + 0.007*X_{1}}} = \\frac{e^{-3.8 + 0.007*228.96791752339718}}{1 + e^{-3.8 + 0.007*228.96791752339718}} = 0.09999999999999999$\n",
    "</span>"
   ]
  },
  {
   "cell_type": "markdown",
   "metadata": {
    "collapsed": true
   },
   "source": [
    "###### Q2.\n",
    "\n",
    "Recall that the Lasso estimate for $β$ is the minimizer of the following expression:\n",
    "\n",
    "$\\sum_{i=1}^n ( y_i - \\beta_0 - \\sum_{j=1}^p \\beta_j x_{ij} )^{2} + λ \\sum_{j=1}^{p}|\\beta_j|$\n",
    "\n",
    "where $λ$ is a tuning parameter."
   ]
  },
  {
   "cell_type": "markdown",
   "metadata": {},
   "source": [
    "(a) We call $λ \\sum_{j=1}^{p}|\\beta_j|$ the Lasso penalty term. Why do we call it a penalty?"
   ]
  },
  {
   "cell_type": "markdown",
   "metadata": {},
   "source": [
    "<span style=\"color:blue\">\n",
    "Gyu-Ho's Answer: Like ridge regression, lasso aims to shrink coefficient estimates towards zero, thus minimize the penalty $λ \\sum_{j=1}^{p}|\\beta_j|$. Lasso is a shrinking method, so it needs impose a penalty on the complexity of model, in that the bigger the penalty is, the less coefficients are zeros, the more predictors are, thus more complex. \n",
    "</span>\n",
    "\n",
    "<span style=\"color:red\">\n",
    "The model pays a penalty of $λ|\\beta_{j}|$ for including term $\\beta_{j}$ in the model. This discourages the sum of the magnitude of the coefficients from being large. In other words it favors models with small sum of the coefficients. \n",
    "</span>"
   ]
  },
  {
   "cell_type": "markdown",
   "metadata": {},
   "source": [
    "(b) In terms of other techniques from Stats 216v, what value of $β$ gives the minimum of the above expression when $λ = 0$?"
   ]
  },
  {
   "cell_type": "markdown",
   "metadata": {},
   "source": [
    "<span style=\"color:blue\">\n",
    "Gyu-Ho's Answer: When $λ = 0$, lasso returns the least squares fit solution.\n",
    "</span>\n",
    "\n",
    "<span style=\"color:red\">\n",
    "The OLS estimate $\\hat{\\beta}_{OlS}$. \n",
    "</span>"
   ]
  },
  {
   "cell_type": "markdown",
   "metadata": {},
   "source": [
    "(c) What value of $β$ gives the minimum when $λ = ∞$?"
   ]
  },
  {
   "cell_type": "markdown",
   "metadata": {},
   "source": [
    "<span style=\"color:blue\">\n",
    "Gyu-Ho's Answer: When $λ = ∞$, lasso returns the null model where all coefficient estimates are 0 ($β = 0$).\n",
    "</span>\n",
    "\n",
    "<span style=\"color:red\">\n",
    "All the coefficients become zero in this case.\n",
    "</span>"
   ]
  },
  {
   "cell_type": "markdown",
   "metadata": {},
   "source": [
    "(d) Briefly explain that what will happen to each of the following quantities as we\n",
    "increase the parameter $λ$ from $0$ to $∞$:"
   ]
  },
  {
   "cell_type": "markdown",
   "metadata": {},
   "source": [
    "i. The training RSS."
   ]
  },
  {
   "cell_type": "markdown",
   "metadata": {},
   "source": [
    "<span style=\"color:blue\">\n",
    "Gyu-Ho's Answer: Steadily increase. Increasing $λ$ fits simpler models, less flexible to fit exact training data, thus increased training RSS.\n",
    "</span>\n",
    "\n",
    "<span style=\"color:red\">\n",
    "The training RSS will increase steadily since we are going from a very flexible model to a model that can just capture the mean.\n",
    "</span>"
   ]
  },
  {
   "cell_type": "markdown",
   "metadata": {},
   "source": [
    "ii. The test RSS."
   ]
  },
  {
   "cell_type": "markdown",
   "metadata": {},
   "source": [
    "<span style=\"color:blue\">\n",
    "Gyu-Ho's Answer: Decrease initially as we are not overfitting over training data. And then eventually start increasing in a U shape when the model becomes too simple to capture the true model, thus test RSS goes up.\n",
    "</span>\n",
    "\n",
    "<span style=\"color:red\">\n",
    "Initially, with $λ = 0$, the model starts with the OLS estimates, which minimize the sum of the squared residuals for the training data, and so generally does not perform so well on the test data, which results in relatively high RSS. As $λ$ is increased, the values of the coefficients are reduced and so is the overfitting, which lessens the RSS. Eventually, as the coefficients approach zero, the model loses too much of its flexibility and the test RSS increases.\n",
    "</span>"
   ]
  },
  {
   "cell_type": "markdown",
   "metadata": {},
   "source": [
    "iii. The variance of the $β_{i}$’s."
   ]
  },
  {
   "cell_type": "markdown",
   "metadata": {},
   "source": [
    "<span style=\"color:blue\">\n",
    "Gyu-Ho's Answer: Steadily decrease, as increasing $λ$ fits simpler models, reducing the variance.\n",
    "</span>\n",
    "\n",
    "<span style=\"color:red\">\n",
    "When $λ = 0$ we have the OLS estimates. As $λ$ increases, the model becomes simpler which results in less variance for the coefficients.\n",
    "</span>"
   ]
  },
  {
   "cell_type": "markdown",
   "metadata": {},
   "source": [
    "iv. The bias."
   ]
  },
  {
   "cell_type": "markdown",
   "metadata": {},
   "source": [
    "<span style=\"color:blue\">\n",
    "Gyu-Ho's Answer: Steadily increase, as increasing $λ$ fits simpler models, reducing the variance, thus bigger squared bias.\n",
    "</span>\n",
    "\n",
    "<span style=\"color:red\">\n",
    "We start with the OLS estimates, and as $λ$ grows the model loses flexibility by shrinking the coefficients to zero. As a result, the model fits less accurately to the training data, and so the bias increases.\n",
    "</span>"
   ]
  },
  {
   "cell_type": "code",
   "execution_count": 22,
   "metadata": {},
   "outputs": [
    {
     "name": "stderr",
     "output_type": "stream",
     "text": [
      "Updating HTML index of packages in '.Library'\n",
      "Making 'packages.html' ... done\n",
      "Updating HTML index of packages in '.Library'\n",
      "Making 'packages.html' ... done\n",
      "Updating HTML index of packages in '.Library'\n",
      "Making 'packages.html' ... done\n"
     ]
    },
    {
     "name": "stdout",
     "output_type": "stream",
     "text": [
      "[1] \"Libraries have been loaded!\"\n"
     ]
    }
   ],
   "source": [
    "LoadLibraries = function() {\n",
    "    library(MASS)\n",
    "    install.packages(\"ISLR\")\n",
    "    library(ISLR)\n",
    "    install.packages(\"leaps\")\n",
    "    library(boot)\n",
    "    library(class)\n",
    "    library(glmnet)\n",
    "    library(leaps)\n",
    "    install.packages(\"pls\")\n",
    "    library(pls)\n",
    "    print(\"Libraries have been loaded!\")\n",
    "}\n",
    "\n",
    "LoadLibraries()"
   ]
  },
  {
   "cell_type": "markdown",
   "metadata": {},
   "source": [
    "###### Q3.\n",
    "\n",
    "The `Default` data set in the `ISLR` library contains data about 10000 simulated credit card customers. Our goal is to model the probability that a customer will default on their debt. We will use a logistic regression model using `default` as the response and income and `balance` as features. For this problem, we are interested in the standard errors of our estimates of the logistic regression coefficients. We will compute standard errors in two ways: (1) using the bootstrap and (2) using the standard formula for computing standard errors, which is implemented in the `glm()` function."
   ]
  },
  {
   "cell_type": "markdown",
   "metadata": {},
   "source": [
    "(a) In two sentences or less, explain what the “standard error” for a coefficient in the\n",
    "model means."
   ]
  },
  {
   "cell_type": "markdown",
   "metadata": {},
   "source": [
    "<span style=\"color:blue\">\n",
    "Gyu-Ho's Answer: Estimated variability of a coefficient that indicates the precision of coefficient estimates.\n",
    "</span>\n",
    "\n",
    "<span style=\"color:red\">\n",
    "Due to the randomness in the data, the coefficient of a feature (for example, $\\beta_{income}$) is a random quantity. The standard deviation of this random quantity is known as the standard error.\n",
    "</span>"
   ]
  },
  {
   "cell_type": "markdown",
   "metadata": {},
   "source": [
    "(b) Load the data into your workspace using the following commands:\n",
    "\n",
    "```R\n",
    "library(\"ISLR\")\n",
    "data(\"Default\")\n",
    "```\n",
    "\n",
    "Next, using the `summary()` and `glm()` functions, determine the estimated standard errors for the coefficients associated with income and balance in the multiple logistic regression model."
   ]
  },
  {
   "cell_type": "code",
   "execution_count": 23,
   "metadata": {},
   "outputs": [
    {
     "data": {
      "text/plain": [
       "\n",
       "Call:\n",
       "glm(formula = default ~ income + balance, family = binomial, \n",
       "    data = Default)\n",
       "\n",
       "Deviance Residuals: \n",
       "    Min       1Q   Median       3Q      Max  \n",
       "-2.4725  -0.1444  -0.0574  -0.0211   3.7245  \n",
       "\n",
       "Coefficients:\n",
       "              Estimate Std. Error z value Pr(>|z|)    \n",
       "(Intercept) -1.154e+01  4.348e-01 -26.545  < 2e-16 ***\n",
       "income       2.081e-05  4.985e-06   4.174 2.99e-05 ***\n",
       "balance      5.647e-03  2.274e-04  24.836  < 2e-16 ***\n",
       "---\n",
       "Signif. codes:  0 '***' 0.001 '**' 0.01 '*' 0.05 '.' 0.1 ' ' 1\n",
       "\n",
       "(Dispersion parameter for binomial family taken to be 1)\n",
       "\n",
       "    Null deviance: 2920.6  on 9999  degrees of freedom\n",
       "Residual deviance: 1579.0  on 9997  degrees of freedom\n",
       "AIC: 1585\n",
       "\n",
       "Number of Fisher Scoring iterations: 8\n"
      ]
     },
     "metadata": {},
     "output_type": "display_data"
    }
   ],
   "source": [
    "# names(Default)\n",
    "# 'default' 'student' 'balance' 'income'\n",
    "\n",
    "# logistic regression model using default as the response and income and balance as features\n",
    "glm.fit = glm(default~income+balance, data=Default, family=binomial)\n",
    "summary(glm.fit)"
   ]
  },
  {
   "cell_type": "markdown",
   "metadata": {},
   "source": [
    "<span style=\"color:red\">\n",
    "The estimated standard error for income is 4.99e-06 and the estimated standard error for balance is 2.27e-04.\n",
    "</span>"
   ]
  },
  {
   "cell_type": "markdown",
   "metadata": {},
   "source": [
    "(c) Write a function `boot_fn()` that takes as input the `Default` data set as well as an index of the observations, and that outputs the coefficient estimates for `income` and `balance` in the multiple logistic regression model."
   ]
  },
  {
   "cell_type": "code",
   "execution_count": 24,
   "metadata": {},
   "outputs": [
    {
     "data": {
      "text/html": [
       "<table>\n",
       "<thead><tr><th></th><th scope=col>Estimate</th><th scope=col>Std. Error</th><th scope=col>z value</th><th scope=col>Pr(&gt;|z|)</th></tr></thead>\n",
       "<tbody>\n",
       "\t<tr><th scope=row>(Intercept)</th><td>-1.154047e+01</td><td>4.347564e-01 </td><td>-26.544680   </td><td>2.958355e-155</td></tr>\n",
       "\t<tr><th scope=row>income</th><td> 2.080898e-05</td><td>4.985167e-06 </td><td>  4.174178   </td><td> 2.990638e-05</td></tr>\n",
       "\t<tr><th scope=row>balance</th><td> 5.647103e-03</td><td>2.273731e-04 </td><td> 24.836280   </td><td>3.638120e-136</td></tr>\n",
       "</tbody>\n",
       "</table>\n"
      ],
      "text/latex": [
       "\\begin{tabular}{r|llll}\n",
       "  & Estimate & Std. Error & z value & Pr(>\\textbar{}z\\textbar{})\\\\\n",
       "\\hline\n",
       "\t(Intercept) & -1.154047e+01 & 4.347564e-01  & -26.544680    & 2.958355e-155\\\\\n",
       "\tincome &  2.080898e-05 & 4.985167e-06  &   4.174178    &  2.990638e-05\\\\\n",
       "\tbalance &  5.647103e-03 & 2.273731e-04  &  24.836280    & 3.638120e-136\\\\\n",
       "\\end{tabular}\n"
      ],
      "text/markdown": [
       "\n",
       "| <!--/--> | Estimate | Std. Error | z value | Pr(>|z|) | \n",
       "|---|---|---|\n",
       "| (Intercept) | -1.154047e+01 | 4.347564e-01  | -26.544680    | 2.958355e-155 | \n",
       "| income |  2.080898e-05 | 4.985167e-06  |   4.174178    |  2.990638e-05 | \n",
       "| balance |  5.647103e-03 | 2.273731e-04  |  24.836280    | 3.638120e-136 | \n",
       "\n",
       "\n"
      ],
      "text/plain": [
       "            Estimate      Std. Error   z value    Pr(>|z|)     \n",
       "(Intercept) -1.154047e+01 4.347564e-01 -26.544680 2.958355e-155\n",
       "income       2.080898e-05 4.985167e-06   4.174178  2.990638e-05\n",
       "balance      5.647103e-03 2.273731e-04  24.836280 3.638120e-136"
      ]
     },
     "metadata": {},
     "output_type": "display_data"
    },
    {
     "data": {
      "text/html": [
       "<dl class=dl-horizontal>\n",
       "\t<dt>(Intercept)</dt>\n",
       "\t\t<dd>0.434756357486525</dd>\n",
       "\t<dt>income</dt>\n",
       "\t\t<dd>4.98516717786299e-06</dd>\n",
       "\t<dt>balance</dt>\n",
       "\t\t<dd>0.000227373141926647</dd>\n",
       "</dl>\n"
      ],
      "text/latex": [
       "\\begin{description*}\n",
       "\\item[(Intercept)] 0.434756357486525\n",
       "\\item[income] 4.98516717786299e-06\n",
       "\\item[balance] 0.000227373141926647\n",
       "\\end{description*}\n"
      ],
      "text/markdown": [
       "(Intercept)\n",
       ":   0.434756357486525income\n",
       ":   4.98516717786299e-06balance\n",
       ":   0.000227373141926647\n",
       "\n"
      ],
      "text/plain": [
       " (Intercept)       income      balance \n",
       "4.347564e-01 4.985167e-06 2.273731e-04 "
      ]
     },
     "metadata": {},
     "output_type": "display_data"
    }
   ],
   "source": [
    "summary(glm.fit)$coefficients\n",
    "\n",
    "# estimated standard errors for the coefficients associated with income and balance\n",
    "summary(glm.fit)$coefficients[,2]"
   ]
  },
  {
   "cell_type": "markdown",
   "metadata": {},
   "source": [
    "<span style=\"color:blue\">\n",
    "Gyu-Ho's Answer: Estimated standard errors for the coefficients are `0.434756357486525` for intercept $\\beta_{0}$, `4.98516717786299e-06` for `income` $\\beta_{1}$, `0.000227373141926647` for `balance` $\\beta_{2}$.\n",
    "</span>"
   ]
  },
  {
   "cell_type": "markdown",
   "metadata": {},
   "source": [
    "(d) Use the `boot()` function together with your `boot_fn()` to estimate the standard errors of the logistic regression coefficients for `income` and `balance` in the multiple logistic regression model. Do 100 bootstrap replications, using `set.seed(2017)` to set the seed."
   ]
  },
  {
   "cell_type": "code",
   "execution_count": 25,
   "metadata": {
    "collapsed": true
   },
   "outputs": [],
   "source": [
    "# estimate the standard errors of the logistic regression coefficients\n",
    "# for income and balance in the multiple logistic regression model\n",
    "boot_fn = function(data, index) {\n",
    "    fit = glm(default~income+balance, data=data, family=binomial, subset=index)\n",
    "    return (coef(fit))\n",
    "}\n",
    "\n",
    "set.seed(2017)\n",
    "boot.fit = boot(Default, boot_fn, 100)"
   ]
  },
  {
   "cell_type": "code",
   "execution_count": 26,
   "metadata": {},
   "outputs": [
    {
     "data": {
      "text/plain": [
       "\n",
       "ORDINARY NONPARAMETRIC BOOTSTRAP\n",
       "\n",
       "\n",
       "Call:\n",
       "boot(data = Default, statistic = boot_fn, R = 100)\n",
       "\n",
       "\n",
       "Bootstrap Statistics :\n",
       "         original        bias     std. error\n",
       "t1* -1.154047e+01  1.024721e-02 4.824698e-01\n",
       "t2*  2.080898e-05 -1.103654e-06 4.948009e-06\n",
       "t3*  5.647103e-03  2.076323e-05 2.643337e-04"
      ]
     },
     "metadata": {},
     "output_type": "display_data"
    }
   ],
   "source": [
    "boot.fit"
   ]
  },
  {
   "cell_type": "markdown",
   "metadata": {},
   "source": [
    "<span style=\"color:blue\">\n",
    "Gyu-Ho's Answer: Estimated the standard errors of the logistic regression coefficients are `4.824698e-01` for intercept $\\beta_{0}$, `4.948009e-06` for `income` $\\beta_{1}$, `2.643337e-04` for `balance` $\\beta_{2}$.\n",
    "</span>\n",
    "\n",
    "<span style=\"color:red\">\n",
    "The estimated standard error for income is 4.95e-06 and the estimated standard error for balance is 2.64e-04.\n",
    "</span>"
   ]
  },
  {
   "cell_type": "markdown",
   "metadata": {},
   "source": [
    "(e) Comment on the estimated standard errors from the two approaches. Using the standard errors from `glm()`, which of the two predictors are statistically significant?"
   ]
  },
  {
   "cell_type": "markdown",
   "metadata": {},
   "source": [
    "<span style=\"color:blue\">\n",
    "Gyu-Ho's Answer: Estimated standard errors from two methods are very close. Based on the standard errors from `glm()`, the predictor `balance` is more statistically significant because z-statistic of `balance` is large, thus providing evidence against the null hypothesis.\n",
    "</span>\n",
    "\n",
    "<span style=\"color:red\">\n",
    "The estimated standard errors for R income are remarkably close. The estimated standard errors for the intercept and balance are reasonably close, coming within about 20%.\n",
    "</span>"
   ]
  },
  {
   "cell_type": "markdown",
   "metadata": {},
   "source": [
    "###### Q4.\n",
    "\n",
    "This question should be answered using the `Weekly` dataset, which is part of the `ISLR` package. This data is similar in nature to the `SMarket` data used in section 4.6 of out textbook, except that it contains 1,089 weekly returns for 21 years, from the beginning of 1990 to the end of 2010."
   ]
  },
  {
   "cell_type": "markdown",
   "metadata": {},
   "source": [
    "(a) Use the full dataset to perform a logistic regression with `Direction` as the response\n",
    "and the five lag variables plus `Volume` as predictors. Call your model `glm.fit`. Use\n",
    "the summary function to print the results. Do any of the predictors appear to be\n",
    "statistically significant? If so, which ones?"
   ]
  },
  {
   "cell_type": "code",
   "execution_count": 27,
   "metadata": {},
   "outputs": [
    {
     "data": {
      "text/plain": [
       "\n",
       "Call:\n",
       "glm(formula = Direction ~ Lag1 + Lag2 + Lag3 + Lag4 + Lag5 + \n",
       "    Volume, family = binomial, data = Weekly)\n",
       "\n",
       "Deviance Residuals: \n",
       "    Min       1Q   Median       3Q      Max  \n",
       "-1.6949  -1.2565   0.9913   1.0849   1.4579  \n",
       "\n",
       "Coefficients:\n",
       "            Estimate Std. Error z value Pr(>|z|)   \n",
       "(Intercept)  0.26686    0.08593   3.106   0.0019 **\n",
       "Lag1        -0.04127    0.02641  -1.563   0.1181   \n",
       "Lag2         0.05844    0.02686   2.175   0.0296 * \n",
       "Lag3        -0.01606    0.02666  -0.602   0.5469   \n",
       "Lag4        -0.02779    0.02646  -1.050   0.2937   \n",
       "Lag5        -0.01447    0.02638  -0.549   0.5833   \n",
       "Volume      -0.02274    0.03690  -0.616   0.5377   \n",
       "---\n",
       "Signif. codes:  0 '***' 0.001 '**' 0.01 '*' 0.05 '.' 0.1 ' ' 1\n",
       "\n",
       "(Dispersion parameter for binomial family taken to be 1)\n",
       "\n",
       "    Null deviance: 1496.2  on 1088  degrees of freedom\n",
       "Residual deviance: 1486.4  on 1082  degrees of freedom\n",
       "AIC: 1500.4\n",
       "\n",
       "Number of Fisher Scoring iterations: 4\n"
      ]
     },
     "metadata": {},
     "output_type": "display_data"
    }
   ],
   "source": [
    "# names(Weekly)\n",
    "# 'Year' 'Lag1' 'Lag2' 'Lag3' 'Lag4' 'Lag5' 'Volume' 'Today' 'Direction'\n",
    "\n",
    "# logistic regression with Direction as the response and the five lag variables plus Volume as predictors\n",
    "glm.fit = glm(Direction~Lag1+Lag2+Lag3+Lag4+Lag5+Volume, data=Weekly, family=binomial)\n",
    "summary(glm.fit)"
   ]
  },
  {
   "cell_type": "markdown",
   "metadata": {},
   "source": [
    "<span style=\"color:blue\">\n",
    "Gyu-Ho's Answer: Predictors of `Lag2` and `Lag5` and `Volume` appear to be statistically significant since they have relatively larger z-statistic values.\n",
    "</span>\n",
    "\n",
    "<span style=\"color:red\">\n",
    "Lag 2 and the intercept appear to be statistically significant.\n",
    "</span>"
   ]
  },
  {
   "cell_type": "markdown",
   "metadata": {},
   "source": [
    "(b) Use the following code to produce the confusion matrix for this problem.\n",
    "\n",
    "```R\n",
    "glm.probs = predict(glm.fit, type=\"response\")\n",
    "glm.pred = rep(\"Down\", length(glm.probs))\n",
    "glm.pred[glm.probs > 0.5] = \"Up\"\n",
    "table(glm.pred, Weekly$Direction)\n",
    "```\n",
    "\n",
    "Explain what the confusion matrix is telling you about the types of mistakes made by logistic regression."
   ]
  },
  {
   "cell_type": "code",
   "execution_count": 28,
   "metadata": {},
   "outputs": [
    {
     "data": {
      "text/html": [
       "<table>\n",
       "<thead><tr><th></th><th scope=col>Up</th></tr></thead>\n",
       "<tbody>\n",
       "\t<tr><th scope=row>Down</th><td>0</td></tr>\n",
       "\t<tr><th scope=row>Up</th><td>1</td></tr>\n",
       "</tbody>\n",
       "</table>\n"
      ],
      "text/latex": [
       "\\begin{tabular}{r|l}\n",
       "  & Up\\\\\n",
       "\\hline\n",
       "\tDown & 0\\\\\n",
       "\tUp & 1\\\\\n",
       "\\end{tabular}\n"
      ],
      "text/markdown": [
       "\n",
       "| <!--/--> | Up | \n",
       "|---|---|\n",
       "| Down | 0 | \n",
       "| Up | 1 | \n",
       "\n",
       "\n"
      ],
      "text/plain": [
       "     Up\n",
       "Down 0 \n",
       "Up   1 "
      ]
     },
     "metadata": {},
     "output_type": "display_data"
    },
    {
     "data": {
      "text/plain": [
       "        \n",
       "glm.pred Down  Up\n",
       "    Down   54  48\n",
       "    Up    430 557"
      ]
     },
     "metadata": {},
     "output_type": "display_data"
    }
   ],
   "source": [
    "glm.probs = predict(glm.fit, type=\"response\")\n",
    "glm.pred = rep(\"Down\", length(glm.probs))\n",
    "glm.pred[glm.probs > 0.5] = \"Up\"\n",
    "\n",
    "contrasts(Weekly$Direction)\n",
    "table(glm.pred, Weekly$Direction)"
   ]
  },
  {
   "cell_type": "code",
   "execution_count": 29,
   "metadata": {},
   "outputs": [
    {
     "data": {
      "text/html": [
       "0.438934802571166"
      ],
      "text/latex": [
       "0.438934802571166"
      ],
      "text/markdown": [
       "0.438934802571166"
      ],
      "text/plain": [
       "[1] 0.4389348"
      ]
     },
     "metadata": {},
     "output_type": "display_data"
    }
   ],
   "source": [
    "# fraction of days where the direction was wrong\n",
    "# (48+430) / (54+48+430+557)\n",
    "mean(glm.pred != Weekly$Direction)"
   ]
  },
  {
   "cell_type": "markdown",
   "metadata": {},
   "source": [
    "<span style=\"color:blue\">\n",
    "Gyu-Ho's Answer: The confusion matrix shows that out of total 1,089 predictions, 48 are predicted as \"Down\" but actual direction was \"Up\" (False \"Down\"s), 430 are predcticed as \"Up\" but actually direction was \"Down\" (False \"Up\"s).\n",
    "</span>\n",
    "\n",
    "<span style=\"color:red\">\n",
    "When the model predicts ‘down’ then the prediction was correct 54/102 times. When the model predicts ‘up’ the prediction was correct 557/ 987 times.\n",
    "</span>"
   ]
  },
  {
   "cell_type": "markdown",
   "metadata": {},
   "source": [
    "(c) Now fit the logistic regression model using a training data period from 1990 to 2007, with `Lag1`, `Lag2`, and `Lag3` as the only predictors. Compute the confusion matrix and the overall fraction of correct predictions for the held out data (that is, the data from 2008 and 2010)."
   ]
  },
  {
   "cell_type": "code",
   "execution_count": 30,
   "metadata": {},
   "outputs": [
    {
     "data": {
      "text/plain": [
       "\n",
       "Call:\n",
       "glm(formula = Direction ~ Lag1 + Lag2 + Lag3, family = binomial, \n",
       "    data = Weekly, subset = train)\n",
       "\n",
       "Deviance Residuals: \n",
       "   Min      1Q  Median      3Q     Max  \n",
       "-1.457  -1.267   1.012   1.080   1.410  \n",
       "\n",
       "Coefficients:\n",
       "            Estimate Std. Error z value Pr(>|z|)    \n",
       "(Intercept)  0.23889    0.06698   3.567 0.000361 ***\n",
       "Lag1        -0.04643    0.03256  -1.426 0.153810    \n",
       "Lag2         0.04232    0.03259   1.298 0.194123    \n",
       "Lag3        -0.01370    0.03235  -0.423 0.671932    \n",
       "---\n",
       "Signif. codes:  0 '***' 0.001 '**' 0.01 '*' 0.05 '.' 0.1 ' ' 1\n",
       "\n",
       "(Dispersion parameter for binomial family taken to be 1)\n",
       "\n",
       "    Null deviance: 1280.6  on 932  degrees of freedom\n",
       "Residual deviance: 1276.2  on 929  degrees of freedom\n",
       "AIC: 1284.2\n",
       "\n",
       "Number of Fisher Scoring iterations: 4\n"
      ]
     },
     "metadata": {},
     "output_type": "display_data"
    },
    {
     "data": {
      "text/plain": [
       "        \n",
       "glm.pred Down Up\n",
       "    Down   10  9\n",
       "    Up     62 75"
      ]
     },
     "metadata": {},
     "output_type": "display_data"
    },
    {
     "data": {
      "text/html": [
       "0.544871794871795"
      ],
      "text/latex": [
       "0.544871794871795"
      ],
      "text/markdown": [
       "0.544871794871795"
      ],
      "text/plain": [
       "[1] 0.5448718"
      ]
     },
     "metadata": {},
     "output_type": "display_data"
    }
   ],
   "source": [
    "# training data period from 1990 to 2007\n",
    "train = (Weekly$Year <= 2007)\n",
    "\n",
    "# data from 2008 and 2010\n",
    "Weekly.test = Weekly[!train,]\n",
    "\n",
    "# logistic regression model using training data with Lag1, Lag2, Lag3\n",
    "logit.fit = glm(Direction~Lag1+Lag2+Lag3, data=Weekly, family=binomial, subset=train)\n",
    "summary(logit.fit)\n",
    "\n",
    "# compute overall fraction of correct predictions for the held out data (test data)\n",
    "glm.probs = predict(logit.fit, Weekly.test, type=\"response\")\n",
    "glm.pred = rep(\"Down\", nrow(Weekly.test))\n",
    "glm.pred[glm.probs > 0.5] = \"Up\"\n",
    "\n",
    "# confusion matrix in test data\n",
    "table(glm.pred, Weekly.test$Direction)\n",
    "\n",
    "# fraction of correct predictions in test data\n",
    "mean(glm.pred == Weekly.test$Direction)"
   ]
  },
  {
   "cell_type": "markdown",
   "metadata": {},
   "source": [
    "<span style=\"color:blue\">\n",
    "Gyu-Ho's Answer: Overall fraction of correct predictions for the held out data is 0.544871794871795.\n",
    "</span>\n",
    "\n",
    "<span style=\"color:red\">\n",
    "When the model predicts ‘down’ then the prediction was correct 10/19 times. When the model predicts ‘up’ the prediction was correct 75/137 times. This is a mis-classification rate of .455.\n",
    "</span>"
   ]
  },
  {
   "cell_type": "markdown",
   "metadata": {},
   "source": [
    "(d) Repeat (c) using `LDA`. Use `library(MASS)` to work with the `lda()` command."
   ]
  },
  {
   "cell_type": "code",
   "execution_count": 31,
   "metadata": {},
   "outputs": [
    {
     "data": {
      "text/plain": [
       "Call:\n",
       "lda(Direction ~ Lag1 + Lag2 + Lag3, data = Weekly, family = binomial, \n",
       "    subset = train)\n",
       "\n",
       "Prior probabilities of groups:\n",
       "     Down        Up \n",
       "0.4415863 0.5584137 \n",
       "\n",
       "Group means:\n",
       "           Lag1       Lag2      Lag3\n",
       "Down 0.29930825 0.07329612 0.2227597\n",
       "Up   0.08858541 0.27110173 0.1431939\n",
       "\n",
       "Coefficients of linear discriminants:\n",
       "             LD1\n",
       "Lag1 -0.33396602\n",
       "Lag2  0.30485524\n",
       "Lag3 -0.09792095"
      ]
     },
     "metadata": {},
     "output_type": "display_data"
    },
    {
     "data": {
      "text/plain": [
       "      \n",
       "       Down Up\n",
       "  Down   10  9\n",
       "  Up     62 75"
      ]
     },
     "metadata": {},
     "output_type": "display_data"
    },
    {
     "data": {
      "text/html": [
       "0.544871794871795"
      ],
      "text/latex": [
       "0.544871794871795"
      ],
      "text/markdown": [
       "0.544871794871795"
      ],
      "text/plain": [
       "[1] 0.5448718"
      ]
     },
     "metadata": {},
     "output_type": "display_data"
    }
   ],
   "source": [
    "# training data period from 1990 to 2007\n",
    "train = (Weekly$Year <= 2007)\n",
    "\n",
    "# data from 2008 and 2010\n",
    "Weekly.test = Weekly[!train,]\n",
    "\n",
    "# linear discriminant analysis using training data with Lag1, Lag2, Lag3\n",
    "lda.fit = lda(Direction~Lag1+Lag2+Lag3, data=Weekly, family=binomial, subset=train)\n",
    "lda.fit\n",
    "\n",
    "# compute overall fraction of correct predictions for the held out data (test data)\n",
    "lda.pred = predict(lda.fit, Weekly.test, type=\"response\")\n",
    "\n",
    "# confusion matrix in test data\n",
    "table(lda.pred$class, Weekly.test$Direction)\n",
    "\n",
    "# fraction of correct predictions in test data\n",
    "mean(lda.pred$class == Weekly.test$Direction)"
   ]
  },
  {
   "cell_type": "markdown",
   "metadata": {},
   "source": [
    "<span style=\"color:red\">\n",
    "The confusion matrix is identical to the one from logistic regression. LDA and logistic regression have similar structure, so with this much data it is plausible that they ended up with the same predictions.\n",
    "</span>"
   ]
  },
  {
   "cell_type": "markdown",
   "metadata": {},
   "source": [
    "(e) Repeat (c) using `KNN` with `K = 1`. Invoke `library(class)` to work with the `knn()` command."
   ]
  },
  {
   "cell_type": "code",
   "execution_count": 32,
   "metadata": {},
   "outputs": [
    {
     "data": {
      "text/plain": [
       "        \n",
       "knn.pred Down Up\n",
       "    Down   28 37\n",
       "    Up     44 47"
      ]
     },
     "metadata": {},
     "output_type": "display_data"
    },
    {
     "data": {
      "text/html": [
       "0.480769230769231"
      ],
      "text/latex": [
       "0.480769230769231"
      ],
      "text/markdown": [
       "0.480769230769231"
      ],
      "text/plain": [
       "[1] 0.4807692"
      ]
     },
     "metadata": {},
     "output_type": "display_data"
    }
   ],
   "source": [
    "# training data period from 1990 to 2007\n",
    "train = (Weekly$Year <= 2007)\n",
    "train.X = cbind(Weekly$Lag1, Weekly$Lag2, Weekly$Lag3)[train,]\n",
    "train.Direction = Weekly$Direction[train]\n",
    "\n",
    "# data from 2008 and 2010\n",
    "test.X = cbind(Weekly$Lag1, Weekly$Lag2, Weekly$Lag3)[!train,]\n",
    "\n",
    "# KNN using training data with Lag1, Lag2, Lag3\n",
    "set.seed(2017)\n",
    "knn.pred = knn(train.X, test.X, train.Direction, k=1)\n",
    "\n",
    "# confusion matrix in test data\n",
    "table(knn.pred, Weekly.test$Direction)\n",
    "\n",
    "# fraction of correct predictions in test data\n",
    "mean(knn.pred == Weekly.test$Direction)"
   ]
  },
  {
   "cell_type": "markdown",
   "metadata": {},
   "source": [
    "<span style=\"color:red\">\n",
    "When the model predicts ‘down’ then the prediction was correct 28/65 times. When the model predicts ‘up’ the prediction was correct 47/91 times. This is a mis-classification rate of .519.\n",
    "</span>"
   ]
  },
  {
   "cell_type": "markdown",
   "metadata": {},
   "source": [
    "(f) Which of the models from parts (c), (d), and (e) appears to provide the best results on this data?"
   ]
  },
  {
   "cell_type": "markdown",
   "metadata": {},
   "source": [
    "<span style=\"color:blue\">\n",
    "Gyu-Ho's Answer: (c) logistic regression and (d) LDA provide best results.\n",
    "</span>\n",
    "\n",
    "<span style=\"color:red\">\n",
    "The LDA and logistic regression model have identical mis-classification rate, and it is lower than that of the knn model. The first two models appear to be doing a little bit better.\n",
    "Note that simply predicting ‘up’ every time would have better accuracy than the KNN model. This suggests that the KNN model is quite bad in this case.\n",
    "</span>"
   ]
  },
  {
   "cell_type": "markdown",
   "metadata": {},
   "source": [
    "(g) What is one scenario in which you might expect an LDA model to outperform a logistic regression model?"
   ]
  },
  {
   "cell_type": "markdown",
   "metadata": {},
   "source": [
    "<span style=\"color:blue\">\n",
    "Gyu-Ho's Answer:\n",
    "- When the classes are well-separated.\n",
    "- When $n$ is small and predictors are multivariate Gaussian (distribution of predictors are normal in each class).\n",
    "</span>\n",
    "\n",
    "<span style=\"color:red\">\n",
    "LDA is assuming that the features X are generated from different normal distri- butions depending on the class of Y . When this is correct, it will do better. For example, imagine classifying two species of birds based on their wingspan. In this case, if we expect that the wingspans follow different normal distributions for each species, then LDA is probably better suited. Logistic regression can also suffer from numerical instabilities if the classes are perfectly separable, which doesn’t happen with LDA.\n",
    "</span>"
   ]
  },
  {
   "cell_type": "markdown",
   "metadata": {},
   "source": [
    "(h) What is one scenario in which you might expect a `KNN` model to outperform a logistic regression model?"
   ]
  },
  {
   "cell_type": "markdown",
   "metadata": {},
   "source": [
    "<span style=\"color:blue\">\n",
    "Gyu-Ho's Answer: When decision boundary is **highly** non-linear because KNN is a non-parametric approach.\n",
    "</span>\n",
    "\n",
    "<span style=\"color:red\">\n",
    "KNN is a more flexible model, and may be able to fit nonlinear shapes that logistic regression cannot. Suppose that we are trying to predict whether a person is a college student based on their age. Given sufficient data, KNN would be able to predict ‘yes’ for people between 18 − 22 and ‘no’ for others. Logistic regression, which is a linear classifier, would always classify people below a certain age as ‘yes’ and everyone else as ‘no’, which would perform poorly in this setting.\n",
    "</span>"
   ]
  },
  {
   "cell_type": "markdown",
   "metadata": {},
   "source": [
    "###### Q5.\n",
    "\n",
    "This question uses the `ALS` dataset from Homework 1. We saw that applying basic linear regression did not yield very good results, mainly because only a few of the many input predictors are actually strongly associated with the output. One alternative to remedy this problem is to use the Lasso, since it automatically does variable selection for us.\n",
    "\n",
    "First, load the `als.RData` file."
   ]
  },
  {
   "cell_type": "code",
   "execution_count": 38,
   "metadata": {},
   "outputs": [
    {
     "data": {
      "text/html": [
       "<ol class=list-inline>\n",
       "\t<li>'train.X'</li>\n",
       "\t<li>'train.y'</li>\n",
       "\t<li>'test.X'</li>\n",
       "\t<li>'test.y'</li>\n",
       "</ol>\n"
      ],
      "text/latex": [
       "\\begin{enumerate*}\n",
       "\\item 'train.X'\n",
       "\\item 'train.y'\n",
       "\\item 'test.X'\n",
       "\\item 'test.y'\n",
       "\\end{enumerate*}\n"
      ],
      "text/markdown": [
       "1. 'train.X'\n",
       "2. 'train.y'\n",
       "3. 'test.X'\n",
       "4. 'test.y'\n",
       "\n",
       "\n"
      ],
      "text/plain": [
       "[1] \"train.X\" \"train.y\" \"test.X\"  \"test.y\" "
      ]
     },
     "metadata": {},
     "output_type": "display_data"
    },
    {
     "data": {
      "text/html": [
       "<table>\n",
       "<thead><tr><th scope=col>Onset.Delta</th><th scope=col>Symptom.Speech</th><th scope=col>Symptom.WEAKNESS</th><th scope=col>Site.of.Onset.Onset..Bulbar</th><th scope=col>Site.of.Onset.Onset..Limb</th><th scope=col>Race...Caucasian</th><th scope=col>Age</th><th scope=col>Sex.Female</th><th scope=col>Sex.Male</th><th scope=col>Mother</th><th scope=col>⋯</th><th scope=col>max.slope.bp.systolic</th><th scope=col>min.slope.bp.systolic</th><th scope=col>last.slope.bp.systolic</th><th scope=col>mean.slope.bp.systolic</th><th scope=col>num.slope.bp.systolic.visits</th><th scope=col>sum.slope.bp.systolic</th><th scope=col>first.slope.bp.systolic.date</th><th scope=col>meansquares.slope.bp.systolic</th><th scope=col>sd.slope.bp.systolic</th><th scope=col>slope.bp.systolic.slope</th></tr></thead>\n",
       "<tbody>\n",
       "\t<tr><td> -341       </td><td>1           </td><td>1           </td><td>1           </td><td>0           </td><td>1           </td><td>48          </td><td>0           </td><td>0           </td><td>0           </td><td><U+22EF>    </td><td> 4.198161   </td><td> -4.475980  </td><td>-4.475980   </td><td> -1.36080094</td><td>3           </td><td> -4.0824028 </td><td>16.0        </td><td>  17.37794  </td><td> 3.940325   </td><td> -0.3295982 </td></tr>\n",
       "\t<tr><td>-1768       </td><td>0           </td><td>1           </td><td>0           </td><td>1           </td><td>1           </td><td>63          </td><td>1           </td><td>0           </td><td>0           </td><td><U+22EF>    </td><td>17.392381   </td><td>-65.221429  </td><td>17.392381   </td><td>-17.60978571</td><td>4           </td><td>-70.4391429 </td><td> 7.0        </td><td>1266.88652  </td><td>30.931892   </td><td> 29.9343926 </td></tr>\n",
       "\t<tr><td> -334       </td><td>1           </td><td>0           </td><td>1           </td><td>0           </td><td>1           </td><td>36          </td><td>0           </td><td>0           </td><td>0           </td><td><U+22EF>    </td><td>18.446465   </td><td> -6.297241  </td><td>18.446465   </td><td>  3.26931374</td><td>3           </td><td>  9.8079412 </td><td>14.5        </td><td> 128.46964  </td><td>10.852706   </td><td> 13.2125602 </td></tr>\n",
       "\t<tr><td> -268       </td><td>0           </td><td>1           </td><td>0           </td><td>1           </td><td>1           </td><td>55          </td><td>0           </td><td>1           </td><td>0           </td><td><U+22EF>    </td><td>16.601818   </td><td> -6.522143  </td><td> 0.000000   </td><td>  2.08510931</td><td>4           </td><td>  8.3404372 </td><td> 5.5        </td><td>  80.29592  </td><td> 8.714828   </td><td> -6.1248970 </td></tr>\n",
       "\t<tr><td> -440       </td><td>0           </td><td>1           </td><td>0           </td><td>1           </td><td>1           </td><td>37          </td><td>0           </td><td>0           </td><td>0           </td><td><U+22EF>    </td><td> 9.223232   </td><td>-10.145556  </td><td> 9.223232   </td><td> -1.79943454</td><td>3           </td><td> -5.3983036 </td><td>17.0        </td><td>  69.34490  </td><td> 8.130617   </td><td>  6.5662736 </td></tr>\n",
       "\t<tr><td> -773       </td><td>0           </td><td>1           </td><td>0           </td><td>1           </td><td>1           </td><td>68          </td><td>1           </td><td>0           </td><td>0           </td><td><U+22EF>    </td><td>23.412821   </td><td>-13.834848  </td><td>-9.223232   </td><td>  0.08868493</td><td>4           </td><td>  0.3547397 </td><td> 6.5        </td><td> 206.15780  </td><td>14.357922   </td><td>-12.2633662 </td></tr>\n",
       "</tbody>\n",
       "</table>\n"
      ],
      "text/latex": [
       "\\begin{tabular}{r|lllllllllllllllllllllllllllllllllllllllllllllllllllllllllllllllllllllllllllllllllllllllllllllllllllllllllllllllllllllllllllllllllllllllllllllllllllllllllllllllllllllllllllllllllllllllllllllllllllllllllllllllllllllllllllllllllllllllllllllllllllllllllllllllllllllllllllllllllllllllllllllllllllllllllllllllllllllllllllllllllll}\n",
       " Onset.Delta & Symptom.Speech & Symptom.WEAKNESS & Site.of.Onset.Onset..Bulbar & Site.of.Onset.Onset..Limb & Race...Caucasian & Age & Sex.Female & Sex.Male & Mother & ⋯ & max.slope.bp.systolic & min.slope.bp.systolic & last.slope.bp.systolic & mean.slope.bp.systolic & num.slope.bp.systolic.visits & sum.slope.bp.systolic & first.slope.bp.systolic.date & meansquares.slope.bp.systolic & sd.slope.bp.systolic & slope.bp.systolic.slope\\\\\n",
       "\\hline\n",
       "\t  -341        & 1            & 1            & 1            & 0            & 1            & 48           & 0            & 0            & 0            & <U+22EF>     &  4.198161    &  -4.475980   & -4.475980    &  -1.36080094 & 3            &  -4.0824028  & 16.0         &   17.37794   &  3.940325    &  -0.3295982 \\\\\n",
       "\t -1768        & 0            & 1            & 0            & 1            & 1            & 63           & 1            & 0            & 0            & <U+22EF>     & 17.392381    & -65.221429   & 17.392381    & -17.60978571 & 4            & -70.4391429  &  7.0         & 1266.88652   & 30.931892    &  29.9343926 \\\\\n",
       "\t  -334        & 1            & 0            & 1            & 0            & 1            & 36           & 0            & 0            & 0            & <U+22EF>     & 18.446465    &  -6.297241   & 18.446465    &   3.26931374 & 3            &   9.8079412  & 14.5         &  128.46964   & 10.852706    &  13.2125602 \\\\\n",
       "\t  -268        & 0            & 1            & 0            & 1            & 1            & 55           & 0            & 1            & 0            & <U+22EF>     & 16.601818    &  -6.522143   &  0.000000    &   2.08510931 & 4            &   8.3404372  &  5.5         &   80.29592   &  8.714828    &  -6.1248970 \\\\\n",
       "\t  -440        & 0            & 1            & 0            & 1            & 1            & 37           & 0            & 0            & 0            & <U+22EF>     &  9.223232    & -10.145556   &  9.223232    &  -1.79943454 & 3            &  -5.3983036  & 17.0         &   69.34490   &  8.130617    &   6.5662736 \\\\\n",
       "\t  -773        & 0            & 1            & 0            & 1            & 1            & 68           & 1            & 0            & 0            & <U+22EF>     & 23.412821    & -13.834848   & -9.223232    &   0.08868493 & 4            &   0.3547397  &  6.5         &  206.15780   & 14.357922    & -12.2633662 \\\\\n",
       "\\end{tabular}\n"
      ],
      "text/markdown": [
       "\n",
       "Onset.Delta | Symptom.Speech | Symptom.WEAKNESS | Site.of.Onset.Onset..Bulbar | Site.of.Onset.Onset..Limb | Race...Caucasian | Age | Sex.Female | Sex.Male | Mother | ⋯ | max.slope.bp.systolic | min.slope.bp.systolic | last.slope.bp.systolic | mean.slope.bp.systolic | num.slope.bp.systolic.visits | sum.slope.bp.systolic | first.slope.bp.systolic.date | meansquares.slope.bp.systolic | sd.slope.bp.systolic | slope.bp.systolic.slope | \n",
       "|---|---|---|---|---|---|\n",
       "|  -341        | 1            | 1            | 1            | 0            | 1            | 48           | 0            | 0            | 0            | <U+22EF>     |  4.198161    |  -4.475980   | -4.475980    |  -1.36080094 | 3            |  -4.0824028  | 16.0         |   17.37794   |  3.940325    |  -0.3295982  | \n",
       "| -1768        | 0            | 1            | 0            | 1            | 1            | 63           | 1            | 0            | 0            | <U+22EF>     | 17.392381    | -65.221429   | 17.392381    | -17.60978571 | 4            | -70.4391429  |  7.0         | 1266.88652   | 30.931892    |  29.9343926  | \n",
       "|  -334        | 1            | 0            | 1            | 0            | 1            | 36           | 0            | 0            | 0            | <U+22EF>     | 18.446465    |  -6.297241   | 18.446465    |   3.26931374 | 3            |   9.8079412  | 14.5         |  128.46964   | 10.852706    |  13.2125602  | \n",
       "|  -268        | 0            | 1            | 0            | 1            | 1            | 55           | 0            | 1            | 0            | <U+22EF>     | 16.601818    |  -6.522143   |  0.000000    |   2.08510931 | 4            |   8.3404372  |  5.5         |   80.29592   |  8.714828    |  -6.1248970  | \n",
       "|  -440        | 0            | 1            | 0            | 1            | 1            | 37           | 0            | 0            | 0            | <U+22EF>     |  9.223232    | -10.145556   |  9.223232    |  -1.79943454 | 3            |  -5.3983036  | 17.0         |   69.34490   |  8.130617    |   6.5662736  | \n",
       "|  -773        | 0            | 1            | 0            | 1            | 1            | 68           | 1            | 0            | 0            | <U+22EF>     | 23.412821    | -13.834848   | -9.223232    |   0.08868493 | 4            |   0.3547397  |  6.5         |  206.15780   | 14.357922    | -12.2633662  | \n",
       "\n",
       "\n"
      ],
      "text/plain": [
       "  Onset.Delta Symptom.Speech Symptom.WEAKNESS Site.of.Onset.Onset..Bulbar\n",
       "1  -341       1              1                1                          \n",
       "2 -1768       0              1                0                          \n",
       "3  -334       1              0                1                          \n",
       "4  -268       0              1                0                          \n",
       "5  -440       0              1                0                          \n",
       "6  -773       0              1                0                          \n",
       "  Site.of.Onset.Onset..Limb Race...Caucasian Age Sex.Female Sex.Male Mother\n",
       "1 0                         1                48  0          0        0     \n",
       "2 1                         1                63  1          0        0     \n",
       "3 0                         1                36  0          0        0     \n",
       "4 1                         1                55  0          1        0     \n",
       "5 1                         1                37  0          0        0     \n",
       "6 1                         1                68  1          0        0     \n",
       "  <U+22EF>   max.slope.bp.systolic min.slope.bp.systolic last.slope.bp.systolic\n",
       "1 <U+22EF>  4.198161              -4.475980            -4.475980             \n",
       "2 <U+22EF> 17.392381             -65.221429            17.392381             \n",
       "3 <U+22EF> 18.446465              -6.297241            18.446465             \n",
       "4 <U+22EF> 16.601818              -6.522143             0.000000             \n",
       "5 <U+22EF>  9.223232             -10.145556             9.223232             \n",
       "6 <U+22EF> 23.412821             -13.834848            -9.223232             \n",
       "  mean.slope.bp.systolic num.slope.bp.systolic.visits sum.slope.bp.systolic\n",
       "1  -1.36080094           3                             -4.0824028          \n",
       "2 -17.60978571           4                            -70.4391429          \n",
       "3   3.26931374           3                              9.8079412          \n",
       "4   2.08510931           4                              8.3404372          \n",
       "5  -1.79943454           3                             -5.3983036          \n",
       "6   0.08868493           4                              0.3547397          \n",
       "  first.slope.bp.systolic.date meansquares.slope.bp.systolic\n",
       "1 16.0                           17.37794                   \n",
       "2  7.0                         1266.88652                   \n",
       "3 14.5                          128.46964                   \n",
       "4  5.5                           80.29592                   \n",
       "5 17.0                           69.34490                   \n",
       "6  6.5                          206.15780                   \n",
       "  sd.slope.bp.systolic slope.bp.systolic.slope\n",
       "1  3.940325             -0.3295982            \n",
       "2 30.931892             29.9343926            \n",
       "3 10.852706             13.2125602            \n",
       "4  8.714828             -6.1248970            \n",
       "5  8.130617              6.5662736            \n",
       "6 14.357922            -12.2633662            "
      ]
     },
     "metadata": {},
     "output_type": "display_data"
    },
    {
     "data": {
      "text/html": [
       "<ol class=list-inline>\n",
       "\t<li>1197</li>\n",
       "\t<li>323</li>\n",
       "</ol>\n"
      ],
      "text/latex": [
       "\\begin{enumerate*}\n",
       "\\item 1197\n",
       "\\item 323\n",
       "\\end{enumerate*}\n"
      ],
      "text/markdown": [
       "1. 1197\n",
       "2. 323\n",
       "\n",
       "\n"
      ],
      "text/plain": [
       "[1] 1197  323"
      ]
     },
     "metadata": {},
     "output_type": "display_data"
    },
    {
     "data": {
      "text/html": [
       "<ol class=list-inline>\n",
       "\t<li>-0.922323232323232</li>\n",
       "\t<li>-0.385274261603376</li>\n",
       "\t<li>-0.118430609597925</li>\n",
       "\t<li>-1.18584415584416</li>\n",
       "\t<li>-1.01081180811808</li>\n",
       "\t<li>-0.108702380952381</li>\n",
       "</ol>\n"
      ],
      "text/latex": [
       "\\begin{enumerate*}\n",
       "\\item -0.922323232323232\n",
       "\\item -0.385274261603376\n",
       "\\item -0.118430609597925\n",
       "\\item -1.18584415584416\n",
       "\\item -1.01081180811808\n",
       "\\item -0.108702380952381\n",
       "\\end{enumerate*}\n"
      ],
      "text/markdown": [
       "1. -0.922323232323232\n",
       "2. -0.385274261603376\n",
       "3. -0.118430609597925\n",
       "4. -1.18584415584416\n",
       "5. -1.01081180811808\n",
       "6. -0.108702380952381\n",
       "\n",
       "\n"
      ],
      "text/plain": [
       "[1] -0.9223232 -0.3852743 -0.1184306 -1.1858442 -1.0108118 -0.1087024"
      ]
     },
     "metadata": {},
     "output_type": "display_data"
    }
   ],
   "source": [
    "loadedHW1 = load(\"hw-1-als.RData\")\n",
    "head(loadedHW1) # 'train.X' 'train.y' 'test.X' 'test.y'\n",
    "\n",
    "rDataHW1 = get(loadedHW1)\n",
    "head(rDataHW1)\n",
    "\n",
    "dim(train.X)\n",
    "head(train.y)"
   ]
  },
  {
   "cell_type": "markdown",
   "metadata": {},
   "source": [
    "(a) Fit a regression model to the training data using the Lasso. Select the regularization parameter via cross-validation. To do so, you’ll need to install (and then load) the package `glmnet`. Use the function `cv.glmnet()` within this package to fit the model with cross-validation. Before you do so, use `set.seed(2017)` right before running `cv.glmnet()` to ensure you get the same results as in the solutions. Store the result of `cv.glmnet()` in a variable called `lasso.cv`."
   ]
  },
  {
   "cell_type": "code",
   "execution_count": 40,
   "metadata": {},
   "outputs": [
    {
     "data": {
      "text/html": [
       "<ol class=list-inline>\n",
       "\t<li>'a0'</li>\n",
       "\t<li>'beta'</li>\n",
       "\t<li>'df'</li>\n",
       "\t<li>'dim'</li>\n",
       "\t<li>'lambda'</li>\n",
       "\t<li>'dev.ratio'</li>\n",
       "\t<li>'nulldev'</li>\n",
       "\t<li>'npasses'</li>\n",
       "\t<li>'jerr'</li>\n",
       "\t<li>'offset'</li>\n",
       "\t<li>'call'</li>\n",
       "\t<li>'nobs'</li>\n",
       "</ol>\n"
      ],
      "text/latex": [
       "\\begin{enumerate*}\n",
       "\\item 'a0'\n",
       "\\item 'beta'\n",
       "\\item 'df'\n",
       "\\item 'dim'\n",
       "\\item 'lambda'\n",
       "\\item 'dev.ratio'\n",
       "\\item 'nulldev'\n",
       "\\item 'npasses'\n",
       "\\item 'jerr'\n",
       "\\item 'offset'\n",
       "\\item 'call'\n",
       "\\item 'nobs'\n",
       "\\end{enumerate*}\n"
      ],
      "text/markdown": [
       "1. 'a0'\n",
       "2. 'beta'\n",
       "3. 'df'\n",
       "4. 'dim'\n",
       "5. 'lambda'\n",
       "6. 'dev.ratio'\n",
       "7. 'nulldev'\n",
       "8. 'npasses'\n",
       "9. 'jerr'\n",
       "10. 'offset'\n",
       "11. 'call'\n",
       "12. 'nobs'\n",
       "\n",
       "\n"
      ],
      "text/plain": [
       " [1] \"a0\"        \"beta\"      \"df\"        \"dim\"       \"lambda\"    \"dev.ratio\"\n",
       " [7] \"nulldev\"   \"npasses\"   \"jerr\"      \"offset\"    \"call\"      \"nobs\"     "
      ]
     },
     "metadata": {},
     "output_type": "display_data"
    },
    {
     "data": {
      "text/html": [
       "0.0193589194512196"
      ],
      "text/latex": [
       "0.0193589194512196"
      ],
      "text/markdown": [
       "0.0193589194512196"
      ],
      "text/plain": [
       "[1] 0.01935892"
      ]
     },
     "metadata": {},
     "output_type": "display_data"
    },
    {
     "data": {
      "text/plain": [
       "6 x 1 sparse Matrix of class \"dgCMatrix\"\n",
       "                                        1\n",
       "(Intercept)                 -0.3832976029\n",
       "(Intercept)                  .           \n",
       "Onset.Delta                 -0.0004004848\n",
       "Symptom.Speech               .           \n",
       "Symptom.WEAKNESS             .           \n",
       "Site.of.Onset.Onset..Bulbar -0.0575485482"
      ]
     },
     "metadata": {},
     "output_type": "display_data"
    }
   ],
   "source": [
    "set.seed(2017)\n",
    "lasso.cv = cv.glmnet(x=as.matrix(train.X), y=train.y)\n",
    "names(lasso.cv$glmnet.fit)\n",
    "\n",
    "# write.csv(lasso.cv$glmnet.fit, file=\"lasso.cv.csv\")\n",
    "# lasso.cv$glmnet.fit\n",
    "\n",
    "bestlam = lasso.cv$lambda.min\n",
    "bestlam\n",
    "\n",
    "lasso.coef = predict(lasso.mod, type=\"coefficients\", s=bestlam)\n",
    "head(lasso.coef)"
   ]
  },
  {
   "cell_type": "code",
   "execution_count": 41,
   "metadata": {},
   "outputs": [],
   "source": [
    "# wrong\n",
    "\n",
    "# model.matrix to produce a matrix with X predictors\n",
    "# also automatically transforms any qualitative variables into dummy variables\n",
    "# x = model.matrix(train.y~., train.X)\n",
    "# y = train.y\n",
    "\n",
    "# grid of values ranging from λ=10^10 to λ=10^-2\n",
    "# grid = 10^seq(10, -2, length=100)\n",
    "# alpha=0 for ridge regression\n",
    "# alpha=1 for lasso\n",
    "# automatically standardize variables\n",
    "# lasso.mod = glmnet(x, y, alpha=1, lambda=grid)\n",
    "# lasso.mod = glmnet(x, y, alpha=1)\n",
    "\n",
    "# set.seed(2017)\n",
    "# lasso.cv = cv.glmnet(x, y, alpha=1)"
   ]
  },
  {
   "cell_type": "markdown",
   "metadata": {},
   "source": [
    "(b) Produce a plot via `plot(lasso.cv)` to visualize the cross-validated error for different values of your parameter."
   ]
  },
  {
   "cell_type": "code",
   "execution_count": 42,
   "metadata": {},
   "outputs": [
    {
     "data": {
      "image/png": "[encoded data removed]",
      "text/plain": [
       "plot without title"
      ]
     },
     "metadata": {},
     "output_type": "display_data"
    }
   ],
   "source": [
    "plot(lasso.cv)"
   ]
  },
  {
   "cell_type": "markdown",
   "metadata": {},
   "source": [
    "(c) Let’s use the 1-standard-error rule to pick the tuning parameter $λ$. Set\n",
    "\n",
    "```R\n",
    "my.lambda = lasso.cv$lambda.1se\n",
    "```\n",
    "\n",
    "Print the value of the `my.lambda`."
   ]
  },
  {
   "cell_type": "code",
   "execution_count": 43,
   "metadata": {},
   "outputs": [
    {
     "data": {
      "text/html": [
       "0.0712094577138262"
      ],
      "text/latex": [
       "0.0712094577138262"
      ],
      "text/markdown": [
       "0.0712094577138262"
      ],
      "text/plain": [
       "[1] 0.07120946"
      ]
     },
     "metadata": {},
     "output_type": "display_data"
    }
   ],
   "source": [
    "my.lambda = lasso.cv$lambda.1se\n",
    "my.lambda"
   ]
  },
  {
   "cell_type": "markdown",
   "metadata": {},
   "source": [
    "(d) Display the predictors with non-zero coefficients via\n",
    "\n",
    "```R\n",
    "nonzero = predict(lasso.cv, s=\"lambda.1se\", type=\"nonzero\")\n",
    "colnames(train.X)[nonzero]\n",
    "```\n",
    "\n",
    "Out of the 323 original predictors, how many have non-zero coefficients?"
   ]
  },
  {
   "cell_type": "code",
   "execution_count": 47,
   "metadata": {},
   "outputs": [
    {
     "data": {
      "text/html": [
       "<ol class=list-inline>\n",
       "\t<li>9</li>\n",
       "\t<li>1</li>\n",
       "</ol>\n"
      ],
      "text/latex": [
       "\\begin{enumerate*}\n",
       "\\item 9\n",
       "\\item 1\n",
       "\\end{enumerate*}\n"
      ],
      "text/markdown": [
       "1. 9\n",
       "2. 1\n",
       "\n",
       "\n"
      ],
      "text/plain": [
       "[1] 9 1"
      ]
     },
     "metadata": {},
     "output_type": "display_data"
    },
    {
     "data": {
      "text/html": [
       "<ol class=list-inline>\n",
       "\t<li>'Onset.Delta'</li>\n",
       "\t<li>'sd.alsfrs.score'</li>\n",
       "\t<li>'alsfrs.score.slope'</li>\n",
       "\t<li>'last.speech'</li>\n",
       "\t<li>'fvc.liters.slope'</li>\n",
       "\t<li>'min.slope.alsfrs.score'</li>\n",
       "\t<li>'sum.slope.alsfrs.score'</li>\n",
       "\t<li>'min.slope.speech'</li>\n",
       "\t<li>'sum.slope.speech'</li>\n",
       "</ol>\n"
      ],
      "text/latex": [
       "\\begin{enumerate*}\n",
       "\\item 'Onset.Delta'\n",
       "\\item 'sd.alsfrs.score'\n",
       "\\item 'alsfrs.score.slope'\n",
       "\\item 'last.speech'\n",
       "\\item 'fvc.liters.slope'\n",
       "\\item 'min.slope.alsfrs.score'\n",
       "\\item 'sum.slope.alsfrs.score'\n",
       "\\item 'min.slope.speech'\n",
       "\\item 'sum.slope.speech'\n",
       "\\end{enumerate*}\n"
      ],
      "text/markdown": [
       "1. 'Onset.Delta'\n",
       "2. 'sd.alsfrs.score'\n",
       "3. 'alsfrs.score.slope'\n",
       "4. 'last.speech'\n",
       "5. 'fvc.liters.slope'\n",
       "6. 'min.slope.alsfrs.score'\n",
       "7. 'sum.slope.alsfrs.score'\n",
       "8. 'min.slope.speech'\n",
       "9. 'sum.slope.speech'\n",
       "\n",
       "\n"
      ],
      "text/plain": [
       "[1] \"Onset.Delta\"            \"sd.alsfrs.score\"        \"alsfrs.score.slope\"    \n",
       "[4] \"last.speech\"            \"fvc.liters.slope\"       \"min.slope.alsfrs.score\"\n",
       "[7] \"sum.slope.alsfrs.score\" \"min.slope.speech\"       \"sum.slope.speech\"      "
      ]
     },
     "metadata": {},
     "output_type": "display_data"
    },
    {
     "data": {
      "text/html": [
       "<ol class=list-inline>\n",
       "\t<li>'Onset.Delta'</li>\n",
       "\t<li>'sd.alsfrs.score'</li>\n",
       "\t<li>'alsfrs.score.slope'</li>\n",
       "\t<li>'last.speech'</li>\n",
       "\t<li>'fvc.liters.slope'</li>\n",
       "\t<li>'min.slope.alsfrs.score'</li>\n",
       "\t<li>'sum.slope.alsfrs.score'</li>\n",
       "\t<li>'min.slope.speech'</li>\n",
       "\t<li>'sum.slope.speech'</li>\n",
       "</ol>\n"
      ],
      "text/latex": [
       "\\begin{enumerate*}\n",
       "\\item 'Onset.Delta'\n",
       "\\item 'sd.alsfrs.score'\n",
       "\\item 'alsfrs.score.slope'\n",
       "\\item 'last.speech'\n",
       "\\item 'fvc.liters.slope'\n",
       "\\item 'min.slope.alsfrs.score'\n",
       "\\item 'sum.slope.alsfrs.score'\n",
       "\\item 'min.slope.speech'\n",
       "\\item 'sum.slope.speech'\n",
       "\\end{enumerate*}\n"
      ],
      "text/markdown": [
       "1. 'Onset.Delta'\n",
       "2. 'sd.alsfrs.score'\n",
       "3. 'alsfrs.score.slope'\n",
       "4. 'last.speech'\n",
       "5. 'fvc.liters.slope'\n",
       "6. 'min.slope.alsfrs.score'\n",
       "7. 'sum.slope.alsfrs.score'\n",
       "8. 'min.slope.speech'\n",
       "9. 'sum.slope.speech'\n",
       "\n",
       "\n"
      ],
      "text/plain": [
       "[1] \"Onset.Delta\"            \"sd.alsfrs.score\"        \"alsfrs.score.slope\"    \n",
       "[4] \"last.speech\"            \"fvc.liters.slope\"       \"min.slope.alsfrs.score\"\n",
       "[7] \"sum.slope.alsfrs.score\" \"min.slope.speech\"       \"sum.slope.speech\"      "
      ]
     },
     "metadata": {},
     "output_type": "display_data"
    }
   ],
   "source": [
    "nonzero = predict(lasso.cv, type=\"nonzero\", s='lambda.1se')\n",
    "dim(nonzero)\n",
    "\n",
    "# colnames(train.X)[nonzero]\n",
    "# error: invalid subscript type 'list'\n",
    "colnames(train.X)[as.numeric(unlist(nonzero))]\n",
    "\n",
    "# 9 non-zero coefficients\n",
    "colnames(train.X)[nonzero[,]]"
   ]
  },
  {
   "cell_type": "markdown",
   "metadata": {},
   "source": [
    "(e) Compute the test `RMSE` for the model fit in part (b), using the regularization parameter chosen in part (c).\n",
    "\n",
    "Note that it performs significantly better than the linear regression from Homework 1 (which had an `RMSE` of 0.7527). In the ALS Prediction Prize4Life Challenge mentioned in Homework 1, the test error from the Lasso model alone already yielded a very competitive score for the challenge!"
   ]
  },
  {
   "cell_type": "code",
   "execution_count": 48,
   "metadata": {},
   "outputs": [
    {
     "data": {
      "text/html": [
       "0.526945706527386"
      ],
      "text/latex": [
       "0.526945706527386"
      ],
      "text/markdown": [
       "0.526945706527386"
      ],
      "text/plain": [
       "[1] 0.5269457"
      ]
     },
     "metadata": {},
     "output_type": "display_data"
    }
   ],
   "source": [
    "lasso.test.pred = predict(lasso.cv, as.matrix(test.X), s='lambda.1se')\n",
    "sqrt(mean((lasso.test.pred - test.y)^2))"
   ]
  },
  {
   "cell_type": "code",
   "execution_count": 17,
   "metadata": {},
   "outputs": [
    {
     "data": {
      "text/html": [
       "0.278140092741145"
      ],
      "text/latex": [
       "0.278140092741145"
      ],
      "text/markdown": [
       "0.278140092741145"
      ],
      "text/plain": [
       "[1] 0.2781401"
      ]
     },
     "metadata": {},
     "output_type": "display_data"
    }
   ],
   "source": [
    "# wrong\n",
    "tx = model.matrix(test.y~., test.X)\n",
    "lasso.pred = predict(lasso.mod, s=bestlam, newx=tx)\n",
    "mean((lasso.pred-test.y)^2)"
   ]
  },
  {
   "cell_type": "markdown",
   "metadata": {},
   "source": [
    "(f) Repeat parts (a,d,e) using ridge regression instead of the Lasso. Set again the seed to the value 2017 before calling `cv.glmnet()`. Store the result of cv.glmnet() in a variable called ridge.cv. Comment on your findings."
   ]
  },
  {
   "cell_type": "code",
   "execution_count": 50,
   "metadata": {},
   "outputs": [
    {
     "data": {
      "text/html": [
       "<ol class=list-inline>\n",
       "\t<li>'Onset.Delta'</li>\n",
       "\t<li>'Symptom.Speech'</li>\n",
       "\t<li>'Symptom.WEAKNESS'</li>\n",
       "\t<li>'Site.of.Onset.Onset..Bulbar'</li>\n",
       "\t<li>'Site.of.Onset.Onset..Limb'</li>\n",
       "\t<li>'Race...Caucasian'</li>\n",
       "\t<li>'Age'</li>\n",
       "\t<li>'Sex.Female'</li>\n",
       "\t<li>'Sex.Male'</li>\n",
       "\t<li>'Mother'</li>\n",
       "\t<li>'Family'</li>\n",
       "\t<li>'Study.Arm.PLACEBO'</li>\n",
       "\t<li>'Study.Arm.ACTIVE'</li>\n",
       "\t<li>'max.alsfrs.score'</li>\n",
       "\t<li>'min.alsfrs.score'</li>\n",
       "\t<li>'last.alsfrs.score'</li>\n",
       "\t<li>'mean.alsfrs.score'</li>\n",
       "\t<li>'num.alsfrs.score.visits'</li>\n",
       "\t<li>'sum.alsfrs.score'</li>\n",
       "\t<li>'first.alsfrs.score.date'</li>\n",
       "\t<li>'last.alsfrs.score.date'</li>\n",
       "\t<li>'meansquares.alsfrs.score'</li>\n",
       "\t<li>'sd.alsfrs.score'</li>\n",
       "\t<li>'alsfrs.score.slope'</li>\n",
       "\t<li>'max.speech'</li>\n",
       "\t<li>'min.speech'</li>\n",
       "\t<li>'last.speech'</li>\n",
       "\t<li>'mean.speech'</li>\n",
       "\t<li>'sum.speech'</li>\n",
       "\t<li>'meansquares.speech'</li>\n",
       "\t<li>'sd.speech'</li>\n",
       "\t<li>'speech.slope'</li>\n",
       "\t<li>'max.salivation'</li>\n",
       "\t<li>'min.salivation'</li>\n",
       "\t<li>'last.salivation'</li>\n",
       "\t<li>'mean.salivation'</li>\n",
       "\t<li>'sum.salivation'</li>\n",
       "\t<li>'meansquares.salivation'</li>\n",
       "\t<li>'sd.salivation'</li>\n",
       "\t<li>'salivation.slope'</li>\n",
       "\t<li>'max.swallowing'</li>\n",
       "\t<li>'min.swallowing'</li>\n",
       "\t<li>'last.swallowing'</li>\n",
       "\t<li>'mean.swallowing'</li>\n",
       "\t<li>'sum.swallowing'</li>\n",
       "\t<li>'meansquares.swallowing'</li>\n",
       "\t<li>'sd.swallowing'</li>\n",
       "\t<li>'swallowing.slope'</li>\n",
       "\t<li>'max.handwriting'</li>\n",
       "\t<li>'min.handwriting'</li>\n",
       "\t<li>'last.handwriting'</li>\n",
       "\t<li>'mean.handwriting'</li>\n",
       "\t<li>'sum.handwriting'</li>\n",
       "\t<li>'meansquares.handwriting'</li>\n",
       "\t<li>'sd.handwriting'</li>\n",
       "\t<li>'handwriting.slope'</li>\n",
       "\t<li>'max.cutting'</li>\n",
       "\t<li>'min.cutting'</li>\n",
       "\t<li>'last.cutting'</li>\n",
       "\t<li>'mean.cutting'</li>\n",
       "\t<li>'sum.cutting'</li>\n",
       "\t<li>'meansquares.cutting'</li>\n",
       "\t<li>'sd.cutting'</li>\n",
       "\t<li>'cutting.slope'</li>\n",
       "\t<li>'max.dressing'</li>\n",
       "\t<li>'min.dressing'</li>\n",
       "\t<li>'last.dressing'</li>\n",
       "\t<li>'mean.dressing'</li>\n",
       "\t<li>'sum.dressing'</li>\n",
       "\t<li>'meansquares.dressing'</li>\n",
       "\t<li>'sd.dressing'</li>\n",
       "\t<li>'dressing.slope'</li>\n",
       "\t<li>'max.turning'</li>\n",
       "\t<li>'min.turning'</li>\n",
       "\t<li>'last.turning'</li>\n",
       "\t<li>'mean.turning'</li>\n",
       "\t<li>'sum.turning'</li>\n",
       "\t<li>'meansquares.turning'</li>\n",
       "\t<li>'sd.turning'</li>\n",
       "\t<li>'turning.slope'</li>\n",
       "\t<li>'max.walking'</li>\n",
       "\t<li>'min.walking'</li>\n",
       "\t<li>'last.walking'</li>\n",
       "\t<li>'mean.walking'</li>\n",
       "\t<li>'sum.walking'</li>\n",
       "\t<li>'meansquares.walking'</li>\n",
       "\t<li>'sd.walking'</li>\n",
       "\t<li>'walking.slope'</li>\n",
       "\t<li>'max.climbing.stairs'</li>\n",
       "\t<li>'min.climbing.stairs'</li>\n",
       "\t<li>'last.climbing.stairs'</li>\n",
       "\t<li>'mean.climbing.stairs'</li>\n",
       "\t<li>'sum.climbing.stairs'</li>\n",
       "\t<li>'meansquares.climbing.stairs'</li>\n",
       "\t<li>'sd.climbing.stairs'</li>\n",
       "\t<li>'climbing.stairs.slope'</li>\n",
       "\t<li>'max.fvc.liters'</li>\n",
       "\t<li>'min.fvc.liters'</li>\n",
       "\t<li>'last.fvc.liters'</li>\n",
       "\t<li>'mean.fvc.liters'</li>\n",
       "\t<li>'num.fvc.liters.visits'</li>\n",
       "\t<li>'sum.fvc.liters'</li>\n",
       "\t<li>'last.fvc.liters.date'</li>\n",
       "\t<li>'meansquares.fvc.liters'</li>\n",
       "\t<li>'sd.fvc.liters'</li>\n",
       "\t<li>'fvc.liters.slope'</li>\n",
       "\t<li>'lessthan2.fvc.liters'</li>\n",
       "\t<li>'no.fvc.liters.data'</li>\n",
       "\t<li>'max.svc.liters'</li>\n",
       "\t<li>'min.svc.liters'</li>\n",
       "\t<li>'last.svc.liters'</li>\n",
       "\t<li>'mean.svc.liters'</li>\n",
       "\t<li>'num.svc.liters.visits'</li>\n",
       "\t<li>'sum.svc.liters'</li>\n",
       "\t<li>'last.svc.liters.date'</li>\n",
       "\t<li>'meansquares.svc.liters'</li>\n",
       "\t<li>'sd.svc.liters'</li>\n",
       "\t<li>'svc.liters.slope'</li>\n",
       "\t<li>'max.weight'</li>\n",
       "\t<li>'min.weight'</li>\n",
       "\t<li>'last.weight'</li>\n",
       "\t<li>'mean.weight'</li>\n",
       "\t<li>'num.weight.visits'</li>\n",
       "\t<li>'sum.weight'</li>\n",
       "\t<li>'last.weight.date'</li>\n",
       "\t<li>'meansquares.weight'</li>\n",
       "\t<li>'sd.weight'</li>\n",
       "\t<li>'weight.slope'</li>\n",
       "\t<li>'lessthan2.weight'</li>\n",
       "\t<li>'max.height'</li>\n",
       "\t<li>'min.height'</li>\n",
       "\t<li>'mean.height'</li>\n",
       "\t<li>'num.height.visits'</li>\n",
       "\t<li>'sum.height'</li>\n",
       "\t<li>'last.height.date'</li>\n",
       "\t<li>'meansquares.height'</li>\n",
       "\t<li>'no.height.data'</li>\n",
       "\t<li>'max.resp.rate'</li>\n",
       "\t<li>'min.resp.rate'</li>\n",
       "\t<li>'last.resp.rate'</li>\n",
       "\t<li>'mean.resp.rate'</li>\n",
       "\t<li>'num.resp.rate.visits'</li>\n",
       "\t<li>'sum.resp.rate'</li>\n",
       "\t<li>'last.resp.rate.date'</li>\n",
       "\t<li>'meansquares.resp.rate'</li>\n",
       "\t<li>'sd.resp.rate'</li>\n",
       "\t<li>'resp.rate.slope'</li>\n",
       "\t<li>'lessthan2.resp.rate'</li>\n",
       "\t<li>'no.resp.rate.data'</li>\n",
       "\t<li>'max.bp.diastolic'</li>\n",
       "\t<li>'min.bp.diastolic'</li>\n",
       "\t<li>'last.bp.diastolic'</li>\n",
       "\t<li>'mean.bp.diastolic'</li>\n",
       "\t<li>'num.bp.diastolic.visits'</li>\n",
       "\t<li>'sum.bp.diastolic'</li>\n",
       "\t<li>'last.bp.diastolic.date'</li>\n",
       "\t<li>'meansquares.bp.diastolic'</li>\n",
       "\t<li>'sd.bp.diastolic'</li>\n",
       "\t<li>'bp.diastolic.slope'</li>\n",
       "\t<li>'lessthan2.bp.diastolic'</li>\n",
       "\t<li>'no.bp.diastolic.data'</li>\n",
       "\t<li>'max.bp.systolic'</li>\n",
       "\t<li>'min.bp.systolic'</li>\n",
       "\t<li>'last.bp.systolic'</li>\n",
       "\t<li>'mean.bp.systolic'</li>\n",
       "\t<li>'num.bp.systolic.visits'</li>\n",
       "\t<li>'sum.bp.systolic'</li>\n",
       "\t<li>'meansquares.bp.systolic'</li>\n",
       "\t<li>'sd.bp.systolic'</li>\n",
       "\t<li>'bp.systolic.slope'</li>\n",
       "\t<li>'max.slope.alsfrs.score'</li>\n",
       "\t<li>'min.slope.alsfrs.score'</li>\n",
       "\t<li>'last.slope.alsfrs.score'</li>\n",
       "\t<li>'mean.slope.alsfrs.score'</li>\n",
       "\t<li>'num.slope.alsfrs.score.visits'</li>\n",
       "\t<li>'sum.slope.alsfrs.score'</li>\n",
       "\t<li>'first.slope.alsfrs.score.date'</li>\n",
       "\t<li>'last.slope.alsfrs.score.date'</li>\n",
       "\t<li>'meansquares.slope.alsfrs.score'</li>\n",
       "\t<li>'sd.slope.alsfrs.score'</li>\n",
       "\t<li>'slope.alsfrs.score.slope'</li>\n",
       "\t<li>'max.slope.speech'</li>\n",
       "\t<li>'min.slope.speech'</li>\n",
       "\t<li>'last.slope.speech'</li>\n",
       "\t<li>'mean.slope.speech'</li>\n",
       "\t<li>'sum.slope.speech'</li>\n",
       "\t<li>'meansquares.slope.speech'</li>\n",
       "\t<li>'sd.slope.speech'</li>\n",
       "\t<li>'slope.speech.slope'</li>\n",
       "\t<li>'max.slope.salivation'</li>\n",
       "\t<li>'min.slope.salivation'</li>\n",
       "\t<li>'last.slope.salivation'</li>\n",
       "\t<li>'mean.slope.salivation'</li>\n",
       "\t<li>'sum.slope.salivation'</li>\n",
       "\t<li>'meansquares.slope.salivation'</li>\n",
       "\t<li>'sd.slope.salivation'</li>\n",
       "\t<li>'slope.salivation.slope'</li>\n",
       "\t<li>'max.slope.swallowing'</li>\n",
       "\t<li>'min.slope.swallowing'</li>\n",
       "\t<li>'last.slope.swallowing'</li>\n",
       "\t<li>'mean.slope.swallowing'</li>\n",
       "\t<li>'sum.slope.swallowing'</li>\n",
       "\t<li>'meansquares.slope.swallowing'</li>\n",
       "\t<li>'sd.slope.swallowing'</li>\n",
       "\t<li>'slope.swallowing.slope'</li>\n",
       "\t<li>'max.slope.handwriting'</li>\n",
       "\t<li>'min.slope.handwriting'</li>\n",
       "\t<li>'last.slope.handwriting'</li>\n",
       "\t<li>'mean.slope.handwriting'</li>\n",
       "\t<li>'sum.slope.handwriting'</li>\n",
       "\t<li>'meansquares.slope.handwriting'</li>\n",
       "\t<li>'sd.slope.handwriting'</li>\n",
       "\t<li>'slope.handwriting.slope'</li>\n",
       "\t<li>'max.slope.cutting'</li>\n",
       "\t<li>'min.slope.cutting'</li>\n",
       "\t<li>'last.slope.cutting'</li>\n",
       "\t<li>'mean.slope.cutting'</li>\n",
       "\t<li>'sum.slope.cutting'</li>\n",
       "\t<li>'meansquares.slope.cutting'</li>\n",
       "\t<li>'sd.slope.cutting'</li>\n",
       "\t<li>'slope.cutting.slope'</li>\n",
       "\t<li>'max.slope.dressing'</li>\n",
       "\t<li>'min.slope.dressing'</li>\n",
       "\t<li>'last.slope.dressing'</li>\n",
       "\t<li>'mean.slope.dressing'</li>\n",
       "\t<li>'sum.slope.dressing'</li>\n",
       "\t<li>'meansquares.slope.dressing'</li>\n",
       "\t<li>'sd.slope.dressing'</li>\n",
       "\t<li>'slope.dressing.slope'</li>\n",
       "\t<li>'max.slope.turning'</li>\n",
       "\t<li>'min.slope.turning'</li>\n",
       "\t<li>'last.slope.turning'</li>\n",
       "\t<li>'mean.slope.turning'</li>\n",
       "\t<li>'sum.slope.turning'</li>\n",
       "\t<li>'meansquares.slope.turning'</li>\n",
       "\t<li>'sd.slope.turning'</li>\n",
       "\t<li>'slope.turning.slope'</li>\n",
       "\t<li>'max.slope.walking'</li>\n",
       "\t<li>'min.slope.walking'</li>\n",
       "\t<li>'last.slope.walking'</li>\n",
       "\t<li>'mean.slope.walking'</li>\n",
       "\t<li>'sum.slope.walking'</li>\n",
       "\t<li>'meansquares.slope.walking'</li>\n",
       "\t<li>'sd.slope.walking'</li>\n",
       "\t<li>'slope.walking.slope'</li>\n",
       "\t<li>'max.slope.climbing.stairs'</li>\n",
       "\t<li>'min.slope.climbing.stairs'</li>\n",
       "\t<li>'last.slope.climbing.stairs'</li>\n",
       "\t<li>'mean.slope.climbing.stairs'</li>\n",
       "\t<li>'sum.slope.climbing.stairs'</li>\n",
       "\t<li>'meansquares.slope.climbing.stairs'</li>\n",
       "\t<li>'sd.slope.climbing.stairs'</li>\n",
       "\t<li>'slope.climbing.stairs.slope'</li>\n",
       "\t<li>'max.slope.fvc.liters'</li>\n",
       "\t<li>'min.slope.fvc.liters'</li>\n",
       "\t<li>'last.slope.fvc.liters'</li>\n",
       "\t<li>'mean.slope.fvc.liters'</li>\n",
       "\t<li>'num.slope.fvc.liters.visits'</li>\n",
       "\t<li>'sum.slope.fvc.liters'</li>\n",
       "\t<li>'first.slope.fvc.liters.date'</li>\n",
       "\t<li>'last.slope.fvc.liters.date'</li>\n",
       "\t<li>'meansquares.slope.fvc.liters'</li>\n",
       "\t<li>'sd.slope.fvc.liters'</li>\n",
       "\t<li>'slope.fvc.liters.slope'</li>\n",
       "\t<li>'lessthan2.slope.fvc.liters'</li>\n",
       "\t<li>'no.slope.fvc.liters.data'</li>\n",
       "\t<li>'max.slope.svc.liters'</li>\n",
       "\t<li>'min.slope.svc.liters'</li>\n",
       "\t<li>'last.slope.svc.liters'</li>\n",
       "\t<li>'mean.slope.svc.liters'</li>\n",
       "\t<li>'first.slope.svc.liters.date'</li>\n",
       "\t<li>'last.slope.svc.liters.date'</li>\n",
       "\t<li>'meansquares.slope.svc.liters'</li>\n",
       "\t<li>'sd.slope.svc.liters'</li>\n",
       "\t<li>'slope.svc.liters.slope'</li>\n",
       "\t<li>'max.slope.weight'</li>\n",
       "\t<li>'min.slope.weight'</li>\n",
       "\t<li>'last.slope.weight'</li>\n",
       "\t<li>'mean.slope.weight'</li>\n",
       "\t<li>'num.slope.weight.visits'</li>\n",
       "\t<li>'sum.slope.weight'</li>\n",
       "\t<li>'first.slope.weight.date'</li>\n",
       "\t<li>'last.slope.weight.date'</li>\n",
       "\t<li>'meansquares.slope.weight'</li>\n",
       "\t<li>'sd.slope.weight'</li>\n",
       "\t<li>'slope.weight.slope'</li>\n",
       "\t<li>'lessthan2.slope.weight'</li>\n",
       "\t<li>'first.slope.height.date'</li>\n",
       "\t<li>'max.slope.resp.rate'</li>\n",
       "\t<li>'min.slope.resp.rate'</li>\n",
       "\t<li>'last.slope.resp.rate'</li>\n",
       "\t<li>'mean.slope.resp.rate'</li>\n",
       "\t<li>'num.slope.resp.rate.visits'</li>\n",
       "\t<li>'sum.slope.resp.rate'</li>\n",
       "\t<li>'first.slope.resp.rate.date'</li>\n",
       "\t<li>'last.slope.resp.rate.date'</li>\n",
       "\t<li>'meansquares.slope.resp.rate'</li>\n",
       "\t<li>'sd.slope.resp.rate'</li>\n",
       "\t<li>'slope.resp.rate.slope'</li>\n",
       "\t<li>'lessthan2.slope.resp.rate'</li>\n",
       "\t<li>'no.slope.resp.rate.data'</li>\n",
       "\t<li>'max.slope.bp.diastolic'</li>\n",
       "\t<li>'min.slope.bp.diastolic'</li>\n",
       "\t<li>'last.slope.bp.diastolic'</li>\n",
       "\t<li>'mean.slope.bp.diastolic'</li>\n",
       "\t<li>'num.slope.bp.diastolic.visits'</li>\n",
       "\t<li>'sum.slope.bp.diastolic'</li>\n",
       "\t<li>'first.slope.bp.diastolic.date'</li>\n",
       "\t<li>'last.slope.bp.diastolic.date'</li>\n",
       "\t<li>'meansquares.slope.bp.diastolic'</li>\n",
       "\t<li>'sd.slope.bp.diastolic'</li>\n",
       "\t<li>'slope.bp.diastolic.slope'</li>\n",
       "\t<li>'lessthan2.slope.bp.diastolic'</li>\n",
       "\t<li>'max.slope.bp.systolic'</li>\n",
       "\t<li>'min.slope.bp.systolic'</li>\n",
       "\t<li>'last.slope.bp.systolic'</li>\n",
       "\t<li>'mean.slope.bp.systolic'</li>\n",
       "\t<li>'num.slope.bp.systolic.visits'</li>\n",
       "\t<li>'sum.slope.bp.systolic'</li>\n",
       "\t<li>'first.slope.bp.systolic.date'</li>\n",
       "\t<li>'meansquares.slope.bp.systolic'</li>\n",
       "\t<li>'sd.slope.bp.systolic'</li>\n",
       "\t<li>'slope.bp.systolic.slope'</li>\n",
       "</ol>\n"
      ],
      "text/latex": [
       "\\begin{enumerate*}\n",
       "\\item 'Onset.Delta'\n",
       "\\item 'Symptom.Speech'\n",
       "\\item 'Symptom.WEAKNESS'\n",
       "\\item 'Site.of.Onset.Onset..Bulbar'\n",
       "\\item 'Site.of.Onset.Onset..Limb'\n",
       "\\item 'Race...Caucasian'\n",
       "\\item 'Age'\n",
       "\\item 'Sex.Female'\n",
       "\\item 'Sex.Male'\n",
       "\\item 'Mother'\n",
       "\\item 'Family'\n",
       "\\item 'Study.Arm.PLACEBO'\n",
       "\\item 'Study.Arm.ACTIVE'\n",
       "\\item 'max.alsfrs.score'\n",
       "\\item 'min.alsfrs.score'\n",
       "\\item 'last.alsfrs.score'\n",
       "\\item 'mean.alsfrs.score'\n",
       "\\item 'num.alsfrs.score.visits'\n",
       "\\item 'sum.alsfrs.score'\n",
       "\\item 'first.alsfrs.score.date'\n",
       "\\item 'last.alsfrs.score.date'\n",
       "\\item 'meansquares.alsfrs.score'\n",
       "\\item 'sd.alsfrs.score'\n",
       "\\item 'alsfrs.score.slope'\n",
       "\\item 'max.speech'\n",
       "\\item 'min.speech'\n",
       "\\item 'last.speech'\n",
       "\\item 'mean.speech'\n",
       "\\item 'sum.speech'\n",
       "\\item 'meansquares.speech'\n",
       "\\item 'sd.speech'\n",
       "\\item 'speech.slope'\n",
       "\\item 'max.salivation'\n",
       "\\item 'min.salivation'\n",
       "\\item 'last.salivation'\n",
       "\\item 'mean.salivation'\n",
       "\\item 'sum.salivation'\n",
       "\\item 'meansquares.salivation'\n",
       "\\item 'sd.salivation'\n",
       "\\item 'salivation.slope'\n",
       "\\item 'max.swallowing'\n",
       "\\item 'min.swallowing'\n",
       "\\item 'last.swallowing'\n",
       "\\item 'mean.swallowing'\n",
       "\\item 'sum.swallowing'\n",
       "\\item 'meansquares.swallowing'\n",
       "\\item 'sd.swallowing'\n",
       "\\item 'swallowing.slope'\n",
       "\\item 'max.handwriting'\n",
       "\\item 'min.handwriting'\n",
       "\\item 'last.handwriting'\n",
       "\\item 'mean.handwriting'\n",
       "\\item 'sum.handwriting'\n",
       "\\item 'meansquares.handwriting'\n",
       "\\item 'sd.handwriting'\n",
       "\\item 'handwriting.slope'\n",
       "\\item 'max.cutting'\n",
       "\\item 'min.cutting'\n",
       "\\item 'last.cutting'\n",
       "\\item 'mean.cutting'\n",
       "\\item 'sum.cutting'\n",
       "\\item 'meansquares.cutting'\n",
       "\\item 'sd.cutting'\n",
       "\\item 'cutting.slope'\n",
       "\\item 'max.dressing'\n",
       "\\item 'min.dressing'\n",
       "\\item 'last.dressing'\n",
       "\\item 'mean.dressing'\n",
       "\\item 'sum.dressing'\n",
       "\\item 'meansquares.dressing'\n",
       "\\item 'sd.dressing'\n",
       "\\item 'dressing.slope'\n",
       "\\item 'max.turning'\n",
       "\\item 'min.turning'\n",
       "\\item 'last.turning'\n",
       "\\item 'mean.turning'\n",
       "\\item 'sum.turning'\n",
       "\\item 'meansquares.turning'\n",
       "\\item 'sd.turning'\n",
       "\\item 'turning.slope'\n",
       "\\item 'max.walking'\n",
       "\\item 'min.walking'\n",
       "\\item 'last.walking'\n",
       "\\item 'mean.walking'\n",
       "\\item 'sum.walking'\n",
       "\\item 'meansquares.walking'\n",
       "\\item 'sd.walking'\n",
       "\\item 'walking.slope'\n",
       "\\item 'max.climbing.stairs'\n",
       "\\item 'min.climbing.stairs'\n",
       "\\item 'last.climbing.stairs'\n",
       "\\item 'mean.climbing.stairs'\n",
       "\\item 'sum.climbing.stairs'\n",
       "\\item 'meansquares.climbing.stairs'\n",
       "\\item 'sd.climbing.stairs'\n",
       "\\item 'climbing.stairs.slope'\n",
       "\\item 'max.fvc.liters'\n",
       "\\item 'min.fvc.liters'\n",
       "\\item 'last.fvc.liters'\n",
       "\\item 'mean.fvc.liters'\n",
       "\\item 'num.fvc.liters.visits'\n",
       "\\item 'sum.fvc.liters'\n",
       "\\item 'last.fvc.liters.date'\n",
       "\\item 'meansquares.fvc.liters'\n",
       "\\item 'sd.fvc.liters'\n",
       "\\item 'fvc.liters.slope'\n",
       "\\item 'lessthan2.fvc.liters'\n",
       "\\item 'no.fvc.liters.data'\n",
       "\\item 'max.svc.liters'\n",
       "\\item 'min.svc.liters'\n",
       "\\item 'last.svc.liters'\n",
       "\\item 'mean.svc.liters'\n",
       "\\item 'num.svc.liters.visits'\n",
       "\\item 'sum.svc.liters'\n",
       "\\item 'last.svc.liters.date'\n",
       "\\item 'meansquares.svc.liters'\n",
       "\\item 'sd.svc.liters'\n",
       "\\item 'svc.liters.slope'\n",
       "\\item 'max.weight'\n",
       "\\item 'min.weight'\n",
       "\\item 'last.weight'\n",
       "\\item 'mean.weight'\n",
       "\\item 'num.weight.visits'\n",
       "\\item 'sum.weight'\n",
       "\\item 'last.weight.date'\n",
       "\\item 'meansquares.weight'\n",
       "\\item 'sd.weight'\n",
       "\\item 'weight.slope'\n",
       "\\item 'lessthan2.weight'\n",
       "\\item 'max.height'\n",
       "\\item 'min.height'\n",
       "\\item 'mean.height'\n",
       "\\item 'num.height.visits'\n",
       "\\item 'sum.height'\n",
       "\\item 'last.height.date'\n",
       "\\item 'meansquares.height'\n",
       "\\item 'no.height.data'\n",
       "\\item 'max.resp.rate'\n",
       "\\item 'min.resp.rate'\n",
       "\\item 'last.resp.rate'\n",
       "\\item 'mean.resp.rate'\n",
       "\\item 'num.resp.rate.visits'\n",
       "\\item 'sum.resp.rate'\n",
       "\\item 'last.resp.rate.date'\n",
       "\\item 'meansquares.resp.rate'\n",
       "\\item 'sd.resp.rate'\n",
       "\\item 'resp.rate.slope'\n",
       "\\item 'lessthan2.resp.rate'\n",
       "\\item 'no.resp.rate.data'\n",
       "\\item 'max.bp.diastolic'\n",
       "\\item 'min.bp.diastolic'\n",
       "\\item 'last.bp.diastolic'\n",
       "\\item 'mean.bp.diastolic'\n",
       "\\item 'num.bp.diastolic.visits'\n",
       "\\item 'sum.bp.diastolic'\n",
       "\\item 'last.bp.diastolic.date'\n",
       "\\item 'meansquares.bp.diastolic'\n",
       "\\item 'sd.bp.diastolic'\n",
       "\\item 'bp.diastolic.slope'\n",
       "\\item 'lessthan2.bp.diastolic'\n",
       "\\item 'no.bp.diastolic.data'\n",
       "\\item 'max.bp.systolic'\n",
       "\\item 'min.bp.systolic'\n",
       "\\item 'last.bp.systolic'\n",
       "\\item 'mean.bp.systolic'\n",
       "\\item 'num.bp.systolic.visits'\n",
       "\\item 'sum.bp.systolic'\n",
       "\\item 'meansquares.bp.systolic'\n",
       "\\item 'sd.bp.systolic'\n",
       "\\item 'bp.systolic.slope'\n",
       "\\item 'max.slope.alsfrs.score'\n",
       "\\item 'min.slope.alsfrs.score'\n",
       "\\item 'last.slope.alsfrs.score'\n",
       "\\item 'mean.slope.alsfrs.score'\n",
       "\\item 'num.slope.alsfrs.score.visits'\n",
       "\\item 'sum.slope.alsfrs.score'\n",
       "\\item 'first.slope.alsfrs.score.date'\n",
       "\\item 'last.slope.alsfrs.score.date'\n",
       "\\item 'meansquares.slope.alsfrs.score'\n",
       "\\item 'sd.slope.alsfrs.score'\n",
       "\\item 'slope.alsfrs.score.slope'\n",
       "\\item 'max.slope.speech'\n",
       "\\item 'min.slope.speech'\n",
       "\\item 'last.slope.speech'\n",
       "\\item 'mean.slope.speech'\n",
       "\\item 'sum.slope.speech'\n",
       "\\item 'meansquares.slope.speech'\n",
       "\\item 'sd.slope.speech'\n",
       "\\item 'slope.speech.slope'\n",
       "\\item 'max.slope.salivation'\n",
       "\\item 'min.slope.salivation'\n",
       "\\item 'last.slope.salivation'\n",
       "\\item 'mean.slope.salivation'\n",
       "\\item 'sum.slope.salivation'\n",
       "\\item 'meansquares.slope.salivation'\n",
       "\\item 'sd.slope.salivation'\n",
       "\\item 'slope.salivation.slope'\n",
       "\\item 'max.slope.swallowing'\n",
       "\\item 'min.slope.swallowing'\n",
       "\\item 'last.slope.swallowing'\n",
       "\\item 'mean.slope.swallowing'\n",
       "\\item 'sum.slope.swallowing'\n",
       "\\item 'meansquares.slope.swallowing'\n",
       "\\item 'sd.slope.swallowing'\n",
       "\\item 'slope.swallowing.slope'\n",
       "\\item 'max.slope.handwriting'\n",
       "\\item 'min.slope.handwriting'\n",
       "\\item 'last.slope.handwriting'\n",
       "\\item 'mean.slope.handwriting'\n",
       "\\item 'sum.slope.handwriting'\n",
       "\\item 'meansquares.slope.handwriting'\n",
       "\\item 'sd.slope.handwriting'\n",
       "\\item 'slope.handwriting.slope'\n",
       "\\item 'max.slope.cutting'\n",
       "\\item 'min.slope.cutting'\n",
       "\\item 'last.slope.cutting'\n",
       "\\item 'mean.slope.cutting'\n",
       "\\item 'sum.slope.cutting'\n",
       "\\item 'meansquares.slope.cutting'\n",
       "\\item 'sd.slope.cutting'\n",
       "\\item 'slope.cutting.slope'\n",
       "\\item 'max.slope.dressing'\n",
       "\\item 'min.slope.dressing'\n",
       "\\item 'last.slope.dressing'\n",
       "\\item 'mean.slope.dressing'\n",
       "\\item 'sum.slope.dressing'\n",
       "\\item 'meansquares.slope.dressing'\n",
       "\\item 'sd.slope.dressing'\n",
       "\\item 'slope.dressing.slope'\n",
       "\\item 'max.slope.turning'\n",
       "\\item 'min.slope.turning'\n",
       "\\item 'last.slope.turning'\n",
       "\\item 'mean.slope.turning'\n",
       "\\item 'sum.slope.turning'\n",
       "\\item 'meansquares.slope.turning'\n",
       "\\item 'sd.slope.turning'\n",
       "\\item 'slope.turning.slope'\n",
       "\\item 'max.slope.walking'\n",
       "\\item 'min.slope.walking'\n",
       "\\item 'last.slope.walking'\n",
       "\\item 'mean.slope.walking'\n",
       "\\item 'sum.slope.walking'\n",
       "\\item 'meansquares.slope.walking'\n",
       "\\item 'sd.slope.walking'\n",
       "\\item 'slope.walking.slope'\n",
       "\\item 'max.slope.climbing.stairs'\n",
       "\\item 'min.slope.climbing.stairs'\n",
       "\\item 'last.slope.climbing.stairs'\n",
       "\\item 'mean.slope.climbing.stairs'\n",
       "\\item 'sum.slope.climbing.stairs'\n",
       "\\item 'meansquares.slope.climbing.stairs'\n",
       "\\item 'sd.slope.climbing.stairs'\n",
       "\\item 'slope.climbing.stairs.slope'\n",
       "\\item 'max.slope.fvc.liters'\n",
       "\\item 'min.slope.fvc.liters'\n",
       "\\item 'last.slope.fvc.liters'\n",
       "\\item 'mean.slope.fvc.liters'\n",
       "\\item 'num.slope.fvc.liters.visits'\n",
       "\\item 'sum.slope.fvc.liters'\n",
       "\\item 'first.slope.fvc.liters.date'\n",
       "\\item 'last.slope.fvc.liters.date'\n",
       "\\item 'meansquares.slope.fvc.liters'\n",
       "\\item 'sd.slope.fvc.liters'\n",
       "\\item 'slope.fvc.liters.slope'\n",
       "\\item 'lessthan2.slope.fvc.liters'\n",
       "\\item 'no.slope.fvc.liters.data'\n",
       "\\item 'max.slope.svc.liters'\n",
       "\\item 'min.slope.svc.liters'\n",
       "\\item 'last.slope.svc.liters'\n",
       "\\item 'mean.slope.svc.liters'\n",
       "\\item 'first.slope.svc.liters.date'\n",
       "\\item 'last.slope.svc.liters.date'\n",
       "\\item 'meansquares.slope.svc.liters'\n",
       "\\item 'sd.slope.svc.liters'\n",
       "\\item 'slope.svc.liters.slope'\n",
       "\\item 'max.slope.weight'\n",
       "\\item 'min.slope.weight'\n",
       "\\item 'last.slope.weight'\n",
       "\\item 'mean.slope.weight'\n",
       "\\item 'num.slope.weight.visits'\n",
       "\\item 'sum.slope.weight'\n",
       "\\item 'first.slope.weight.date'\n",
       "\\item 'last.slope.weight.date'\n",
       "\\item 'meansquares.slope.weight'\n",
       "\\item 'sd.slope.weight'\n",
       "\\item 'slope.weight.slope'\n",
       "\\item 'lessthan2.slope.weight'\n",
       "\\item 'first.slope.height.date'\n",
       "\\item 'max.slope.resp.rate'\n",
       "\\item 'min.slope.resp.rate'\n",
       "\\item 'last.slope.resp.rate'\n",
       "\\item 'mean.slope.resp.rate'\n",
       "\\item 'num.slope.resp.rate.visits'\n",
       "\\item 'sum.slope.resp.rate'\n",
       "\\item 'first.slope.resp.rate.date'\n",
       "\\item 'last.slope.resp.rate.date'\n",
       "\\item 'meansquares.slope.resp.rate'\n",
       "\\item 'sd.slope.resp.rate'\n",
       "\\item 'slope.resp.rate.slope'\n",
       "\\item 'lessthan2.slope.resp.rate'\n",
       "\\item 'no.slope.resp.rate.data'\n",
       "\\item 'max.slope.bp.diastolic'\n",
       "\\item 'min.slope.bp.diastolic'\n",
       "\\item 'last.slope.bp.diastolic'\n",
       "\\item 'mean.slope.bp.diastolic'\n",
       "\\item 'num.slope.bp.diastolic.visits'\n",
       "\\item 'sum.slope.bp.diastolic'\n",
       "\\item 'first.slope.bp.diastolic.date'\n",
       "\\item 'last.slope.bp.diastolic.date'\n",
       "\\item 'meansquares.slope.bp.diastolic'\n",
       "\\item 'sd.slope.bp.diastolic'\n",
       "\\item 'slope.bp.diastolic.slope'\n",
       "\\item 'lessthan2.slope.bp.diastolic'\n",
       "\\item 'max.slope.bp.systolic'\n",
       "\\item 'min.slope.bp.systolic'\n",
       "\\item 'last.slope.bp.systolic'\n",
       "\\item 'mean.slope.bp.systolic'\n",
       "\\item 'num.slope.bp.systolic.visits'\n",
       "\\item 'sum.slope.bp.systolic'\n",
       "\\item 'first.slope.bp.systolic.date'\n",
       "\\item 'meansquares.slope.bp.systolic'\n",
       "\\item 'sd.slope.bp.systolic'\n",
       "\\item 'slope.bp.systolic.slope'\n",
       "\\end{enumerate*}\n"
      ],
      "text/markdown": [
       "1. 'Onset.Delta'\n",
       "2. 'Symptom.Speech'\n",
       "3. 'Symptom.WEAKNESS'\n",
       "4. 'Site.of.Onset.Onset..Bulbar'\n",
       "5. 'Site.of.Onset.Onset..Limb'\n",
       "6. 'Race...Caucasian'\n",
       "7. 'Age'\n",
       "8. 'Sex.Female'\n",
       "9. 'Sex.Male'\n",
       "10. 'Mother'\n",
       "11. 'Family'\n",
       "12. 'Study.Arm.PLACEBO'\n",
       "13. 'Study.Arm.ACTIVE'\n",
       "14. 'max.alsfrs.score'\n",
       "15. 'min.alsfrs.score'\n",
       "16. 'last.alsfrs.score'\n",
       "17. 'mean.alsfrs.score'\n",
       "18. 'num.alsfrs.score.visits'\n",
       "19. 'sum.alsfrs.score'\n",
       "20. 'first.alsfrs.score.date'\n",
       "21. 'last.alsfrs.score.date'\n",
       "22. 'meansquares.alsfrs.score'\n",
       "23. 'sd.alsfrs.score'\n",
       "24. 'alsfrs.score.slope'\n",
       "25. 'max.speech'\n",
       "26. 'min.speech'\n",
       "27. 'last.speech'\n",
       "28. 'mean.speech'\n",
       "29. 'sum.speech'\n",
       "30. 'meansquares.speech'\n",
       "31. 'sd.speech'\n",
       "32. 'speech.slope'\n",
       "33. 'max.salivation'\n",
       "34. 'min.salivation'\n",
       "35. 'last.salivation'\n",
       "36. 'mean.salivation'\n",
       "37. 'sum.salivation'\n",
       "38. 'meansquares.salivation'\n",
       "39. 'sd.salivation'\n",
       "40. 'salivation.slope'\n",
       "41. 'max.swallowing'\n",
       "42. 'min.swallowing'\n",
       "43. 'last.swallowing'\n",
       "44. 'mean.swallowing'\n",
       "45. 'sum.swallowing'\n",
       "46. 'meansquares.swallowing'\n",
       "47. 'sd.swallowing'\n",
       "48. 'swallowing.slope'\n",
       "49. 'max.handwriting'\n",
       "50. 'min.handwriting'\n",
       "51. 'last.handwriting'\n",
       "52. 'mean.handwriting'\n",
       "53. 'sum.handwriting'\n",
       "54. 'meansquares.handwriting'\n",
       "55. 'sd.handwriting'\n",
       "56. 'handwriting.slope'\n",
       "57. 'max.cutting'\n",
       "58. 'min.cutting'\n",
       "59. 'last.cutting'\n",
       "60. 'mean.cutting'\n",
       "61. 'sum.cutting'\n",
       "62. 'meansquares.cutting'\n",
       "63. 'sd.cutting'\n",
       "64. 'cutting.slope'\n",
       "65. 'max.dressing'\n",
       "66. 'min.dressing'\n",
       "67. 'last.dressing'\n",
       "68. 'mean.dressing'\n",
       "69. 'sum.dressing'\n",
       "70. 'meansquares.dressing'\n",
       "71. 'sd.dressing'\n",
       "72. 'dressing.slope'\n",
       "73. 'max.turning'\n",
       "74. 'min.turning'\n",
       "75. 'last.turning'\n",
       "76. 'mean.turning'\n",
       "77. 'sum.turning'\n",
       "78. 'meansquares.turning'\n",
       "79. 'sd.turning'\n",
       "80. 'turning.slope'\n",
       "81. 'max.walking'\n",
       "82. 'min.walking'\n",
       "83. 'last.walking'\n",
       "84. 'mean.walking'\n",
       "85. 'sum.walking'\n",
       "86. 'meansquares.walking'\n",
       "87. 'sd.walking'\n",
       "88. 'walking.slope'\n",
       "89. 'max.climbing.stairs'\n",
       "90. 'min.climbing.stairs'\n",
       "91. 'last.climbing.stairs'\n",
       "92. 'mean.climbing.stairs'\n",
       "93. 'sum.climbing.stairs'\n",
       "94. 'meansquares.climbing.stairs'\n",
       "95. 'sd.climbing.stairs'\n",
       "96. 'climbing.stairs.slope'\n",
       "97. 'max.fvc.liters'\n",
       "98. 'min.fvc.liters'\n",
       "99. 'last.fvc.liters'\n",
       "100. 'mean.fvc.liters'\n",
       "101. 'num.fvc.liters.visits'\n",
       "102. 'sum.fvc.liters'\n",
       "103. 'last.fvc.liters.date'\n",
       "104. 'meansquares.fvc.liters'\n",
       "105. 'sd.fvc.liters'\n",
       "106. 'fvc.liters.slope'\n",
       "107. 'lessthan2.fvc.liters'\n",
       "108. 'no.fvc.liters.data'\n",
       "109. 'max.svc.liters'\n",
       "110. 'min.svc.liters'\n",
       "111. 'last.svc.liters'\n",
       "112. 'mean.svc.liters'\n",
       "113. 'num.svc.liters.visits'\n",
       "114. 'sum.svc.liters'\n",
       "115. 'last.svc.liters.date'\n",
       "116. 'meansquares.svc.liters'\n",
       "117. 'sd.svc.liters'\n",
       "118. 'svc.liters.slope'\n",
       "119. 'max.weight'\n",
       "120. 'min.weight'\n",
       "121. 'last.weight'\n",
       "122. 'mean.weight'\n",
       "123. 'num.weight.visits'\n",
       "124. 'sum.weight'\n",
       "125. 'last.weight.date'\n",
       "126. 'meansquares.weight'\n",
       "127. 'sd.weight'\n",
       "128. 'weight.slope'\n",
       "129. 'lessthan2.weight'\n",
       "130. 'max.height'\n",
       "131. 'min.height'\n",
       "132. 'mean.height'\n",
       "133. 'num.height.visits'\n",
       "134. 'sum.height'\n",
       "135. 'last.height.date'\n",
       "136. 'meansquares.height'\n",
       "137. 'no.height.data'\n",
       "138. 'max.resp.rate'\n",
       "139. 'min.resp.rate'\n",
       "140. 'last.resp.rate'\n",
       "141. 'mean.resp.rate'\n",
       "142. 'num.resp.rate.visits'\n",
       "143. 'sum.resp.rate'\n",
       "144. 'last.resp.rate.date'\n",
       "145. 'meansquares.resp.rate'\n",
       "146. 'sd.resp.rate'\n",
       "147. 'resp.rate.slope'\n",
       "148. 'lessthan2.resp.rate'\n",
       "149. 'no.resp.rate.data'\n",
       "150. 'max.bp.diastolic'\n",
       "151. 'min.bp.diastolic'\n",
       "152. 'last.bp.diastolic'\n",
       "153. 'mean.bp.diastolic'\n",
       "154. 'num.bp.diastolic.visits'\n",
       "155. 'sum.bp.diastolic'\n",
       "156. 'last.bp.diastolic.date'\n",
       "157. 'meansquares.bp.diastolic'\n",
       "158. 'sd.bp.diastolic'\n",
       "159. 'bp.diastolic.slope'\n",
       "160. 'lessthan2.bp.diastolic'\n",
       "161. 'no.bp.diastolic.data'\n",
       "162. 'max.bp.systolic'\n",
       "163. 'min.bp.systolic'\n",
       "164. 'last.bp.systolic'\n",
       "165. 'mean.bp.systolic'\n",
       "166. 'num.bp.systolic.visits'\n",
       "167. 'sum.bp.systolic'\n",
       "168. 'meansquares.bp.systolic'\n",
       "169. 'sd.bp.systolic'\n",
       "170. 'bp.systolic.slope'\n",
       "171. 'max.slope.alsfrs.score'\n",
       "172. 'min.slope.alsfrs.score'\n",
       "173. 'last.slope.alsfrs.score'\n",
       "174. 'mean.slope.alsfrs.score'\n",
       "175. 'num.slope.alsfrs.score.visits'\n",
       "176. 'sum.slope.alsfrs.score'\n",
       "177. 'first.slope.alsfrs.score.date'\n",
       "178. 'last.slope.alsfrs.score.date'\n",
       "179. 'meansquares.slope.alsfrs.score'\n",
       "180. 'sd.slope.alsfrs.score'\n",
       "181. 'slope.alsfrs.score.slope'\n",
       "182. 'max.slope.speech'\n",
       "183. 'min.slope.speech'\n",
       "184. 'last.slope.speech'\n",
       "185. 'mean.slope.speech'\n",
       "186. 'sum.slope.speech'\n",
       "187. 'meansquares.slope.speech'\n",
       "188. 'sd.slope.speech'\n",
       "189. 'slope.speech.slope'\n",
       "190. 'max.slope.salivation'\n",
       "191. 'min.slope.salivation'\n",
       "192. 'last.slope.salivation'\n",
       "193. 'mean.slope.salivation'\n",
       "194. 'sum.slope.salivation'\n",
       "195. 'meansquares.slope.salivation'\n",
       "196. 'sd.slope.salivation'\n",
       "197. 'slope.salivation.slope'\n",
       "198. 'max.slope.swallowing'\n",
       "199. 'min.slope.swallowing'\n",
       "200. 'last.slope.swallowing'\n",
       "201. 'mean.slope.swallowing'\n",
       "202. 'sum.slope.swallowing'\n",
       "203. 'meansquares.slope.swallowing'\n",
       "204. 'sd.slope.swallowing'\n",
       "205. 'slope.swallowing.slope'\n",
       "206. 'max.slope.handwriting'\n",
       "207. 'min.slope.handwriting'\n",
       "208. 'last.slope.handwriting'\n",
       "209. 'mean.slope.handwriting'\n",
       "210. 'sum.slope.handwriting'\n",
       "211. 'meansquares.slope.handwriting'\n",
       "212. 'sd.slope.handwriting'\n",
       "213. 'slope.handwriting.slope'\n",
       "214. 'max.slope.cutting'\n",
       "215. 'min.slope.cutting'\n",
       "216. 'last.slope.cutting'\n",
       "217. 'mean.slope.cutting'\n",
       "218. 'sum.slope.cutting'\n",
       "219. 'meansquares.slope.cutting'\n",
       "220. 'sd.slope.cutting'\n",
       "221. 'slope.cutting.slope'\n",
       "222. 'max.slope.dressing'\n",
       "223. 'min.slope.dressing'\n",
       "224. 'last.slope.dressing'\n",
       "225. 'mean.slope.dressing'\n",
       "226. 'sum.slope.dressing'\n",
       "227. 'meansquares.slope.dressing'\n",
       "228. 'sd.slope.dressing'\n",
       "229. 'slope.dressing.slope'\n",
       "230. 'max.slope.turning'\n",
       "231. 'min.slope.turning'\n",
       "232. 'last.slope.turning'\n",
       "233. 'mean.slope.turning'\n",
       "234. 'sum.slope.turning'\n",
       "235. 'meansquares.slope.turning'\n",
       "236. 'sd.slope.turning'\n",
       "237. 'slope.turning.slope'\n",
       "238. 'max.slope.walking'\n",
       "239. 'min.slope.walking'\n",
       "240. 'last.slope.walking'\n",
       "241. 'mean.slope.walking'\n",
       "242. 'sum.slope.walking'\n",
       "243. 'meansquares.slope.walking'\n",
       "244. 'sd.slope.walking'\n",
       "245. 'slope.walking.slope'\n",
       "246. 'max.slope.climbing.stairs'\n",
       "247. 'min.slope.climbing.stairs'\n",
       "248. 'last.slope.climbing.stairs'\n",
       "249. 'mean.slope.climbing.stairs'\n",
       "250. 'sum.slope.climbing.stairs'\n",
       "251. 'meansquares.slope.climbing.stairs'\n",
       "252. 'sd.slope.climbing.stairs'\n",
       "253. 'slope.climbing.stairs.slope'\n",
       "254. 'max.slope.fvc.liters'\n",
       "255. 'min.slope.fvc.liters'\n",
       "256. 'last.slope.fvc.liters'\n",
       "257. 'mean.slope.fvc.liters'\n",
       "258. 'num.slope.fvc.liters.visits'\n",
       "259. 'sum.slope.fvc.liters'\n",
       "260. 'first.slope.fvc.liters.date'\n",
       "261. 'last.slope.fvc.liters.date'\n",
       "262. 'meansquares.slope.fvc.liters'\n",
       "263. 'sd.slope.fvc.liters'\n",
       "264. 'slope.fvc.liters.slope'\n",
       "265. 'lessthan2.slope.fvc.liters'\n",
       "266. 'no.slope.fvc.liters.data'\n",
       "267. 'max.slope.svc.liters'\n",
       "268. 'min.slope.svc.liters'\n",
       "269. 'last.slope.svc.liters'\n",
       "270. 'mean.slope.svc.liters'\n",
       "271. 'first.slope.svc.liters.date'\n",
       "272. 'last.slope.svc.liters.date'\n",
       "273. 'meansquares.slope.svc.liters'\n",
       "274. 'sd.slope.svc.liters'\n",
       "275. 'slope.svc.liters.slope'\n",
       "276. 'max.slope.weight'\n",
       "277. 'min.slope.weight'\n",
       "278. 'last.slope.weight'\n",
       "279. 'mean.slope.weight'\n",
       "280. 'num.slope.weight.visits'\n",
       "281. 'sum.slope.weight'\n",
       "282. 'first.slope.weight.date'\n",
       "283. 'last.slope.weight.date'\n",
       "284. 'meansquares.slope.weight'\n",
       "285. 'sd.slope.weight'\n",
       "286. 'slope.weight.slope'\n",
       "287. 'lessthan2.slope.weight'\n",
       "288. 'first.slope.height.date'\n",
       "289. 'max.slope.resp.rate'\n",
       "290. 'min.slope.resp.rate'\n",
       "291. 'last.slope.resp.rate'\n",
       "292. 'mean.slope.resp.rate'\n",
       "293. 'num.slope.resp.rate.visits'\n",
       "294. 'sum.slope.resp.rate'\n",
       "295. 'first.slope.resp.rate.date'\n",
       "296. 'last.slope.resp.rate.date'\n",
       "297. 'meansquares.slope.resp.rate'\n",
       "298. 'sd.slope.resp.rate'\n",
       "299. 'slope.resp.rate.slope'\n",
       "300. 'lessthan2.slope.resp.rate'\n",
       "301. 'no.slope.resp.rate.data'\n",
       "302. 'max.slope.bp.diastolic'\n",
       "303. 'min.slope.bp.diastolic'\n",
       "304. 'last.slope.bp.diastolic'\n",
       "305. 'mean.slope.bp.diastolic'\n",
       "306. 'num.slope.bp.diastolic.visits'\n",
       "307. 'sum.slope.bp.diastolic'\n",
       "308. 'first.slope.bp.diastolic.date'\n",
       "309. 'last.slope.bp.diastolic.date'\n",
       "310. 'meansquares.slope.bp.diastolic'\n",
       "311. 'sd.slope.bp.diastolic'\n",
       "312. 'slope.bp.diastolic.slope'\n",
       "313. 'lessthan2.slope.bp.diastolic'\n",
       "314. 'max.slope.bp.systolic'\n",
       "315. 'min.slope.bp.systolic'\n",
       "316. 'last.slope.bp.systolic'\n",
       "317. 'mean.slope.bp.systolic'\n",
       "318. 'num.slope.bp.systolic.visits'\n",
       "319. 'sum.slope.bp.systolic'\n",
       "320. 'first.slope.bp.systolic.date'\n",
       "321. 'meansquares.slope.bp.systolic'\n",
       "322. 'sd.slope.bp.systolic'\n",
       "323. 'slope.bp.systolic.slope'\n",
       "\n",
       "\n"
      ],
      "text/plain": [
       "  [1] \"Onset.Delta\"                       \"Symptom.Speech\"                   \n",
       "  [3] \"Symptom.WEAKNESS\"                  \"Site.of.Onset.Onset..Bulbar\"      \n",
       "  [5] \"Site.of.Onset.Onset..Limb\"         \"Race...Caucasian\"                 \n",
       "  [7] \"Age\"                               \"Sex.Female\"                       \n",
       "  [9] \"Sex.Male\"                          \"Mother\"                           \n",
       " [11] \"Family\"                            \"Study.Arm.PLACEBO\"                \n",
       " [13] \"Study.Arm.ACTIVE\"                  \"max.alsfrs.score\"                 \n",
       " [15] \"min.alsfrs.score\"                  \"last.alsfrs.score\"                \n",
       " [17] \"mean.alsfrs.score\"                 \"num.alsfrs.score.visits\"          \n",
       " [19] \"sum.alsfrs.score\"                  \"first.alsfrs.score.date\"          \n",
       " [21] \"last.alsfrs.score.date\"            \"meansquares.alsfrs.score\"         \n",
       " [23] \"sd.alsfrs.score\"                   \"alsfrs.score.slope\"               \n",
       " [25] \"max.speech\"                        \"min.speech\"                       \n",
       " [27] \"last.speech\"                       \"mean.speech\"                      \n",
       " [29] \"sum.speech\"                        \"meansquares.speech\"               \n",
       " [31] \"sd.speech\"                         \"speech.slope\"                     \n",
       " [33] \"max.salivation\"                    \"min.salivation\"                   \n",
       " [35] \"last.salivation\"                   \"mean.salivation\"                  \n",
       " [37] \"sum.salivation\"                    \"meansquares.salivation\"           \n",
       " [39] \"sd.salivation\"                     \"salivation.slope\"                 \n",
       " [41] \"max.swallowing\"                    \"min.swallowing\"                   \n",
       " [43] \"last.swallowing\"                   \"mean.swallowing\"                  \n",
       " [45] \"sum.swallowing\"                    \"meansquares.swallowing\"           \n",
       " [47] \"sd.swallowing\"                     \"swallowing.slope\"                 \n",
       " [49] \"max.handwriting\"                   \"min.handwriting\"                  \n",
       " [51] \"last.handwriting\"                  \"mean.handwriting\"                 \n",
       " [53] \"sum.handwriting\"                   \"meansquares.handwriting\"          \n",
       " [55] \"sd.handwriting\"                    \"handwriting.slope\"                \n",
       " [57] \"max.cutting\"                       \"min.cutting\"                      \n",
       " [59] \"last.cutting\"                      \"mean.cutting\"                     \n",
       " [61] \"sum.cutting\"                       \"meansquares.cutting\"              \n",
       " [63] \"sd.cutting\"                        \"cutting.slope\"                    \n",
       " [65] \"max.dressing\"                      \"min.dressing\"                     \n",
       " [67] \"last.dressing\"                     \"mean.dressing\"                    \n",
       " [69] \"sum.dressing\"                      \"meansquares.dressing\"             \n",
       " [71] \"sd.dressing\"                       \"dressing.slope\"                   \n",
       " [73] \"max.turning\"                       \"min.turning\"                      \n",
       " [75] \"last.turning\"                      \"mean.turning\"                     \n",
       " [77] \"sum.turning\"                       \"meansquares.turning\"              \n",
       " [79] \"sd.turning\"                        \"turning.slope\"                    \n",
       " [81] \"max.walking\"                       \"min.walking\"                      \n",
       " [83] \"last.walking\"                      \"mean.walking\"                     \n",
       " [85] \"sum.walking\"                       \"meansquares.walking\"              \n",
       " [87] \"sd.walking\"                        \"walking.slope\"                    \n",
       " [89] \"max.climbing.stairs\"               \"min.climbing.stairs\"              \n",
       " [91] \"last.climbing.stairs\"              \"mean.climbing.stairs\"             \n",
       " [93] \"sum.climbing.stairs\"               \"meansquares.climbing.stairs\"      \n",
       " [95] \"sd.climbing.stairs\"                \"climbing.stairs.slope\"            \n",
       " [97] \"max.fvc.liters\"                    \"min.fvc.liters\"                   \n",
       " [99] \"last.fvc.liters\"                   \"mean.fvc.liters\"                  \n",
       "[101] \"num.fvc.liters.visits\"             \"sum.fvc.liters\"                   \n",
       "[103] \"last.fvc.liters.date\"              \"meansquares.fvc.liters\"           \n",
       "[105] \"sd.fvc.liters\"                     \"fvc.liters.slope\"                 \n",
       "[107] \"lessthan2.fvc.liters\"              \"no.fvc.liters.data\"               \n",
       "[109] \"max.svc.liters\"                    \"min.svc.liters\"                   \n",
       "[111] \"last.svc.liters\"                   \"mean.svc.liters\"                  \n",
       "[113] \"num.svc.liters.visits\"             \"sum.svc.liters\"                   \n",
       "[115] \"last.svc.liters.date\"              \"meansquares.svc.liters\"           \n",
       "[117] \"sd.svc.liters\"                     \"svc.liters.slope\"                 \n",
       "[119] \"max.weight\"                        \"min.weight\"                       \n",
       "[121] \"last.weight\"                       \"mean.weight\"                      \n",
       "[123] \"num.weight.visits\"                 \"sum.weight\"                       \n",
       "[125] \"last.weight.date\"                  \"meansquares.weight\"               \n",
       "[127] \"sd.weight\"                         \"weight.slope\"                     \n",
       "[129] \"lessthan2.weight\"                  \"max.height\"                       \n",
       "[131] \"min.height\"                        \"mean.height\"                      \n",
       "[133] \"num.height.visits\"                 \"sum.height\"                       \n",
       "[135] \"last.height.date\"                  \"meansquares.height\"               \n",
       "[137] \"no.height.data\"                    \"max.resp.rate\"                    \n",
       "[139] \"min.resp.rate\"                     \"last.resp.rate\"                   \n",
       "[141] \"mean.resp.rate\"                    \"num.resp.rate.visits\"             \n",
       "[143] \"sum.resp.rate\"                     \"last.resp.rate.date\"              \n",
       "[145] \"meansquares.resp.rate\"             \"sd.resp.rate\"                     \n",
       "[147] \"resp.rate.slope\"                   \"lessthan2.resp.rate\"              \n",
       "[149] \"no.resp.rate.data\"                 \"max.bp.diastolic\"                 \n",
       "[151] \"min.bp.diastolic\"                  \"last.bp.diastolic\"                \n",
       "[153] \"mean.bp.diastolic\"                 \"num.bp.diastolic.visits\"          \n",
       "[155] \"sum.bp.diastolic\"                  \"last.bp.diastolic.date\"           \n",
       "[157] \"meansquares.bp.diastolic\"          \"sd.bp.diastolic\"                  \n",
       "[159] \"bp.diastolic.slope\"                \"lessthan2.bp.diastolic\"           \n",
       "[161] \"no.bp.diastolic.data\"              \"max.bp.systolic\"                  \n",
       "[163] \"min.bp.systolic\"                   \"last.bp.systolic\"                 \n",
       "[165] \"mean.bp.systolic\"                  \"num.bp.systolic.visits\"           \n",
       "[167] \"sum.bp.systolic\"                   \"meansquares.bp.systolic\"          \n",
       "[169] \"sd.bp.systolic\"                    \"bp.systolic.slope\"                \n",
       "[171] \"max.slope.alsfrs.score\"            \"min.slope.alsfrs.score\"           \n",
       "[173] \"last.slope.alsfrs.score\"           \"mean.slope.alsfrs.score\"          \n",
       "[175] \"num.slope.alsfrs.score.visits\"     \"sum.slope.alsfrs.score\"           \n",
       "[177] \"first.slope.alsfrs.score.date\"     \"last.slope.alsfrs.score.date\"     \n",
       "[179] \"meansquares.slope.alsfrs.score\"    \"sd.slope.alsfrs.score\"            \n",
       "[181] \"slope.alsfrs.score.slope\"          \"max.slope.speech\"                 \n",
       "[183] \"min.slope.speech\"                  \"last.slope.speech\"                \n",
       "[185] \"mean.slope.speech\"                 \"sum.slope.speech\"                 \n",
       "[187] \"meansquares.slope.speech\"          \"sd.slope.speech\"                  \n",
       "[189] \"slope.speech.slope\"                \"max.slope.salivation\"             \n",
       "[191] \"min.slope.salivation\"              \"last.slope.salivation\"            \n",
       "[193] \"mean.slope.salivation\"             \"sum.slope.salivation\"             \n",
       "[195] \"meansquares.slope.salivation\"      \"sd.slope.salivation\"              \n",
       "[197] \"slope.salivation.slope\"            \"max.slope.swallowing\"             \n",
       "[199] \"min.slope.swallowing\"              \"last.slope.swallowing\"            \n",
       "[201] \"mean.slope.swallowing\"             \"sum.slope.swallowing\"             \n",
       "[203] \"meansquares.slope.swallowing\"      \"sd.slope.swallowing\"              \n",
       "[205] \"slope.swallowing.slope\"            \"max.slope.handwriting\"            \n",
       "[207] \"min.slope.handwriting\"             \"last.slope.handwriting\"           \n",
       "[209] \"mean.slope.handwriting\"            \"sum.slope.handwriting\"            \n",
       "[211] \"meansquares.slope.handwriting\"     \"sd.slope.handwriting\"             \n",
       "[213] \"slope.handwriting.slope\"           \"max.slope.cutting\"                \n",
       "[215] \"min.slope.cutting\"                 \"last.slope.cutting\"               \n",
       "[217] \"mean.slope.cutting\"                \"sum.slope.cutting\"                \n",
       "[219] \"meansquares.slope.cutting\"         \"sd.slope.cutting\"                 \n",
       "[221] \"slope.cutting.slope\"               \"max.slope.dressing\"               \n",
       "[223] \"min.slope.dressing\"                \"last.slope.dressing\"              \n",
       "[225] \"mean.slope.dressing\"               \"sum.slope.dressing\"               \n",
       "[227] \"meansquares.slope.dressing\"        \"sd.slope.dressing\"                \n",
       "[229] \"slope.dressing.slope\"              \"max.slope.turning\"                \n",
       "[231] \"min.slope.turning\"                 \"last.slope.turning\"               \n",
       "[233] \"mean.slope.turning\"                \"sum.slope.turning\"                \n",
       "[235] \"meansquares.slope.turning\"         \"sd.slope.turning\"                 \n",
       "[237] \"slope.turning.slope\"               \"max.slope.walking\"                \n",
       "[239] \"min.slope.walking\"                 \"last.slope.walking\"               \n",
       "[241] \"mean.slope.walking\"                \"sum.slope.walking\"                \n",
       "[243] \"meansquares.slope.walking\"         \"sd.slope.walking\"                 \n",
       "[245] \"slope.walking.slope\"               \"max.slope.climbing.stairs\"        \n",
       "[247] \"min.slope.climbing.stairs\"         \"last.slope.climbing.stairs\"       \n",
       "[249] \"mean.slope.climbing.stairs\"        \"sum.slope.climbing.stairs\"        \n",
       "[251] \"meansquares.slope.climbing.stairs\" \"sd.slope.climbing.stairs\"         \n",
       "[253] \"slope.climbing.stairs.slope\"       \"max.slope.fvc.liters\"             \n",
       "[255] \"min.slope.fvc.liters\"              \"last.slope.fvc.liters\"            \n",
       "[257] \"mean.slope.fvc.liters\"             \"num.slope.fvc.liters.visits\"      \n",
       "[259] \"sum.slope.fvc.liters\"              \"first.slope.fvc.liters.date\"      \n",
       "[261] \"last.slope.fvc.liters.date\"        \"meansquares.slope.fvc.liters\"     \n",
       "[263] \"sd.slope.fvc.liters\"               \"slope.fvc.liters.slope\"           \n",
       "[265] \"lessthan2.slope.fvc.liters\"        \"no.slope.fvc.liters.data\"         \n",
       "[267] \"max.slope.svc.liters\"              \"min.slope.svc.liters\"             \n",
       "[269] \"last.slope.svc.liters\"             \"mean.slope.svc.liters\"            \n",
       "[271] \"first.slope.svc.liters.date\"       \"last.slope.svc.liters.date\"       \n",
       "[273] \"meansquares.slope.svc.liters\"      \"sd.slope.svc.liters\"              \n",
       "[275] \"slope.svc.liters.slope\"            \"max.slope.weight\"                 \n",
       "[277] \"min.slope.weight\"                  \"last.slope.weight\"                \n",
       "[279] \"mean.slope.weight\"                 \"num.slope.weight.visits\"          \n",
       "[281] \"sum.slope.weight\"                  \"first.slope.weight.date\"          \n",
       "[283] \"last.slope.weight.date\"            \"meansquares.slope.weight\"         \n",
       "[285] \"sd.slope.weight\"                   \"slope.weight.slope\"               \n",
       "[287] \"lessthan2.slope.weight\"            \"first.slope.height.date\"          \n",
       "[289] \"max.slope.resp.rate\"               \"min.slope.resp.rate\"              \n",
       "[291] \"last.slope.resp.rate\"              \"mean.slope.resp.rate\"             \n",
       "[293] \"num.slope.resp.rate.visits\"        \"sum.slope.resp.rate\"              \n",
       "[295] \"first.slope.resp.rate.date\"        \"last.slope.resp.rate.date\"        \n",
       "[297] \"meansquares.slope.resp.rate\"       \"sd.slope.resp.rate\"               \n",
       "[299] \"slope.resp.rate.slope\"             \"lessthan2.slope.resp.rate\"        \n",
       "[301] \"no.slope.resp.rate.data\"           \"max.slope.bp.diastolic\"           \n",
       "[303] \"min.slope.bp.diastolic\"            \"last.slope.bp.diastolic\"          \n",
       "[305] \"mean.slope.bp.diastolic\"           \"num.slope.bp.diastolic.visits\"    \n",
       "[307] \"sum.slope.bp.diastolic\"            \"first.slope.bp.diastolic.date\"    \n",
       "[309] \"last.slope.bp.diastolic.date\"      \"meansquares.slope.bp.diastolic\"   \n",
       "[311] \"sd.slope.bp.diastolic\"             \"slope.bp.diastolic.slope\"         \n",
       "[313] \"lessthan2.slope.bp.diastolic\"      \"max.slope.bp.systolic\"            \n",
       "[315] \"min.slope.bp.systolic\"             \"last.slope.bp.systolic\"           \n",
       "[317] \"mean.slope.bp.systolic\"            \"num.slope.bp.systolic.visits\"     \n",
       "[319] \"sum.slope.bp.systolic\"             \"first.slope.bp.systolic.date\"     \n",
       "[321] \"meansquares.slope.bp.systolic\"     \"sd.slope.bp.systolic\"             \n",
       "[323] \"slope.bp.systolic.slope\"          "
      ]
     },
     "metadata": {},
     "output_type": "display_data"
    },
    {
     "data": {
      "text/html": [
       "0.541172112545499"
      ],
      "text/latex": [
       "0.541172112545499"
      ],
      "text/markdown": [
       "0.541172112545499"
      ],
      "text/plain": [
       "[1] 0.5411721"
      ]
     },
     "metadata": {},
     "output_type": "display_data"
    }
   ],
   "source": [
    "set.seed(2017)\n",
    "ridge.cv = cv.glmnet(x=as.matrix(train.X), y=train.y, alpha=0)\n",
    "\n",
    "nonzero.ridge = predict(ridge.cv, s='lambda.1se', type ='nonzero')\n",
    "colnames(train.X)[nonzero.ridge[,]]\n",
    "\n",
    "ridge.test.pred = predict(ridge.cv, as.matrix(test.X), s='lambda.1se')\n",
    "sqrt(mean((ridge.test.pred - test.y)^2))"
   ]
  },
  {
   "cell_type": "code",
   "execution_count": 49,
   "metadata": {},
   "outputs": [],
   "source": [
    "# wrong\n",
    "\n",
    "# x = model.matrix(train.y~., train.X)\n",
    "# y = train.y\n",
    "\n",
    "# ridge.mod = glmnet(x, y, alpha=0)\n",
    "\n",
    "# set.seed(2017)\n",
    "# ridge.cv = cv.glmnet(x, y, alpha=1)\n",
    "\n",
    "# bestlam.ridge = ridge.cv$lambda.min\n",
    "# bestlam.ridge\n",
    "\n",
    "# ridge.coef = predict(ridge.mod, type=\"coefficients\", s=bestlam.ridge)\n",
    "# head(ridge.coef)\n",
    "\n",
    "# my.lambda.ridge = ridge.cv$lambda.1se\n",
    "# my.lambda.ridge"
   ]
  },
  {
   "cell_type": "code",
   "execution_count": 255,
   "metadata": {},
   "outputs": [
    {
     "data": {
      "image/png": "[encoded data removed]",
      "text/plain": [
       "plot without title"
      ]
     },
     "metadata": {},
     "output_type": "display_data"
    }
   ],
   "source": [
    "plot(ridge.cv)"
   ]
  },
  {
   "cell_type": "markdown",
   "metadata": {},
   "source": [
    "<span style=\"color:blue\">\n",
    "Gyu-Ho's Answer: Above models in Ridge Regression and Lasso return **same best lambda value**. **Same number of non-zero coefficients**, *9*, according to `predict(type=\"nonzero\")` results. However, ridge regression coefficients in training data are only shrunken towards zero, while all variables are still included in the model. Lasso performs variable selection, with coefficients being estimated exactly to zero, thus easier to interpret. On this test data, Lass has less `RMSE`, thus performs better.\n",
    "</span>\n",
    "\n",
    "<span style=\"color:red\">\n",
    "All 323 predictors are nonzero. This is not surprising, as ridge regression does not induce sparse models. The RMSE is 0.541, which is very similar to the lasso RMSE.\n",
    "</span>"
   ]
  }
 ],
 "metadata": {
  "kernelspec": {
   "display_name": "R",
   "language": "R",
   "name": "ir"
  },
  "language_info": {
   "codemirror_mode": "r",
   "file_extension": ".r",
   "mimetype": "text/x-r-source",
   "name": "R",
   "pygments_lexer": "r",
   "version": "3.3.2"
  }
 },
 "nbformat": 4,
 "nbformat_minor": 2
}
