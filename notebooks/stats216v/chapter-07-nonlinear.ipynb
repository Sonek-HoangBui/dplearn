{
 "cells": [
  {
   "cell_type": "markdown",
   "metadata": {},
   "source": [
    "<div style=\"text-align: center; font-size: 20px;\"><b>Stats216v: Statistical Learning</b></div>\n",
    "\n",
    "<br>\n",
    "<div style=\"text-align: center\">Stanford University</div>\n",
    "<div style=\"text-align: center\">Summer 2017</div>\n",
    "<div style=\"text-align: center\">Gyu-Ho Lee (<a href=\"mailto:gyuhox@gmail.com\">gyuhox@gmail.com</a>)</div>"
   ]
  },
  {
   "cell_type": "markdown",
   "metadata": {},
   "source": [
    "#### 7. Moving Beyond Linearity"
   ]
  },
  {
   "cell_type": "markdown",
   "metadata": {},
   "source": [
    "##### 7.1.R1\n",
    "\n",
    "Which of the following can we add to linear models to capture nonlinear effects?\n",
    "\n",
    "1. Spline terms\n",
    "2. Polynomial terms\n",
    "3. Interactions\n",
    "4. Arbitrary linear combinations of the variables\n",
    "5. Step functions"
   ]
  },
  {
   "cell_type": "markdown",
   "metadata": {},
   "source": [
    "<span style=\"color:blue\">\n",
    "Gyu-Ho's Answer: 2.\n",
    "</span>\n",
    "\n",
    "<span style=\"color:red\">\n",
    "1, 2, 3, 5.\n",
    "</span>\n",
    "\n",
    "If we add any of these terms to our linear model, the model will be able to capture new nonlinear effects. The only exception is linear combinations of variables already in the model: any linear combination of those variables is already included in the model."
   ]
  },
  {
   "cell_type": "markdown",
   "metadata": {},
   "source": [
    "##### 7.2.R1\n",
    "\n",
    "Why are natural cubic splines typically preferred over global polynomials of degree d?\n",
    "\n",
    "1. Polynomials have too many degrees of freedom.\n",
    "2. Polynomials tend to extrapolate very badly.\n",
    "3. Polynomials are not as continuous as splines."
   ]
  },
  {
   "cell_type": "markdown",
   "metadata": {},
   "source": [
    "<span style=\"color:blue\">\n",
    "Gyu-Ho's Answer: 2.\n",
    "</span>\n",
    "\n",
    "Polynomials can oscillate wildly once they get outside the boundaries of the data set. Natural splines, on the other hand, always extrapolate linearly."
   ]
  },
  {
   "cell_type": "markdown",
   "metadata": {
    "collapsed": true
   },
   "source": [
    "##### 7.2.R2\n",
    "\n",
    "Let $1${$x≤t$} denote a function which is $1$ if $x ≤ t$ and $0$ otherwise.\n",
    "\n",
    "Which of the following is a basis for linear splines with a knot at t? Select all that apply.\n",
    "\n",
    "(Hint: see slide 9 for the definition of a linear spline.)\n",
    "\n",
    "<img src=\"./chapter-07-nonlinear-1.png\" alt=\"chapter-07-nonlinear-1.png\" style=\"width: 450px;\"/>\n",
    "\n",
    "1. $1$, $x$, $(x−t)1${$x>t$}\n",
    "2. $1$, $x$, $(x−t)1${$x≤t$}\n",
    "3. $1${$x>t$}, $1${$x≤t$}, $(x−t)1${$x>t$}\n",
    "4. $1$, $(x−t)1${$x≤t$}, $(x−t)1${$x>t$}"
   ]
  },
  {
   "cell_type": "markdown",
   "metadata": {},
   "source": [
    "<span style=\"color:blue\">\n",
    "Gyu-Ho's Answer: 1, 2.\n",
    "</span>\n",
    "\n",
    "<span style=\"color:red\">\n",
    "Gyu-Ho's Answer: 1, 2, 4.\n",
    "</span>\n",
    "\n",
    "Every function in the basis must be continuous at t, and we must be able to represent any piecewise linear function with a single knot at t as a linear combination of the functions in the basis."
   ]
  },
  {
   "cell_type": "markdown",
   "metadata": {
    "collapsed": true
   },
   "source": [
    "##### 4.3.R2\n",
    "\n",
    "How many hours would that student need to study to have a 50% chance of getting an A in the class?:"
   ]
  },
  {
   "cell_type": "markdown",
   "metadata": {
    "collapsed": true
   },
   "source": [
    "<span style=\"color:blue\">\n",
    "Gyu-Ho's Answer: 50.\n",
    "</span>\n",
    "\n",
    "$P((h, 3.5)) = \\frac{e^{-6 + 0.05 * h + 3.5}}{1 + e^{-6 + 0.05 * h + 3.5}} = 0.5$"
   ]
  },
  {
   "cell_type": "markdown",
   "metadata": {},
   "source": [
    "##### 7.3.R1\n",
    "\n",
    "In terms of model complexity, which is more similar to a smoothing spline with 100 knots and 5 effective degrees of freedom?\n",
    "\n",
    "1. A natural cubic spline with 5 knots.\n",
    "2. A natural cubic spline with 100 knots."
   ]
  },
  {
   "cell_type": "markdown",
   "metadata": {},
   "source": [
    "<span style=\"color:blue\">\n",
    "Gyu-Ho's Answer: 2.\n",
    "</span>\n",
    "\n",
    "<span style=\"color:red\">\n",
    "1.\n",
    "</span>\n",
    "\n",
    "Even though the smoothing spline has 100 knots, it is penalized to be smooth, so it is about as complex as a model with 5 variables. The natural cubic spline has 5 degrees of freedom is such a model."
   ]
  },
  {
   "cell_type": "markdown",
   "metadata": {},
   "source": [
    "##### 7.4.R1\n",
    "\n",
    "True or False: In the GAM $y ∼ f_{1}(X_{1}) + f_{2}(X_{2}) + e$, as we make $f_{1}$ and $f_{2}$ more and more complex we can approximate any regression function to arbitrary precision."
   ]
  },
  {
   "cell_type": "markdown",
   "metadata": {},
   "source": [
    "<span style=\"color:blue\">\n",
    "Gyu-Ho's Answer: False.\n",
    "</span>\n",
    "\n",
    "If there is an interaction between X1 and X2, a purely additive model can never capture it."
   ]
  },
  {
   "cell_type": "markdown",
   "metadata": {},
   "source": [
    "##### 7.R.R1\n",
    "\n",
    "Load the data from the file `7.R.RData`, and plot it using `plot(x,y)`. What is the slope coefficient in a linear regression of y on x (to within 10%)?"
   ]
  },
  {
   "cell_type": "code",
   "execution_count": 2,
   "metadata": {},
   "outputs": [
    {
     "name": "stdout",
     "output_type": "stream",
     "text": [
      "Loading objects:\n",
      "  x\n",
      "  y\n"
     ]
    },
    {
     "data": {
      "text/html": [
       "<ol class=list-inline>\n",
       "\t<li>'x'</li>\n",
       "\t<li>'y'</li>\n",
       "</ol>\n"
      ],
      "text/latex": [
       "\\begin{enumerate*}\n",
       "\\item 'x'\n",
       "\\item 'y'\n",
       "\\end{enumerate*}\n"
      ],
      "text/markdown": [
       "1. 'x'\n",
       "2. 'y'\n",
       "\n",
       "\n"
      ],
      "text/plain": [
       "[1] \"x\" \"y\""
      ]
     },
     "metadata": {},
     "output_type": "display_data"
    },
    {
     "data": {
      "image/png": "[encoded data removed]",
      "text/plain": [
       "plot without title"
      ]
     },
     "metadata": {},
     "output_type": "display_data"
    }
   ],
   "source": [
    "load(\"7.R.RData\", verbose=T)\n",
    "ls()\n",
    "\n",
    "plot(x,y)"
   ]
  },
  {
   "cell_type": "code",
   "execution_count": 3,
   "metadata": {},
   "outputs": [
    {
     "data": {
      "text/plain": [
       "\n",
       "Call:\n",
       "lm(formula = y ~ x)\n",
       "\n",
       "Residuals:\n",
       "     Min       1Q   Median       3Q      Max \n",
       "-0.71289 -0.26943 -0.02448  0.21068  0.83582 \n",
       "\n",
       "Coefficients:\n",
       "            Estimate Std. Error t value Pr(>|t|)    \n",
       "(Intercept) 95.43627    7.14200   13.36   <2e-16 ***\n",
       "x           -0.67483    0.05073  -13.30   <2e-16 ***\n",
       "---\n",
       "Signif. codes:  0 '***' 0.001 '**' 0.01 '*' 0.05 '.' 0.1 ' ' 1\n",
       "\n",
       "Residual standard error: 0.3376 on 98 degrees of freedom\n",
       "Multiple R-squared:  0.6436,\tAdjusted R-squared:   0.64 \n",
       "F-statistic:   177 on 1 and 98 DF,  p-value: < 2.2e-16\n"
      ]
     },
     "metadata": {},
     "output_type": "display_data"
    }
   ],
   "source": [
    "md = lm(y~x)\n",
    "summary(md)"
   ]
  },
  {
   "cell_type": "markdown",
   "metadata": {},
   "source": [
    "<span style=\"color:blue\">\n",
    "Gyu-Ho's Answer: -0.67483.\n",
    "</span>"
   ]
  },
  {
   "cell_type": "markdown",
   "metadata": {},
   "source": [
    "###### 7.R.R2\n",
    "\n",
    "For the model `y~1+x+x^2`, what is the coefficient of x (to within 10%)?"
   ]
  },
  {
   "cell_type": "code",
   "execution_count": 6,
   "metadata": {},
   "outputs": [
    {
     "data": {
      "text/plain": [
       "\n",
       "Call:\n",
       "lm(formula = y ~ x + I(x^2))\n",
       "\n",
       "Residuals:\n",
       "     Min       1Q   Median       3Q      Max \n",
       "-0.65698 -0.18190 -0.01938  0.16355  0.86149 \n",
       "\n",
       "Coefficients:\n",
       "              Estimate Std. Error t value Pr(>|t|)    \n",
       "(Intercept) -5.421e+03  1.547e+03  -3.505 0.000692 ***\n",
       "x            7.771e+01  2.197e+01   3.536 0.000624 ***\n",
       "I(x^2)      -2.784e-01  7.805e-02  -3.567 0.000563 ***\n",
       "---\n",
       "Signif. codes:  0 '***' 0.001 '**' 0.01 '*' 0.05 '.' 0.1 ' ' 1\n",
       "\n",
       "Residual standard error: 0.3191 on 97 degrees of freedom\n",
       "Multiple R-squared:  0.6849,\tAdjusted R-squared:  0.6784 \n",
       "F-statistic: 105.4 on 2 and 97 DF,  p-value: < 2.2e-16\n"
      ]
     },
     "metadata": {},
     "output_type": "display_data"
    }
   ],
   "source": [
    "ft1 = lm(y~x+I(x^2))\n",
    "summary(ft1)"
   ]
  },
  {
   "cell_type": "markdown",
   "metadata": {},
   "source": [
    "<span style=\"color:blue\">\n",
    "Gyu-Ho's Answer: $7.771e+01 = 7.771 \\times 10^{+01}$.\n",
    "</span>"
   ]
  },
  {
   "cell_type": "markdown",
   "metadata": {},
   "source": [
    "###### 7.Q.1\n",
    "\n",
    "Suppose we want to fit a generalized additive model (with a continuous response) for y against $X_{1}$ and $X_{2}$. Suppose that we are using a cubic spline with four knots for each variable (so our model can be expressed as a linear regression after the right basis expansion).\n",
    "\n",
    "Suppose that we fit our model by the following three steps:\n",
    "\n",
    "1) First fit our cubic spline model for $y$ against $X_{1}$, obtaining the fit $\\hat{f}_{1}(x)$ and residuals $r_{i} = y_{i} − \\hat{f}_{1}(X_{i,1})$.\n",
    "\n",
    "2) Then, fit a cubic spline model for $r$ against $X_{2}$ to obtain $\\hat{f}_{2}(x)$.\n",
    "\n",
    "3) Finally construct fitted values $\\hat{y}_{i} = \\hat{f}_{1}(X_{i,1}) + \\hat{f}_{2}(X_{i,2})$.\n",
    "\n",
    "Will we get the same fitted values as we would if we fit the additive model for $y$ against $X_{1}$ and $X_{2}$ jointly?\n",
    "\n",
    "1. yes, no matter what.\n",
    "2. only if $X_{1}$ and $X_{2}$ are uncorrelated.\n",
    "3. not necessarily, even if $X_{1}$ and $X_{2}$ are uncorrelated."
   ]
  },
  {
   "cell_type": "markdown",
   "metadata": {},
   "source": [
    "<span style=\"color:blue\">\n",
    "Gyu-Ho's Answer: 3.\n",
    "</span>\n",
    "\n",
    "If $X_{1}$ and $X_{2}$ are uncorrelated, and we are only fitting a linear regression (only linear terms for $X_{1}$ $X_{2}$ ) then this method would work. However, even if $X_{1}$ and $X_{2}$ are uncorrelated, the nonlinear basis functions might be. And partial residual."
   ]
  }
 ],
 "metadata": {
  "kernelspec": {
   "display_name": "R",
   "language": "R",
   "name": "ir"
  },
  "language_info": {
   "codemirror_mode": "r",
   "file_extension": ".r",
   "mimetype": "text/x-r-source",
   "name": "R",
   "pygments_lexer": "r",
   "version": "3.3.2"
  }
 },
 "nbformat": 4,
 "nbformat_minor": 2
}
