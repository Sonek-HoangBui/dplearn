{
 "cells": [
  {
   "cell_type": "code",
   "execution_count": 2,
   "metadata": {},
   "outputs": [
    {
     "name": "stdout",
     "output_type": "stream",
     "text": [
      "/notebooks\n",
      "total 16K\n",
      "-rw-r--r--   1 root root  210 Jul 22 21:54 README.md\n",
      "-rw-r--r--   1 root root 2.2K Jul 22 21:54 cats-vs-dogs.ipynb\n",
      "drwxr-xr-x   8 root root  272 Aug 20 00:27 deeplearning.ai-1\n",
      "-rw-r--r--   1 root root 5.3K Aug 20 07:09 numpy-array-matrix-python2.ipynb\n",
      "drwxr-xr-x 100 root root 3.4K Aug 20 06:25 stats216v\n",
      "Python 2.7.12\n",
      "sys.version_info(major=2, minor=7, micro=12, releaselevel='final', serial=0)\n",
      "1.13.0\n"
     ]
    }
   ],
   "source": [
    "!pwd\n",
    "!ls -lh .\n",
    "!python -V\n",
    "\n",
    "%matplotlib inline\n",
    "\n",
    "import sys\n",
    "print(sys.version_info)\n",
    "\n",
    "import numpy as np\n",
    "print(np.__version__)"
   ]
  },
  {
   "cell_type": "code",
   "execution_count": 3,
   "metadata": {},
   "outputs": [
    {
     "name": "stdout",
     "output_type": "stream",
     "text": [
      "[1 2 3]\n",
      "[[1 2 3]]\n",
      "[[1 1]\n",
      " [1 0]]\n"
     ]
    }
   ],
   "source": [
    "print(np.array([1,2,3]))\n",
    "print(np.asmatrix(np.array([1,2,3])))\n",
    "\n",
    "# create an empty 2 x 2 matrix\n",
    "print(np.empty([2,2], int))"
   ]
  },
  {
   "cell_type": "code",
   "execution_count": 4,
   "metadata": {},
   "outputs": [
    {
     "name": "stdout",
     "output_type": "stream",
     "text": [
      "[[1 2 3]\n",
      " [4 5 6]]\n",
      "[[         0 1072168960          0]\n",
      " [1072168960          0          0]]\n",
      "[[0 0 0]\n",
      " [0 0 0]]\n",
      "[[1 1 1]\n",
      " [1 1 1]]\n"
     ]
    }
   ],
   "source": [
    "X = np.array([[1,2,3],[4,5,6]], np.int32)\n",
    "print(X)\n",
    "print(np.empty_like(X)) # Return a new array with the same shape and type as a given array.\n",
    "print(np.zeros_like(X))\n",
    "print(np.ones_like(X))"
   ]
  },
  {
   "cell_type": "code",
   "execution_count": 5,
   "metadata": {
    "scrolled": true
   },
   "outputs": [
    {
     "name": "stdout",
     "output_type": "stream",
     "text": [
      "[0 4 8]\n",
      "[[ 1.  0.  0.]\n",
      " [ 0.  1.  0.]\n",
      " [ 0.  0.  1.]]\n",
      "[[ 1.  0.  0.]\n",
      " [ 0.  1.  0.]\n",
      " [ 0.  0.  1.]]\n",
      "[[ 1.  1.]\n",
      " [ 1.  1.]\n",
      " [ 1.  1.]]\n",
      "[[ 0.  0.]\n",
      " [ 0.  0.]\n",
      " [ 0.  0.]]\n",
      "[[30 30]\n",
      " [30 30]]\n",
      "[  1.   2.   3.   4.   5.   6.   7.   8.   9.  10.]\n",
      "[  1.00000000e+01   7.94328235e+01   6.30957344e+02   5.01187234e+03\n",
      "   3.98107171e+04   3.16227766e+05   2.51188643e+06   1.99526231e+07\n",
      "   1.58489319e+08   1.25892541e+09]\n"
     ]
    }
   ],
   "source": [
    "print(np.diag(np.array([[0,1,2],[3,4,5],[6,7,8]])))\n",
    "print(np.eye(3))\n",
    "print(np.identity(3))\n",
    "print(np.ones([3,2], float))\n",
    "print(np.zeros([3,2], float))\n",
    "print(np.full([2,2], 6, dtype=np.uint) * 5)\n",
    "print(np.linspace(1., 10., 10)) # evenly spaced elements between 1. and 10.\n",
    "print(np.logspace(1., 10., 10, endpoint=False))"
   ]
  },
  {
   "cell_type": "code",
   "execution_count": 6,
   "metadata": {},
   "outputs": [
    {
     "name": "stdout",
     "output_type": "stream",
     "text": [
      "[0 1 2 3 4]\n",
      "[2 3 4]\n",
      "[[0 1 2 3 4]\n",
      " [5 6 7 8 9]]\n",
      "[[0 5]\n",
      " [1 6]\n",
      " [2 7]\n",
      " [3 8]\n",
      " [4 9]]\n",
      "[[[ 1.  1.]\n",
      "  [ 1.  1.]]\n",
      "\n",
      " [[ 1.  1.]\n",
      "  [ 1.  1.]]]\n",
      "[[ 1.  1.]\n",
      " [ 1.  1.]\n",
      " [ 1.  1.]\n",
      " [ 1.  1.]]\n"
     ]
    }
   ],
   "source": [
    "print(np.arange(5, dtype=np.int64))\n",
    "print(np.arange(2,5,1))\n",
    "print(np.arange(0,10).reshape(2,5))\n",
    "print(np.arange(0,10).reshape(2,5).transpose())\n",
    "print(np.ones([2, 2, 2]))\n",
    "print(np.reshape(np.ones([2, 2, 2]), [-1, 2]))"
   ]
  },
  {
   "cell_type": "code",
   "execution_count": 7,
   "metadata": {},
   "outputs": [
    {
     "name": "stdout",
     "output_type": "stream",
     "text": [
      "[1 2 3 4]\n",
      "[1 2 1 2]\n",
      "[[2 4]\n",
      " [4 6]]\n",
      "[[1 4]\n",
      " [3 8]]\n",
      "[[1 2]\n",
      " [3 4]]\n",
      "[[1 2]\n",
      " [1 2]]\n",
      "16\n"
     ]
    }
   ],
   "source": [
    "x = np.array([[1,2], [3,4]])\n",
    "y = np.array([[1,2], [1,2]])\n",
    "print(x.flatten())\n",
    "print(y.flatten())\n",
    "print(np.add(x, y))\n",
    "print(np.multiply(x, y))\n",
    "print(x)\n",
    "print(y)\n",
    "print(np.vdot(x, y)) # 1*1 + 2*2 + 3*1 + 4*2"
   ]
  },
  {
   "cell_type": "code",
   "execution_count": null,
   "metadata": {
    "collapsed": true
   },
   "outputs": [],
   "source": []
  }
 ],
 "metadata": {
  "kernelspec": {
   "display_name": "Python 2",
   "language": "python",
   "name": "python2"
  },
  "language_info": {
   "codemirror_mode": {
    "name": "ipython",
    "version": 2
   },
   "file_extension": ".py",
   "mimetype": "text/x-python",
   "name": "python",
   "nbconvert_exporter": "python",
   "pygments_lexer": "ipython2",
   "version": "2.7.12"
  }
 },
 "nbformat": 4,
 "nbformat_minor": 2
}
