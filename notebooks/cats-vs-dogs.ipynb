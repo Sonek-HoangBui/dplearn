{
 "cells": [
  {
   "cell_type": "code",
   "execution_count": 3,
   "metadata": {},
   "outputs": [
    {
     "name": "stdout",
     "output_type": "stream",
     "text": [
      "total 1.4G\n",
      "drwxr-xr-x 8 root root  272 Jun 16 06:35 dogscats\n",
      "-rw-r--r-- 1 root root 818M Jun 12 08:26 dogscats.zip\n",
      "-rw-r--r-- 1 root root 528M Jun 12 08:29 vgg16.h5\n",
      "total 0\n",
      "drwxr-xr-x     2 root root   68 Jun 16 06:35 models\n",
      "drwxr-xr-x     4 root root  136 Jun 16 06:34 sample\n",
      "drwxr-xr-x 12502 root root 416K Jun 16 06:35 test1\n",
      "drwxr-xr-x     5 root root  170 Jun 16 06:35 train\n",
      "drwxr-xr-x     5 root root  170 Jun 16 06:35 valid\n"
     ]
    }
   ],
   "source": [
    "!ls -lh /root/data/dplearn.data/\n",
    "!ls -lh /root/data/dplearn.data/dogscats/\n",
    "\n",
    "# show plots in the web page itself\n",
    "%matplotlib inline"
   ]
  },
  {
   "cell_type": "code",
   "execution_count": 6,
   "metadata": {
    "collapsed": true
   },
   "outputs": [],
   "source": [
    "from __future__ import division, print_function\n",
    "\n",
    "import numpy as np"
   ]
  },
  {
   "cell_type": "code",
   "execution_count": 7,
   "metadata": {},
   "outputs": [
    {
     "data": {
      "text/plain": [
       "array([[[ 123.68 ]],\n",
       "\n",
       "       [[ 116.779]],\n",
       "\n",
       "       [[ 103.939]]], dtype=float32)"
      ]
     },
     "execution_count": 7,
     "metadata": {},
     "output_type": "execute_result"
    }
   ],
   "source": [
    "np.array([123.68, 116.779, 103.939], dtype=np.float32).reshape((3,1,1))"
   ]
  },
  {
   "cell_type": "code",
   "execution_count": null,
   "metadata": {
    "collapsed": true
   },
   "outputs": [],
   "source": []
  }
 ],
 "metadata": {
  "anaconda-cloud": {},
  "kernelspec": {
   "display_name": "Python 2",
   "language": "python",
   "name": "python2"
  },
  "language_info": {
   "codemirror_mode": {
    "name": "ipython",
    "version": 2
   },
   "file_extension": ".py",
   "mimetype": "text/x-python",
   "name": "python",
   "nbconvert_exporter": "python",
   "pygments_lexer": "ipython2",
   "version": "2.7.12"
  }
 },
 "nbformat": 4,
 "nbformat_minor": 2
}
