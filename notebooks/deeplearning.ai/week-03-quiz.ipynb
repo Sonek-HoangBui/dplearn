{
 "cells": [
  {
   "cell_type": "markdown",
   "metadata": {
    "collapsed": true
   },
   "source": [
    "##### Q1.\n",
    "\n",
    "Which of the following are true? (Check all that apply.)\n",
    "\n",
    "- $a^{[2]}$ denotes the activation vector of the $2^{nd}$ layer. <span style=\"color:blue\">(True)</span>\n",
    "- $a^{[2](12)}$ denotes the activation vector of the $2^{nd}$ layer for the $12^{th}$ training example.<span style=\"color:blue\">(True)</span>\n",
    "- $a^{[2]}_4$ is the activation output by the $4^{th}$ neuron of the $2^{nd}$ layer. <span style=\"color:blue\">(True)</span>\n",
    "- $a^{[2]}_4$ is the activation output of the $2^{nd}$ layer for the $4^{th}$ training example. <span style=\"color:red\">(False)</span>\n",
    "- $a^{[2](12)}$ denotes activation vector of the $12^{th}$ layer on the $2^{nd}$ training example. <span style=\"color:red\">(False)</span>\n",
    "- $X$ is a matrix in which each column is one training example. <span style=\"color:blue\">(True)</span>\n",
    "- $X$ is a matrix in which each row is one training example. <span style=\"color:red\">(False)</span>"
   ]
  },
  {
   "cell_type": "markdown",
   "metadata": {},
   "source": [
    "##### Q2.\n",
    "\n",
    "The tanh activation usually works better than sigmoid activation function for hidden units because the mean of its output is closer to zero, and so it centers the data better for the next layer. True/False?"
   ]
  },
  {
   "cell_type": "markdown",
   "metadata": {},
   "source": [
    "<span style=\"color:blue\">\n",
    "Answer: True, as seen in lecture the output of the tanh is between -1 and 1, it thus centers the data which makes the learning simpler for the next layer.\n",
    "</span>"
   ]
  },
  {
   "attachments": {},
   "cell_type": "markdown",
   "metadata": {},
   "source": [
    "##### Q3.\n",
    "\n",
    "Which of these is a correct vectorized implementation of forward propagation for layer $l$, where $1 \\leq l \\leq L$?"
   ]
  },
  {
   "cell_type": "markdown",
   "metadata": {},
   "source": [
    "<span style=\"color:blue\">\n",
    "Answer:\n",
    "$$Z^{[l]} = W^{[l]} A^{[l-1]}+ b^{[l]}$$\n",
    "$$A^{[l]} = g^{[l]}(Z^{[l]})$$\n",
    "</span>"
   ]
  },
  {
   "cell_type": "markdown",
   "metadata": {},
   "source": [
    "##### Q4.\n",
    "\n",
    "You are building a binary classifier for recognizing cucumbers (y=1) vs. watermelons (y=0). Which one of these activation functions would you recommend using for the output layer?"
   ]
  },
  {
   "cell_type": "markdown",
   "metadata": {},
   "source": [
    "<span style=\"color:blue\">\n",
    "Answer: sigmoid.\n",
    "Sigmoid outputs a value between 0 and 1 which makes it a very good choice for binary classification. You can classify as 0 if the output is less than 0.5 and classify as 1 if the output is more than 0.5. It can be done with tanh as well but it is less convenient as the output is between -1 and 1.\n",
    "</span>"
   ]
  },
  {
   "attachments": {},
   "cell_type": "markdown",
   "metadata": {},
   "source": [
    "##### Q5.\n",
    "\n",
    "Consider the following code:"
   ]
  },
  {
   "cell_type": "code",
   "execution_count": 2,
   "metadata": {},
   "outputs": [
    {
     "name": "stdout",
     "output_type": "stream",
     "text": [
      "(4, 1)\n"
     ]
    }
   ],
   "source": [
    "import numpy as np\n",
    "A = np.random.randn(4,3)\n",
    "B = np.sum(A, axis=1, keepdims=True)\n",
    "print(B.shape)"
   ]
  },
  {
   "cell_type": "markdown",
   "metadata": {},
   "source": [
    "<span style=\"color:blue\">\n",
    "Answer: We use (keepdims = True) to make sure that A.shape is (4,1) and not (4, ). It makes our code more rigorous.\n",
    "</span>"
   ]
  },
  {
   "cell_type": "markdown",
   "metadata": {},
   "source": [
    "##### Q6.\n",
    "\n",
    "Suppose you have built a neural network. You decide to initialize the weights and biases to be zero. Which of the following statements is true?"
   ]
  },
  {
   "cell_type": "markdown",
   "metadata": {},
   "source": [
    "<span style=\"color:blue\">\n",
    "Answer: Each neuron in the first hidden layer will perform the same computation. So even after multiple iterations of gradient descent each neuron in the layer will be computing the same thing as other neurons.\n",
    "</span>"
   ]
  },
  {
   "cell_type": "markdown",
   "metadata": {},
   "source": [
    "##### Q7.\n",
    "\n",
    "Logistic regression’s weights w should be initialized randomly rather than to all zeros, because if you initialize to all zeros, then logistic regression will fail to learn a useful decision boundary because it will fail to “break symmetry”, True/False?"
   ]
  },
  {
   "cell_type": "markdown",
   "metadata": {},
   "source": [
    "<span style=\"color:blue\">\n",
    "Answer: False.\n",
    "Logistic Regression doesn't have a hidden layer. If you initialize the weights to zeros, the first example x fed in the logistic regression will output zero but the derivatives of the Logistic Regression depend on the input x (because there's no hidden layer) which is not zero. So at the second iteration, the weights values follow x's distribution and are different from each other if x is not a constant vector.\n",
    "</span>"
   ]
  },
  {
   "cell_type": "markdown",
   "metadata": {},
   "source": [
    "##### Q8.\n",
    "\n",
    "You have built a network using the tanh activation for all the hidden units. You initialize the weights to relative large values, using `np.random.randn(..,..)*1000`. What will happen?"
   ]
  },
  {
   "cell_type": "markdown",
   "metadata": {},
   "source": [
    "<span style=\"color:blue\">\n",
    "Answer: This will cause the inputs of the tanh to also be very large, thus causing gradients to be close to zero. The optimization algorithm will thus become slow. `tanh` becomes flat for large values, this leads its gradient to be close to zero. This slows down the optimization algorithm.\n",
    "</span>"
   ]
  },
  {
   "attachments": {},
   "cell_type": "markdown",
   "metadata": {},
   "source": [
    "##### Q9.\n",
    "\n",
    "Consider the following 1 hidden layer neural network:\n",
    "\n",
    "![1-hidden.png](images/1-hidden.png)\n",
    "\n",
    "Which of the following statements are True? (Check all that apply).\n",
    "\n",
    "1. $W^{[1]}$ will have shape (2, 4) <span style=\"color:red\">(False)</span>\n",
    "2. $b^{[1]}$ will have shape (4, 1) <span style=\"color:blue\">(True)</span>\n",
    "3. $W^{[1]}$ will have shape (4, 2) <span style=\"color:blue\">(True)</span>\n",
    "4. $b^{[1]}$ will have shape (2, 1) <span style=\"color:red\">(False)</span>\n",
    "5. $W^{[2]}$ will have shape (1, 4) <span style=\"color:blue\">(True)</span>\n",
    "6. $b^{[2]}$ will have shape (4, 1) <span style=\"color:red\">(False)</span>\n",
    "7. $W^{[2]}$ will have shape (4, 1) <span style=\"color:red\">(False)</span>\n",
    "8. $b^{[2]}$ will have shape (1, 1) <span style=\"color:blue\">(True)</span>"
   ]
  },
  {
   "cell_type": "markdown",
   "metadata": {},
   "source": [
    "##### Q10.\n",
    "\n",
    "In the same network as the previous question, what are the dimensions of $Z^{[1]}$ and $A^{[1]}$?"
   ]
  },
  {
   "cell_type": "markdown",
   "metadata": {},
   "source": [
    "<span style=\"color:blue\">\n",
    "Answer: $Z^{[1]}$ and $A^{[1]}$ are (4, m).\n",
    "</span>"
   ]
  }
 ],
 "metadata": {
  "kernelspec": {
   "display_name": "Python 3",
   "language": "python",
   "name": "python3"
  },
  "language_info": {
   "codemirror_mode": {
    "name": "ipython",
    "version": 3
   },
   "file_extension": ".py",
   "mimetype": "text/x-python",
   "name": "python",
   "nbconvert_exporter": "python",
   "pygments_lexer": "ipython3",
   "version": "3.5.2"
  }
 },
 "nbformat": 4,
 "nbformat_minor": 2
}
