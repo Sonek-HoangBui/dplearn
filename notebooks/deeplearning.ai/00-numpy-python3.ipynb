{
 "cells": [
  {
   "cell_type": "code",
   "execution_count": 1,
   "metadata": {},
   "outputs": [
    {
     "name": "stdout",
     "output_type": "stream",
     "text": [
      "/notebooks/deeplearning.ai\n",
      "total 4.0M\n",
      "-rw-r--r--  1 root root  12K Aug 25 01:27 00-numpy-python3.ipynb\n",
      "-rw-r--r--  1 root root  39K Aug 24 23:58 01-basics-numpy-python3.ipynb\n",
      "-rw-r--r--  1 root root  27K Aug 25 01:28 02-quiz.ipynb\n",
      "-rw-r--r--  1 root root 263K Aug 27 02:40 03-logistic-regression-python3.ipynb\n",
      "-rw-r--r--  1 root root 556K Aug 25 08:50 04-classification.ipynb\n",
      "-rw-r--r--  1 root root  65K Aug 25 08:07 05-deep-neural-network.ipynb\n",
      "-rw-r--r--  1 root root 1.9M Aug 25 08:50 06-deep-neural-network.ipynb\n",
      "drwxr-xr-x  5 root root  170 Aug 23 05:01 __pycache__\n",
      "-rw-r--r--  1 root root 256K Aug 13 21:16 deep-learning-notations.pdf\n",
      "drwxr-xr-x 44 root root 1.5K Aug 27 02:41 images\n",
      "-rw-r--r--  1 root root 410K Aug 13 20:07 neural-network.pdf\n",
      "-rw-r--r--  1 root root 443K Aug 13 20:15 supervised-learning.pdf\n",
      "Python 2.7.12\n",
      "sys.version_info(major=3, minor=5, micro=2, releaselevel='final', serial=0)\n",
      "1.13.1\n"
     ]
    }
   ],
   "source": [
    "!pwd\n",
    "!ls -lh .\n",
    "!python -V\n",
    "\n",
    "%matplotlib inline\n",
    "\n",
    "import sys\n",
    "print(sys.version_info)\n",
    "\n",
    "import numpy as np\n",
    "print(np.__version__)"
   ]
  },
  {
   "cell_type": "code",
   "execution_count": 4,
   "metadata": {},
   "outputs": [
    {
     "name": "stdout",
     "output_type": "stream",
     "text": [
      "[-1.78689489  1.08261494  0.75955829 -0.14071355  0.28050073]\n",
      "(5,)\n",
      "[-1.78689489  1.08261494  0.75955829 -0.14071355  0.28050073]\n",
      "5.04045824246\n",
      "[[-1.78689489]\n",
      " [ 1.08261494]\n",
      " [ 0.75955829]\n",
      " [-0.14071355]\n",
      " [ 0.28050073]]\n"
     ]
    }
   ],
   "source": [
    "a = np.random.randn(5)\n",
    "print(a) # rank 1 array <=== do not use!\n",
    "print(a.shape)\n",
    "print(a.T)\n",
    "print(np.dot(a,a.T))\n",
    "\n",
    "a = a.reshape((5,1))\n",
    "print(a)"
   ]
  },
  {
   "cell_type": "code",
   "execution_count": 5,
   "metadata": {},
   "outputs": [
    {
     "name": "stdout",
     "output_type": "stream",
     "text": [
      "[[-0.91507937]\n",
      " [-0.15836048]\n",
      " [ 0.74201373]\n",
      " [ 0.9058739 ]\n",
      " [ 1.12059087]]\n",
      "[[-0.91507937 -0.15836048  0.74201373  0.9058739   1.12059087]]\n",
      "[[ 0.83737024  0.14491241 -0.67900145 -0.82894652 -1.02542958]\n",
      " [ 0.14491241  0.02507804 -0.11750565 -0.14345463 -0.17745731]\n",
      " [-0.67900145 -0.11750565  0.55058438  0.67217088  0.83149381]\n",
      " [-0.82894652 -0.14345463  0.67217088  0.82060753  1.01511403]\n",
      " [-1.02542958 -0.17745731  0.83149381  1.01511403  1.2557239 ]]\n"
     ]
    }
   ],
   "source": [
    "# use as column vector\n",
    "a = np.random.randn(5,1)\n",
    "assert(a.shape == (5,1))\n",
    "print(a)\n",
    "print(a.T)\n",
    "print(np.dot(a,a.T))"
   ]
  },
  {
   "cell_type": "code",
   "execution_count": 6,
   "metadata": {},
   "outputs": [
    {
     "name": "stdout",
     "output_type": "stream",
     "text": [
      "[1 2 3]\n",
      "[[1 2 3]]\n",
      "[[1 1]\n",
      " [1 0]]\n"
     ]
    }
   ],
   "source": [
    "print(np.array([1,2,3]))\n",
    "print(np.asmatrix(np.array([1,2,3])))\n",
    "\n",
    "# create an empty 2 x 2 matrix\n",
    "print(np.empty([2,2], int))"
   ]
  },
  {
   "cell_type": "code",
   "execution_count": 7,
   "metadata": {},
   "outputs": [
    {
     "name": "stdout",
     "output_type": "stream",
     "text": [
      "[[1 2 3]\n",
      " [4 5 6]]\n",
      "[[         0 1072168960          0]\n",
      " [1072168960          0          0]]\n",
      "[[0 0 0]\n",
      " [0 0 0]]\n",
      "[[1 1 1]\n",
      " [1 1 1]]\n"
     ]
    }
   ],
   "source": [
    "X = np.array([[1,2,3],[4,5,6]], np.int32)\n",
    "print(X)\n",
    "print(np.empty_like(X)) # Return a new array with the same shape and type as a given array.\n",
    "print(np.zeros_like(X))\n",
    "print(np.ones_like(X))"
   ]
  },
  {
   "cell_type": "code",
   "execution_count": 8,
   "metadata": {
    "scrolled": true
   },
   "outputs": [
    {
     "name": "stdout",
     "output_type": "stream",
     "text": [
      "[0 4 8]\n",
      "[[ 1.  0.  0.]\n",
      " [ 0.  1.  0.]\n",
      " [ 0.  0.  1.]]\n",
      "[[ 1.  0.  0.]\n",
      " [ 0.  1.  0.]\n",
      " [ 0.  0.  1.]]\n",
      "[[ 1.  1.]\n",
      " [ 1.  1.]\n",
      " [ 1.  1.]]\n",
      "[[ 0.  0.]\n",
      " [ 0.  0.]\n",
      " [ 0.  0.]]\n",
      "[[30 30]\n",
      " [30 30]]\n",
      "[  1.   2.   3.   4.   5.   6.   7.   8.   9.  10.]\n",
      "[  1.00000000e+01   7.94328235e+01   6.30957344e+02   5.01187234e+03\n",
      "   3.98107171e+04   3.16227766e+05   2.51188643e+06   1.99526231e+07\n",
      "   1.58489319e+08   1.25892541e+09]\n"
     ]
    }
   ],
   "source": [
    "print(np.diag(np.array([[0,1,2],[3,4,5],[6,7,8]])))\n",
    "print(np.eye(3))\n",
    "print(np.identity(3))\n",
    "print(np.ones([3,2], float))\n",
    "print(np.zeros([3,2], float))\n",
    "print(np.full([2,2], 6, dtype=np.uint) * 5)\n",
    "print(np.linspace(1., 10., 10)) # evenly spaced elements between 1. and 10.\n",
    "print(np.logspace(1., 10., 10, endpoint=False))"
   ]
  },
  {
   "cell_type": "code",
   "execution_count": 9,
   "metadata": {},
   "outputs": [
    {
     "name": "stdout",
     "output_type": "stream",
     "text": [
      "[0 1 2 3 4]\n",
      "[2 3 4]\n",
      "[[0 1 2 3 4]\n",
      " [5 6 7 8 9]]\n",
      "[[0 5]\n",
      " [1 6]\n",
      " [2 7]\n",
      " [3 8]\n",
      " [4 9]]\n",
      "[[[ 1.  1.]\n",
      "  [ 1.  1.]]\n",
      "\n",
      " [[ 1.  1.]\n",
      "  [ 1.  1.]]]\n",
      "[[ 1.  1.]\n",
      " [ 1.  1.]\n",
      " [ 1.  1.]\n",
      " [ 1.  1.]]\n"
     ]
    }
   ],
   "source": [
    "print(np.arange(5, dtype=np.int64))\n",
    "print(np.arange(2,5,1))\n",
    "print(np.arange(0,10).reshape(2,5))\n",
    "print(np.arange(0,10).reshape(2,5).transpose())\n",
    "print(np.ones([2, 2, 2]))\n",
    "print(np.reshape(np.ones([2, 2, 2]), [-1, 2]))"
   ]
  },
  {
   "cell_type": "code",
   "execution_count": 10,
   "metadata": {},
   "outputs": [
    {
     "name": "stdout",
     "output_type": "stream",
     "text": [
      "[1 2 3 4]\n",
      "[1 2 1 2]\n",
      "[[2 4]\n",
      " [4 6]]\n",
      "[[1 4]\n",
      " [3 8]]\n",
      "[[1 2]\n",
      " [3 4]]\n",
      "[[1 2]\n",
      " [1 2]]\n",
      "16\n"
     ]
    }
   ],
   "source": [
    "x = np.array([[1,2], [3,4]])\n",
    "y = np.array([[1,2], [1,2]])\n",
    "print(x.flatten())\n",
    "print(y.flatten())\n",
    "print(np.add(x, y))\n",
    "print(np.multiply(x, y))\n",
    "print(x)\n",
    "print(y)\n",
    "print(np.vdot(x, y)) # 1*1 + 2*2 + 3*1 + 4*2"
   ]
  },
  {
   "cell_type": "code",
   "execution_count": 11,
   "metadata": {},
   "outputs": [
    {
     "name": "stdout",
     "output_type": "stream",
     "text": [
      "249887.776565\n",
      "Vectorized:2.285480499267578ms\n",
      "249887.776565\n",
      "For loop:415.19737243652344ms\n"
     ]
    }
   ],
   "source": [
    "# https://www.coursera.org/learn/neural-networks-deep-learning/lecture/NYnog/vectorization\n",
    "import time\n",
    "\n",
    "a = np.random.rand(1000000)\n",
    "b = np.random.rand(1000000)\n",
    "\n",
    "tic = time.time()\n",
    "c = np.dot(a,b)\n",
    "toc = time.time()\n",
    "print(c)\n",
    "print(\"Vectorized:\" + str(1000*(toc-tic)) + \"ms\")\n",
    "\n",
    "c = 0\n",
    "tic = time.time()\n",
    "for i in range(1000000):\n",
    "    c += a[i]*b[i]\n",
    "toc = time.time()\n",
    "print(c)\n",
    "print(\"For loop:\" + str(1000*(toc-tic)) + \"ms\")"
   ]
  },
  {
   "cell_type": "code",
   "execution_count": 12,
   "metadata": {},
   "outputs": [
    {
     "name": "stdout",
     "output_type": "stream",
     "text": [
      "[  2.71828183   7.3890561   20.08553692]\n",
      "[ 0.          0.69314718  1.09861229]\n"
     ]
    }
   ],
   "source": [
    "print(np.exp(np.array([1,2,3])))\n",
    "print(np.log(np.array([1,2,3])))"
   ]
  },
  {
   "cell_type": "code",
   "execution_count": 13,
   "metadata": {},
   "outputs": [
    {
     "name": "stdout",
     "output_type": "stream",
     "text": [
      "[[101 202 303]\n",
      " [104 205 306]]\n",
      "[[101 102 103]\n",
      " [204 205 206]]\n"
     ]
    }
   ],
   "source": [
    "# broadcast\n",
    "print(np.array([[1,2,3],[4,5,6]]) + np.array([100,200,300]))\n",
    "print(np.array([[1,2,3],[4,5,6]]) + np.array([100,200]).reshape(2,1))"
   ]
  },
  {
   "cell_type": "code",
   "execution_count": 14,
   "metadata": {},
   "outputs": [
    {
     "name": "stdout",
     "output_type": "stream",
     "text": [
      "[[  56.     0.     4.4   68. ]\n",
      " [   1.2  104.    42.     8. ]\n",
      " [   1.8  135.    99.     0.9]]\n"
     ]
    }
   ],
   "source": [
    "A = np.array([[56.0,    0.0,   4.4,  68.0],\n",
    "              [ 1.2,  104.0,  42.0,   8.0],\n",
    "              [ 1.8,  135.0,  99.0,   0.9]])\n",
    "\n",
    "print(A)"
   ]
  },
  {
   "cell_type": "code",
   "execution_count": 15,
   "metadata": {},
   "outputs": [
    {
     "name": "stdout",
     "output_type": "stream",
     "text": [
      "[  59.   239.   145.4   76.9]\n",
      "[[  59.   239.   145.4   76.9]]\n"
     ]
    }
   ],
   "source": [
    "# sum vertically (horizontal axis=1)\n",
    "cal = A.sum(axis=0)\n",
    "\n",
    "print(cal)\n",
    "print(cal.reshape(1,4))"
   ]
  },
  {
   "cell_type": "code",
   "execution_count": 16,
   "metadata": {},
   "outputs": [
    {
     "name": "stdout",
     "output_type": "stream",
     "text": [
      "[[ 94.91525424   0.           3.0261348   88.42652796]\n",
      " [  2.03389831  43.51464435  28.88583219  10.40312094]\n",
      " [  3.05084746  56.48535565  68.08803301   1.17035111]]\n"
     ]
    }
   ],
   "source": [
    "# broadcast\n",
    "# cal is already 1x4 matrix, but reshape to be clear\n",
    "# 3x4 / 1x4\n",
    "pct = 100*A/cal.reshape(1,4)\n",
    "print(pct)"
   ]
  }
 ],
 "metadata": {
  "kernelspec": {
   "display_name": "Python 3",
   "language": "python",
   "name": "python3"
  },
  "language_info": {
   "codemirror_mode": {
    "name": "ipython",
    "version": 3
   },
   "file_extension": ".py",
   "mimetype": "text/x-python",
   "name": "python",
   "nbconvert_exporter": "python",
   "pygments_lexer": "ipython3",
   "version": "3.5.2"
  }
 },
 "nbformat": 4,
 "nbformat_minor": 2
}
