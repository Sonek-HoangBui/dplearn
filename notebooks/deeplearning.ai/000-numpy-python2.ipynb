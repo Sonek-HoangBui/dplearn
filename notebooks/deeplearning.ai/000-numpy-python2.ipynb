{
 "cells": [
  {
   "cell_type": "code",
   "execution_count": 3,
   "metadata": {},
   "outputs": [
    {
     "name": "stdout",
     "output_type": "stream",
     "text": [
      "/notebooks/deeplearning.ai\n",
      "total 1.1M\n",
      "-rw-r--r-- 1 root root 8.1K Aug 20 21:12 000-numpy-python2.ipynb\n",
      "-rw-r--r-- 1 root root 256K Aug 13 21:16 deep-learning-notations.pdf\n",
      "-rw-r--r-- 1 root root 410K Aug 13 20:07 week-01-01.pdf\n",
      "-rw-r--r-- 1 root root 443K Aug 13 20:15 week-01-02.pdf\n",
      "Python 2.7.12\n",
      "sys.version_info(major=2, minor=7, micro=12, releaselevel='final', serial=0)\n",
      "1.13.0\n"
     ]
    }
   ],
   "source": [
    "!pwd\n",
    "!ls -lh .\n",
    "!python -V\n",
    "\n",
    "%matplotlib inline\n",
    "\n",
    "import sys\n",
    "print(sys.version_info)\n",
    "\n",
    "import numpy as np\n",
    "print(np.__version__)"
   ]
  },
  {
   "cell_type": "code",
   "execution_count": 42,
   "metadata": {},
   "outputs": [
    {
     "name": "stdout",
     "output_type": "stream",
     "text": [
      "[-0.03772455 -0.46475461  0.00198077  0.31657211 -0.06335357]\n",
      "(5,)\n",
      "[-0.03772455 -0.46475461  0.00198077  0.31657211 -0.06335357]\n",
      "0.321655487827\n",
      "[[-0.03772455]\n",
      " [-0.46475461]\n",
      " [ 0.00198077]\n",
      " [ 0.31657211]\n",
      " [-0.06335357]]\n"
     ]
    }
   ],
   "source": [
    "a = np.random.randn(5)\n",
    "print(a) # rank 1 array <=== do not use!\n",
    "print(a.shape)\n",
    "print(a.T)\n",
    "print(np.dot(a,a.T))\n",
    "\n",
    "a = a.reshape((5,1))\n",
    "print(a)"
   ]
  },
  {
   "cell_type": "code",
   "execution_count": 43,
   "metadata": {},
   "outputs": [
    {
     "name": "stdout",
     "output_type": "stream",
     "text": [
      "[[-1.05369712]\n",
      " [ 2.07110628]\n",
      " [ 0.67301237]\n",
      " [ 0.94812112]\n",
      " [-1.33630637]]\n",
      "[[-1.05369712  2.07110628  0.67301237  0.94812112 -1.33630637]]\n",
      "[[ 1.11027762 -2.18231873 -0.7091512  -0.9990325   1.40806218]\n",
      " [-2.18231873  4.28948123  1.39388015  1.96365962 -2.76763253]\n",
      " [-0.7091512   1.39388015  0.45294565  0.63809725 -0.89935072]\n",
      " [-0.9990325   1.96365962  0.63809725  0.89893367 -1.2669803 ]\n",
      " [ 1.40806218 -2.76763253 -0.89935072 -1.2669803   1.78571473]]\n"
     ]
    }
   ],
   "source": [
    "# use as column vector\n",
    "a = np.random.randn(5,1)\n",
    "assert(a.shape == (5,1))\n",
    "print(a)\n",
    "print(a.T)\n",
    "print(np.dot(a,a.T))"
   ]
  },
  {
   "cell_type": "code",
   "execution_count": 4,
   "metadata": {},
   "outputs": [
    {
     "name": "stdout",
     "output_type": "stream",
     "text": [
      "[1 2 3]\n",
      "[[1 2 3]]\n",
      "[[1 1]\n",
      " [1 0]]\n"
     ]
    }
   ],
   "source": [
    "print(np.array([1,2,3]))\n",
    "print(np.asmatrix(np.array([1,2,3])))\n",
    "\n",
    "# create an empty 2 x 2 matrix\n",
    "print(np.empty([2,2], int))"
   ]
  },
  {
   "cell_type": "code",
   "execution_count": 5,
   "metadata": {},
   "outputs": [
    {
     "name": "stdout",
     "output_type": "stream",
     "text": [
      "[[1 2 3]\n",
      " [4 5 6]]\n",
      "[[         0 1072168960          0]\n",
      " [1072168960          0          0]]\n",
      "[[0 0 0]\n",
      " [0 0 0]]\n",
      "[[1 1 1]\n",
      " [1 1 1]]\n"
     ]
    }
   ],
   "source": [
    "X = np.array([[1,2,3],[4,5,6]], np.int32)\n",
    "print(X)\n",
    "print(np.empty_like(X)) # Return a new array with the same shape and type as a given array.\n",
    "print(np.zeros_like(X))\n",
    "print(np.ones_like(X))"
   ]
  },
  {
   "cell_type": "code",
   "execution_count": 6,
   "metadata": {
    "scrolled": true
   },
   "outputs": [
    {
     "name": "stdout",
     "output_type": "stream",
     "text": [
      "[0 4 8]\n",
      "[[ 1.  0.  0.]\n",
      " [ 0.  1.  0.]\n",
      " [ 0.  0.  1.]]\n",
      "[[ 1.  0.  0.]\n",
      " [ 0.  1.  0.]\n",
      " [ 0.  0.  1.]]\n",
      "[[ 1.  1.]\n",
      " [ 1.  1.]\n",
      " [ 1.  1.]]\n",
      "[[ 0.  0.]\n",
      " [ 0.  0.]\n",
      " [ 0.  0.]]\n",
      "[[30 30]\n",
      " [30 30]]\n",
      "[  1.   2.   3.   4.   5.   6.   7.   8.   9.  10.]\n",
      "[  1.00000000e+01   7.94328235e+01   6.30957344e+02   5.01187234e+03\n",
      "   3.98107171e+04   3.16227766e+05   2.51188643e+06   1.99526231e+07\n",
      "   1.58489319e+08   1.25892541e+09]\n"
     ]
    }
   ],
   "source": [
    "print(np.diag(np.array([[0,1,2],[3,4,5],[6,7,8]])))\n",
    "print(np.eye(3))\n",
    "print(np.identity(3))\n",
    "print(np.ones([3,2], float))\n",
    "print(np.zeros([3,2], float))\n",
    "print(np.full([2,2], 6, dtype=np.uint) * 5)\n",
    "print(np.linspace(1., 10., 10)) # evenly spaced elements between 1. and 10.\n",
    "print(np.logspace(1., 10., 10, endpoint=False))"
   ]
  },
  {
   "cell_type": "code",
   "execution_count": 7,
   "metadata": {},
   "outputs": [
    {
     "name": "stdout",
     "output_type": "stream",
     "text": [
      "[0 1 2 3 4]\n",
      "[2 3 4]\n",
      "[[0 1 2 3 4]\n",
      " [5 6 7 8 9]]\n",
      "[[0 5]\n",
      " [1 6]\n",
      " [2 7]\n",
      " [3 8]\n",
      " [4 9]]\n",
      "[[[ 1.  1.]\n",
      "  [ 1.  1.]]\n",
      "\n",
      " [[ 1.  1.]\n",
      "  [ 1.  1.]]]\n",
      "[[ 1.  1.]\n",
      " [ 1.  1.]\n",
      " [ 1.  1.]\n",
      " [ 1.  1.]]\n"
     ]
    }
   ],
   "source": [
    "print(np.arange(5, dtype=np.int64))\n",
    "print(np.arange(2,5,1))\n",
    "print(np.arange(0,10).reshape(2,5))\n",
    "print(np.arange(0,10).reshape(2,5).transpose())\n",
    "print(np.ones([2, 2, 2]))\n",
    "print(np.reshape(np.ones([2, 2, 2]), [-1, 2]))"
   ]
  },
  {
   "cell_type": "code",
   "execution_count": 8,
   "metadata": {},
   "outputs": [
    {
     "name": "stdout",
     "output_type": "stream",
     "text": [
      "[1 2 3 4]\n",
      "[1 2 1 2]\n",
      "[[2 4]\n",
      " [4 6]]\n",
      "[[1 4]\n",
      " [3 8]]\n",
      "[[1 2]\n",
      " [3 4]]\n",
      "[[1 2]\n",
      " [1 2]]\n",
      "16\n"
     ]
    }
   ],
   "source": [
    "x = np.array([[1,2], [3,4]])\n",
    "y = np.array([[1,2], [1,2]])\n",
    "print(x.flatten())\n",
    "print(y.flatten())\n",
    "print(np.add(x, y))\n",
    "print(np.multiply(x, y))\n",
    "print(x)\n",
    "print(y)\n",
    "print(np.vdot(x, y)) # 1*1 + 2*2 + 3*1 + 4*2"
   ]
  },
  {
   "cell_type": "code",
   "execution_count": 9,
   "metadata": {},
   "outputs": [
    {
     "name": "stdout",
     "output_type": "stream",
     "text": [
      "249957.063501\n",
      "Vectorized:1.74522399902ms\n",
      "249957.063501\n",
      "For loop:472.903013229ms\n"
     ]
    }
   ],
   "source": [
    "# https://www.coursera.org/learn/neural-networks-deep-learning/lecture/NYnog/vectorization\n",
    "import time\n",
    "\n",
    "a = np.random.rand(1000000)\n",
    "b = np.random.rand(1000000)\n",
    "\n",
    "tic = time.time()\n",
    "c = np.dot(a,b)\n",
    "toc = time.time()\n",
    "print(c)\n",
    "print(\"Vectorized:\" + str(1000*(toc-tic)) + \"ms\")\n",
    "\n",
    "c = 0\n",
    "tic = time.time()\n",
    "for i in range(1000000):\n",
    "    c += a[i]*b[i]\n",
    "toc = time.time()\n",
    "print(c)\n",
    "print(\"For loop:\" + str(1000*(toc-tic)) + \"ms\")"
   ]
  },
  {
   "cell_type": "code",
   "execution_count": 10,
   "metadata": {},
   "outputs": [
    {
     "name": "stdout",
     "output_type": "stream",
     "text": [
      "[  2.71828183   7.3890561   20.08553692]\n",
      "[ 0.          0.69314718  1.09861229]\n"
     ]
    }
   ],
   "source": [
    "print(np.exp(np.array([1,2,3])))\n",
    "print(np.log(np.array([1,2,3])))"
   ]
  },
  {
   "cell_type": "code",
   "execution_count": 32,
   "metadata": {},
   "outputs": [
    {
     "name": "stdout",
     "output_type": "stream",
     "text": [
      "[[101 202 303]\n",
      " [104 205 306]]\n",
      "[[101 102 103]\n",
      " [204 205 206]]\n"
     ]
    }
   ],
   "source": [
    "# broadcast\n",
    "print(np.array([[1,2,3],[4,5,6]]) + np.array([100,200,300]))\n",
    "print(np.array([[1,2,3],[4,5,6]]) + np.array([100,200]).reshape(2,1))"
   ]
  },
  {
   "cell_type": "code",
   "execution_count": 15,
   "metadata": {},
   "outputs": [
    {
     "name": "stdout",
     "output_type": "stream",
     "text": [
      "[[  56.     0.     4.4   68. ]\n",
      " [   1.2  104.    42.     8. ]\n",
      " [   1.8  135.    99.     0.9]]\n"
     ]
    }
   ],
   "source": [
    "A = np.array([[56.0,    0.0,   4.4,  68.0],\n",
    "              [ 1.2,  104.0,  42.0,   8.0],\n",
    "              [ 1.8,  135.0,  99.0,   0.9]])\n",
    "\n",
    "print(A)"
   ]
  },
  {
   "cell_type": "code",
   "execution_count": 19,
   "metadata": {},
   "outputs": [
    {
     "name": "stdout",
     "output_type": "stream",
     "text": [
      "[  59.   239.   145.4   76.9]\n",
      "[[  59.   239.   145.4   76.9]]\n"
     ]
    }
   ],
   "source": [
    "# sum vertically (horizontal axis=1)\n",
    "cal = A.sum(axis=0)\n",
    "\n",
    "print(cal)\n",
    "print(cal.reshape(1,4))"
   ]
  },
  {
   "cell_type": "code",
   "execution_count": 23,
   "metadata": {},
   "outputs": [
    {
     "name": "stdout",
     "output_type": "stream",
     "text": [
      "[[ 94.91525424   0.           3.0261348   88.42652796]\n",
      " [  2.03389831  43.51464435  28.88583219  10.40312094]\n",
      " [  3.05084746  56.48535565  68.08803301   1.17035111]]\n"
     ]
    }
   ],
   "source": [
    "# broadcast\n",
    "# cal is already 1x4 matrix, but reshape to be clear\n",
    "# 3x4 / 1x4\n",
    "pct = 100*A/cal.reshape(1,4)\n",
    "print(pct)"
   ]
  },
  {
   "cell_type": "code",
   "execution_count": null,
   "metadata": {},
   "outputs": [],
   "source": []
  },
  {
   "cell_type": "code",
   "execution_count": null,
   "metadata": {
    "collapsed": true
   },
   "outputs": [],
   "source": []
  }
 ],
 "metadata": {
  "kernelspec": {
   "display_name": "Python 2",
   "language": "python",
   "name": "python2"
  },
  "language_info": {
   "codemirror_mode": {
    "name": "ipython",
    "version": 2
   },
   "file_extension": ".py",
   "mimetype": "text/x-python",
   "name": "python",
   "nbconvert_exporter": "python",
   "pygments_lexer": "ipython2",
   "version": "2.7.12"
  }
 },
 "nbformat": 4,
 "nbformat_minor": 2
}
