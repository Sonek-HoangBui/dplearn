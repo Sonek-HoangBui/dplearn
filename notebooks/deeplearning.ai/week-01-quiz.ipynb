{
 "cells": [
  {
   "cell_type": "markdown",
   "metadata": {
    "collapsed": true
   },
   "source": [
    "##### Q1.\n",
    "\n",
    "What does the analogy “AI is the new electricity” refer to?\n",
    "\n",
    "1. Through the “smart grid”, AI is delivering a new wave of electricity.\n",
    "2. AI runs on computers and is thus powered by electricity, but it is letting computers do things not possible before.\n",
    "3. Similar to electricity starting about 100 years ago, AI is transforming multiple industries.\n",
    "4. AI is powering personal devices in our homes and offices, similar to electricity."
   ]
  },
  {
   "cell_type": "markdown",
   "metadata": {},
   "source": [
    "<span style=\"color:blue\">\n",
    "Answer: 3.\n",
    "AI is transforming many fields from the car industry to agriculture to supply-chain.\n",
    "</span>"
   ]
  },
  {
   "cell_type": "markdown",
   "metadata": {},
   "source": [
    "##### Q2.\n",
    "\n",
    "Which of these are reasons for Deep Learning recently taking off? (Check the three options that apply.)\n",
    "\n",
    "1. Deep learning has resulted in significant improvements in important applications such as online advertising, speech recognition, and image recognition.\n",
    "2. Neural Networks are a brand new field.\n",
    "3. We have access to a lot more data.\n",
    "4. We have access to a lot more computational power."
   ]
  },
  {
   "cell_type": "markdown",
   "metadata": {},
   "source": [
    "<span style=\"color:blue\">\n",
    "Answer: 1,3,4.\n",
    "The digitalization of our society has played a huge role in this. The development of hardware, perhaps especially GPU computing, has significantly improved deep learning algorithms' performance.\n",
    "</span>"
   ]
  },
  {
   "attachments": {},
   "cell_type": "markdown",
   "metadata": {},
   "source": [
    "##### Q3.\n",
    "\n",
    "Recall this diagram of iterating over different ML ideas. Which of the statements below are true? (Check all that apply.)\n",
    "\n",
    "![cycle.png](images/cycle.png)\n",
    "\n",
    "1. Being able to try out ideas quickly allows deep learning engineers to iterate more quickly.\n",
    "2. Faster computation can help speed up how long a team takes to iterate to a good idea.\n",
    "3. It is faster to train on a big dataset than a small dataset.\n",
    "4. Recent progress in deep learning algorithms has allowed us to train good models faster (even without changing the CPU/GPU hardware)."
   ]
  },
  {
   "cell_type": "markdown",
   "metadata": {},
   "source": [
    "<span style=\"color:blue\">\n",
    "Answer: 1,2,4.\n",
    "For example, we discussed how switching from sigmoid to ReLU activation functions allows faster training.\n",
    "</span>"
   ]
  },
  {
   "cell_type": "markdown",
   "metadata": {},
   "source": [
    "##### Q4.\n",
    "\n",
    "When an experienced deep learning engineer works on a new problem, they can usually use insight from previous problems to train a good model on the first try, without needing to iterate multiple times through different models. True/False?"
   ]
  },
  {
   "cell_type": "markdown",
   "metadata": {},
   "source": [
    "<span style=\"color:blue\">\n",
    "Answer: False.\n",
    "Finding the characteristics of a model is key to have good performance. Although experience can help, it requires multiple iterations to build a good model.\n",
    "</span>"
   ]
  },
  {
   "attachments": {},
   "cell_type": "markdown",
   "metadata": {},
   "source": [
    "##### Q5.\n",
    "\n",
    "Which one of these plots represents a ReLU activation function?\n",
    "\n",
    "![relu-quiz.png](images/relu-quiz.png)"
   ]
  },
  {
   "cell_type": "markdown",
   "metadata": {},
   "source": [
    "##### Q6.\n",
    "\n",
    "Images for cat recognition is an example of “structured” data, because it is represented as a structured array in a computer. True/False?"
   ]
  },
  {
   "cell_type": "markdown",
   "metadata": {},
   "source": [
    "<span style=\"color:blue\">\n",
    "Answer: False.\n",
    "Images for cat recognition is an example of “unstructured” data.\n",
    "</span>"
   ]
  },
  {
   "cell_type": "markdown",
   "metadata": {},
   "source": [
    "##### Q7.\n",
    "\n",
    "A demographic dataset with statistics on different cities' population, GDP per capita, economic growth is an example of “unstructured” data because it contains data coming from different sources. True/False?"
   ]
  },
  {
   "cell_type": "markdown",
   "metadata": {},
   "source": [
    "<span style=\"color:blue\">\n",
    "Answer: False.\n",
    "A demographic dataset with statistics on different cities' population, GDP per capita, economic growth is an example of “structured” data by opposition to image, audio or text datasets.\n",
    "</span>"
   ]
  },
  {
   "cell_type": "markdown",
   "metadata": {},
   "source": [
    "##### Q8.\n",
    "\n",
    "Why is an RNN (Recurrent Neural Network) used for machine translation, say translating English to French? (Check all that apply.)\n",
    "\n",
    "1. It can be trained as a supervised learning problem.\n",
    "2. It is strictly more powerful than a Convolutional Neural Network (CNN).\n",
    "3. It is applicable when the input/output is a sequence (e.g., a sequence of words).\n",
    "4. RNNs represent the recurrent process of Idea->Code->Experiment->Idea->...."
   ]
  },
  {
   "cell_type": "markdown",
   "metadata": {},
   "source": [
    "<span style=\"color:blue\">\n",
    "Answer: 1,3.\n",
    "An RNN can map from a sequence of english words to a sequence of french words.\n",
    "</span>"
   ]
  },
  {
   "attachments": {},
   "cell_type": "markdown",
   "metadata": {},
   "source": [
    "##### Q9.\n",
    "\n",
    "In this diagram which we hand-drew in lecture, what do the horizontal axis (x-axis) and vertical axis (y-axis) represent?\n",
    "\n",
    "![networks.png](images/networks.png)"
   ]
  },
  {
   "cell_type": "markdown",
   "metadata": {},
   "source": [
    "<span style=\"color:blue\">\n",
    "Answer: x-axis is the amount of data.\n",
    "y-axis (vertical axis) is the performance of the algorithm.\n",
    "</span>"
   ]
  },
  {
   "cell_type": "markdown",
   "metadata": {},
   "source": [
    "##### Q10.\n",
    "\n",
    "Assuming the trends described in the previous question's figure are accurate (and hoping you got the axis labels right), which of the following are true? (Check all that apply.)\n",
    "\n",
    "1. Decreasing the training set size generally does not hurt an algorithm’s performance, and it may help significantly.\n",
    "2. Increasing the size of a neural network generally does not hurt an algorithm’s performance, and it may help significantly.\n",
    "3. Increasing the training set size generally does not hurt an algorithm’s performance, and it may help significantly.\n",
    "4. Decreasing the size of a neural network generally does not hurt an algorithm’s performance, and it may help significantly."
   ]
  },
  {
   "cell_type": "markdown",
   "metadata": {},
   "source": [
    "<span style=\"color:blue\">\n",
    "Answer: 2,3.\n",
    "According to the trends in the figure above, big networks usually perform better than small networks.\n",
    "Bringing more data to a model is almost always beneficial.\n",
    "</span>"
   ]
  }
 ],
 "metadata": {
  "kernelspec": {
   "display_name": "Python 3",
   "language": "python",
   "name": "python3"
  },
  "language_info": {
   "codemirror_mode": {
    "name": "ipython",
    "version": 3
   },
   "file_extension": ".py",
   "mimetype": "text/x-python",
   "name": "python",
   "nbconvert_exporter": "python",
   "pygments_lexer": "ipython3",
   "version": "3.5.2"
  }
 },
 "nbformat": 4,
 "nbformat_minor": 2
}
